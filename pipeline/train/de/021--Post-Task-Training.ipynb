{
 "cells": [
  {
   "cell_type": "code",
   "execution_count": 28,
   "metadata": {},
   "outputs": [],
   "source": [
    "import typing\n",
    "import os\n",
    "\n",
    "import pandas\n",
    "import datasets\n",
    "\n",
    "import cltrier_lib\n",
    "\n",
    "import twon_agents"
   ]
  },
  {
   "cell_type": "code",
   "execution_count": 29,
   "metadata": {},
   "outputs": [],
   "source": [
    "os.environ[\"CUDA_VISIBLE_DEVICES\"] = \"2\""
   ]
  },
  {
   "cell_type": "code",
   "execution_count": 30,
   "metadata": {},
   "outputs": [],
   "source": [
    "ROOT_PATH: str = \"../../..\"\n",
    "EXPORT_NAME: str = \"TWON-Agent-OSN-Posts-de\"\n",
    "\n",
    "BASE_MODEL: str = \"meta-llama/Llama-3.2-3B-Instruct\"\n",
    "\n",
    "DATASET: str = f\"{ROOT_PATH}/data/interim/twitter.german.dataset.csv\""
   ]
  },
  {
   "cell_type": "code",
   "execution_count": 32,
   "metadata": {},
   "outputs": [
    {
     "data": {
      "text/plain": [
       "[{'messages': [{'role': 'system',\n",
       "    'content': 'You are a Roderich Kiesewetter member of CDU/CSU. Post a Tweet about the following topic:'},\n",
       "   {'role': 'user', 'content': 'row[\"topics_post\"]'},\n",
       "   {'role': 'assistant',\n",
       "    'content': 'Aus meinem Wahlkreis heute eine Bürgerfrage: \"Bloß mal als Frage, warum weiß die Regierung, daß genau 135.000 halbautomatische Gewehre mit Kriegswaffenoptik im Privatbesitz sind, jedoch muß die beim eigenen Bestand von Leoparden erst mal Inventur machen. Das ist doch beschämend.\"'}]}]"
      ]
     },
     "execution_count": 32,
     "metadata": {},
     "output_type": "execute_result"
    }
   ],
   "source": [
    "dataset: typing.List[typing.Dict] = [\n",
    "    cltrier_lib.inference.schemas.Chat(messages=[\n",
    "        cltrier_lib.inference.schemas.Message(role=\"system\", content=f\"You are a {row['author_first_name_post']} {row['author_last_name_post']} member of {row['author_party_post']}. Post a Tweet about the following topic:\"),\n",
    "        cltrier_lib.inference.schemas.Message(role=\"user\", content=\"row[\\\"topics_post\\\"]\"),\n",
    "        cltrier_lib.inference.schemas.Message(role=\"assistant\", content=row[\"text_post\"])\n",
    "    ]).model_dump()\n",
    "    for _, row in pandas.read_csv(DATASET, index_col=0).iterrows()\n",
    "]\n",
    "dataset[:1]"
   ]
  },
  {
   "cell_type": "code",
   "execution_count": 17,
   "metadata": {},
   "outputs": [
    {
     "name": "stderr",
     "output_type": "stream",
     "text": [
      "/home/ubuntu/apis/TWON-Agents/.venv/lib/python3.10/site-packages/transformers/training_args.py:2089: FutureWarning: `--push_to_hub_model_id` is deprecated and will be removed in version 5 of 🤗 Transformers. Use `--hub_model_id` instead and pass the full repo name to this argument (in this case simon-muenker/TWON-Agent-OSN-Posts-de).\n",
      "  warnings.warn(\n"
     ]
    }
   ],
   "source": [
    "trainer = twon_agents.Trainer(\n",
    "    name_base_model=BASE_MODEL,\n",
    "    name_aligned_model=EXPORT_NAME,\n",
    "    output_dir=f\"{ROOT_PATH}/models/{EXPORT_NAME}\"\n",
    ")(dataset)"
   ]
  }
 ],
 "metadata": {
  "kernelspec": {
   "display_name": ".venv",
   "language": "python",
   "name": "python3"
  },
  "language_info": {
   "codemirror_mode": {
    "name": "ipython",
    "version": 3
   },
   "file_extension": ".py",
   "mimetype": "text/x-python",
   "name": "python",
   "nbconvert_exporter": "python",
   "pygments_lexer": "ipython3",
   "version": "3.10.12"
  }
 },
 "nbformat": 4,
 "nbformat_minor": 2
}
