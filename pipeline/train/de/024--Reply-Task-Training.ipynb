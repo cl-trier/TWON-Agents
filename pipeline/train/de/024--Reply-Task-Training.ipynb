{
 "cells": [
  {
   "cell_type": "code",
   "execution_count": 4,
   "metadata": {},
   "outputs": [],
   "source": [
    "import typing\n",
    "import os\n",
    "\n",
    "import twon_agents"
   ]
  },
  {
   "cell_type": "code",
   "execution_count": 5,
   "metadata": {},
   "outputs": [],
   "source": [
    "os.environ[\"CUDA_VISIBLE_DEVICES\"] = \"1\""
   ]
  },
  {
   "cell_type": "code",
   "execution_count": 6,
   "metadata": {},
   "outputs": [],
   "source": [
    "ROOT_PATH: str = \"../../..\"\n",
    "EXPORT_NAME: str = \"TWON-Agent-OSN-Replies-de\"\n",
    "\n",
    "BASE_MODEL: str = \"meta-llama/Llama-3.2-3B-Instruct\"\n",
    "\n",
    "DATASET: str = f\"{ROOT_PATH}/data/interim/twitter.german.dataset.csv\""
   ]
  },
  {
   "cell_type": "code",
   "execution_count": null,
   "metadata": {},
   "outputs": [],
   "source": [
    "dataset: typing.List[typing.Dict] = twon_agents.data.format_reply_instructions_dataset(DATASET)\n",
    "dataset[0]"
   ]
  },
  {
   "cell_type": "code",
   "execution_count": null,
   "metadata": {},
   "outputs": [],
   "source": [
    "trainer = twon_agents.Trainer(\n",
    "    name_base_model=BASE_MODEL,\n",
    "    name_aligned_model=EXPORT_NAME,\n",
    "    output_dir=f\"{ROOT_PATH}/models/{EXPORT_NAME}\"\n",
    ")(dataset)"
   ]
  },
  {
   "cell_type": "code",
   "execution_count": null,
   "metadata": {},
   "outputs": [],
   "source": []
  }
 ],
 "metadata": {
  "kernelspec": {
   "display_name": ".venv",
   "language": "python",
   "name": "python3"
  },
  "language_info": {
   "codemirror_mode": {
    "name": "ipython",
    "version": 3
   },
   "file_extension": ".py",
   "mimetype": "text/x-python",
   "name": "python",
   "nbconvert_exporter": "python",
   "pygments_lexer": "ipython3",
   "version": "3.10.12"
  }
 },
 "nbformat": 4,
 "nbformat_minor": 2
}
