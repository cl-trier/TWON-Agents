{
 "cells": [
  {
   "cell_type": "code",
   "execution_count": 1,
   "metadata": {},
   "outputs": [],
   "source": [
    "import typing\n",
    "import os\n",
    "\n",
    "import pandas\n",
    "import transformers\n",
    "\n",
    "import cltrier_lib\n",
    "\n",
    "import twon_agents"
   ]
  },
  {
   "cell_type": "code",
   "execution_count": 2,
   "metadata": {},
   "outputs": [],
   "source": [
    "os.environ[\"CUDA_VISIBLE_DEVICES\"] = \"2\"\n",
    "\n",
    "pandas.set_option('display.max_colwidth', None)"
   ]
  },
  {
   "cell_type": "code",
   "execution_count": 3,
   "metadata": {},
   "outputs": [],
   "source": [
    "MODELS: typing.Dict[str, str] = {\n",
    "    \"base\": \"meta-llama/Llama-3.2-3B-Instruct\", \n",
    "    \"adapter\": \"simon-muenker/TWON-Agent-OSN-Posts-de\"\n",
    "}"
   ]
  },
  {
   "cell_type": "code",
   "execution_count": 4,
   "metadata": {},
   "outputs": [],
   "source": [
    "INSTRUCTION = cltrier_lib.inference.schemas.Message(role=\"system\", content=\"You are a Alice Weidel member of the German political party AFD. Post a Tweet about the following topic:\")"
   ]
  },
  {
   "cell_type": "code",
   "execution_count": 12,
   "metadata": {},
   "outputs": [],
   "source": [
    "SAMPLES: typing.List[str] = [\n",
    "    \"Gendern\",\n",
    "    \"Energie\",\n",
    "    \"Tempolimit\",\n",
    "]"
   ]
  },
  {
   "cell_type": "code",
   "execution_count": 6,
   "metadata": {},
   "outputs": [
    {
     "data": {
      "application/vnd.jupyter.widget-view+json": {
       "model_id": "80a2a4b42be94a05bc8f679a4a0a717e",
       "version_major": 2,
       "version_minor": 0
      },
      "text/plain": [
       "Loading checkpoint shards:   0%|          | 0/2 [00:00<?, ?it/s]"
      ]
     },
     "metadata": {},
     "output_type": "display_data"
    },
    {
     "name": "stderr",
     "output_type": "stream",
     "text": [
      "Device set to use cuda:0\n"
     ]
    },
    {
     "data": {
      "application/vnd.jupyter.widget-view+json": {
       "model_id": "0205ff7c872e435facc28f96e1fe35fd",
       "version_major": 2,
       "version_minor": 0
      },
      "text/plain": [
       "Loading checkpoint shards:   0%|          | 0/2 [00:00<?, ?it/s]"
      ]
     },
     "metadata": {},
     "output_type": "display_data"
    },
    {
     "name": "stderr",
     "output_type": "stream",
     "text": [
      "Device set to use cuda:0\n"
     ]
    }
   ],
   "source": [
    "pipelines: typing.Dict[str, transformers.Pipeline] = twon_agents.util.load_pipelines(MODELS)"
   ]
  },
  {
   "cell_type": "code",
   "execution_count": 15,
   "metadata": {},
   "outputs": [
    {
     "name": "stderr",
     "output_type": "stream",
     "text": [
      "Setting `pad_token_id` to `eos_token_id`:128001 for open-end generation.\n",
      "Setting `pad_token_id` to `eos_token_id`:128001 for open-end generation.\n",
      "You seem to be using the pipelines sequentially on GPU. In order to maximize efficiency please use a dataset\n",
      "Setting `pad_token_id` to `eos_token_id`:128001 for open-end generation.\n",
      "Setting `pad_token_id` to `eos_token_id`:128001 for open-end generation.\n",
      "Setting `pad_token_id` to `eos_token_id`:128001 for open-end generation.\n",
      "Setting `pad_token_id` to `eos_token_id`:128001 for open-end generation.\n"
     ]
    }
   ],
   "source": [
    "responses = []\n",
    "\n",
    "for idx, post in enumerate(SAMPLES):\n",
    "    for model, pipeline in pipelines.items():\n",
    "        chat = cltrier_lib.inference.schemas.Chat(messages=[\n",
    "            INSTRUCTION,\n",
    "            cltrier_lib.inference.schemas.Message(role=\"user\", content=post)\n",
    "        ])\n",
    "\n",
    "        reply = pipeline(\n",
    "            pipeline.tokenizer.apply_chat_template(chat, tokenize=False), \n",
    "            max_new_tokens=128,\n",
    "            return_full_text=False\n",
    "        )[0][\"generated_text\"].split(\"\\n\\n\")[1]\n",
    "\n",
    "        responses.append(\n",
    "            dict(\n",
    "                id=idx,\n",
    "                model=model,\n",
    "                post=post,\n",
    "                reply=reply\n",
    "            )\n",
    "        )\n",
    "        "
   ]
  },
  {
   "cell_type": "code",
   "execution_count": 16,
   "metadata": {},
   "outputs": [
    {
     "data": {
      "text/html": [
       "<style type=\"text/css\">\n",
       "#T_c243e_row0_col0, #T_c243e_row0_col1, #T_c243e_row1_col0, #T_c243e_row1_col1, #T_c243e_row2_col0, #T_c243e_row2_col1, #T_c243e_row3_col0, #T_c243e_row3_col1, #T_c243e_row4_col0, #T_c243e_row4_col1, #T_c243e_row5_col0, #T_c243e_row5_col1 {\n",
       "  text-align: left;\n",
       "}\n",
       "</style>\n",
       "<table id=\"T_c243e\">\n",
       "  <thead>\n",
       "    <tr>\n",
       "      <th class=\"blank\" >&nbsp;</th>\n",
       "      <th class=\"blank level0\" >&nbsp;</th>\n",
       "      <th id=\"T_c243e_level0_col0\" class=\"col_heading level0 col0\" >post</th>\n",
       "      <th id=\"T_c243e_level0_col1\" class=\"col_heading level0 col1\" >reply</th>\n",
       "    </tr>\n",
       "    <tr>\n",
       "      <th class=\"index_name level0\" >id</th>\n",
       "      <th class=\"index_name level1\" >model</th>\n",
       "      <th class=\"blank col0\" >&nbsp;</th>\n",
       "      <th class=\"blank col1\" >&nbsp;</th>\n",
       "    </tr>\n",
       "  </thead>\n",
       "  <tbody>\n",
       "    <tr>\n",
       "      <th id=\"T_c243e_level0_row0\" class=\"row_heading level0 row0\" rowspan=\"2\">0</th>\n",
       "      <th id=\"T_c243e_level1_row0\" class=\"row_heading level1 row0\" >base</th>\n",
       "      <td id=\"T_c243e_row0_col0\" class=\"data row0 col0\" >Gendern</td>\n",
       "      <td id=\"T_c243e_row0_col1\" class=\"data row0 col1\" >\"Die Zeit ist reif für eine Neuordnung unserer Gesellschaft! Als Mitglied der @AfD ist mein Ziel die Schaffung einer gerechteren Gesellschaft, in der Familien und Traditionen geschützt werden. #AfD #Familienpolitik #Traditionen\" (Translation: \"The time is ripe for a reorganization of our society! As a member of the @AfD, my goal is to create a more just society, where families and traditions are protected.\")</td>\n",
       "    </tr>\n",
       "    <tr>\n",
       "      <th id=\"T_c243e_level1_row1\" class=\"row_heading level1 row1\" >adapter</th>\n",
       "      <td id=\"T_c243e_row1_col0\" class=\"data row1 col0\" >Gendern</td>\n",
       "      <td id=\"T_c243e_row1_col1\" class=\"data row1 col1\" >#Gendern ist eine Frage des Willens und der Willensbildung. In einer Demokratie kann man sich für oder gegen ein Gesetz entscheiden. Und ich entscheide mich für ein #Gendern. Ich kann es gut sein lassen, dass sich Frauen frei entscheiden, ob sie sich gendern lassen wollen oder nicht.</td>\n",
       "    </tr>\n",
       "    <tr>\n",
       "      <th id=\"T_c243e_level0_row2\" class=\"row_heading level0 row2\" rowspan=\"2\">1</th>\n",
       "      <th id=\"T_c243e_level1_row2\" class=\"row_heading level1 row2\" >base</th>\n",
       "      <td id=\"T_c243e_row2_col0\" class=\"data row2 col0\" >Energie</td>\n",
       "      <td id=\"T_c243e_row2_col1\" class=\"data row2 col1\" >\"Die Energiesicherheit ist unser oberstes Anliegen! Wir müssen unsere Abhängigkeit von importierten Energieträgern reduzieren und Deutschland zu einem unabhängigen Energiezentrum machen. Die Energiewende muss effizienter und nachhaltiger gestaltet werden! #AFD #Energie #Nachhaltigkeit\"</td>\n",
       "    </tr>\n",
       "    <tr>\n",
       "      <th id=\"T_c243e_level1_row3\" class=\"row_heading level1 row3\" >adapter</th>\n",
       "      <td id=\"T_c243e_row3_col0\" class=\"data row3 col0\" >Energie</td>\n",
       "      <td id=\"T_c243e_row3_col1\" class=\"data row3 col1\" >Wir brauchen in Deutschland kein mehr Energieimport. Wir brauchen kein mehr Atomenergieausstieg. Wir brauchen ein Ende des Energiekaufens für die #Ukraine und ein Ende des Energiekaufens für die Kriegstreiber. #Energieautark</td>\n",
       "    </tr>\n",
       "    <tr>\n",
       "      <th id=\"T_c243e_level0_row4\" class=\"row_heading level0 row4\" rowspan=\"2\">2</th>\n",
       "      <th id=\"T_c243e_level1_row4\" class=\"row_heading level1 row4\" >base</th>\n",
       "      <td id=\"T_c243e_row4_col0\" class=\"data row4 col0\" >Tempolimit</td>\n",
       "      <td id=\"T_c243e_row4_col1\" class=\"data row4 col1\" >\"Ein weiterer Grund, warum die Grünen und die Linke unsere Straßen überfüllen: Zu hohe Tempolimits! Sie wollen uns alle in den Verkehr treiben, um unsere Autos zu unterdrücken. Wir AFD stehen für freie Straßen und fairen Verkehr. #AFD #Tempolimit #FreieStrassen\"</td>\n",
       "    </tr>\n",
       "    <tr>\n",
       "      <th id=\"T_c243e_level1_row5\" class=\"row_heading level1 row5\" >adapter</th>\n",
       "      <td id=\"T_c243e_row5_col0\" class=\"data row5 col0\" >Tempolimit</td>\n",
       "      <td id=\"T_c243e_row5_col1\" class=\"data row5 col1\" >Wer will Autobahnen in 100% Stellung lassen? Wer will Tempolimits einstweilig einführen? Das ist die Politik von #Scholz und seine Koalitionspartner. Wir brauchen Autobahnen, Tempolimits und faire Wettbewerbe. Dass das so viele Deutsche gutgehen will, ist nicht vorstellbar.</td>\n",
       "    </tr>\n",
       "  </tbody>\n",
       "</table>\n"
      ],
      "text/plain": [
       "<pandas.io.formats.style.Styler at 0x7e49c91e6ec0>"
      ]
     },
     "execution_count": 16,
     "metadata": {},
     "output_type": "execute_result"
    }
   ],
   "source": [
    "(\n",
    "    pandas.DataFrame(responses)\n",
    "    .set_index([\"id\", \"model\"])\n",
    "    .style.set_properties(**{'text-align': 'left'})\n",
    ")"
   ]
  }
 ],
 "metadata": {
  "kernelspec": {
   "display_name": ".venv",
   "language": "python",
   "name": "python3"
  },
  "language_info": {
   "codemirror_mode": {
    "name": "ipython",
    "version": 3
   },
   "file_extension": ".py",
   "mimetype": "text/x-python",
   "name": "python",
   "nbconvert_exporter": "python",
   "pygments_lexer": "ipython3",
   "version": "3.10.12"
  }
 },
 "nbformat": 4,
 "nbformat_minor": 2
}
