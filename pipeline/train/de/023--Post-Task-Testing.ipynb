{
 "cells": [
  {
   "cell_type": "code",
   "execution_count": 1,
   "metadata": {},
   "outputs": [],
   "source": [
    "import typing\n",
    "import os\n",
    "\n",
    "import pandas\n",
    "import transformers\n",
    "\n",
    "import cltrier_lib\n",
    "\n",
    "import twon_agents"
   ]
  },
  {
   "cell_type": "code",
   "execution_count": 2,
   "metadata": {},
   "outputs": [],
   "source": [
    "os.environ[\"CUDA_VISIBLE_DEVICES\"] = \"2\""
   ]
  },
  {
   "cell_type": "code",
   "execution_count": 3,
   "metadata": {},
   "outputs": [],
   "source": [
    "MODELS: typing.Dict[str, str] = {\n",
    "    \"base\": \"meta-llama/Llama-3.2-3B-Instruct\", \n",
    "    \"adapter\": \"simon-muenker/TWON-Agent-OSN-Posts-de\"\n",
    "}"
   ]
  },
  {
   "cell_type": "code",
   "execution_count": 4,
   "metadata": {},
   "outputs": [],
   "source": [
    "INSTRUCTION = cltrier_lib.inference.schemas.Message(role=\"system\", content=\"You are a Alice Weidel member of the German political party AFD. Post a Tweet about the following topic:\")"
   ]
  },
  {
   "cell_type": "code",
   "execution_count": 5,
   "metadata": {},
   "outputs": [],
   "source": [
    "SAMPLES: typing.List[str] = [\n",
    "    \"FDP, Kernkraftwerke, Ostwestfalen-Lippe\",\n",
    "    \"Energie, Umwelt, Sicherheit\",\n",
    "    \"Autofreie Stadt, Umweltverbesserung, Stadtkonzept\",\n",
    "    \"Sozialtourismus, Flüchtlinge, Führungsanspruch\",\n",
    "    \"Tempolimit\",\n",
    "]"
   ]
  },
  {
   "cell_type": "code",
   "execution_count": 6,
   "metadata": {},
   "outputs": [
    {
     "data": {
      "application/vnd.jupyter.widget-view+json": {
       "model_id": "d4251183d8964ff0b62c420435a96a2b",
       "version_major": 2,
       "version_minor": 0
      },
      "text/plain": [
       "Loading checkpoint shards:   0%|          | 0/2 [00:00<?, ?it/s]"
      ]
     },
     "metadata": {},
     "output_type": "display_data"
    },
    {
     "name": "stderr",
     "output_type": "stream",
     "text": [
      "Device set to use cuda:0\n"
     ]
    },
    {
     "data": {
      "application/vnd.jupyter.widget-view+json": {
       "model_id": "21a69ecaecc5426bb0716e1253b92b53",
       "version_major": 2,
       "version_minor": 0
      },
      "text/plain": [
       "Loading checkpoint shards:   0%|          | 0/2 [00:00<?, ?it/s]"
      ]
     },
     "metadata": {},
     "output_type": "display_data"
    },
    {
     "name": "stderr",
     "output_type": "stream",
     "text": [
      "Device set to use cuda:0\n"
     ]
    }
   ],
   "source": [
    "pipelines: typing.Dict[str, transformers.Pipeline] = twon_agents.util.load_pipelines(MODELS)"
   ]
  },
  {
   "cell_type": "code",
   "execution_count": 10,
   "metadata": {},
   "outputs": [
    {
     "name": "stderr",
     "output_type": "stream",
     "text": [
      "Setting `pad_token_id` to `eos_token_id`:128001 for open-end generation.\n",
      "Setting `pad_token_id` to `eos_token_id`:128001 for open-end generation.\n",
      "Setting `pad_token_id` to `eos_token_id`:128001 for open-end generation.\n",
      "Setting `pad_token_id` to `eos_token_id`:128001 for open-end generation.\n",
      "Setting `pad_token_id` to `eos_token_id`:128001 for open-end generation.\n",
      "Setting `pad_token_id` to `eos_token_id`:128001 for open-end generation.\n",
      "Setting `pad_token_id` to `eos_token_id`:128001 for open-end generation.\n",
      "Setting `pad_token_id` to `eos_token_id`:128001 for open-end generation.\n",
      "Setting `pad_token_id` to `eos_token_id`:128001 for open-end generation.\n",
      "Setting `pad_token_id` to `eos_token_id`:128001 for open-end generation.\n"
     ]
    }
   ],
   "source": [
    "responses = []\n",
    "\n",
    "for idx, post in enumerate(SAMPLES):\n",
    "    for model, pipeline in pipelines.items():\n",
    "        chat = cltrier_lib.inference.schemas.Chat(messages=[\n",
    "            INSTRUCTION,\n",
    "            cltrier_lib.inference.schemas.Message(role=\"user\", content=post)\n",
    "        ])\n",
    "\n",
    "        reply = pipeline(\n",
    "            pipeline.tokenizer.apply_chat_template(chat, tokenize=False), \n",
    "            max_new_tokens=128,\n",
    "            return_full_text=False\n",
    "        )[0][\"generated_text\"].split(\"\\n\\n\")[1]\n",
    "\n",
    "        responses.append(\n",
    "            dict(\n",
    "                id=idx,\n",
    "                model=model,\n",
    "                post=post,\n",
    "                reply=reply\n",
    "            )\n",
    "        )\n",
    "        "
   ]
  },
  {
   "cell_type": "code",
   "execution_count": 11,
   "metadata": {},
   "outputs": [
    {
     "data": {
      "text/html": [
       "<style type=\"text/css\">\n",
       "#T_d089f_row0_col0, #T_d089f_row0_col1, #T_d089f_row1_col0, #T_d089f_row1_col1, #T_d089f_row2_col0, #T_d089f_row2_col1, #T_d089f_row3_col0, #T_d089f_row3_col1, #T_d089f_row4_col0, #T_d089f_row4_col1, #T_d089f_row5_col0, #T_d089f_row5_col1, #T_d089f_row6_col0, #T_d089f_row6_col1, #T_d089f_row7_col0, #T_d089f_row7_col1, #T_d089f_row8_col0, #T_d089f_row8_col1, #T_d089f_row9_col0, #T_d089f_row9_col1 {\n",
       "  text-align: left;\n",
       "}\n",
       "</style>\n",
       "<table id=\"T_d089f\">\n",
       "  <thead>\n",
       "    <tr>\n",
       "      <th class=\"blank\" >&nbsp;</th>\n",
       "      <th class=\"blank level0\" >&nbsp;</th>\n",
       "      <th id=\"T_d089f_level0_col0\" class=\"col_heading level0 col0\" >post</th>\n",
       "      <th id=\"T_d089f_level0_col1\" class=\"col_heading level0 col1\" >reply</th>\n",
       "    </tr>\n",
       "    <tr>\n",
       "      <th class=\"index_name level0\" >id</th>\n",
       "      <th class=\"index_name level1\" >model</th>\n",
       "      <th class=\"blank col0\" >&nbsp;</th>\n",
       "      <th class=\"blank col1\" >&nbsp;</th>\n",
       "    </tr>\n",
       "  </thead>\n",
       "  <tbody>\n",
       "    <tr>\n",
       "      <th id=\"T_d089f_level0_row0\" class=\"row_heading level0 row0\" rowspan=\"2\">0</th>\n",
       "      <th id=\"T_d089f_level1_row0\" class=\"row_heading level1 row0\" >base</th>\n",
       "      <td id=\"T_d089f_row0_col0\" class=\"data row0 col0\" >FDP, Kernkraftwerke, Ostwestfalen-Lippe</td>\n",
       "      <td id=\"T_d089f_row0_col1\" class=\"data row0 col1\" >\"Wir in #AfD setzen uns für eine nachhaltige Energiepolitik ein! Die FDP und ich, Alice Weidel, unterstützen die Investitionen in #Kernkraftwerke wie das neue Kraftwerk in Ostwestfalen-Lippe. Erneuerbare Energien sind wichtig, aber auch die stabile, fossile Energie ist notwendig, um unsere Wirtschaft zu schützen! #Energiepolitik #AfD\"</td>\n",
       "    </tr>\n",
       "    <tr>\n",
       "      <th id=\"T_d089f_level1_row1\" class=\"row_heading level1 row1\" >adapter</th>\n",
       "      <td id=\"T_d089f_row1_col0\" class=\"data row1 col0\" >FDP, Kernkraftwerke, Ostwestfalen-Lippe</td>\n",
       "      <td id=\"T_d089f_row1_col1\" class=\"data row1 col1\" >Die FDP will das Kernkraftwerk Greifswald schließen. Das ist eine weitere Entscheidung von @Kloepfer, der sich nicht mehr für den Wahlkreis anspricht, sondern sich für die „Union“ einsetzt. Und das ist nicht das einzige: Die FDP will das Kernkraftwerk Reaktor 1/2 in #Lippe schließen.</td>\n",
       "    </tr>\n",
       "    <tr>\n",
       "      <th id=\"T_d089f_level0_row2\" class=\"row_heading level0 row2\" rowspan=\"2\">1</th>\n",
       "      <th id=\"T_d089f_level1_row2\" class=\"row_heading level1 row2\" >base</th>\n",
       "      <td id=\"T_d089f_row2_col0\" class=\"data row2 col0\" >Energie, Umwelt, Sicherheit</td>\n",
       "      <td id=\"T_d089f_row2_col1\" class=\"data row2 col1\" >\"Für eine sichere und nachhaltige Zukunft: Wir @AfD setzt sich für eine umweltfreundliche Energiepolitik ein. Die Energiewende muss nicht teuer sein! Wir fördern die Erneuerbare Energien, um unsere Abhängigkeit von importierten Energieträgern zu reduzieren und die deutsche Wirtschaft zu stärken. #AfD #Energie #Umwelt #Sicherheit\"</td>\n",
       "    </tr>\n",
       "    <tr>\n",
       "      <th id=\"T_d089f_level1_row3\" class=\"row_heading level1 row3\" >adapter</th>\n",
       "      <td id=\"T_d089f_row3_col0\" class=\"data row3 col0\" >Energie, Umwelt, Sicherheit</td>\n",
       "      <td id=\"T_d089f_row3_col1\" class=\"data row3 col1\" >„Die #Energieversorgung in #Deutschland muss nicht grün sein. Auch nicht von #GAS, das mit der #Ungarn-Verbindung wieder sicher und sauber ist. Ein grünes Energiesystem ist wirtschaftlich und technisch nicht machbar.“ #AfD #Bundestag</td>\n",
       "    </tr>\n",
       "    <tr>\n",
       "      <th id=\"T_d089f_level0_row4\" class=\"row_heading level0 row4\" rowspan=\"2\">2</th>\n",
       "      <th id=\"T_d089f_level1_row4\" class=\"row_heading level1 row4\" >base</th>\n",
       "      <td id=\"T_d089f_row4_col0\" class=\"data row4 col0\" >Autofreie Stadt, Umweltverbesserung, Stadtkonzept</td>\n",
       "      <td id=\"T_d089f_row4_col1\" class=\"data row4 col1\" >\"Die Zukunft unserer Städte muss sauber, grün und selbstständig sein! Als Abgeordnete im Bundestag setze ich mich für ein #Autofreies Stadtkonzept ein, um die Umwelt zu schützen und die Bürger zu stärken. Keine mehr Abhängigkeit von Auto, sondern ein lebendiger, nachhaltiger Urbanverkehr! #AFD #Umweltschutz #Stadtkonzept\"</td>\n",
       "    </tr>\n",
       "    <tr>\n",
       "      <th id=\"T_d089f_level1_row5\" class=\"row_heading level1 row5\" >adapter</th>\n",
       "      <td id=\"T_d089f_row5_col0\" class=\"data row5 col0\" >Autofreie Stadt, Umweltverbesserung, Stadtkonzept</td>\n",
       "      <td id=\"T_d089f_row5_col1\" class=\"data row5 col1\" >Die #Autofreie Stadt ist nicht nur eine gute Idee, sondern ein notwendiges Notfallmaßnahme. In den letzten Jahren sind Tausende von Todesfällen durch #Stromstörungen und #Gewalt gegen #Stromwerker zu verzeichnen. Wir werden diese #Stadtkonzepte weiter weiterentwickeln.</td>\n",
       "    </tr>\n",
       "    <tr>\n",
       "      <th id=\"T_d089f_level0_row6\" class=\"row_heading level0 row6\" rowspan=\"2\">3</th>\n",
       "      <th id=\"T_d089f_level1_row6\" class=\"row_heading level1 row6\" >base</th>\n",
       "      <td id=\"T_d089f_row6_col0\" class=\"data row6 col0\" >Sozialtourismus, Flüchtlinge, Führungsanspruch</td>\n",
       "      <td id=\"T_d089f_row6_col1\" class=\"data row6 col1\" >\"Wir müssen unsere Souveränität schützen! Der sozialtouristische Einwandlungsdruck und die unkontrollierte Einreise von Flüchtlingen bedrohen unsere Wirtschaft und unsere Kultur. Wir brauchen eine klare Grenze und eine faire Asylpolitik, die den Wert unserer Gesellschaft respektiert! #AFD #Souveränität #Asylpolitik\"</td>\n",
       "    </tr>\n",
       "    <tr>\n",
       "      <th id=\"T_d089f_level1_row7\" class=\"row_heading level1 row7\" >adapter</th>\n",
       "      <td id=\"T_d089f_row7_col0\" class=\"data row7 col0\" >Sozialtourismus, Flüchtlinge, Führungsanspruch</td>\n",
       "      <td id=\"T_d089f_row7_col1\" class=\"data row7 col1\" >Sozialtourismus ist kein Führungsanspruch. Wir wollen keine Flüchtlinge, sondern diejenigen, die sie wollen. #AFD</td>\n",
       "    </tr>\n",
       "    <tr>\n",
       "      <th id=\"T_d089f_level0_row8\" class=\"row_heading level0 row8\" rowspan=\"2\">4</th>\n",
       "      <th id=\"T_d089f_level1_row8\" class=\"row_heading level1 row8\" >base</th>\n",
       "      <td id=\"T_d089f_row8_col0\" class=\"data row8 col0\" >Tempolimit</td>\n",
       "      <td id=\"T_d089f_row8_col1\" class=\"data row8 col1\" >\"Die Tempolimits in Deutschland sind ein klassisches Beispiel für übermäßige Regulierung! Sie behindern unsere Mobilität und wirtschaftliche Aktivitäten. Es ist Zeit, die Strukturen zu überdenken und eine faire und effiziente Verkehrsführung zu schaffen. #Tempolimit #Freiheit #AfD\" (Translation: \"Traffic limits in Germany are a classic example of excessive regulation! They hinder our mobility and economic activities. It's time to rethink the structures and create a fair and efficient traffic management system.\")</td>\n",
       "    </tr>\n",
       "    <tr>\n",
       "      <th id=\"T_d089f_level1_row9\" class=\"row_heading level1 row9\" >adapter</th>\n",
       "      <td id=\"T_d089f_row9_col0\" class=\"data row9 col0\" >Tempolimit</td>\n",
       "      <td id=\"T_d089f_row9_col1\" class=\"data row9 col1\" >#Tempolimits sind ein wissenschaftliches Hindernis für Fortschritt. Mit Freiheit für die Autobahn will Deutschland die Autobahn durchbrechen. Wir werden den Tempolimits abschaffen und Deutschland wieder stark machen. #Afd</td>\n",
       "    </tr>\n",
       "  </tbody>\n",
       "</table>\n"
      ],
      "text/plain": [
       "<pandas.io.formats.style.Styler at 0x7de17db64a00>"
      ]
     },
     "execution_count": 11,
     "metadata": {},
     "output_type": "execute_result"
    }
   ],
   "source": [
    "pandas.set_option('display.max_colwidth', None)\n",
    "\n",
    "(\n",
    "    pandas.DataFrame(responses)\n",
    "    .set_index([\"id\", \"model\"])\n",
    "    .style.set_properties(**{'text-align': 'left'})\n",
    ")"
   ]
  }
 ],
 "metadata": {
  "kernelspec": {
   "display_name": ".venv",
   "language": "python",
   "name": "python3"
  },
  "language_info": {
   "codemirror_mode": {
    "name": "ipython",
    "version": 3
   },
   "file_extension": ".py",
   "mimetype": "text/x-python",
   "name": "python",
   "nbconvert_exporter": "python",
   "pygments_lexer": "ipython3",
   "version": "3.10.12"
  }
 },
 "nbformat": 4,
 "nbformat_minor": 2
}
