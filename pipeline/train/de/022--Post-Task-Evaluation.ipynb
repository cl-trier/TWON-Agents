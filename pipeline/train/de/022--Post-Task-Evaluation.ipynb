{
 "cells": [
  {
   "cell_type": "code",
   "execution_count": 65,
   "metadata": {},
   "outputs": [],
   "source": [
    "import typing\n",
    "import os\n",
    "\n",
    "from rich.progress import track\n",
    "\n",
    "import pandas\n",
    "import transformers\n",
    "import evaluate\n",
    "\n",
    "from sklearn.decomposition import PCA\n",
    "\n",
    "import plotly\n",
    "import plotly.graph_objs as go\n",
    "\n",
    "import twon_agents"
   ]
  },
  {
   "cell_type": "code",
   "execution_count": 66,
   "metadata": {},
   "outputs": [],
   "source": [
    "os.environ[\"CUDA_VISIBLE_DEVICES\"] = \"2\"\n",
    "\n",
    "pandas.set_option('display.max_colwidth', None)"
   ]
  },
  {
   "cell_type": "code",
   "execution_count": 67,
   "metadata": {},
   "outputs": [],
   "source": [
    "ROOT_PATH: str = \"../../..\"\n",
    "DATASET: str = f\"{ROOT_PATH}/data/interim/twitter.german.dataset.enriched.csv\"\n",
    "\n",
    "TEST_SIZE: int = 250\n",
    "\n",
    "MODELS: typing.Dict[str, str] = {\n",
    "    \"base\": \"meta-llama/Llama-3.2-3B-Instruct\", \n",
    "    \"adapter\": \"simon-muenker/TWON-Agent-OSN-Posts-de\"\n",
    "}"
   ]
  },
  {
   "cell_type": "code",
   "execution_count": 5,
   "metadata": {},
   "outputs": [
    {
     "data": {
      "application/vnd.jupyter.widget-view+json": {
       "model_id": "0e2adb49d8574966921db4873929ea48",
       "version_major": 2,
       "version_minor": 0
      },
      "text/plain": [
       "Loading checkpoint shards:   0%|          | 0/2 [00:00<?, ?it/s]"
      ]
     },
     "metadata": {},
     "output_type": "display_data"
    },
    {
     "name": "stderr",
     "output_type": "stream",
     "text": [
      "Device set to use cuda:0\n"
     ]
    },
    {
     "data": {
      "application/vnd.jupyter.widget-view+json": {
       "model_id": "3d448ccf8ab0405d86cb8c0f7d241150",
       "version_major": 2,
       "version_minor": 0
      },
      "text/plain": [
       "Loading checkpoint shards:   0%|          | 0/2 [00:00<?, ?it/s]"
      ]
     },
     "metadata": {},
     "output_type": "display_data"
    },
    {
     "name": "stderr",
     "output_type": "stream",
     "text": [
      "Device set to use cuda:0\n"
     ]
    }
   ],
   "source": [
    "pipelines: typing.Dict[str, transformers.Pipeline] = twon_agents.util.load_pipelines(MODELS)"
   ]
  },
  {
   "cell_type": "code",
   "execution_count": 68,
   "metadata": {},
   "outputs": [
    {
     "data": {
      "text/plain": [
       "[{'messages': [{'role': 'system',\n",
       "    'content': 'You are a Roderich Kiesewetter member of CDU/CSU. Post a Tweet about the following topic:'},\n",
       "   {'role': 'user', 'content': 'Wahlkreis,Bürgerfrage,Gewehre'},\n",
       "   {'role': 'assistant',\n",
       "    'content': 'Aus meinem Wahlkreis heute eine Bürgerfrage: \"Bloß mal als Frage, warum weiß die Regierung, daß genau 135.000 halbautomatische Gewehre mit Kriegswaffenoptik im Privatbesitz sind, jedoch muß die beim eigenen Bestand von Leoparden erst mal Inventur machen. Das ist doch beschämend.\"'}]}]"
      ]
     },
     "execution_count": 68,
     "metadata": {},
     "output_type": "execute_result"
    }
   ],
   "source": [
    "dataset: typing.List[typing.Dict] = twon_agents.data.format_post_instructions_dataset(DATASET)\n",
    "dataset[:1]"
   ]
  },
  {
   "cell_type": "code",
   "execution_count": 70,
   "metadata": {},
   "outputs": [
    {
     "data": {
      "application/vnd.jupyter.widget-view+json": {
       "model_id": "8ab54aee70bb4d39996a22ba57c38739",
       "version_major": 2,
       "version_minor": 0
      },
      "text/plain": [
       "Output()"
      ]
     },
     "metadata": {},
     "output_type": "display_data"
    },
    {
     "name": "stderr",
     "output_type": "stream",
     "text": [
      "Setting `pad_token_id` to `eos_token_id`:128001 for open-end generation.\n"
     ]
    },
    {
     "name": "stderr",
     "output_type": "stream",
     "text": [
      "Setting `pad_token_id` to `eos_token_id`:128001 for open-end generation.\n"
     ]
    },
    {
     "name": "stderr",
     "output_type": "stream",
     "text": [
      "Setting `pad_token_id` to `eos_token_id`:128001 for open-end generation.\n"
     ]
    },
    {
     "name": "stderr",
     "output_type": "stream",
     "text": [
      "Setting `pad_token_id` to `eos_token_id`:128001 for open-end generation.\n"
     ]
    },
    {
     "name": "stderr",
     "output_type": "stream",
     "text": [
      "Setting `pad_token_id` to `eos_token_id`:128001 for open-end generation.\n"
     ]
    },
    {
     "name": "stderr",
     "output_type": "stream",
     "text": [
      "Setting `pad_token_id` to `eos_token_id`:128001 for open-end generation.\n"
     ]
    },
    {
     "name": "stderr",
     "output_type": "stream",
     "text": [
      "Setting `pad_token_id` to `eos_token_id`:128001 for open-end generation.\n"
     ]
    },
    {
     "name": "stderr",
     "output_type": "stream",
     "text": [
      "Setting `pad_token_id` to `eos_token_id`:128001 for open-end generation.\n"
     ]
    },
    {
     "name": "stderr",
     "output_type": "stream",
     "text": [
      "Setting `pad_token_id` to `eos_token_id`:128001 for open-end generation.\n"
     ]
    },
    {
     "name": "stderr",
     "output_type": "stream",
     "text": [
      "Setting `pad_token_id` to `eos_token_id`:128001 for open-end generation.\n"
     ]
    },
    {
     "name": "stderr",
     "output_type": "stream",
     "text": [
      "Setting `pad_token_id` to `eos_token_id`:128001 for open-end generation.\n"
     ]
    },
    {
     "name": "stderr",
     "output_type": "stream",
     "text": [
      "Setting `pad_token_id` to `eos_token_id`:128001 for open-end generation.\n"
     ]
    },
    {
     "name": "stderr",
     "output_type": "stream",
     "text": [
      "Setting `pad_token_id` to `eos_token_id`:128001 for open-end generation.\n"
     ]
    },
    {
     "name": "stderr",
     "output_type": "stream",
     "text": [
      "Setting `pad_token_id` to `eos_token_id`:128001 for open-end generation.\n"
     ]
    },
    {
     "name": "stderr",
     "output_type": "stream",
     "text": [
      "Setting `pad_token_id` to `eos_token_id`:128001 for open-end generation.\n"
     ]
    },
    {
     "name": "stderr",
     "output_type": "stream",
     "text": [
      "Setting `pad_token_id` to `eos_token_id`:128001 for open-end generation.\n"
     ]
    },
    {
     "name": "stderr",
     "output_type": "stream",
     "text": [
      "Setting `pad_token_id` to `eos_token_id`:128001 for open-end generation.\n"
     ]
    },
    {
     "name": "stderr",
     "output_type": "stream",
     "text": [
      "Setting `pad_token_id` to `eos_token_id`:128001 for open-end generation.\n"
     ]
    },
    {
     "name": "stderr",
     "output_type": "stream",
     "text": [
      "Setting `pad_token_id` to `eos_token_id`:128001 for open-end generation.\n"
     ]
    },
    {
     "name": "stderr",
     "output_type": "stream",
     "text": [
      "Setting `pad_token_id` to `eos_token_id`:128001 for open-end generation.\n"
     ]
    },
    {
     "name": "stderr",
     "output_type": "stream",
     "text": [
      "Setting `pad_token_id` to `eos_token_id`:128001 for open-end generation.\n"
     ]
    },
    {
     "name": "stderr",
     "output_type": "stream",
     "text": [
      "Setting `pad_token_id` to `eos_token_id`:128001 for open-end generation.\n"
     ]
    },
    {
     "name": "stderr",
     "output_type": "stream",
     "text": [
      "Setting `pad_token_id` to `eos_token_id`:128001 for open-end generation.\n"
     ]
    },
    {
     "name": "stderr",
     "output_type": "stream",
     "text": [
      "Setting `pad_token_id` to `eos_token_id`:128001 for open-end generation.\n"
     ]
    },
    {
     "name": "stderr",
     "output_type": "stream",
     "text": [
      "Setting `pad_token_id` to `eos_token_id`:128001 for open-end generation.\n"
     ]
    },
    {
     "name": "stderr",
     "output_type": "stream",
     "text": [
      "Setting `pad_token_id` to `eos_token_id`:128001 for open-end generation.\n"
     ]
    },
    {
     "name": "stderr",
     "output_type": "stream",
     "text": [
      "Setting `pad_token_id` to `eos_token_id`:128001 for open-end generation.\n"
     ]
    },
    {
     "name": "stderr",
     "output_type": "stream",
     "text": [
      "Setting `pad_token_id` to `eos_token_id`:128001 for open-end generation.\n"
     ]
    },
    {
     "name": "stderr",
     "output_type": "stream",
     "text": [
      "Setting `pad_token_id` to `eos_token_id`:128001 for open-end generation.\n"
     ]
    },
    {
     "name": "stderr",
     "output_type": "stream",
     "text": [
      "Setting `pad_token_id` to `eos_token_id`:128001 for open-end generation.\n"
     ]
    },
    {
     "name": "stderr",
     "output_type": "stream",
     "text": [
      "Setting `pad_token_id` to `eos_token_id`:128001 for open-end generation.\n"
     ]
    },
    {
     "name": "stderr",
     "output_type": "stream",
     "text": [
      "Setting `pad_token_id` to `eos_token_id`:128001 for open-end generation.\n"
     ]
    },
    {
     "name": "stderr",
     "output_type": "stream",
     "text": [
      "Setting `pad_token_id` to `eos_token_id`:128001 for open-end generation.\n"
     ]
    },
    {
     "name": "stderr",
     "output_type": "stream",
     "text": [
      "Setting `pad_token_id` to `eos_token_id`:128001 for open-end generation.\n"
     ]
    },
    {
     "name": "stderr",
     "output_type": "stream",
     "text": [
      "Setting `pad_token_id` to `eos_token_id`:128001 for open-end generation.\n"
     ]
    },
    {
     "name": "stderr",
     "output_type": "stream",
     "text": [
      "Setting `pad_token_id` to `eos_token_id`:128001 for open-end generation.\n"
     ]
    },
    {
     "name": "stderr",
     "output_type": "stream",
     "text": [
      "Setting `pad_token_id` to `eos_token_id`:128001 for open-end generation.\n"
     ]
    },
    {
     "name": "stderr",
     "output_type": "stream",
     "text": [
      "Setting `pad_token_id` to `eos_token_id`:128001 for open-end generation.\n"
     ]
    },
    {
     "name": "stderr",
     "output_type": "stream",
     "text": [
      "Setting `pad_token_id` to `eos_token_id`:128001 for open-end generation.\n"
     ]
    },
    {
     "name": "stderr",
     "output_type": "stream",
     "text": [
      "Setting `pad_token_id` to `eos_token_id`:128001 for open-end generation.\n"
     ]
    },
    {
     "name": "stderr",
     "output_type": "stream",
     "text": [
      "Setting `pad_token_id` to `eos_token_id`:128001 for open-end generation.\n"
     ]
    },
    {
     "name": "stderr",
     "output_type": "stream",
     "text": [
      "Setting `pad_token_id` to `eos_token_id`:128001 for open-end generation.\n"
     ]
    },
    {
     "name": "stderr",
     "output_type": "stream",
     "text": [
      "Setting `pad_token_id` to `eos_token_id`:128001 for open-end generation.\n"
     ]
    },
    {
     "name": "stderr",
     "output_type": "stream",
     "text": [
      "Setting `pad_token_id` to `eos_token_id`:128001 for open-end generation.\n"
     ]
    },
    {
     "name": "stderr",
     "output_type": "stream",
     "text": [
      "Setting `pad_token_id` to `eos_token_id`:128001 for open-end generation.\n"
     ]
    },
    {
     "name": "stderr",
     "output_type": "stream",
     "text": [
      "Setting `pad_token_id` to `eos_token_id`:128001 for open-end generation.\n"
     ]
    },
    {
     "name": "stderr",
     "output_type": "stream",
     "text": [
      "Setting `pad_token_id` to `eos_token_id`:128001 for open-end generation.\n"
     ]
    },
    {
     "name": "stderr",
     "output_type": "stream",
     "text": [
      "Setting `pad_token_id` to `eos_token_id`:128001 for open-end generation.\n"
     ]
    },
    {
     "name": "stderr",
     "output_type": "stream",
     "text": [
      "Setting `pad_token_id` to `eos_token_id`:128001 for open-end generation.\n"
     ]
    },
    {
     "name": "stderr",
     "output_type": "stream",
     "text": [
      "Setting `pad_token_id` to `eos_token_id`:128001 for open-end generation.\n"
     ]
    },
    {
     "name": "stderr",
     "output_type": "stream",
     "text": [
      "Setting `pad_token_id` to `eos_token_id`:128001 for open-end generation.\n"
     ]
    },
    {
     "name": "stderr",
     "output_type": "stream",
     "text": [
      "Setting `pad_token_id` to `eos_token_id`:128001 for open-end generation.\n"
     ]
    },
    {
     "name": "stderr",
     "output_type": "stream",
     "text": [
      "Setting `pad_token_id` to `eos_token_id`:128001 for open-end generation.\n"
     ]
    },
    {
     "name": "stderr",
     "output_type": "stream",
     "text": [
      "Setting `pad_token_id` to `eos_token_id`:128001 for open-end generation.\n"
     ]
    },
    {
     "name": "stderr",
     "output_type": "stream",
     "text": [
      "Setting `pad_token_id` to `eos_token_id`:128001 for open-end generation.\n"
     ]
    },
    {
     "name": "stderr",
     "output_type": "stream",
     "text": [
      "Setting `pad_token_id` to `eos_token_id`:128001 for open-end generation.\n"
     ]
    },
    {
     "name": "stderr",
     "output_type": "stream",
     "text": [
      "Setting `pad_token_id` to `eos_token_id`:128001 for open-end generation.\n"
     ]
    },
    {
     "name": "stderr",
     "output_type": "stream",
     "text": [
      "Setting `pad_token_id` to `eos_token_id`:128001 for open-end generation.\n"
     ]
    },
    {
     "name": "stderr",
     "output_type": "stream",
     "text": [
      "Setting `pad_token_id` to `eos_token_id`:128001 for open-end generation.\n"
     ]
    },
    {
     "name": "stderr",
     "output_type": "stream",
     "text": [
      "Setting `pad_token_id` to `eos_token_id`:128001 for open-end generation.\n"
     ]
    },
    {
     "name": "stderr",
     "output_type": "stream",
     "text": [
      "Setting `pad_token_id` to `eos_token_id`:128001 for open-end generation.\n"
     ]
    },
    {
     "name": "stderr",
     "output_type": "stream",
     "text": [
      "Setting `pad_token_id` to `eos_token_id`:128001 for open-end generation.\n"
     ]
    },
    {
     "name": "stderr",
     "output_type": "stream",
     "text": [
      "Setting `pad_token_id` to `eos_token_id`:128001 for open-end generation.\n"
     ]
    },
    {
     "name": "stderr",
     "output_type": "stream",
     "text": [
      "Setting `pad_token_id` to `eos_token_id`:128001 for open-end generation.\n"
     ]
    },
    {
     "name": "stderr",
     "output_type": "stream",
     "text": [
      "Setting `pad_token_id` to `eos_token_id`:128001 for open-end generation.\n"
     ]
    },
    {
     "name": "stderr",
     "output_type": "stream",
     "text": [
      "Setting `pad_token_id` to `eos_token_id`:128001 for open-end generation.\n"
     ]
    },
    {
     "name": "stderr",
     "output_type": "stream",
     "text": [
      "Setting `pad_token_id` to `eos_token_id`:128001 for open-end generation.\n"
     ]
    },
    {
     "name": "stderr",
     "output_type": "stream",
     "text": [
      "Setting `pad_token_id` to `eos_token_id`:128001 for open-end generation.\n"
     ]
    },
    {
     "name": "stderr",
     "output_type": "stream",
     "text": [
      "Setting `pad_token_id` to `eos_token_id`:128001 for open-end generation.\n"
     ]
    },
    {
     "name": "stderr",
     "output_type": "stream",
     "text": [
      "Setting `pad_token_id` to `eos_token_id`:128001 for open-end generation.\n"
     ]
    },
    {
     "name": "stderr",
     "output_type": "stream",
     "text": [
      "Setting `pad_token_id` to `eos_token_id`:128001 for open-end generation.\n"
     ]
    },
    {
     "name": "stderr",
     "output_type": "stream",
     "text": [
      "Setting `pad_token_id` to `eos_token_id`:128001 for open-end generation.\n"
     ]
    },
    {
     "name": "stderr",
     "output_type": "stream",
     "text": [
      "Setting `pad_token_id` to `eos_token_id`:128001 for open-end generation.\n"
     ]
    },
    {
     "name": "stderr",
     "output_type": "stream",
     "text": [
      "Setting `pad_token_id` to `eos_token_id`:128001 for open-end generation.\n"
     ]
    },
    {
     "name": "stderr",
     "output_type": "stream",
     "text": [
      "Setting `pad_token_id` to `eos_token_id`:128001 for open-end generation.\n"
     ]
    },
    {
     "name": "stderr",
     "output_type": "stream",
     "text": [
      "Setting `pad_token_id` to `eos_token_id`:128001 for open-end generation.\n"
     ]
    },
    {
     "name": "stderr",
     "output_type": "stream",
     "text": [
      "Setting `pad_token_id` to `eos_token_id`:128001 for open-end generation.\n"
     ]
    },
    {
     "name": "stderr",
     "output_type": "stream",
     "text": [
      "Setting `pad_token_id` to `eos_token_id`:128001 for open-end generation.\n"
     ]
    },
    {
     "name": "stderr",
     "output_type": "stream",
     "text": [
      "Setting `pad_token_id` to `eos_token_id`:128001 for open-end generation.\n"
     ]
    },
    {
     "name": "stderr",
     "output_type": "stream",
     "text": [
      "Setting `pad_token_id` to `eos_token_id`:128001 for open-end generation.\n"
     ]
    },
    {
     "name": "stderr",
     "output_type": "stream",
     "text": [
      "Setting `pad_token_id` to `eos_token_id`:128001 for open-end generation.\n"
     ]
    },
    {
     "name": "stderr",
     "output_type": "stream",
     "text": [
      "Setting `pad_token_id` to `eos_token_id`:128001 for open-end generation.\n"
     ]
    },
    {
     "name": "stderr",
     "output_type": "stream",
     "text": [
      "Setting `pad_token_id` to `eos_token_id`:128001 for open-end generation.\n"
     ]
    },
    {
     "name": "stderr",
     "output_type": "stream",
     "text": [
      "Setting `pad_token_id` to `eos_token_id`:128001 for open-end generation.\n"
     ]
    },
    {
     "name": "stderr",
     "output_type": "stream",
     "text": [
      "Setting `pad_token_id` to `eos_token_id`:128001 for open-end generation.\n"
     ]
    },
    {
     "name": "stderr",
     "output_type": "stream",
     "text": [
      "Setting `pad_token_id` to `eos_token_id`:128001 for open-end generation.\n"
     ]
    },
    {
     "name": "stderr",
     "output_type": "stream",
     "text": [
      "Setting `pad_token_id` to `eos_token_id`:128001 for open-end generation.\n"
     ]
    },
    {
     "name": "stderr",
     "output_type": "stream",
     "text": [
      "Setting `pad_token_id` to `eos_token_id`:128001 for open-end generation.\n"
     ]
    },
    {
     "name": "stderr",
     "output_type": "stream",
     "text": [
      "Setting `pad_token_id` to `eos_token_id`:128001 for open-end generation.\n"
     ]
    },
    {
     "name": "stderr",
     "output_type": "stream",
     "text": [
      "Setting `pad_token_id` to `eos_token_id`:128001 for open-end generation.\n"
     ]
    },
    {
     "name": "stderr",
     "output_type": "stream",
     "text": [
      "Setting `pad_token_id` to `eos_token_id`:128001 for open-end generation.\n"
     ]
    },
    {
     "name": "stderr",
     "output_type": "stream",
     "text": [
      "Setting `pad_token_id` to `eos_token_id`:128001 for open-end generation.\n"
     ]
    },
    {
     "name": "stderr",
     "output_type": "stream",
     "text": [
      "Setting `pad_token_id` to `eos_token_id`:128001 for open-end generation.\n"
     ]
    },
    {
     "name": "stderr",
     "output_type": "stream",
     "text": [
      "Setting `pad_token_id` to `eos_token_id`:128001 for open-end generation.\n"
     ]
    },
    {
     "name": "stderr",
     "output_type": "stream",
     "text": [
      "Setting `pad_token_id` to `eos_token_id`:128001 for open-end generation.\n"
     ]
    },
    {
     "name": "stderr",
     "output_type": "stream",
     "text": [
      "Setting `pad_token_id` to `eos_token_id`:128001 for open-end generation.\n"
     ]
    },
    {
     "name": "stderr",
     "output_type": "stream",
     "text": [
      "Setting `pad_token_id` to `eos_token_id`:128001 for open-end generation.\n"
     ]
    },
    {
     "name": "stderr",
     "output_type": "stream",
     "text": [
      "Setting `pad_token_id` to `eos_token_id`:128001 for open-end generation.\n"
     ]
    },
    {
     "name": "stderr",
     "output_type": "stream",
     "text": [
      "Setting `pad_token_id` to `eos_token_id`:128001 for open-end generation.\n"
     ]
    },
    {
     "name": "stderr",
     "output_type": "stream",
     "text": [
      "Setting `pad_token_id` to `eos_token_id`:128001 for open-end generation.\n"
     ]
    },
    {
     "name": "stderr",
     "output_type": "stream",
     "text": [
      "Setting `pad_token_id` to `eos_token_id`:128001 for open-end generation.\n"
     ]
    },
    {
     "name": "stderr",
     "output_type": "stream",
     "text": [
      "Setting `pad_token_id` to `eos_token_id`:128001 for open-end generation.\n"
     ]
    },
    {
     "name": "stderr",
     "output_type": "stream",
     "text": [
      "Setting `pad_token_id` to `eos_token_id`:128001 for open-end generation.\n"
     ]
    },
    {
     "name": "stderr",
     "output_type": "stream",
     "text": [
      "Setting `pad_token_id` to `eos_token_id`:128001 for open-end generation.\n"
     ]
    },
    {
     "name": "stderr",
     "output_type": "stream",
     "text": [
      "Setting `pad_token_id` to `eos_token_id`:128001 for open-end generation.\n"
     ]
    },
    {
     "name": "stderr",
     "output_type": "stream",
     "text": [
      "Setting `pad_token_id` to `eos_token_id`:128001 for open-end generation.\n"
     ]
    },
    {
     "name": "stderr",
     "output_type": "stream",
     "text": [
      "Setting `pad_token_id` to `eos_token_id`:128001 for open-end generation.\n"
     ]
    },
    {
     "name": "stderr",
     "output_type": "stream",
     "text": [
      "Setting `pad_token_id` to `eos_token_id`:128001 for open-end generation.\n"
     ]
    },
    {
     "name": "stderr",
     "output_type": "stream",
     "text": [
      "Setting `pad_token_id` to `eos_token_id`:128001 for open-end generation.\n"
     ]
    },
    {
     "name": "stderr",
     "output_type": "stream",
     "text": [
      "Setting `pad_token_id` to `eos_token_id`:128001 for open-end generation.\n"
     ]
    },
    {
     "name": "stderr",
     "output_type": "stream",
     "text": [
      "Setting `pad_token_id` to `eos_token_id`:128001 for open-end generation.\n"
     ]
    },
    {
     "name": "stderr",
     "output_type": "stream",
     "text": [
      "Setting `pad_token_id` to `eos_token_id`:128001 for open-end generation.\n"
     ]
    },
    {
     "name": "stderr",
     "output_type": "stream",
     "text": [
      "Setting `pad_token_id` to `eos_token_id`:128001 for open-end generation.\n"
     ]
    },
    {
     "name": "stderr",
     "output_type": "stream",
     "text": [
      "Setting `pad_token_id` to `eos_token_id`:128001 for open-end generation.\n"
     ]
    },
    {
     "name": "stderr",
     "output_type": "stream",
     "text": [
      "Setting `pad_token_id` to `eos_token_id`:128001 for open-end generation.\n"
     ]
    },
    {
     "name": "stderr",
     "output_type": "stream",
     "text": [
      "Setting `pad_token_id` to `eos_token_id`:128001 for open-end generation.\n"
     ]
    },
    {
     "name": "stderr",
     "output_type": "stream",
     "text": [
      "Setting `pad_token_id` to `eos_token_id`:128001 for open-end generation.\n"
     ]
    },
    {
     "name": "stderr",
     "output_type": "stream",
     "text": [
      "Setting `pad_token_id` to `eos_token_id`:128001 for open-end generation.\n"
     ]
    },
    {
     "name": "stderr",
     "output_type": "stream",
     "text": [
      "Setting `pad_token_id` to `eos_token_id`:128001 for open-end generation.\n"
     ]
    },
    {
     "name": "stderr",
     "output_type": "stream",
     "text": [
      "Setting `pad_token_id` to `eos_token_id`:128001 for open-end generation.\n"
     ]
    },
    {
     "name": "stderr",
     "output_type": "stream",
     "text": [
      "Setting `pad_token_id` to `eos_token_id`:128001 for open-end generation.\n"
     ]
    },
    {
     "name": "stderr",
     "output_type": "stream",
     "text": [
      "Setting `pad_token_id` to `eos_token_id`:128001 for open-end generation.\n"
     ]
    },
    {
     "name": "stderr",
     "output_type": "stream",
     "text": [
      "Setting `pad_token_id` to `eos_token_id`:128001 for open-end generation.\n"
     ]
    },
    {
     "name": "stderr",
     "output_type": "stream",
     "text": [
      "Setting `pad_token_id` to `eos_token_id`:128001 for open-end generation.\n"
     ]
    },
    {
     "name": "stderr",
     "output_type": "stream",
     "text": [
      "Setting `pad_token_id` to `eos_token_id`:128001 for open-end generation.\n"
     ]
    },
    {
     "name": "stderr",
     "output_type": "stream",
     "text": [
      "Setting `pad_token_id` to `eos_token_id`:128001 for open-end generation.\n"
     ]
    },
    {
     "name": "stderr",
     "output_type": "stream",
     "text": [
      "Setting `pad_token_id` to `eos_token_id`:128001 for open-end generation.\n"
     ]
    },
    {
     "name": "stderr",
     "output_type": "stream",
     "text": [
      "Setting `pad_token_id` to `eos_token_id`:128001 for open-end generation.\n"
     ]
    },
    {
     "name": "stderr",
     "output_type": "stream",
     "text": [
      "Setting `pad_token_id` to `eos_token_id`:128001 for open-end generation.\n"
     ]
    },
    {
     "name": "stderr",
     "output_type": "stream",
     "text": [
      "Setting `pad_token_id` to `eos_token_id`:128001 for open-end generation.\n"
     ]
    },
    {
     "name": "stderr",
     "output_type": "stream",
     "text": [
      "Setting `pad_token_id` to `eos_token_id`:128001 for open-end generation.\n"
     ]
    },
    {
     "name": "stderr",
     "output_type": "stream",
     "text": [
      "Setting `pad_token_id` to `eos_token_id`:128001 for open-end generation.\n"
     ]
    },
    {
     "name": "stderr",
     "output_type": "stream",
     "text": [
      "Setting `pad_token_id` to `eos_token_id`:128001 for open-end generation.\n"
     ]
    },
    {
     "name": "stderr",
     "output_type": "stream",
     "text": [
      "Setting `pad_token_id` to `eos_token_id`:128001 for open-end generation.\n"
     ]
    },
    {
     "name": "stderr",
     "output_type": "stream",
     "text": [
      "Setting `pad_token_id` to `eos_token_id`:128001 for open-end generation.\n"
     ]
    },
    {
     "name": "stderr",
     "output_type": "stream",
     "text": [
      "Setting `pad_token_id` to `eos_token_id`:128001 for open-end generation.\n"
     ]
    },
    {
     "name": "stderr",
     "output_type": "stream",
     "text": [
      "Setting `pad_token_id` to `eos_token_id`:128001 for open-end generation.\n"
     ]
    },
    {
     "name": "stderr",
     "output_type": "stream",
     "text": [
      "Setting `pad_token_id` to `eos_token_id`:128001 for open-end generation.\n"
     ]
    },
    {
     "name": "stderr",
     "output_type": "stream",
     "text": [
      "Setting `pad_token_id` to `eos_token_id`:128001 for open-end generation.\n"
     ]
    },
    {
     "name": "stderr",
     "output_type": "stream",
     "text": [
      "Setting `pad_token_id` to `eos_token_id`:128001 for open-end generation.\n"
     ]
    },
    {
     "name": "stderr",
     "output_type": "stream",
     "text": [
      "Setting `pad_token_id` to `eos_token_id`:128001 for open-end generation.\n"
     ]
    },
    {
     "name": "stderr",
     "output_type": "stream",
     "text": [
      "Setting `pad_token_id` to `eos_token_id`:128001 for open-end generation.\n"
     ]
    },
    {
     "name": "stderr",
     "output_type": "stream",
     "text": [
      "Setting `pad_token_id` to `eos_token_id`:128001 for open-end generation.\n"
     ]
    },
    {
     "name": "stderr",
     "output_type": "stream",
     "text": [
      "Setting `pad_token_id` to `eos_token_id`:128001 for open-end generation.\n"
     ]
    },
    {
     "name": "stderr",
     "output_type": "stream",
     "text": [
      "Setting `pad_token_id` to `eos_token_id`:128001 for open-end generation.\n"
     ]
    },
    {
     "name": "stderr",
     "output_type": "stream",
     "text": [
      "Setting `pad_token_id` to `eos_token_id`:128001 for open-end generation.\n"
     ]
    },
    {
     "name": "stderr",
     "output_type": "stream",
     "text": [
      "Setting `pad_token_id` to `eos_token_id`:128001 for open-end generation.\n"
     ]
    },
    {
     "name": "stderr",
     "output_type": "stream",
     "text": [
      "Setting `pad_token_id` to `eos_token_id`:128001 for open-end generation.\n"
     ]
    },
    {
     "name": "stderr",
     "output_type": "stream",
     "text": [
      "Setting `pad_token_id` to `eos_token_id`:128001 for open-end generation.\n"
     ]
    },
    {
     "name": "stderr",
     "output_type": "stream",
     "text": [
      "Setting `pad_token_id` to `eos_token_id`:128001 for open-end generation.\n"
     ]
    },
    {
     "name": "stderr",
     "output_type": "stream",
     "text": [
      "Setting `pad_token_id` to `eos_token_id`:128001 for open-end generation.\n"
     ]
    },
    {
     "name": "stderr",
     "output_type": "stream",
     "text": [
      "Setting `pad_token_id` to `eos_token_id`:128001 for open-end generation.\n"
     ]
    },
    {
     "name": "stderr",
     "output_type": "stream",
     "text": [
      "Setting `pad_token_id` to `eos_token_id`:128001 for open-end generation.\n"
     ]
    },
    {
     "name": "stderr",
     "output_type": "stream",
     "text": [
      "Setting `pad_token_id` to `eos_token_id`:128001 for open-end generation.\n"
     ]
    },
    {
     "name": "stderr",
     "output_type": "stream",
     "text": [
      "Setting `pad_token_id` to `eos_token_id`:128001 for open-end generation.\n"
     ]
    },
    {
     "name": "stderr",
     "output_type": "stream",
     "text": [
      "Setting `pad_token_id` to `eos_token_id`:128001 for open-end generation.\n"
     ]
    },
    {
     "name": "stderr",
     "output_type": "stream",
     "text": [
      "Setting `pad_token_id` to `eos_token_id`:128001 for open-end generation.\n"
     ]
    },
    {
     "name": "stderr",
     "output_type": "stream",
     "text": [
      "Setting `pad_token_id` to `eos_token_id`:128001 for open-end generation.\n"
     ]
    },
    {
     "name": "stderr",
     "output_type": "stream",
     "text": [
      "Setting `pad_token_id` to `eos_token_id`:128001 for open-end generation.\n"
     ]
    },
    {
     "name": "stderr",
     "output_type": "stream",
     "text": [
      "Setting `pad_token_id` to `eos_token_id`:128001 for open-end generation.\n"
     ]
    },
    {
     "name": "stderr",
     "output_type": "stream",
     "text": [
      "Setting `pad_token_id` to `eos_token_id`:128001 for open-end generation.\n"
     ]
    },
    {
     "name": "stderr",
     "output_type": "stream",
     "text": [
      "Setting `pad_token_id` to `eos_token_id`:128001 for open-end generation.\n"
     ]
    },
    {
     "name": "stderr",
     "output_type": "stream",
     "text": [
      "Setting `pad_token_id` to `eos_token_id`:128001 for open-end generation.\n"
     ]
    },
    {
     "name": "stderr",
     "output_type": "stream",
     "text": [
      "Setting `pad_token_id` to `eos_token_id`:128001 for open-end generation.\n"
     ]
    },
    {
     "name": "stderr",
     "output_type": "stream",
     "text": [
      "Setting `pad_token_id` to `eos_token_id`:128001 for open-end generation.\n"
     ]
    },
    {
     "name": "stderr",
     "output_type": "stream",
     "text": [
      "Setting `pad_token_id` to `eos_token_id`:128001 for open-end generation.\n"
     ]
    },
    {
     "name": "stderr",
     "output_type": "stream",
     "text": [
      "Setting `pad_token_id` to `eos_token_id`:128001 for open-end generation.\n"
     ]
    },
    {
     "name": "stderr",
     "output_type": "stream",
     "text": [
      "Setting `pad_token_id` to `eos_token_id`:128001 for open-end generation.\n"
     ]
    },
    {
     "name": "stderr",
     "output_type": "stream",
     "text": [
      "Setting `pad_token_id` to `eos_token_id`:128001 for open-end generation.\n"
     ]
    },
    {
     "name": "stderr",
     "output_type": "stream",
     "text": [
      "Setting `pad_token_id` to `eos_token_id`:128001 for open-end generation.\n"
     ]
    },
    {
     "name": "stderr",
     "output_type": "stream",
     "text": [
      "Setting `pad_token_id` to `eos_token_id`:128001 for open-end generation.\n"
     ]
    },
    {
     "name": "stderr",
     "output_type": "stream",
     "text": [
      "Setting `pad_token_id` to `eos_token_id`:128001 for open-end generation.\n"
     ]
    },
    {
     "name": "stderr",
     "output_type": "stream",
     "text": [
      "Setting `pad_token_id` to `eos_token_id`:128001 for open-end generation.\n"
     ]
    },
    {
     "name": "stderr",
     "output_type": "stream",
     "text": [
      "Setting `pad_token_id` to `eos_token_id`:128001 for open-end generation.\n"
     ]
    },
    {
     "name": "stderr",
     "output_type": "stream",
     "text": [
      "Setting `pad_token_id` to `eos_token_id`:128001 for open-end generation.\n"
     ]
    },
    {
     "name": "stderr",
     "output_type": "stream",
     "text": [
      "Setting `pad_token_id` to `eos_token_id`:128001 for open-end generation.\n"
     ]
    },
    {
     "name": "stderr",
     "output_type": "stream",
     "text": [
      "Setting `pad_token_id` to `eos_token_id`:128001 for open-end generation.\n"
     ]
    },
    {
     "name": "stderr",
     "output_type": "stream",
     "text": [
      "Setting `pad_token_id` to `eos_token_id`:128001 for open-end generation.\n"
     ]
    },
    {
     "name": "stderr",
     "output_type": "stream",
     "text": [
      "Setting `pad_token_id` to `eos_token_id`:128001 for open-end generation.\n"
     ]
    },
    {
     "name": "stderr",
     "output_type": "stream",
     "text": [
      "Setting `pad_token_id` to `eos_token_id`:128001 for open-end generation.\n"
     ]
    },
    {
     "name": "stderr",
     "output_type": "stream",
     "text": [
      "Setting `pad_token_id` to `eos_token_id`:128001 for open-end generation.\n"
     ]
    },
    {
     "name": "stderr",
     "output_type": "stream",
     "text": [
      "Setting `pad_token_id` to `eos_token_id`:128001 for open-end generation.\n"
     ]
    },
    {
     "name": "stderr",
     "output_type": "stream",
     "text": [
      "Setting `pad_token_id` to `eos_token_id`:128001 for open-end generation.\n"
     ]
    },
    {
     "name": "stderr",
     "output_type": "stream",
     "text": [
      "Setting `pad_token_id` to `eos_token_id`:128001 for open-end generation.\n"
     ]
    },
    {
     "name": "stderr",
     "output_type": "stream",
     "text": [
      "Setting `pad_token_id` to `eos_token_id`:128001 for open-end generation.\n"
     ]
    },
    {
     "name": "stderr",
     "output_type": "stream",
     "text": [
      "Setting `pad_token_id` to `eos_token_id`:128001 for open-end generation.\n"
     ]
    },
    {
     "name": "stderr",
     "output_type": "stream",
     "text": [
      "Setting `pad_token_id` to `eos_token_id`:128001 for open-end generation.\n"
     ]
    },
    {
     "name": "stderr",
     "output_type": "stream",
     "text": [
      "Setting `pad_token_id` to `eos_token_id`:128001 for open-end generation.\n"
     ]
    },
    {
     "name": "stderr",
     "output_type": "stream",
     "text": [
      "Setting `pad_token_id` to `eos_token_id`:128001 for open-end generation.\n"
     ]
    },
    {
     "name": "stderr",
     "output_type": "stream",
     "text": [
      "Setting `pad_token_id` to `eos_token_id`:128001 for open-end generation.\n"
     ]
    },
    {
     "name": "stderr",
     "output_type": "stream",
     "text": [
      "Setting `pad_token_id` to `eos_token_id`:128001 for open-end generation.\n"
     ]
    },
    {
     "name": "stderr",
     "output_type": "stream",
     "text": [
      "Setting `pad_token_id` to `eos_token_id`:128001 for open-end generation.\n"
     ]
    },
    {
     "name": "stderr",
     "output_type": "stream",
     "text": [
      "Setting `pad_token_id` to `eos_token_id`:128001 for open-end generation.\n"
     ]
    },
    {
     "name": "stderr",
     "output_type": "stream",
     "text": [
      "Setting `pad_token_id` to `eos_token_id`:128001 for open-end generation.\n"
     ]
    },
    {
     "name": "stderr",
     "output_type": "stream",
     "text": [
      "Setting `pad_token_id` to `eos_token_id`:128001 for open-end generation.\n"
     ]
    },
    {
     "name": "stderr",
     "output_type": "stream",
     "text": [
      "Setting `pad_token_id` to `eos_token_id`:128001 for open-end generation.\n"
     ]
    },
    {
     "name": "stderr",
     "output_type": "stream",
     "text": [
      "Setting `pad_token_id` to `eos_token_id`:128001 for open-end generation.\n"
     ]
    },
    {
     "name": "stderr",
     "output_type": "stream",
     "text": [
      "Setting `pad_token_id` to `eos_token_id`:128001 for open-end generation.\n"
     ]
    },
    {
     "name": "stderr",
     "output_type": "stream",
     "text": [
      "Setting `pad_token_id` to `eos_token_id`:128001 for open-end generation.\n"
     ]
    },
    {
     "name": "stderr",
     "output_type": "stream",
     "text": [
      "Setting `pad_token_id` to `eos_token_id`:128001 for open-end generation.\n"
     ]
    },
    {
     "name": "stderr",
     "output_type": "stream",
     "text": [
      "Setting `pad_token_id` to `eos_token_id`:128001 for open-end generation.\n"
     ]
    },
    {
     "name": "stderr",
     "output_type": "stream",
     "text": [
      "Setting `pad_token_id` to `eos_token_id`:128001 for open-end generation.\n"
     ]
    },
    {
     "name": "stderr",
     "output_type": "stream",
     "text": [
      "Setting `pad_token_id` to `eos_token_id`:128001 for open-end generation.\n"
     ]
    },
    {
     "name": "stderr",
     "output_type": "stream",
     "text": [
      "Setting `pad_token_id` to `eos_token_id`:128001 for open-end generation.\n"
     ]
    },
    {
     "name": "stderr",
     "output_type": "stream",
     "text": [
      "Setting `pad_token_id` to `eos_token_id`:128001 for open-end generation.\n"
     ]
    },
    {
     "name": "stderr",
     "output_type": "stream",
     "text": [
      "Setting `pad_token_id` to `eos_token_id`:128001 for open-end generation.\n"
     ]
    },
    {
     "name": "stderr",
     "output_type": "stream",
     "text": [
      "Setting `pad_token_id` to `eos_token_id`:128001 for open-end generation.\n"
     ]
    },
    {
     "name": "stderr",
     "output_type": "stream",
     "text": [
      "Setting `pad_token_id` to `eos_token_id`:128001 for open-end generation.\n"
     ]
    },
    {
     "name": "stderr",
     "output_type": "stream",
     "text": [
      "Setting `pad_token_id` to `eos_token_id`:128001 for open-end generation.\n"
     ]
    },
    {
     "name": "stderr",
     "output_type": "stream",
     "text": [
      "Setting `pad_token_id` to `eos_token_id`:128001 for open-end generation.\n"
     ]
    },
    {
     "name": "stderr",
     "output_type": "stream",
     "text": [
      "Setting `pad_token_id` to `eos_token_id`:128001 for open-end generation.\n"
     ]
    },
    {
     "name": "stderr",
     "output_type": "stream",
     "text": [
      "Setting `pad_token_id` to `eos_token_id`:128001 for open-end generation.\n"
     ]
    },
    {
     "name": "stderr",
     "output_type": "stream",
     "text": [
      "Setting `pad_token_id` to `eos_token_id`:128001 for open-end generation.\n"
     ]
    },
    {
     "name": "stderr",
     "output_type": "stream",
     "text": [
      "Setting `pad_token_id` to `eos_token_id`:128001 for open-end generation.\n"
     ]
    },
    {
     "name": "stderr",
     "output_type": "stream",
     "text": [
      "Setting `pad_token_id` to `eos_token_id`:128001 for open-end generation.\n"
     ]
    },
    {
     "name": "stderr",
     "output_type": "stream",
     "text": [
      "Setting `pad_token_id` to `eos_token_id`:128001 for open-end generation.\n"
     ]
    },
    {
     "name": "stderr",
     "output_type": "stream",
     "text": [
      "Setting `pad_token_id` to `eos_token_id`:128001 for open-end generation.\n"
     ]
    },
    {
     "name": "stderr",
     "output_type": "stream",
     "text": [
      "Setting `pad_token_id` to `eos_token_id`:128001 for open-end generation.\n"
     ]
    },
    {
     "name": "stderr",
     "output_type": "stream",
     "text": [
      "Setting `pad_token_id` to `eos_token_id`:128001 for open-end generation.\n"
     ]
    },
    {
     "name": "stderr",
     "output_type": "stream",
     "text": [
      "Setting `pad_token_id` to `eos_token_id`:128001 for open-end generation.\n"
     ]
    },
    {
     "name": "stderr",
     "output_type": "stream",
     "text": [
      "Setting `pad_token_id` to `eos_token_id`:128001 for open-end generation.\n"
     ]
    },
    {
     "name": "stderr",
     "output_type": "stream",
     "text": [
      "Setting `pad_token_id` to `eos_token_id`:128001 for open-end generation.\n"
     ]
    },
    {
     "name": "stderr",
     "output_type": "stream",
     "text": [
      "Setting `pad_token_id` to `eos_token_id`:128001 for open-end generation.\n"
     ]
    },
    {
     "name": "stderr",
     "output_type": "stream",
     "text": [
      "Setting `pad_token_id` to `eos_token_id`:128001 for open-end generation.\n"
     ]
    },
    {
     "name": "stderr",
     "output_type": "stream",
     "text": [
      "Setting `pad_token_id` to `eos_token_id`:128001 for open-end generation.\n"
     ]
    },
    {
     "name": "stderr",
     "output_type": "stream",
     "text": [
      "Setting `pad_token_id` to `eos_token_id`:128001 for open-end generation.\n"
     ]
    },
    {
     "name": "stderr",
     "output_type": "stream",
     "text": [
      "Setting `pad_token_id` to `eos_token_id`:128001 for open-end generation.\n"
     ]
    },
    {
     "name": "stderr",
     "output_type": "stream",
     "text": [
      "Setting `pad_token_id` to `eos_token_id`:128001 for open-end generation.\n"
     ]
    },
    {
     "name": "stderr",
     "output_type": "stream",
     "text": [
      "Setting `pad_token_id` to `eos_token_id`:128001 for open-end generation.\n"
     ]
    },
    {
     "name": "stderr",
     "output_type": "stream",
     "text": [
      "Setting `pad_token_id` to `eos_token_id`:128001 for open-end generation.\n"
     ]
    },
    {
     "name": "stderr",
     "output_type": "stream",
     "text": [
      "Setting `pad_token_id` to `eos_token_id`:128001 for open-end generation.\n"
     ]
    },
    {
     "name": "stderr",
     "output_type": "stream",
     "text": [
      "Setting `pad_token_id` to `eos_token_id`:128001 for open-end generation.\n"
     ]
    },
    {
     "name": "stderr",
     "output_type": "stream",
     "text": [
      "Setting `pad_token_id` to `eos_token_id`:128001 for open-end generation.\n"
     ]
    },
    {
     "name": "stderr",
     "output_type": "stream",
     "text": [
      "Setting `pad_token_id` to `eos_token_id`:128001 for open-end generation.\n"
     ]
    },
    {
     "name": "stderr",
     "output_type": "stream",
     "text": [
      "Setting `pad_token_id` to `eos_token_id`:128001 for open-end generation.\n"
     ]
    },
    {
     "name": "stderr",
     "output_type": "stream",
     "text": [
      "Setting `pad_token_id` to `eos_token_id`:128001 for open-end generation.\n"
     ]
    },
    {
     "name": "stderr",
     "output_type": "stream",
     "text": [
      "Setting `pad_token_id` to `eos_token_id`:128001 for open-end generation.\n"
     ]
    },
    {
     "name": "stderr",
     "output_type": "stream",
     "text": [
      "Setting `pad_token_id` to `eos_token_id`:128001 for open-end generation.\n"
     ]
    },
    {
     "name": "stderr",
     "output_type": "stream",
     "text": [
      "Setting `pad_token_id` to `eos_token_id`:128001 for open-end generation.\n"
     ]
    },
    {
     "name": "stderr",
     "output_type": "stream",
     "text": [
      "Setting `pad_token_id` to `eos_token_id`:128001 for open-end generation.\n"
     ]
    },
    {
     "name": "stderr",
     "output_type": "stream",
     "text": [
      "Setting `pad_token_id` to `eos_token_id`:128001 for open-end generation.\n"
     ]
    },
    {
     "name": "stderr",
     "output_type": "stream",
     "text": [
      "Setting `pad_token_id` to `eos_token_id`:128001 for open-end generation.\n"
     ]
    },
    {
     "name": "stderr",
     "output_type": "stream",
     "text": [
      "Setting `pad_token_id` to `eos_token_id`:128001 for open-end generation.\n"
     ]
    },
    {
     "name": "stderr",
     "output_type": "stream",
     "text": [
      "Setting `pad_token_id` to `eos_token_id`:128001 for open-end generation.\n"
     ]
    },
    {
     "name": "stderr",
     "output_type": "stream",
     "text": [
      "Setting `pad_token_id` to `eos_token_id`:128001 for open-end generation.\n"
     ]
    },
    {
     "name": "stderr",
     "output_type": "stream",
     "text": [
      "Setting `pad_token_id` to `eos_token_id`:128001 for open-end generation.\n"
     ]
    },
    {
     "name": "stderr",
     "output_type": "stream",
     "text": [
      "Setting `pad_token_id` to `eos_token_id`:128001 for open-end generation.\n"
     ]
    },
    {
     "name": "stderr",
     "output_type": "stream",
     "text": [
      "Setting `pad_token_id` to `eos_token_id`:128001 for open-end generation.\n"
     ]
    },
    {
     "name": "stderr",
     "output_type": "stream",
     "text": [
      "Setting `pad_token_id` to `eos_token_id`:128001 for open-end generation.\n"
     ]
    },
    {
     "name": "stderr",
     "output_type": "stream",
     "text": [
      "Setting `pad_token_id` to `eos_token_id`:128001 for open-end generation.\n"
     ]
    },
    {
     "name": "stderr",
     "output_type": "stream",
     "text": [
      "Setting `pad_token_id` to `eos_token_id`:128001 for open-end generation.\n"
     ]
    },
    {
     "name": "stderr",
     "output_type": "stream",
     "text": [
      "Setting `pad_token_id` to `eos_token_id`:128001 for open-end generation.\n"
     ]
    },
    {
     "name": "stderr",
     "output_type": "stream",
     "text": [
      "Setting `pad_token_id` to `eos_token_id`:128001 for open-end generation.\n"
     ]
    },
    {
     "name": "stderr",
     "output_type": "stream",
     "text": [
      "Setting `pad_token_id` to `eos_token_id`:128001 for open-end generation.\n"
     ]
    },
    {
     "name": "stderr",
     "output_type": "stream",
     "text": [
      "Setting `pad_token_id` to `eos_token_id`:128001 for open-end generation.\n"
     ]
    },
    {
     "name": "stderr",
     "output_type": "stream",
     "text": [
      "Setting `pad_token_id` to `eos_token_id`:128001 for open-end generation.\n"
     ]
    },
    {
     "name": "stderr",
     "output_type": "stream",
     "text": [
      "Setting `pad_token_id` to `eos_token_id`:128001 for open-end generation.\n"
     ]
    },
    {
     "name": "stderr",
     "output_type": "stream",
     "text": [
      "Setting `pad_token_id` to `eos_token_id`:128001 for open-end generation.\n"
     ]
    },
    {
     "name": "stderr",
     "output_type": "stream",
     "text": [
      "Setting `pad_token_id` to `eos_token_id`:128001 for open-end generation.\n"
     ]
    },
    {
     "name": "stderr",
     "output_type": "stream",
     "text": [
      "Setting `pad_token_id` to `eos_token_id`:128001 for open-end generation.\n"
     ]
    },
    {
     "name": "stderr",
     "output_type": "stream",
     "text": [
      "Setting `pad_token_id` to `eos_token_id`:128001 for open-end generation.\n"
     ]
    },
    {
     "name": "stderr",
     "output_type": "stream",
     "text": [
      "Setting `pad_token_id` to `eos_token_id`:128001 for open-end generation.\n"
     ]
    },
    {
     "name": "stderr",
     "output_type": "stream",
     "text": [
      "Setting `pad_token_id` to `eos_token_id`:128001 for open-end generation.\n"
     ]
    },
    {
     "name": "stderr",
     "output_type": "stream",
     "text": [
      "Setting `pad_token_id` to `eos_token_id`:128001 for open-end generation.\n"
     ]
    },
    {
     "name": "stderr",
     "output_type": "stream",
     "text": [
      "Setting `pad_token_id` to `eos_token_id`:128001 for open-end generation.\n"
     ]
    },
    {
     "name": "stderr",
     "output_type": "stream",
     "text": [
      "Setting `pad_token_id` to `eos_token_id`:128001 for open-end generation.\n"
     ]
    },
    {
     "name": "stderr",
     "output_type": "stream",
     "text": [
      "Setting `pad_token_id` to `eos_token_id`:128001 for open-end generation.\n"
     ]
    },
    {
     "name": "stderr",
     "output_type": "stream",
     "text": [
      "Setting `pad_token_id` to `eos_token_id`:128001 for open-end generation.\n"
     ]
    },
    {
     "name": "stderr",
     "output_type": "stream",
     "text": [
      "Setting `pad_token_id` to `eos_token_id`:128001 for open-end generation.\n"
     ]
    },
    {
     "name": "stderr",
     "output_type": "stream",
     "text": [
      "Setting `pad_token_id` to `eos_token_id`:128001 for open-end generation.\n"
     ]
    },
    {
     "name": "stderr",
     "output_type": "stream",
     "text": [
      "Setting `pad_token_id` to `eos_token_id`:128001 for open-end generation.\n"
     ]
    },
    {
     "name": "stderr",
     "output_type": "stream",
     "text": [
      "Setting `pad_token_id` to `eos_token_id`:128001 for open-end generation.\n"
     ]
    },
    {
     "name": "stderr",
     "output_type": "stream",
     "text": [
      "Setting `pad_token_id` to `eos_token_id`:128001 for open-end generation.\n"
     ]
    },
    {
     "name": "stderr",
     "output_type": "stream",
     "text": [
      "Setting `pad_token_id` to `eos_token_id`:128001 for open-end generation.\n"
     ]
    },
    {
     "name": "stderr",
     "output_type": "stream",
     "text": [
      "Setting `pad_token_id` to `eos_token_id`:128001 for open-end generation.\n"
     ]
    },
    {
     "name": "stderr",
     "output_type": "stream",
     "text": [
      "Setting `pad_token_id` to `eos_token_id`:128001 for open-end generation.\n"
     ]
    },
    {
     "name": "stderr",
     "output_type": "stream",
     "text": [
      "Setting `pad_token_id` to `eos_token_id`:128001 for open-end generation.\n"
     ]
    },
    {
     "name": "stderr",
     "output_type": "stream",
     "text": [
      "Setting `pad_token_id` to `eos_token_id`:128001 for open-end generation.\n"
     ]
    },
    {
     "name": "stderr",
     "output_type": "stream",
     "text": [
      "Setting `pad_token_id` to `eos_token_id`:128001 for open-end generation.\n"
     ]
    },
    {
     "name": "stderr",
     "output_type": "stream",
     "text": [
      "Setting `pad_token_id` to `eos_token_id`:128001 for open-end generation.\n"
     ]
    },
    {
     "name": "stderr",
     "output_type": "stream",
     "text": [
      "Setting `pad_token_id` to `eos_token_id`:128001 for open-end generation.\n"
     ]
    },
    {
     "name": "stderr",
     "output_type": "stream",
     "text": [
      "Setting `pad_token_id` to `eos_token_id`:128001 for open-end generation.\n"
     ]
    },
    {
     "name": "stderr",
     "output_type": "stream",
     "text": [
      "Setting `pad_token_id` to `eos_token_id`:128001 for open-end generation.\n"
     ]
    },
    {
     "name": "stderr",
     "output_type": "stream",
     "text": [
      "Setting `pad_token_id` to `eos_token_id`:128001 for open-end generation.\n"
     ]
    },
    {
     "name": "stderr",
     "output_type": "stream",
     "text": [
      "Setting `pad_token_id` to `eos_token_id`:128001 for open-end generation.\n"
     ]
    },
    {
     "name": "stderr",
     "output_type": "stream",
     "text": [
      "Setting `pad_token_id` to `eos_token_id`:128001 for open-end generation.\n"
     ]
    },
    {
     "name": "stderr",
     "output_type": "stream",
     "text": [
      "Setting `pad_token_id` to `eos_token_id`:128001 for open-end generation.\n"
     ]
    },
    {
     "name": "stderr",
     "output_type": "stream",
     "text": [
      "Setting `pad_token_id` to `eos_token_id`:128001 for open-end generation.\n"
     ]
    },
    {
     "name": "stderr",
     "output_type": "stream",
     "text": [
      "Setting `pad_token_id` to `eos_token_id`:128001 for open-end generation.\n"
     ]
    },
    {
     "name": "stderr",
     "output_type": "stream",
     "text": [
      "Setting `pad_token_id` to `eos_token_id`:128001 for open-end generation.\n"
     ]
    },
    {
     "name": "stderr",
     "output_type": "stream",
     "text": [
      "Setting `pad_token_id` to `eos_token_id`:128001 for open-end generation.\n"
     ]
    },
    {
     "name": "stderr",
     "output_type": "stream",
     "text": [
      "Setting `pad_token_id` to `eos_token_id`:128001 for open-end generation.\n"
     ]
    },
    {
     "name": "stderr",
     "output_type": "stream",
     "text": [
      "Setting `pad_token_id` to `eos_token_id`:128001 for open-end generation.\n"
     ]
    },
    {
     "name": "stderr",
     "output_type": "stream",
     "text": [
      "Setting `pad_token_id` to `eos_token_id`:128001 for open-end generation.\n"
     ]
    },
    {
     "name": "stderr",
     "output_type": "stream",
     "text": [
      "Setting `pad_token_id` to `eos_token_id`:128001 for open-end generation.\n"
     ]
    },
    {
     "name": "stderr",
     "output_type": "stream",
     "text": [
      "Setting `pad_token_id` to `eos_token_id`:128001 for open-end generation.\n"
     ]
    },
    {
     "name": "stderr",
     "output_type": "stream",
     "text": [
      "Setting `pad_token_id` to `eos_token_id`:128001 for open-end generation.\n"
     ]
    },
    {
     "name": "stderr",
     "output_type": "stream",
     "text": [
      "Setting `pad_token_id` to `eos_token_id`:128001 for open-end generation.\n"
     ]
    },
    {
     "name": "stderr",
     "output_type": "stream",
     "text": [
      "Setting `pad_token_id` to `eos_token_id`:128001 for open-end generation.\n"
     ]
    },
    {
     "name": "stderr",
     "output_type": "stream",
     "text": [
      "Setting `pad_token_id` to `eos_token_id`:128001 for open-end generation.\n"
     ]
    },
    {
     "name": "stderr",
     "output_type": "stream",
     "text": [
      "Setting `pad_token_id` to `eos_token_id`:128001 for open-end generation.\n"
     ]
    },
    {
     "name": "stderr",
     "output_type": "stream",
     "text": [
      "Setting `pad_token_id` to `eos_token_id`:128001 for open-end generation.\n"
     ]
    },
    {
     "name": "stderr",
     "output_type": "stream",
     "text": [
      "Setting `pad_token_id` to `eos_token_id`:128001 for open-end generation.\n"
     ]
    },
    {
     "name": "stderr",
     "output_type": "stream",
     "text": [
      "Setting `pad_token_id` to `eos_token_id`:128001 for open-end generation.\n"
     ]
    },
    {
     "name": "stderr",
     "output_type": "stream",
     "text": [
      "Setting `pad_token_id` to `eos_token_id`:128001 for open-end generation.\n"
     ]
    },
    {
     "name": "stderr",
     "output_type": "stream",
     "text": [
      "Setting `pad_token_id` to `eos_token_id`:128001 for open-end generation.\n"
     ]
    },
    {
     "name": "stderr",
     "output_type": "stream",
     "text": [
      "Setting `pad_token_id` to `eos_token_id`:128001 for open-end generation.\n"
     ]
    },
    {
     "name": "stderr",
     "output_type": "stream",
     "text": [
      "Setting `pad_token_id` to `eos_token_id`:128001 for open-end generation.\n"
     ]
    },
    {
     "name": "stderr",
     "output_type": "stream",
     "text": [
      "Setting `pad_token_id` to `eos_token_id`:128001 for open-end generation.\n"
     ]
    },
    {
     "name": "stderr",
     "output_type": "stream",
     "text": [
      "Setting `pad_token_id` to `eos_token_id`:128001 for open-end generation.\n"
     ]
    },
    {
     "name": "stderr",
     "output_type": "stream",
     "text": [
      "Setting `pad_token_id` to `eos_token_id`:128001 for open-end generation.\n"
     ]
    },
    {
     "name": "stderr",
     "output_type": "stream",
     "text": [
      "Setting `pad_token_id` to `eos_token_id`:128001 for open-end generation.\n"
     ]
    },
    {
     "name": "stderr",
     "output_type": "stream",
     "text": [
      "Setting `pad_token_id` to `eos_token_id`:128001 for open-end generation.\n"
     ]
    },
    {
     "name": "stderr",
     "output_type": "stream",
     "text": [
      "Setting `pad_token_id` to `eos_token_id`:128001 for open-end generation.\n"
     ]
    },
    {
     "name": "stderr",
     "output_type": "stream",
     "text": [
      "Setting `pad_token_id` to `eos_token_id`:128001 for open-end generation.\n"
     ]
    },
    {
     "name": "stderr",
     "output_type": "stream",
     "text": [
      "Setting `pad_token_id` to `eos_token_id`:128001 for open-end generation.\n"
     ]
    },
    {
     "name": "stderr",
     "output_type": "stream",
     "text": [
      "Setting `pad_token_id` to `eos_token_id`:128001 for open-end generation.\n"
     ]
    },
    {
     "name": "stderr",
     "output_type": "stream",
     "text": [
      "Setting `pad_token_id` to `eos_token_id`:128001 for open-end generation.\n"
     ]
    },
    {
     "name": "stderr",
     "output_type": "stream",
     "text": [
      "Setting `pad_token_id` to `eos_token_id`:128001 for open-end generation.\n"
     ]
    },
    {
     "name": "stderr",
     "output_type": "stream",
     "text": [
      "Setting `pad_token_id` to `eos_token_id`:128001 for open-end generation.\n"
     ]
    },
    {
     "name": "stderr",
     "output_type": "stream",
     "text": [
      "Setting `pad_token_id` to `eos_token_id`:128001 for open-end generation.\n"
     ]
    },
    {
     "name": "stderr",
     "output_type": "stream",
     "text": [
      "Setting `pad_token_id` to `eos_token_id`:128001 for open-end generation.\n"
     ]
    },
    {
     "name": "stderr",
     "output_type": "stream",
     "text": [
      "Setting `pad_token_id` to `eos_token_id`:128001 for open-end generation.\n"
     ]
    },
    {
     "name": "stderr",
     "output_type": "stream",
     "text": [
      "Setting `pad_token_id` to `eos_token_id`:128001 for open-end generation.\n"
     ]
    },
    {
     "name": "stderr",
     "output_type": "stream",
     "text": [
      "Setting `pad_token_id` to `eos_token_id`:128001 for open-end generation.\n"
     ]
    },
    {
     "name": "stderr",
     "output_type": "stream",
     "text": [
      "Setting `pad_token_id` to `eos_token_id`:128001 for open-end generation.\n"
     ]
    },
    {
     "name": "stderr",
     "output_type": "stream",
     "text": [
      "Setting `pad_token_id` to `eos_token_id`:128001 for open-end generation.\n"
     ]
    },
    {
     "name": "stderr",
     "output_type": "stream",
     "text": [
      "Setting `pad_token_id` to `eos_token_id`:128001 for open-end generation.\n"
     ]
    },
    {
     "name": "stderr",
     "output_type": "stream",
     "text": [
      "Setting `pad_token_id` to `eos_token_id`:128001 for open-end generation.\n"
     ]
    },
    {
     "name": "stderr",
     "output_type": "stream",
     "text": [
      "Setting `pad_token_id` to `eos_token_id`:128001 for open-end generation.\n"
     ]
    },
    {
     "name": "stderr",
     "output_type": "stream",
     "text": [
      "Setting `pad_token_id` to `eos_token_id`:128001 for open-end generation.\n"
     ]
    },
    {
     "name": "stderr",
     "output_type": "stream",
     "text": [
      "Setting `pad_token_id` to `eos_token_id`:128001 for open-end generation.\n"
     ]
    },
    {
     "name": "stderr",
     "output_type": "stream",
     "text": [
      "Setting `pad_token_id` to `eos_token_id`:128001 for open-end generation.\n"
     ]
    },
    {
     "name": "stderr",
     "output_type": "stream",
     "text": [
      "Setting `pad_token_id` to `eos_token_id`:128001 for open-end generation.\n"
     ]
    },
    {
     "name": "stderr",
     "output_type": "stream",
     "text": [
      "Setting `pad_token_id` to `eos_token_id`:128001 for open-end generation.\n"
     ]
    },
    {
     "name": "stderr",
     "output_type": "stream",
     "text": [
      "Setting `pad_token_id` to `eos_token_id`:128001 for open-end generation.\n"
     ]
    },
    {
     "name": "stderr",
     "output_type": "stream",
     "text": [
      "Setting `pad_token_id` to `eos_token_id`:128001 for open-end generation.\n"
     ]
    },
    {
     "name": "stderr",
     "output_type": "stream",
     "text": [
      "Setting `pad_token_id` to `eos_token_id`:128001 for open-end generation.\n"
     ]
    },
    {
     "name": "stderr",
     "output_type": "stream",
     "text": [
      "Setting `pad_token_id` to `eos_token_id`:128001 for open-end generation.\n"
     ]
    },
    {
     "name": "stderr",
     "output_type": "stream",
     "text": [
      "Setting `pad_token_id` to `eos_token_id`:128001 for open-end generation.\n"
     ]
    },
    {
     "name": "stderr",
     "output_type": "stream",
     "text": [
      "Setting `pad_token_id` to `eos_token_id`:128001 for open-end generation.\n"
     ]
    },
    {
     "name": "stderr",
     "output_type": "stream",
     "text": [
      "Setting `pad_token_id` to `eos_token_id`:128001 for open-end generation.\n"
     ]
    },
    {
     "name": "stderr",
     "output_type": "stream",
     "text": [
      "Setting `pad_token_id` to `eos_token_id`:128001 for open-end generation.\n"
     ]
    },
    {
     "name": "stderr",
     "output_type": "stream",
     "text": [
      "Setting `pad_token_id` to `eos_token_id`:128001 for open-end generation.\n"
     ]
    },
    {
     "name": "stderr",
     "output_type": "stream",
     "text": [
      "Setting `pad_token_id` to `eos_token_id`:128001 for open-end generation.\n"
     ]
    },
    {
     "name": "stderr",
     "output_type": "stream",
     "text": [
      "Setting `pad_token_id` to `eos_token_id`:128001 for open-end generation.\n"
     ]
    },
    {
     "name": "stderr",
     "output_type": "stream",
     "text": [
      "Setting `pad_token_id` to `eos_token_id`:128001 for open-end generation.\n"
     ]
    },
    {
     "name": "stderr",
     "output_type": "stream",
     "text": [
      "Setting `pad_token_id` to `eos_token_id`:128001 for open-end generation.\n"
     ]
    },
    {
     "name": "stderr",
     "output_type": "stream",
     "text": [
      "Setting `pad_token_id` to `eos_token_id`:128001 for open-end generation.\n"
     ]
    },
    {
     "name": "stderr",
     "output_type": "stream",
     "text": [
      "Setting `pad_token_id` to `eos_token_id`:128001 for open-end generation.\n"
     ]
    },
    {
     "name": "stderr",
     "output_type": "stream",
     "text": [
      "Setting `pad_token_id` to `eos_token_id`:128001 for open-end generation.\n"
     ]
    },
    {
     "name": "stderr",
     "output_type": "stream",
     "text": [
      "Setting `pad_token_id` to `eos_token_id`:128001 for open-end generation.\n"
     ]
    },
    {
     "name": "stderr",
     "output_type": "stream",
     "text": [
      "Setting `pad_token_id` to `eos_token_id`:128001 for open-end generation.\n"
     ]
    },
    {
     "name": "stderr",
     "output_type": "stream",
     "text": [
      "Setting `pad_token_id` to `eos_token_id`:128001 for open-end generation.\n"
     ]
    },
    {
     "name": "stderr",
     "output_type": "stream",
     "text": [
      "Setting `pad_token_id` to `eos_token_id`:128001 for open-end generation.\n"
     ]
    },
    {
     "name": "stderr",
     "output_type": "stream",
     "text": [
      "Setting `pad_token_id` to `eos_token_id`:128001 for open-end generation.\n"
     ]
    },
    {
     "name": "stderr",
     "output_type": "stream",
     "text": [
      "Setting `pad_token_id` to `eos_token_id`:128001 for open-end generation.\n"
     ]
    },
    {
     "name": "stderr",
     "output_type": "stream",
     "text": [
      "Setting `pad_token_id` to `eos_token_id`:128001 for open-end generation.\n"
     ]
    },
    {
     "name": "stderr",
     "output_type": "stream",
     "text": [
      "Setting `pad_token_id` to `eos_token_id`:128001 for open-end generation.\n"
     ]
    },
    {
     "name": "stderr",
     "output_type": "stream",
     "text": [
      "Setting `pad_token_id` to `eos_token_id`:128001 for open-end generation.\n"
     ]
    },
    {
     "name": "stderr",
     "output_type": "stream",
     "text": [
      "Setting `pad_token_id` to `eos_token_id`:128001 for open-end generation.\n"
     ]
    },
    {
     "name": "stderr",
     "output_type": "stream",
     "text": [
      "Setting `pad_token_id` to `eos_token_id`:128001 for open-end generation.\n"
     ]
    },
    {
     "name": "stderr",
     "output_type": "stream",
     "text": [
      "Setting `pad_token_id` to `eos_token_id`:128001 for open-end generation.\n"
     ]
    },
    {
     "name": "stderr",
     "output_type": "stream",
     "text": [
      "Setting `pad_token_id` to `eos_token_id`:128001 for open-end generation.\n"
     ]
    },
    {
     "name": "stderr",
     "output_type": "stream",
     "text": [
      "Setting `pad_token_id` to `eos_token_id`:128001 for open-end generation.\n"
     ]
    },
    {
     "name": "stderr",
     "output_type": "stream",
     "text": [
      "Setting `pad_token_id` to `eos_token_id`:128001 for open-end generation.\n"
     ]
    },
    {
     "name": "stderr",
     "output_type": "stream",
     "text": [
      "Setting `pad_token_id` to `eos_token_id`:128001 for open-end generation.\n"
     ]
    },
    {
     "name": "stderr",
     "output_type": "stream",
     "text": [
      "Setting `pad_token_id` to `eos_token_id`:128001 for open-end generation.\n"
     ]
    },
    {
     "name": "stderr",
     "output_type": "stream",
     "text": [
      "Setting `pad_token_id` to `eos_token_id`:128001 for open-end generation.\n"
     ]
    },
    {
     "name": "stderr",
     "output_type": "stream",
     "text": [
      "Setting `pad_token_id` to `eos_token_id`:128001 for open-end generation.\n"
     ]
    },
    {
     "name": "stderr",
     "output_type": "stream",
     "text": [
      "Setting `pad_token_id` to `eos_token_id`:128001 for open-end generation.\n"
     ]
    },
    {
     "name": "stderr",
     "output_type": "stream",
     "text": [
      "Setting `pad_token_id` to `eos_token_id`:128001 for open-end generation.\n"
     ]
    },
    {
     "name": "stderr",
     "output_type": "stream",
     "text": [
      "Setting `pad_token_id` to `eos_token_id`:128001 for open-end generation.\n"
     ]
    },
    {
     "name": "stderr",
     "output_type": "stream",
     "text": [
      "Setting `pad_token_id` to `eos_token_id`:128001 for open-end generation.\n"
     ]
    },
    {
     "name": "stderr",
     "output_type": "stream",
     "text": [
      "Setting `pad_token_id` to `eos_token_id`:128001 for open-end generation.\n"
     ]
    },
    {
     "name": "stderr",
     "output_type": "stream",
     "text": [
      "Setting `pad_token_id` to `eos_token_id`:128001 for open-end generation.\n"
     ]
    },
    {
     "name": "stderr",
     "output_type": "stream",
     "text": [
      "Setting `pad_token_id` to `eos_token_id`:128001 for open-end generation.\n"
     ]
    },
    {
     "name": "stderr",
     "output_type": "stream",
     "text": [
      "Setting `pad_token_id` to `eos_token_id`:128001 for open-end generation.\n"
     ]
    },
    {
     "name": "stderr",
     "output_type": "stream",
     "text": [
      "Setting `pad_token_id` to `eos_token_id`:128001 for open-end generation.\n"
     ]
    },
    {
     "name": "stderr",
     "output_type": "stream",
     "text": [
      "Setting `pad_token_id` to `eos_token_id`:128001 for open-end generation.\n"
     ]
    },
    {
     "name": "stderr",
     "output_type": "stream",
     "text": [
      "Setting `pad_token_id` to `eos_token_id`:128001 for open-end generation.\n"
     ]
    },
    {
     "name": "stderr",
     "output_type": "stream",
     "text": [
      "Setting `pad_token_id` to `eos_token_id`:128001 for open-end generation.\n"
     ]
    },
    {
     "name": "stderr",
     "output_type": "stream",
     "text": [
      "Setting `pad_token_id` to `eos_token_id`:128001 for open-end generation.\n"
     ]
    },
    {
     "name": "stderr",
     "output_type": "stream",
     "text": [
      "Setting `pad_token_id` to `eos_token_id`:128001 for open-end generation.\n"
     ]
    },
    {
     "name": "stderr",
     "output_type": "stream",
     "text": [
      "Setting `pad_token_id` to `eos_token_id`:128001 for open-end generation.\n"
     ]
    },
    {
     "name": "stderr",
     "output_type": "stream",
     "text": [
      "Setting `pad_token_id` to `eos_token_id`:128001 for open-end generation.\n"
     ]
    },
    {
     "name": "stderr",
     "output_type": "stream",
     "text": [
      "Setting `pad_token_id` to `eos_token_id`:128001 for open-end generation.\n"
     ]
    },
    {
     "name": "stderr",
     "output_type": "stream",
     "text": [
      "Setting `pad_token_id` to `eos_token_id`:128001 for open-end generation.\n"
     ]
    },
    {
     "name": "stderr",
     "output_type": "stream",
     "text": [
      "Setting `pad_token_id` to `eos_token_id`:128001 for open-end generation.\n"
     ]
    },
    {
     "name": "stderr",
     "output_type": "stream",
     "text": [
      "Setting `pad_token_id` to `eos_token_id`:128001 for open-end generation.\n"
     ]
    },
    {
     "name": "stderr",
     "output_type": "stream",
     "text": [
      "Setting `pad_token_id` to `eos_token_id`:128001 for open-end generation.\n"
     ]
    },
    {
     "name": "stderr",
     "output_type": "stream",
     "text": [
      "Setting `pad_token_id` to `eos_token_id`:128001 for open-end generation.\n"
     ]
    },
    {
     "name": "stderr",
     "output_type": "stream",
     "text": [
      "Setting `pad_token_id` to `eos_token_id`:128001 for open-end generation.\n"
     ]
    },
    {
     "name": "stderr",
     "output_type": "stream",
     "text": [
      "Setting `pad_token_id` to `eos_token_id`:128001 for open-end generation.\n"
     ]
    },
    {
     "name": "stderr",
     "output_type": "stream",
     "text": [
      "Setting `pad_token_id` to `eos_token_id`:128001 for open-end generation.\n"
     ]
    },
    {
     "name": "stderr",
     "output_type": "stream",
     "text": [
      "Setting `pad_token_id` to `eos_token_id`:128001 for open-end generation.\n"
     ]
    },
    {
     "name": "stderr",
     "output_type": "stream",
     "text": [
      "Setting `pad_token_id` to `eos_token_id`:128001 for open-end generation.\n"
     ]
    },
    {
     "name": "stderr",
     "output_type": "stream",
     "text": [
      "Setting `pad_token_id` to `eos_token_id`:128001 for open-end generation.\n"
     ]
    },
    {
     "name": "stderr",
     "output_type": "stream",
     "text": [
      "Setting `pad_token_id` to `eos_token_id`:128001 for open-end generation.\n"
     ]
    },
    {
     "name": "stderr",
     "output_type": "stream",
     "text": [
      "Setting `pad_token_id` to `eos_token_id`:128001 for open-end generation.\n"
     ]
    },
    {
     "name": "stderr",
     "output_type": "stream",
     "text": [
      "Setting `pad_token_id` to `eos_token_id`:128001 for open-end generation.\n"
     ]
    },
    {
     "name": "stderr",
     "output_type": "stream",
     "text": [
      "Setting `pad_token_id` to `eos_token_id`:128001 for open-end generation.\n"
     ]
    },
    {
     "name": "stderr",
     "output_type": "stream",
     "text": [
      "Setting `pad_token_id` to `eos_token_id`:128001 for open-end generation.\n"
     ]
    },
    {
     "name": "stderr",
     "output_type": "stream",
     "text": [
      "Setting `pad_token_id` to `eos_token_id`:128001 for open-end generation.\n"
     ]
    },
    {
     "name": "stderr",
     "output_type": "stream",
     "text": [
      "Setting `pad_token_id` to `eos_token_id`:128001 for open-end generation.\n"
     ]
    },
    {
     "name": "stderr",
     "output_type": "stream",
     "text": [
      "Setting `pad_token_id` to `eos_token_id`:128001 for open-end generation.\n"
     ]
    },
    {
     "name": "stderr",
     "output_type": "stream",
     "text": [
      "Setting `pad_token_id` to `eos_token_id`:128001 for open-end generation.\n"
     ]
    },
    {
     "name": "stderr",
     "output_type": "stream",
     "text": [
      "Setting `pad_token_id` to `eos_token_id`:128001 for open-end generation.\n"
     ]
    },
    {
     "name": "stderr",
     "output_type": "stream",
     "text": [
      "Setting `pad_token_id` to `eos_token_id`:128001 for open-end generation.\n"
     ]
    },
    {
     "name": "stderr",
     "output_type": "stream",
     "text": [
      "Setting `pad_token_id` to `eos_token_id`:128001 for open-end generation.\n"
     ]
    },
    {
     "name": "stderr",
     "output_type": "stream",
     "text": [
      "Setting `pad_token_id` to `eos_token_id`:128001 for open-end generation.\n"
     ]
    },
    {
     "name": "stderr",
     "output_type": "stream",
     "text": [
      "Setting `pad_token_id` to `eos_token_id`:128001 for open-end generation.\n"
     ]
    },
    {
     "name": "stderr",
     "output_type": "stream",
     "text": [
      "Setting `pad_token_id` to `eos_token_id`:128001 for open-end generation.\n"
     ]
    },
    {
     "name": "stderr",
     "output_type": "stream",
     "text": [
      "Setting `pad_token_id` to `eos_token_id`:128001 for open-end generation.\n"
     ]
    },
    {
     "name": "stderr",
     "output_type": "stream",
     "text": [
      "Setting `pad_token_id` to `eos_token_id`:128001 for open-end generation.\n"
     ]
    },
    {
     "name": "stderr",
     "output_type": "stream",
     "text": [
      "Setting `pad_token_id` to `eos_token_id`:128001 for open-end generation.\n"
     ]
    },
    {
     "name": "stderr",
     "output_type": "stream",
     "text": [
      "Setting `pad_token_id` to `eos_token_id`:128001 for open-end generation.\n"
     ]
    },
    {
     "name": "stderr",
     "output_type": "stream",
     "text": [
      "Setting `pad_token_id` to `eos_token_id`:128001 for open-end generation.\n"
     ]
    },
    {
     "name": "stderr",
     "output_type": "stream",
     "text": [
      "Setting `pad_token_id` to `eos_token_id`:128001 for open-end generation.\n"
     ]
    },
    {
     "name": "stderr",
     "output_type": "stream",
     "text": [
      "Setting `pad_token_id` to `eos_token_id`:128001 for open-end generation.\n"
     ]
    },
    {
     "name": "stderr",
     "output_type": "stream",
     "text": [
      "Setting `pad_token_id` to `eos_token_id`:128001 for open-end generation.\n"
     ]
    },
    {
     "name": "stderr",
     "output_type": "stream",
     "text": [
      "Setting `pad_token_id` to `eos_token_id`:128001 for open-end generation.\n"
     ]
    },
    {
     "name": "stderr",
     "output_type": "stream",
     "text": [
      "Setting `pad_token_id` to `eos_token_id`:128001 for open-end generation.\n"
     ]
    },
    {
     "name": "stderr",
     "output_type": "stream",
     "text": [
      "Setting `pad_token_id` to `eos_token_id`:128001 for open-end generation.\n"
     ]
    },
    {
     "name": "stderr",
     "output_type": "stream",
     "text": [
      "Setting `pad_token_id` to `eos_token_id`:128001 for open-end generation.\n"
     ]
    },
    {
     "name": "stderr",
     "output_type": "stream",
     "text": [
      "Setting `pad_token_id` to `eos_token_id`:128001 for open-end generation.\n"
     ]
    },
    {
     "name": "stderr",
     "output_type": "stream",
     "text": [
      "Setting `pad_token_id` to `eos_token_id`:128001 for open-end generation.\n"
     ]
    },
    {
     "name": "stderr",
     "output_type": "stream",
     "text": [
      "Setting `pad_token_id` to `eos_token_id`:128001 for open-end generation.\n"
     ]
    },
    {
     "name": "stderr",
     "output_type": "stream",
     "text": [
      "Setting `pad_token_id` to `eos_token_id`:128001 for open-end generation.\n"
     ]
    },
    {
     "name": "stderr",
     "output_type": "stream",
     "text": [
      "Setting `pad_token_id` to `eos_token_id`:128001 for open-end generation.\n"
     ]
    },
    {
     "name": "stderr",
     "output_type": "stream",
     "text": [
      "Setting `pad_token_id` to `eos_token_id`:128001 for open-end generation.\n"
     ]
    },
    {
     "name": "stderr",
     "output_type": "stream",
     "text": [
      "Setting `pad_token_id` to `eos_token_id`:128001 for open-end generation.\n"
     ]
    },
    {
     "name": "stderr",
     "output_type": "stream",
     "text": [
      "Setting `pad_token_id` to `eos_token_id`:128001 for open-end generation.\n"
     ]
    },
    {
     "name": "stderr",
     "output_type": "stream",
     "text": [
      "Setting `pad_token_id` to `eos_token_id`:128001 for open-end generation.\n"
     ]
    },
    {
     "name": "stderr",
     "output_type": "stream",
     "text": [
      "Setting `pad_token_id` to `eos_token_id`:128001 for open-end generation.\n"
     ]
    },
    {
     "name": "stderr",
     "output_type": "stream",
     "text": [
      "Setting `pad_token_id` to `eos_token_id`:128001 for open-end generation.\n"
     ]
    },
    {
     "name": "stderr",
     "output_type": "stream",
     "text": [
      "Setting `pad_token_id` to `eos_token_id`:128001 for open-end generation.\n"
     ]
    },
    {
     "name": "stderr",
     "output_type": "stream",
     "text": [
      "Setting `pad_token_id` to `eos_token_id`:128001 for open-end generation.\n"
     ]
    },
    {
     "name": "stderr",
     "output_type": "stream",
     "text": [
      "Setting `pad_token_id` to `eos_token_id`:128001 for open-end generation.\n"
     ]
    },
    {
     "name": "stderr",
     "output_type": "stream",
     "text": [
      "Setting `pad_token_id` to `eos_token_id`:128001 for open-end generation.\n"
     ]
    },
    {
     "name": "stderr",
     "output_type": "stream",
     "text": [
      "Setting `pad_token_id` to `eos_token_id`:128001 for open-end generation.\n"
     ]
    },
    {
     "name": "stderr",
     "output_type": "stream",
     "text": [
      "Setting `pad_token_id` to `eos_token_id`:128001 for open-end generation.\n"
     ]
    },
    {
     "name": "stderr",
     "output_type": "stream",
     "text": [
      "Setting `pad_token_id` to `eos_token_id`:128001 for open-end generation.\n"
     ]
    },
    {
     "name": "stderr",
     "output_type": "stream",
     "text": [
      "Setting `pad_token_id` to `eos_token_id`:128001 for open-end generation.\n"
     ]
    },
    {
     "name": "stderr",
     "output_type": "stream",
     "text": [
      "Setting `pad_token_id` to `eos_token_id`:128001 for open-end generation.\n"
     ]
    },
    {
     "name": "stderr",
     "output_type": "stream",
     "text": [
      "Setting `pad_token_id` to `eos_token_id`:128001 for open-end generation.\n"
     ]
    },
    {
     "name": "stderr",
     "output_type": "stream",
     "text": [
      "Setting `pad_token_id` to `eos_token_id`:128001 for open-end generation.\n"
     ]
    },
    {
     "name": "stderr",
     "output_type": "stream",
     "text": [
      "Setting `pad_token_id` to `eos_token_id`:128001 for open-end generation.\n"
     ]
    },
    {
     "name": "stderr",
     "output_type": "stream",
     "text": [
      "Setting `pad_token_id` to `eos_token_id`:128001 for open-end generation.\n"
     ]
    },
    {
     "name": "stderr",
     "output_type": "stream",
     "text": [
      "Setting `pad_token_id` to `eos_token_id`:128001 for open-end generation.\n"
     ]
    },
    {
     "name": "stderr",
     "output_type": "stream",
     "text": [
      "Setting `pad_token_id` to `eos_token_id`:128001 for open-end generation.\n"
     ]
    },
    {
     "name": "stderr",
     "output_type": "stream",
     "text": [
      "Setting `pad_token_id` to `eos_token_id`:128001 for open-end generation.\n"
     ]
    },
    {
     "name": "stderr",
     "output_type": "stream",
     "text": [
      "Setting `pad_token_id` to `eos_token_id`:128001 for open-end generation.\n"
     ]
    },
    {
     "name": "stderr",
     "output_type": "stream",
     "text": [
      "Setting `pad_token_id` to `eos_token_id`:128001 for open-end generation.\n"
     ]
    },
    {
     "name": "stderr",
     "output_type": "stream",
     "text": [
      "Setting `pad_token_id` to `eos_token_id`:128001 for open-end generation.\n"
     ]
    },
    {
     "name": "stderr",
     "output_type": "stream",
     "text": [
      "Setting `pad_token_id` to `eos_token_id`:128001 for open-end generation.\n"
     ]
    },
    {
     "name": "stderr",
     "output_type": "stream",
     "text": [
      "Setting `pad_token_id` to `eos_token_id`:128001 for open-end generation.\n"
     ]
    },
    {
     "name": "stderr",
     "output_type": "stream",
     "text": [
      "Setting `pad_token_id` to `eos_token_id`:128001 for open-end generation.\n"
     ]
    },
    {
     "name": "stderr",
     "output_type": "stream",
     "text": [
      "Setting `pad_token_id` to `eos_token_id`:128001 for open-end generation.\n"
     ]
    },
    {
     "name": "stderr",
     "output_type": "stream",
     "text": [
      "Setting `pad_token_id` to `eos_token_id`:128001 for open-end generation.\n"
     ]
    },
    {
     "name": "stderr",
     "output_type": "stream",
     "text": [
      "Setting `pad_token_id` to `eos_token_id`:128001 for open-end generation.\n"
     ]
    },
    {
     "name": "stderr",
     "output_type": "stream",
     "text": [
      "Setting `pad_token_id` to `eos_token_id`:128001 for open-end generation.\n"
     ]
    },
    {
     "name": "stderr",
     "output_type": "stream",
     "text": [
      "Setting `pad_token_id` to `eos_token_id`:128001 for open-end generation.\n"
     ]
    },
    {
     "name": "stderr",
     "output_type": "stream",
     "text": [
      "Setting `pad_token_id` to `eos_token_id`:128001 for open-end generation.\n"
     ]
    },
    {
     "name": "stderr",
     "output_type": "stream",
     "text": [
      "Setting `pad_token_id` to `eos_token_id`:128001 for open-end generation.\n"
     ]
    },
    {
     "name": "stderr",
     "output_type": "stream",
     "text": [
      "Setting `pad_token_id` to `eos_token_id`:128001 for open-end generation.\n"
     ]
    },
    {
     "name": "stderr",
     "output_type": "stream",
     "text": [
      "Setting `pad_token_id` to `eos_token_id`:128001 for open-end generation.\n"
     ]
    },
    {
     "name": "stderr",
     "output_type": "stream",
     "text": [
      "Setting `pad_token_id` to `eos_token_id`:128001 for open-end generation.\n"
     ]
    },
    {
     "name": "stderr",
     "output_type": "stream",
     "text": [
      "Setting `pad_token_id` to `eos_token_id`:128001 for open-end generation.\n"
     ]
    },
    {
     "name": "stderr",
     "output_type": "stream",
     "text": [
      "Setting `pad_token_id` to `eos_token_id`:128001 for open-end generation.\n"
     ]
    },
    {
     "name": "stderr",
     "output_type": "stream",
     "text": [
      "Setting `pad_token_id` to `eos_token_id`:128001 for open-end generation.\n"
     ]
    },
    {
     "name": "stderr",
     "output_type": "stream",
     "text": [
      "Setting `pad_token_id` to `eos_token_id`:128001 for open-end generation.\n"
     ]
    },
    {
     "name": "stderr",
     "output_type": "stream",
     "text": [
      "Setting `pad_token_id` to `eos_token_id`:128001 for open-end generation.\n"
     ]
    },
    {
     "name": "stderr",
     "output_type": "stream",
     "text": [
      "Setting `pad_token_id` to `eos_token_id`:128001 for open-end generation.\n"
     ]
    },
    {
     "name": "stderr",
     "output_type": "stream",
     "text": [
      "Setting `pad_token_id` to `eos_token_id`:128001 for open-end generation.\n"
     ]
    },
    {
     "name": "stderr",
     "output_type": "stream",
     "text": [
      "Setting `pad_token_id` to `eos_token_id`:128001 for open-end generation.\n"
     ]
    },
    {
     "name": "stderr",
     "output_type": "stream",
     "text": [
      "Setting `pad_token_id` to `eos_token_id`:128001 for open-end generation.\n"
     ]
    },
    {
     "name": "stderr",
     "output_type": "stream",
     "text": [
      "Setting `pad_token_id` to `eos_token_id`:128001 for open-end generation.\n"
     ]
    },
    {
     "name": "stderr",
     "output_type": "stream",
     "text": [
      "Setting `pad_token_id` to `eos_token_id`:128001 for open-end generation.\n"
     ]
    },
    {
     "name": "stderr",
     "output_type": "stream",
     "text": [
      "Setting `pad_token_id` to `eos_token_id`:128001 for open-end generation.\n"
     ]
    },
    {
     "name": "stderr",
     "output_type": "stream",
     "text": [
      "Setting `pad_token_id` to `eos_token_id`:128001 for open-end generation.\n"
     ]
    },
    {
     "name": "stderr",
     "output_type": "stream",
     "text": [
      "Setting `pad_token_id` to `eos_token_id`:128001 for open-end generation.\n"
     ]
    },
    {
     "name": "stderr",
     "output_type": "stream",
     "text": [
      "Setting `pad_token_id` to `eos_token_id`:128001 for open-end generation.\n"
     ]
    },
    {
     "name": "stderr",
     "output_type": "stream",
     "text": [
      "Setting `pad_token_id` to `eos_token_id`:128001 for open-end generation.\n"
     ]
    },
    {
     "name": "stderr",
     "output_type": "stream",
     "text": [
      "Setting `pad_token_id` to `eos_token_id`:128001 for open-end generation.\n"
     ]
    },
    {
     "name": "stderr",
     "output_type": "stream",
     "text": [
      "Setting `pad_token_id` to `eos_token_id`:128001 for open-end generation.\n"
     ]
    },
    {
     "name": "stderr",
     "output_type": "stream",
     "text": [
      "Setting `pad_token_id` to `eos_token_id`:128001 for open-end generation.\n"
     ]
    },
    {
     "name": "stderr",
     "output_type": "stream",
     "text": [
      "Setting `pad_token_id` to `eos_token_id`:128001 for open-end generation.\n"
     ]
    },
    {
     "name": "stderr",
     "output_type": "stream",
     "text": [
      "Setting `pad_token_id` to `eos_token_id`:128001 for open-end generation.\n"
     ]
    },
    {
     "name": "stderr",
     "output_type": "stream",
     "text": [
      "Setting `pad_token_id` to `eos_token_id`:128001 for open-end generation.\n"
     ]
    },
    {
     "name": "stderr",
     "output_type": "stream",
     "text": [
      "Setting `pad_token_id` to `eos_token_id`:128001 for open-end generation.\n"
     ]
    },
    {
     "name": "stderr",
     "output_type": "stream",
     "text": [
      "Setting `pad_token_id` to `eos_token_id`:128001 for open-end generation.\n"
     ]
    },
    {
     "name": "stderr",
     "output_type": "stream",
     "text": [
      "Setting `pad_token_id` to `eos_token_id`:128001 for open-end generation.\n"
     ]
    },
    {
     "name": "stderr",
     "output_type": "stream",
     "text": [
      "Setting `pad_token_id` to `eos_token_id`:128001 for open-end generation.\n"
     ]
    },
    {
     "name": "stderr",
     "output_type": "stream",
     "text": [
      "Setting `pad_token_id` to `eos_token_id`:128001 for open-end generation.\n"
     ]
    },
    {
     "name": "stderr",
     "output_type": "stream",
     "text": [
      "Setting `pad_token_id` to `eos_token_id`:128001 for open-end generation.\n"
     ]
    },
    {
     "name": "stderr",
     "output_type": "stream",
     "text": [
      "Setting `pad_token_id` to `eos_token_id`:128001 for open-end generation.\n"
     ]
    },
    {
     "name": "stderr",
     "output_type": "stream",
     "text": [
      "Setting `pad_token_id` to `eos_token_id`:128001 for open-end generation.\n"
     ]
    },
    {
     "name": "stderr",
     "output_type": "stream",
     "text": [
      "Setting `pad_token_id` to `eos_token_id`:128001 for open-end generation.\n"
     ]
    },
    {
     "data": {
      "text/html": [
       "<pre style=\"white-space:pre;overflow-x:auto;line-height:normal;font-family:Menlo,'DejaVu Sans Mono',consolas,'Courier New',monospace\"></pre>\n"
      ],
      "text/plain": []
     },
     "metadata": {},
     "output_type": "display_data"
    }
   ],
   "source": [
    "responses = []\n",
    "\n",
    "for idx, chat in enumerate(track(dataset[:TEST_SIZE])):\n",
    "    responses.append(\n",
    "        dict(\n",
    "            id=idx,\n",
    "            model=\"human\",\n",
    "            reply=chat[\"messages\"][-1][\"content\"]\n",
    "        )\n",
    "    )\n",
    "\n",
    "    for model, pipeline in pipelines.items():\n",
    "        reply = pipeline(\n",
    "            pipeline.tokenizer.apply_chat_template(chat[\"messages\"][:-1], tokenize=False), \n",
    "            max_new_tokens=128,\n",
    "            return_full_text=False\n",
    "        )[0][\"generated_text\"].split(\"\\n\\n\")[1]\n",
    "\n",
    "        responses.append(\n",
    "            dict(\n",
    "                id=idx,\n",
    "                model=model,\n",
    "                reply=reply\n",
    "            )\n",
    "        )"
   ]
  },
  {
   "cell_type": "code",
   "execution_count": 77,
   "metadata": {},
   "outputs": [
    {
     "data": {
      "text/html": [
       "<style type=\"text/css\">\n",
       "#T_9cdc6_row0_col0, #T_9cdc6_row0_col1, #T_9cdc6_row0_col2, #T_9cdc6_row1_col0, #T_9cdc6_row1_col1, #T_9cdc6_row1_col2, #T_9cdc6_row2_col0, #T_9cdc6_row2_col1, #T_9cdc6_row2_col2, #T_9cdc6_row3_col0, #T_9cdc6_row3_col1, #T_9cdc6_row3_col2, #T_9cdc6_row4_col0, #T_9cdc6_row4_col1, #T_9cdc6_row4_col2 {\n",
       "  text-align: left;\n",
       "}\n",
       "</style>\n",
       "<table id=\"T_9cdc6\">\n",
       "  <thead>\n",
       "    <tr>\n",
       "      <th class=\"blank level0\" >&nbsp;</th>\n",
       "      <th id=\"T_9cdc6_level0_col0\" class=\"col_heading level0 col0\" colspan=\"3\">reply</th>\n",
       "    </tr>\n",
       "    <tr>\n",
       "      <th class=\"index_name level1\" >model</th>\n",
       "      <th id=\"T_9cdc6_level1_col0\" class=\"col_heading level1 col0\" >adapter</th>\n",
       "      <th id=\"T_9cdc6_level1_col1\" class=\"col_heading level1 col1\" >base</th>\n",
       "      <th id=\"T_9cdc6_level1_col2\" class=\"col_heading level1 col2\" >human</th>\n",
       "    </tr>\n",
       "    <tr>\n",
       "      <th class=\"index_name level0\" >id</th>\n",
       "      <th class=\"blank col0\" >&nbsp;</th>\n",
       "      <th class=\"blank col1\" >&nbsp;</th>\n",
       "      <th class=\"blank col2\" >&nbsp;</th>\n",
       "    </tr>\n",
       "  </thead>\n",
       "  <tbody>\n",
       "    <tr>\n",
       "      <th id=\"T_9cdc6_level0_row0\" class=\"row_heading level0 row0\" >0</th>\n",
       "      <td id=\"T_9cdc6_row0_col0\" class=\"data row0 col0\" >Einige von euch hat mich in #Dortmund gebeten, wie man sich bei einer Wahl als Kandidat eintragen lässt. Ich erkläre kurz: Man muss sich bei den zuständigen Behörden um eine @Bundeswahlkreisregistrierung melden.  Man kann sich auch online registrieren.</td>\n",
       "      <td id=\"T_9cdc6_row0_col1\" class=\"data row0 col1\" >\"Als Abgeordneter im Bundestag kämpfe ich für eine sichere und gerechte Gesellschaft! Die Gewehre sind ein wichtiges Element unserer Verteidigung, aber auch ein Symbol unserer Verantwortung, sie sicher und verantwortungsvoll zu nutzen. #CDU #CSU #Sicherheit #Verantwortung\"</td>\n",
       "      <td id=\"T_9cdc6_row0_col2\" class=\"data row0 col2\" >Aus meinem Wahlkreis heute eine Bürgerfrage: \"Bloß mal als Frage, warum weiß die Regierung, daß genau 135.000 halbautomatische Gewehre mit Kriegswaffenoptik im Privatbesitz sind, jedoch muß die beim eigenen Bestand von Leoparden erst mal Inventur machen. Das ist doch beschämend.\"</td>\n",
       "    </tr>\n",
       "    <tr>\n",
       "      <th id=\"T_9cdc6_level0_row1\" class=\"row_heading level0 row1\" >1</th>\n",
       "      <td id=\"T_9cdc6_row1_col0\" class=\"data row1 col0\" >Der #Film von #Corona im #Staatsfernsehen ist ein weiterer Beweis, dass die #Bundesregierung und die #Medienstaatsführung die Bedeutung des #Festivals prägnant weder verstanden noch geschätzt.</td>\n",
       "      <td id=\"T_9cdc6_row1_col1\" class=\"data row1 col1\" >\"Die #AfD denkt über die Rolle von Film und Staatsfernsehen bei der Beeinflussung der öffentlichen Meinung nach. Während Corona die Welt vorübergehend verändert hat, sollte sich auch die Medienlandschaft anpassen. Eine unabhängige und kritische Meinungsfreiheit ist für eine gesunde Demokratie unerlässlich! #Medienfreiheit #AfD\"</td>\n",
       "      <td id=\"T_9cdc6_row1_col2\" class=\"data row1 col2\" >Zeigt der #staatsfunk etwa gerade einen #coronamaßnahmenkritischen Film😱😂</td>\n",
       "    </tr>\n",
       "    <tr>\n",
       "      <th id=\"T_9cdc6_level0_row2\" class=\"row_heading level0 row2\" >2</th>\n",
       "      <td id=\"T_9cdc6_row2_col0\" class=\"data row2 col0\" >Wir wollen die #Kernenergie für Deutschland nicht aussterben. Wir wollen die #AKW durch neue, moderne Kernkraftwerke ersetzen. Das ist unsere Politik und das ist das, was wir seit 60 Jahren tun.</td>\n",
       "      <td id=\"T_9cdc6_row2_col1\" class=\"data row2 col1\" >\"Wir FDP-Fraktion im Landtag setzt sich für eine nachhaltige Energiepolitik ein! Der Rückbau alter Kernkraftwerke ist ein wichtiger Schritt in Richtung einer umweltfreundlichen Zukunft. Wir setzen uns für eine moderne, sichere und erneuerbare Energie ein! #FDP #Energiepolitik #Nachhaltigkeit\"</td>\n",
       "      <td id=\"T_9cdc6_row2_col2\" class=\"data row2 col2\" >FDP will den Weiterbetrieb der Kernenergie in Deutschland ermöglichen  und den Rückbau der AKW stoppen. Antrag fast einstimmig beschlossen #BPT23</td>\n",
       "    </tr>\n",
       "    <tr>\n",
       "      <th id=\"T_9cdc6_level0_row3\" class=\"row_heading level0 row3\" >3</th>\n",
       "      <td id=\"T_9cdc6_row3_col0\" class=\"data row3 col0\" >„Kinder aus Asien“ statt „Migranten aus Asien“ oder „Kinder aus Syrien“ statt „Flüchtlinge aus Syrien“ – so können wir eine angemessene politische Sprache in der Debatte über Migrationspolitik finden. Das ist nicht nur notwendig, sondern auch wichtig für eine angemessene öffentlichen Diskussion.</td>\n",
       "      <td id=\"T_9cdc6_row3_col1\" class=\"data row3 col1\" >\"Als FDP-Mitglied fordere ich eine offene und ehrliche Migrationspolitik! Wir müssen die politische Sprache ändern, um die Diskussion zu bereichern und nicht zu polarisieren. Eine inklusive und zukunftsorientierte Migration ist für unser Land unerlässlich. #FDP #Migration #Inklusion\"</td>\n",
       "      <td id=\"T_9cdc6_row3_col2\" class=\"data row3 col2\" >Wir müssen eine Debatte zur Migrationspolitik führen, jedoch darf dies nicht mit den falschen Begriffen geschehen. Mein missverständlicher Tweet tut mir leid. Ich habe ihn daher gelöscht.</td>\n",
       "    </tr>\n",
       "    <tr>\n",
       "      <th id=\"T_9cdc6_level0_row4\" class=\"row_heading level0 row4\" >4</th>\n",
       "      <td id=\"T_9cdc6_row4_col0\" class=\"data row4 col0\" >Laut @LarsSchmidB&L #Esc2024 gewannen Lord of the Lost den 1. Platz. Mit @Falkenbach, @LenaLentz und #LenaLentz &amp; #LenaLentz gewannen die #Afrodisiakos &amp; #Klangwald &amp; #Klangwald &amp; #Klangwald. Ein kritisierender Blick auf die Musik ist nicht genug.</td>\n",
       "      <td id=\"T_9cdc6_row4_col1\" class=\"data row4 col1\" >\"Die Musik von #LordOfTheLost ist ein perfektes Beispiel dafür, wie kulturelle Vielfalt und musikalische Vielfalt in unserer Gesellschaft gefördert werden sollten! Als Mitglied der #AfD glaube ich, dass wir uns für die Förderung von Kunst und Kultur einsetzen sollten, unabhängig von Herkunft oder Religion. #Musikliebe #Kulturförderung\" (Translation:</td>\n",
       "      <td id=\"T_9cdc6_row4_col2\" class=\"data row4 col2\" >Jedenfalls haben \"Lord of the Lost\"🤪 (der Name ist offenbar Programm) beim #ESC mal wieder dafür gesorgt, daß wir das nächste Mal nicht schlechter werden können...</td>\n",
       "    </tr>\n",
       "  </tbody>\n",
       "</table>\n"
      ],
      "text/plain": [
       "<pandas.io.formats.style.Styler at 0x71c8d4d0e9b0>"
      ]
     },
     "execution_count": 77,
     "metadata": {},
     "output_type": "execute_result"
    }
   ],
   "source": [
    "predictions: pandas.DataFrame = (\n",
    "    pandas.DataFrame(responses)\n",
    "    .set_index(\"id\")\n",
    "    .pivot(columns=[\"model\"])\n",
    ")\n",
    "predictions.head().style.set_properties(**{'text-align': 'left'})"
   ]
  },
  {
   "cell_type": "code",
   "execution_count": 11,
   "metadata": {},
   "outputs": [
    {
     "data": {
      "text/html": [
       "<div>\n",
       "<style scoped>\n",
       "    .dataframe tbody tr th:only-of-type {\n",
       "        vertical-align: middle;\n",
       "    }\n",
       "\n",
       "    .dataframe tbody tr th {\n",
       "        vertical-align: top;\n",
       "    }\n",
       "\n",
       "    .dataframe thead th {\n",
       "        text-align: right;\n",
       "    }\n",
       "</style>\n",
       "<table border=\"1\" class=\"dataframe\">\n",
       "  <thead>\n",
       "    <tr style=\"text-align: right;\">\n",
       "      <th></th>\n",
       "      <th>prompt</th>\n",
       "      <th>fine-tuned</th>\n",
       "    </tr>\n",
       "  </thead>\n",
       "  <tbody>\n",
       "    <tr>\n",
       "      <th>bleu</th>\n",
       "      <td>0.008598</td>\n",
       "      <td>0.018467</td>\n",
       "    </tr>\n",
       "    <tr>\n",
       "      <th>precisions</th>\n",
       "      <td>[0.17657096968480224, 0.01884859659905757, 0.0021961932650073207, 0.0007477034821619312]</td>\n",
       "      <td>[0.23133734802863312, 0.032554354144866876, 0.006665873110344007, 0.0023167906352883796]</td>\n",
       "    </tr>\n",
       "    <tr>\n",
       "      <th>brevity_penalty</th>\n",
       "      <td>1.0</td>\n",
       "      <td>1.0</td>\n",
       "    </tr>\n",
       "    <tr>\n",
       "      <th>length_ratio</th>\n",
       "      <td>1.195368</td>\n",
       "      <td>1.056042</td>\n",
       "    </tr>\n",
       "    <tr>\n",
       "      <th>translation_length</th>\n",
       "      <td>9961</td>\n",
       "      <td>8800</td>\n",
       "    </tr>\n",
       "    <tr>\n",
       "      <th>reference_length</th>\n",
       "      <td>8333</td>\n",
       "      <td>8333</td>\n",
       "    </tr>\n",
       "  </tbody>\n",
       "</table>\n",
       "</div>"
      ],
      "text/plain": [
       "                                                                                                      prompt  \\\n",
       "bleu                                                                                                0.008598   \n",
       "precisions          [0.17657096968480224, 0.01884859659905757, 0.0021961932650073207, 0.0007477034821619312]   \n",
       "brevity_penalty                                                                                          1.0   \n",
       "length_ratio                                                                                        1.195368   \n",
       "translation_length                                                                                      9961   \n",
       "reference_length                                                                                        8333   \n",
       "\n",
       "                                                                                                  fine-tuned  \n",
       "bleu                                                                                                0.018467  \n",
       "precisions          [0.23133734802863312, 0.032554354144866876, 0.006665873110344007, 0.0023167906352883796]  \n",
       "brevity_penalty                                                                                          1.0  \n",
       "length_ratio                                                                                        1.056042  \n",
       "translation_length                                                                                      8800  \n",
       "reference_length                                                                                        8333  "
      ]
     },
     "execution_count": 11,
     "metadata": {},
     "output_type": "execute_result"
    }
   ],
   "source": [
    "bleu_scores = pandas.DataFrame({\n",
    "    \"prompt\": evaluate.load(\"bleu\").compute(\n",
    "        references=predictions[(\"reply\", \"human\")].tolist(),\n",
    "        predictions=predictions[(\"reply\", \"base\")].tolist(),\n",
    "        smooth=True\n",
    "    ),\n",
    "    \"fine-tuned\": evaluate.load(\"bleu\").compute(\n",
    "        references=predictions[(\"reply\", \"human\")].tolist(),\n",
    "        predictions=predictions[(\"reply\", \"adapter\")].tolist(),\n",
    "        smooth=True\n",
    "    )\n",
    "})\n",
    "\n",
    "\n",
    "bleu_scores"
   ]
  },
  {
   "cell_type": "code",
   "execution_count": 12,
   "metadata": {},
   "outputs": [
    {
     "data": {
      "text/html": [
       "<div>\n",
       "<style scoped>\n",
       "    .dataframe tbody tr th:only-of-type {\n",
       "        vertical-align: middle;\n",
       "    }\n",
       "\n",
       "    .dataframe tbody tr th {\n",
       "        vertical-align: top;\n",
       "    }\n",
       "\n",
       "    .dataframe thead th {\n",
       "        text-align: right;\n",
       "    }\n",
       "</style>\n",
       "<table border=\"1\" class=\"dataframe\">\n",
       "  <thead>\n",
       "    <tr style=\"text-align: right;\">\n",
       "      <th></th>\n",
       "      <th>prompt-only</th>\n",
       "      <th>fine-tuned</th>\n",
       "    </tr>\n",
       "  </thead>\n",
       "  <tbody>\n",
       "    <tr>\n",
       "      <th>results.topics.arts_&amp;_culture</th>\n",
       "      <td>0.321065</td>\n",
       "      <td>0.453620</td>\n",
       "    </tr>\n",
       "    <tr>\n",
       "      <th>results.topics.business_&amp;_entrepreneurs</th>\n",
       "      <td>0.515625</td>\n",
       "      <td>0.526715</td>\n",
       "    </tr>\n",
       "    <tr>\n",
       "      <th>results.topics.celebrity_&amp;_pop_culture</th>\n",
       "      <td>-0.004343</td>\n",
       "      <td>0.042678</td>\n",
       "    </tr>\n",
       "    <tr>\n",
       "      <th>results.topics.diaries_&amp;_daily_life</th>\n",
       "      <td>0.101149</td>\n",
       "      <td>0.345429</td>\n",
       "    </tr>\n",
       "    <tr>\n",
       "      <th>results.topics.family</th>\n",
       "      <td>0.375416</td>\n",
       "      <td>0.476699</td>\n",
       "    </tr>\n",
       "    <tr>\n",
       "      <th>results.topics.fashion_&amp;_style</th>\n",
       "      <td>0.200429</td>\n",
       "      <td>0.311086</td>\n",
       "    </tr>\n",
       "    <tr>\n",
       "      <th>results.topics.film_tv_&amp;_video</th>\n",
       "      <td>0.274330</td>\n",
       "      <td>0.610931</td>\n",
       "    </tr>\n",
       "    <tr>\n",
       "      <th>results.topics.fitness_&amp;_health</th>\n",
       "      <td>0.434831</td>\n",
       "      <td>0.234544</td>\n",
       "    </tr>\n",
       "    <tr>\n",
       "      <th>results.topics.food_&amp;_dining</th>\n",
       "      <td>-0.018522</td>\n",
       "      <td>0.066709</td>\n",
       "    </tr>\n",
       "    <tr>\n",
       "      <th>results.topics.gaming</th>\n",
       "      <td>0.333705</td>\n",
       "      <td>0.233694</td>\n",
       "    </tr>\n",
       "    <tr>\n",
       "      <th>results.topics.learning_&amp;_educational</th>\n",
       "      <td>0.175784</td>\n",
       "      <td>0.593744</td>\n",
       "    </tr>\n",
       "    <tr>\n",
       "      <th>results.topics.music</th>\n",
       "      <td>0.106669</td>\n",
       "      <td>0.079806</td>\n",
       "    </tr>\n",
       "    <tr>\n",
       "      <th>results.topics.news_&amp;_social_concern</th>\n",
       "      <td>0.342814</td>\n",
       "      <td>0.468289</td>\n",
       "    </tr>\n",
       "    <tr>\n",
       "      <th>results.topics.other_hobbies</th>\n",
       "      <td>0.132959</td>\n",
       "      <td>0.382077</td>\n",
       "    </tr>\n",
       "    <tr>\n",
       "      <th>results.topics.relationships</th>\n",
       "      <td>0.180771</td>\n",
       "      <td>0.415109</td>\n",
       "    </tr>\n",
       "    <tr>\n",
       "      <th>results.topics.science_&amp;_technology</th>\n",
       "      <td>0.194341</td>\n",
       "      <td>0.284228</td>\n",
       "    </tr>\n",
       "    <tr>\n",
       "      <th>results.topics.sports</th>\n",
       "      <td>-0.006495</td>\n",
       "      <td>0.269415</td>\n",
       "    </tr>\n",
       "    <tr>\n",
       "      <th>results.topics.travel_&amp;_adventure</th>\n",
       "      <td>0.606242</td>\n",
       "      <td>0.322456</td>\n",
       "    </tr>\n",
       "    <tr>\n",
       "      <th>results.topics.youth_&amp;_student_life</th>\n",
       "      <td>0.170662</td>\n",
       "      <td>0.932859</td>\n",
       "    </tr>\n",
       "    <tr>\n",
       "      <th>results.emotions.anger</th>\n",
       "      <td>0.243503</td>\n",
       "      <td>0.324964</td>\n",
       "    </tr>\n",
       "    <tr>\n",
       "      <th>results.emotions.anticipation</th>\n",
       "      <td>-0.062700</td>\n",
       "      <td>0.130272</td>\n",
       "    </tr>\n",
       "    <tr>\n",
       "      <th>results.emotions.disgust</th>\n",
       "      <td>0.161065</td>\n",
       "      <td>0.281159</td>\n",
       "    </tr>\n",
       "    <tr>\n",
       "      <th>results.emotions.fear</th>\n",
       "      <td>0.117402</td>\n",
       "      <td>0.289568</td>\n",
       "    </tr>\n",
       "    <tr>\n",
       "      <th>results.emotions.joy</th>\n",
       "      <td>0.167568</td>\n",
       "      <td>0.330703</td>\n",
       "    </tr>\n",
       "    <tr>\n",
       "      <th>results.emotions.love</th>\n",
       "      <td>0.105776</td>\n",
       "      <td>0.361009</td>\n",
       "    </tr>\n",
       "    <tr>\n",
       "      <th>results.emotions.optimism</th>\n",
       "      <td>0.060235</td>\n",
       "      <td>0.236053</td>\n",
       "    </tr>\n",
       "    <tr>\n",
       "      <th>results.emotions.pessimism</th>\n",
       "      <td>0.033755</td>\n",
       "      <td>0.145285</td>\n",
       "    </tr>\n",
       "    <tr>\n",
       "      <th>results.emotions.sadness</th>\n",
       "      <td>0.047337</td>\n",
       "      <td>0.103885</td>\n",
       "    </tr>\n",
       "    <tr>\n",
       "      <th>results.emotions.surprise</th>\n",
       "      <td>-0.065240</td>\n",
       "      <td>0.429177</td>\n",
       "    </tr>\n",
       "    <tr>\n",
       "      <th>results.emotions.trust</th>\n",
       "      <td>-0.131312</td>\n",
       "      <td>0.166082</td>\n",
       "    </tr>\n",
       "    <tr>\n",
       "      <th>results.sentiment.negative</th>\n",
       "      <td>0.092355</td>\n",
       "      <td>0.145945</td>\n",
       "    </tr>\n",
       "    <tr>\n",
       "      <th>results.sentiment.neutral</th>\n",
       "      <td>-0.109565</td>\n",
       "      <td>0.272265</td>\n",
       "    </tr>\n",
       "    <tr>\n",
       "      <th>results.sentiment.positive</th>\n",
       "      <td>0.196184</td>\n",
       "      <td>0.256655</td>\n",
       "    </tr>\n",
       "    <tr>\n",
       "      <th>results.irony.non_irony</th>\n",
       "      <td>-0.162399</td>\n",
       "      <td>0.004110</td>\n",
       "    </tr>\n",
       "    <tr>\n",
       "      <th>results.irony.irony</th>\n",
       "      <td>-0.153910</td>\n",
       "      <td>-0.001515</td>\n",
       "    </tr>\n",
       "    <tr>\n",
       "      <th>results.offensive.non-offensive</th>\n",
       "      <td>0.113890</td>\n",
       "      <td>0.179420</td>\n",
       "    </tr>\n",
       "    <tr>\n",
       "      <th>results.offensive.offensive</th>\n",
       "      <td>0.258697</td>\n",
       "      <td>0.260611</td>\n",
       "    </tr>\n",
       "    <tr>\n",
       "      <th>results.hate.NOT-HATE</th>\n",
       "      <td>0.316241</td>\n",
       "      <td>0.367263</td>\n",
       "    </tr>\n",
       "    <tr>\n",
       "      <th>results.hate.HATE</th>\n",
       "      <td>0.277368</td>\n",
       "      <td>0.325998</td>\n",
       "    </tr>\n",
       "  </tbody>\n",
       "</table>\n",
       "</div>"
      ],
      "text/plain": [
       "                                         prompt-only  fine-tuned\n",
       "results.topics.arts_&_culture               0.321065    0.453620\n",
       "results.topics.business_&_entrepreneurs     0.515625    0.526715\n",
       "results.topics.celebrity_&_pop_culture     -0.004343    0.042678\n",
       "results.topics.diaries_&_daily_life         0.101149    0.345429\n",
       "results.topics.family                       0.375416    0.476699\n",
       "results.topics.fashion_&_style              0.200429    0.311086\n",
       "results.topics.film_tv_&_video              0.274330    0.610931\n",
       "results.topics.fitness_&_health             0.434831    0.234544\n",
       "results.topics.food_&_dining               -0.018522    0.066709\n",
       "results.topics.gaming                       0.333705    0.233694\n",
       "results.topics.learning_&_educational       0.175784    0.593744\n",
       "results.topics.music                        0.106669    0.079806\n",
       "results.topics.news_&_social_concern        0.342814    0.468289\n",
       "results.topics.other_hobbies                0.132959    0.382077\n",
       "results.topics.relationships                0.180771    0.415109\n",
       "results.topics.science_&_technology         0.194341    0.284228\n",
       "results.topics.sports                      -0.006495    0.269415\n",
       "results.topics.travel_&_adventure           0.606242    0.322456\n",
       "results.topics.youth_&_student_life         0.170662    0.932859\n",
       "results.emotions.anger                      0.243503    0.324964\n",
       "results.emotions.anticipation              -0.062700    0.130272\n",
       "results.emotions.disgust                    0.161065    0.281159\n",
       "results.emotions.fear                       0.117402    0.289568\n",
       "results.emotions.joy                        0.167568    0.330703\n",
       "results.emotions.love                       0.105776    0.361009\n",
       "results.emotions.optimism                   0.060235    0.236053\n",
       "results.emotions.pessimism                  0.033755    0.145285\n",
       "results.emotions.sadness                    0.047337    0.103885\n",
       "results.emotions.surprise                  -0.065240    0.429177\n",
       "results.emotions.trust                     -0.131312    0.166082\n",
       "results.sentiment.negative                  0.092355    0.145945\n",
       "results.sentiment.neutral                  -0.109565    0.272265\n",
       "results.sentiment.positive                  0.196184    0.256655\n",
       "results.irony.non_irony                    -0.162399    0.004110\n",
       "results.irony.irony                        -0.153910   -0.001515\n",
       "results.offensive.non-offensive             0.113890    0.179420\n",
       "results.offensive.offensive                 0.258697    0.260611\n",
       "results.hate.NOT-HATE                       0.316241    0.367263\n",
       "results.hate.HATE                           0.277368    0.325998"
      ]
     },
     "execution_count": 12,
     "metadata": {},
     "output_type": "execute_result"
    }
   ],
   "source": [
    "classify_corr = pandas.concat([\n",
    "    twon_agents.Alignment()(\n",
    "        source=predictions[(\"reply\", \"human\")].tolist(),\n",
    "        target=predictions[(\"reply\", \"base\")].tolist()\n",
    "    )[0].rename(\"prompt-only\"),\n",
    "    twon_agents.Alignment()(\n",
    "        source=predictions[(\"reply\", \"human\")].tolist(),\n",
    "        target=predictions[(\"reply\", \"adapter\")].tolist()\n",
    "    )[0].rename(\"fine-tuned\")\n",
    "], axis=1)\n",
    "\n",
    "classify_corr"
   ]
  },
  {
   "cell_type": "code",
   "execution_count": 13,
   "metadata": {},
   "outputs": [
    {
     "data": {
      "text/plain": [
       "<Axes: >"
      ]
     },
     "execution_count": 13,
     "metadata": {},
     "output_type": "execute_result"
    },
    {
     "data": {
      "image/png": "[encoded data removed]",
      "text/plain": [
       "<Figure size 640x480 with 1 Axes>"
      ]
     },
     "metadata": {},
     "output_type": "display_data"
    }
   ],
   "source": [
    "classify_corr[classify_corr.index.str.contains(rf\"emotions\")].plot(kind=\"barh\")"
   ]
  },
  {
   "cell_type": "code",
   "execution_count": 71,
   "metadata": {},
   "outputs": [
    {
     "name": "stderr",
     "output_type": "stream",
     "text": [
      "Some weights of BertModel were not initialized from the model checkpoint at Twitter/twhin-bert-base and are newly initialized: ['bert.pooler.dense.bias', 'bert.pooler.dense.weight']\n",
      "You should probably TRAIN this model on a down-stream task to be able to use it for predictions and inference.\n"
     ]
    }
   ],
   "source": [
    "import torch \n",
    "from transformers import AutoTokenizer, AutoModel\n",
    "\n",
    "\n",
    "tokenizer = AutoTokenizer.from_pretrained('Twitter/twhin-bert-base')\n",
    "model = AutoModel.from_pretrained('Twitter/twhin-bert-base')"
   ]
  },
  {
   "cell_type": "code",
   "execution_count": 60,
   "metadata": {},
   "outputs": [
    {
     "data": {
      "text/plain": [
       "2.6870174407958984"
      ]
     },
     "execution_count": 60,
     "metadata": {},
     "output_type": "execute_result"
    }
   ],
   "source": [
    "torch.nn.PairwiseDistance()(\n",
    "    model(**tokenizer(predictions[(\"reply\", \"human\")].tolist(), padding=True, return_tensors=\"pt\")).pooler_output,\n",
    "    model(**tokenizer(predictions[(\"reply\", \"base\")].tolist(), padding=True, return_tensors=\"pt\")).pooler_output\n",
    ").mean().item()"
   ]
  },
  {
   "cell_type": "code",
   "execution_count": 61,
   "metadata": {},
   "outputs": [
    {
     "data": {
      "text/plain": [
       "1.8376408815383911"
      ]
     },
     "execution_count": 61,
     "metadata": {},
     "output_type": "execute_result"
    }
   ],
   "source": [
    "torch.nn.PairwiseDistance()(\n",
    "    model(**tokenizer(predictions[(\"reply\", \"human\")].tolist(), padding=True, return_tensors=\"pt\")).pooler_output,\n",
    "    model(**tokenizer(predictions[(\"reply\", \"adapter\")].tolist(), padding=True, return_tensors=\"pt\")).pooler_output\n",
    ").mean().item()"
   ]
  },
  {
   "cell_type": "code",
   "execution_count": 78,
   "metadata": {},
   "outputs": [],
   "source": [
    "predictions[(\"human\", \"reply_embeds\")] = model(**tokenizer(predictions[(\"reply\", \"human\")].tolist(), padding=True, return_tensors=\"pt\")).pooler_output.detach().numpy().tolist()\n",
    "predictions[(\"base\", \"reply_embeds\")] = model(**tokenizer(predictions[(\"reply\", \"base\")].tolist(), padding=True, return_tensors=\"pt\")).pooler_output.detach().numpy().tolist()\n",
    "predictions[(\"adapter\", \"reply_embeds\")] = model(**tokenizer(predictions[(\"reply\", \"adapter\")].tolist(), padding=True, return_tensors=\"pt\")).pooler_output.detach().numpy().tolist()\n",
    "\n"
   ]
  },
  {
   "cell_type": "code",
   "execution_count": 79,
   "metadata": {},
   "outputs": [
    {
     "data": {
      "text/html": [
       "<div>\n",
       "<style scoped>\n",
       "    .dataframe tbody tr th:only-of-type {\n",
       "        vertical-align: middle;\n",
       "    }\n",
       "\n",
       "    .dataframe tbody tr th {\n",
       "        vertical-align: top;\n",
       "    }\n",
       "\n",
       "    .dataframe thead tr th {\n",
       "        text-align: left;\n",
       "    }\n",
       "\n",
       "    .dataframe thead tr:last-of-type th {\n",
       "        text-align: right;\n",
       "    }\n",
       "</style>\n",
       "<table border=\"1\" class=\"dataframe\">\n",
       "  <thead>\n",
       "    <tr>\n",
       "      <th></th>\n",
       "      <th colspan=\"3\" halign=\"left\">reply</th>\n",
       "      <th>human</th>\n",
       "      <th>base</th>\n",
       "      <th>adapter</th>\n",
       "      <th>human</th>\n",
       "      <th>base</th>\n",
       "      <th>adapter</th>\n",
       "    </tr>\n",
       "    <tr>\n",
       "      <th>model</th>\n",
       "      <th>adapter</th>\n",
       "      <th>base</th>\n",
       "      <th>human</th>\n",
       "      <th>reply_embeds</th>\n",
       "      <th>reply_embeds</th>\n",
       "      <th>reply_embeds</th>\n",
       "      <th>reply_embeds_d3</th>\n",
       "      <th>reply_embeds_d3</th>\n",
       "      <th>reply_embeds_d3</th>\n",
       "    </tr>\n",
       "    <tr>\n",
       "      <th>id</th>\n",
       "      <th></th>\n",
       "      <th></th>\n",
       "      <th></th>\n",
       "      <th></th>\n",
       "      <th></th>\n",
       "      <th></th>\n",
       "      <th></th>\n",
       "      <th></th>\n",
       "      <th></th>\n",
       "    </tr>\n",
       "  </thead>\n",
       "  <tbody>\n",
       "    <tr>\n",
       "      <th>0</th>\n",
       "      <td>Einige von euch hat mich in #Dortmund gebeten, wie man sich bei einer Wahl als Kandidat eintragen lässt. Ich erkläre kurz: Man muss sich bei den zuständigen Behörden um eine @Bundeswahlkreisregistrierung melden.  Man kann sich auch online registrieren.</td>\n",
       "      <td>\"Als Abgeordneter im Bundestag kämpfe ich für eine sichere und gerechte Gesellschaft! Die Gewehre sind ein wichtiges Element unserer Verteidigung, aber auch ein Symbol unserer Verantwortung, sie sicher und verantwortungsvoll zu nutzen. #CDU #CSU #Sicherheit #Verantwortung\"</td>\n",
       "      <td>Aus meinem Wahlkreis heute eine Bürgerfrage: \"Bloß mal als Frage, warum weiß die Regierung, daß genau 135.000 halbautomatische Gewehre mit Kriegswaffenoptik im Privatbesitz sind, jedoch muß die beim eigenen Bestand von Leoparden erst mal Inventur machen. Das ist doch beschämend.\"</td>\n",
       "      <td>[-0.2765893042087555, -0.09109185636043549, 0.011483991518616676, 0.10683159530162811, -0.2918480932712555, 0.3623214066028595, -0.31044086813926697, 0.06626523286104202, -0.043244004249572754, 0.1287732869386673, 0.07898356765508652, 0.10182733088731766, 0.09283488988876343, -0.11766985058784485, 0.283632755279541, -0.20505112409591675, 0.2027893364429474, 0.04843505844473839, 0.25720611214637756, 0.23599672317504883, 0.020121674984693527, 0.2329588234424591, 0.28180164098739624, -0.2707119584083557, 0.21847784519195557, 0.5304373502731323, -0.21578790247440338, 0.5485538840293884, -0.27054363489151, 0.3291506767272949, -0.30592596530914307, -0.08674085885286331, 0.16847866773605347, -0.31462082266807556, -0.4926433861255646, 0.536721408367157, 0.19695913791656494, 0.3309272825717926, -0.04050592705607414, -0.23139525949954987, -0.09383537620306015, -0.2156931459903717, -0.36804381012916565, -0.2881636321544647, 0.26431241631507874, 0.001965341391041875, 0.13516786694526672, 0.0625196173787117, 0.27948543429374695, 0.34656283259391785, 0.02420538105070591, 0.005274306517094374, 0.07929026335477829, -0.3140834867954254, -0.6439400315284729, 0.4629383981227875, -0.6269522309303284, -0.38757485151290894, -0.350514680147171, -0.3670996427536011, -0.05491543933749199, 0.15180443227291107, 0.3654766380786896, 0.5174466967582703, 0.46527451276779175, -0.057808440178632736, 0.2209973931312561, 0.0010208782041445374, 0.21101872622966766, 0.3731294870376587, -0.179677814245224, -0.20306402444839478, -0.006251715589314699, 0.5599576830863953, -0.28309476375579834, -0.27860814332962036, 0.49716296792030334, -0.348675400018692, -0.2792156934738159, -0.3478902578353882, 0.11643166840076447, -0.21449793875217438, 0.32692229747772217, -0.6079398393630981, -0.14281930029392242, -0.2868979871273041, -0.27254724502563477, 0.2733490765094757, -0.3604592978954315, -0.16272848844528198, -0.311801016330719, 0.1258656084537506, -0.2602541148662567, 0.18499602377414703, -0.26407817006111145, -0.0704677551984787, -0.12529852986335754, -0.18221202492713928, 0.302254319190979, 0.12412875145673752, ...]</td>\n",
       "      <td>[-0.2974764406681061, -0.19461330771446228, -0.05166171118617058, 0.15811708569526672, -0.31067565083503723, 0.3607116639614105, -0.32696250081062317, 0.08941908180713654, 0.026439731940627098, 0.18895499408245087, 0.02397724986076355, 0.08945932239294052, -0.010185732506215572, -0.08784111589193344, 0.19563205540180206, -0.20762436091899872, 0.12571528553962708, 0.004868628922849894, 0.3295731842517853, 0.24193044006824493, -0.09882467240095139, 0.20067884027957916, 0.3005857765674591, -0.18701188266277313, 0.26657935976982117, 0.45483919978141785, -0.14025579392910004, 0.5059961080551147, -0.2951720058917999, 0.398499459028244, -0.32108575105667114, -0.2200864553451538, 0.16256006062030792, -0.3720107674598694, -0.6354894638061523, 0.49207401275634766, 0.3005807399749756, 0.22604788839817047, -0.05274653062224388, -0.23677976429462433, -0.15425342321395874, -0.21593980491161346, -0.2015230506658554, -0.3326360285282135, 0.1754373162984848, -0.10749190300703049, 0.20837073028087616, 0.07363112270832062, 0.23564648628234863, 0.2554781436920166, -0.09029505401849747, 0.07589299976825714, 0.15798422694206238, -0.27881887555122375, -0.5524278283119202, 0.37370941042900085, -0.6333816051483154, -0.3554781377315521, -0.30476468801498413, -0.3121275007724762, 0.035672079771757126, 0.2562675476074219, 0.40730902552604675, 0.41161978244781494, 0.49152126908302307, -0.1010642945766449, 0.2527407705783844, -0.06113492324948311, 0.21129433810710907, 0.3819492757320404, -0.20374581217765808, -0.18081602454185486, -0.04134678095579147, 0.5315479636192322, -0.3049865663051605, -0.2500650882720947, 0.48720788955688477, -0.36025142669677734, -0.2995554804801941, -0.3375106155872345, 0.020904527977108955, -0.2899029850959778, 0.325238436460495, -0.588528573513031, -0.14501172304153442, -0.27096909284591675, -0.2597043216228485, 0.24053391814231873, -0.3047731816768646, -0.20349489152431488, -0.34006965160369873, 0.15207627415657043, -0.2468649446964264, 0.16102738678455353, -0.3188115358352661, -0.09991402924060822, -0.12791065871715546, -0.21469250321388245, 0.32024672627449036, 0.09683488309383392, ...]</td>\n",
       "      <td>[-0.21373462677001953, -0.035458534955978394, -0.03833786025643349, 0.0770634263753891, -0.4178551137447357, 0.2926309406757355, -0.33681386709213257, -0.002101075602695346, -0.034415800124406815, 0.3021034002304077, 0.07395234704017639, 0.024866608902812004, 0.12189548462629318, -0.10980825871229172, 0.22317662835121155, -0.16898736357688904, 0.009054562076926231, 0.08974041789770126, 0.3551177382469177, 0.26421838998794556, -0.07790243625640869, 0.2887260317802429, 0.3171968162059784, -0.16076362133026123, 0.16694606840610504, 0.4227021336555481, -0.12317144870758057, 0.48999273777008057, -0.3312009572982788, 0.3148341476917267, -0.3711167275905609, -0.2663910388946533, 0.239901602268219, -0.30449962615966797, -0.6020243167877197, 0.5305655002593994, 0.2797994017601013, 0.14769811928272247, -0.05324958637356758, -0.24205172061920166, -0.0503409244120121, -0.20193269848823547, -0.210805281996727, -0.338264137506485, 0.1678236722946167, -0.11374817043542862, 0.15347130596637726, 0.09712106734514236, 0.24762046337127686, 0.23640936613082886, -0.11051483452320099, 0.08557209372520447, 0.0738440752029419, -0.2758932113647461, -0.5867005586624146, 0.5042924284934998, -0.5946224927902222, -0.31993216276168823, -0.251731812953949, -0.2544556260108948, -0.03788177669048309, 0.20848385989665985, 0.35705411434173584, 0.39345285296440125, 0.4514945447444916, -0.12871555984020233, 0.1771462857723236, -0.02395406924188137, 0.17651286721229553, 0.3615659177303314, -0.15102443099021912, -0.16017013788223267, -0.017132382839918137, 0.5763328671455383, -0.33252331614494324, -0.29171109199523926, 0.45977509021759033, -0.3994714319705963, -0.28054389357566833, -0.3386175334453583, -0.003900847164914012, -0.2423343062400818, 0.28862079977989197, -0.6608355045318604, -0.15026795864105225, -0.3172529637813568, -0.30727189779281616, 0.32565611600875854, -0.3580857813358307, -0.2025914192199707, -0.32625946402549744, 0.18247145414352417, -0.18582242727279663, 0.17946764826774597, -0.32016828656196594, -0.09551431238651276, -0.15666238963603973, -0.2115066796541214, 0.24206605553627014, 0.046722300350666046, ...]</td>\n",
       "      <td>[1.1855779295360431, 0.14313318054529914, 0.4135325306574885]</td>\n",
       "      <td>[1.0844390741912224, 0.05557643643011695, 0.30836169093725413]</td>\n",
       "      <td>[-0.2346783929588604, 0.061971301523858234, -1.180868616723378]</td>\n",
       "    </tr>\n",
       "  </tbody>\n",
       "</table>\n",
       "</div>"
      ],
      "text/plain": [
       "                                                                                                                                                                                                                                                              reply  \\\n",
       "model                                                                                                                                                                                                                                                       adapter   \n",
       "id                                                                                                                                                                                                                                                                    \n",
       "0      Einige von euch hat mich in #Dortmund gebeten, wie man sich bei einer Wahl als Kandidat eintragen lässt. Ich erkläre kurz: Man muss sich bei den zuständigen Behörden um eine @Bundeswahlkreisregistrierung melden.  Man kann sich auch online registrieren.   \n",
       "\n",
       "                                                                                                                                                                                                                                                                                          \\\n",
       "model                                                                                                                                                                                                                                                                               base   \n",
       "id                                                                                                                                                                                                                                                                                         \n",
       "0      \"Als Abgeordneter im Bundestag kämpfe ich für eine sichere und gerechte Gesellschaft! Die Gewehre sind ein wichtiges Element unserer Verteidigung, aber auch ein Symbol unserer Verantwortung, sie sicher und verantwortungsvoll zu nutzen. #CDU #CSU #Sicherheit #Verantwortung\"   \n",
       "\n",
       "                                                                                                                                                                                                                                                                                                 \\\n",
       "model                                                                                                                                                                                                                                                                                     human   \n",
       "id                                                                                                                                                                                                                                                                                                \n",
       "0      Aus meinem Wahlkreis heute eine Bürgerfrage: \"Bloß mal als Frage, warum weiß die Regierung, daß genau 135.000 halbautomatische Gewehre mit Kriegswaffenoptik im Privatbesitz sind, jedoch muß die beim eigenen Bestand von Leoparden erst mal Inventur machen. Das ist doch beschämend.\"   \n",
       "\n",
       "                                                                                                                                                                                                                                                                                                                                                                                                                                                                                                                                                                                                                                                                                                                                                                                                                                                                                                                                                                                                                                                                                                                                                                                                                                                                                                                                                                                                                                                                                                                                                                                                                                                                                                                                                                                                                                                                                                                                                                                                                                                                                                                                                                                                  human  \\\n",
       "model                                                                                                                                                                                                                                                                                                                                                                                                                                                                                                                                                                                                                                                                                                                                                                                                                                                                                                                                                                                                                                                                                                                                                                                                                                                                                                                                                                                                                                                                                                                                                                                                                                                                                                                                                                                                                                                                                                                                                                                                                                                                                                                                                                                      reply_embeds   \n",
       "id                                                                                                                                                                                                                                                                                                                                                                                                                                                                                                                                                                                                                                                                                                                                                                                                                                                                                                                                                                                                                                                                                                                                                                                                                                                                                                                                                                                                                                                                                                                                                                                                                                                                                                                                                                                                                                                                                                                                                                                                                                                                                                                                                                                                        \n",
       "0      [-0.2765893042087555, -0.09109185636043549, 0.011483991518616676, 0.10683159530162811, -0.2918480932712555, 0.3623214066028595, -0.31044086813926697, 0.06626523286104202, -0.043244004249572754, 0.1287732869386673, 0.07898356765508652, 0.10182733088731766, 0.09283488988876343, -0.11766985058784485, 0.283632755279541, -0.20505112409591675, 0.2027893364429474, 0.04843505844473839, 0.25720611214637756, 0.23599672317504883, 0.020121674984693527, 0.2329588234424591, 0.28180164098739624, -0.2707119584083557, 0.21847784519195557, 0.5304373502731323, -0.21578790247440338, 0.5485538840293884, -0.27054363489151, 0.3291506767272949, -0.30592596530914307, -0.08674085885286331, 0.16847866773605347, -0.31462082266807556, -0.4926433861255646, 0.536721408367157, 0.19695913791656494, 0.3309272825717926, -0.04050592705607414, -0.23139525949954987, -0.09383537620306015, -0.2156931459903717, -0.36804381012916565, -0.2881636321544647, 0.26431241631507874, 0.001965341391041875, 0.13516786694526672, 0.0625196173787117, 0.27948543429374695, 0.34656283259391785, 0.02420538105070591, 0.005274306517094374, 0.07929026335477829, -0.3140834867954254, -0.6439400315284729, 0.4629383981227875, -0.6269522309303284, -0.38757485151290894, -0.350514680147171, -0.3670996427536011, -0.05491543933749199, 0.15180443227291107, 0.3654766380786896, 0.5174466967582703, 0.46527451276779175, -0.057808440178632736, 0.2209973931312561, 0.0010208782041445374, 0.21101872622966766, 0.3731294870376587, -0.179677814245224, -0.20306402444839478, -0.006251715589314699, 0.5599576830863953, -0.28309476375579834, -0.27860814332962036, 0.49716296792030334, -0.348675400018692, -0.2792156934738159, -0.3478902578353882, 0.11643166840076447, -0.21449793875217438, 0.32692229747772217, -0.6079398393630981, -0.14281930029392242, -0.2868979871273041, -0.27254724502563477, 0.2733490765094757, -0.3604592978954315, -0.16272848844528198, -0.311801016330719, 0.1258656084537506, -0.2602541148662567, 0.18499602377414703, -0.26407817006111145, -0.0704677551984787, -0.12529852986335754, -0.18221202492713928, 0.302254319190979, 0.12412875145673752, ...]   \n",
       "\n",
       "                                                                                                                                                                                                                                                                                                                                                                                                                                                                                                                                                                                                                                                                                                                                                                                                                                                                                                                                                                                                                                                                                                                                                                                                                                                                                                                                                                                                                                                                                                                                                                                                                                                                                                                                                                                                                                                                                                                                                                                                                                                                                                                                                                                                                base  \\\n",
       "model                                                                                                                                                                                                                                                                                                                                                                                                                                                                                                                                                                                                                                                                                                                                                                                                                                                                                                                                                                                                                                                                                                                                                                                                                                                                                                                                                                                                                                                                                                                                                                                                                                                                                                                                                                                                                                                                                                                                                                                                                                                                                                                                                                                                   reply_embeds   \n",
       "id                                                                                                                                                                                                                                                                                                                                                                                                                                                                                                                                                                                                                                                                                                                                                                                                                                                                                                                                                                                                                                                                                                                                                                                                                                                                                                                                                                                                                                                                                                                                                                                                                                                                                                                                                                                                                                                                                                                                                                                                                                                                                                                                                                                                                     \n",
       "0      [-0.2974764406681061, -0.19461330771446228, -0.05166171118617058, 0.15811708569526672, -0.31067565083503723, 0.3607116639614105, -0.32696250081062317, 0.08941908180713654, 0.026439731940627098, 0.18895499408245087, 0.02397724986076355, 0.08945932239294052, -0.010185732506215572, -0.08784111589193344, 0.19563205540180206, -0.20762436091899872, 0.12571528553962708, 0.004868628922849894, 0.3295731842517853, 0.24193044006824493, -0.09882467240095139, 0.20067884027957916, 0.3005857765674591, -0.18701188266277313, 0.26657935976982117, 0.45483919978141785, -0.14025579392910004, 0.5059961080551147, -0.2951720058917999, 0.398499459028244, -0.32108575105667114, -0.2200864553451538, 0.16256006062030792, -0.3720107674598694, -0.6354894638061523, 0.49207401275634766, 0.3005807399749756, 0.22604788839817047, -0.05274653062224388, -0.23677976429462433, -0.15425342321395874, -0.21593980491161346, -0.2015230506658554, -0.3326360285282135, 0.1754373162984848, -0.10749190300703049, 0.20837073028087616, 0.07363112270832062, 0.23564648628234863, 0.2554781436920166, -0.09029505401849747, 0.07589299976825714, 0.15798422694206238, -0.27881887555122375, -0.5524278283119202, 0.37370941042900085, -0.6333816051483154, -0.3554781377315521, -0.30476468801498413, -0.3121275007724762, 0.035672079771757126, 0.2562675476074219, 0.40730902552604675, 0.41161978244781494, 0.49152126908302307, -0.1010642945766449, 0.2527407705783844, -0.06113492324948311, 0.21129433810710907, 0.3819492757320404, -0.20374581217765808, -0.18081602454185486, -0.04134678095579147, 0.5315479636192322, -0.3049865663051605, -0.2500650882720947, 0.48720788955688477, -0.36025142669677734, -0.2995554804801941, -0.3375106155872345, 0.020904527977108955, -0.2899029850959778, 0.325238436460495, -0.588528573513031, -0.14501172304153442, -0.27096909284591675, -0.2597043216228485, 0.24053391814231873, -0.3047731816768646, -0.20349489152431488, -0.34006965160369873, 0.15207627415657043, -0.2468649446964264, 0.16102738678455353, -0.3188115358352661, -0.09991402924060822, -0.12791065871715546, -0.21469250321388245, 0.32024672627449036, 0.09683488309383392, ...]   \n",
       "\n",
       "                                                                                                                                                                                                                                                                                                                                                                                                                                                                                                                                                                                                                                                                                                                                                                                                                                                                                                                                                                                                                                                                                                                                                                                                                                                                                                                                                                                                                                                                                                                                                                                                                                                                                                                                                                                                                                                                                                                                                                                                                                                                                                                                                                                                              adapter  \\\n",
       "model                                                                                                                                                                                                                                                                                                                                                                                                                                                                                                                                                                                                                                                                                                                                                                                                                                                                                                                                                                                                                                                                                                                                                                                                                                                                                                                                                                                                                                                                                                                                                                                                                                                                                                                                                                                                                                                                                                                                                                                                                                                                                                                                                                                                    reply_embeds   \n",
       "id                                                                                                                                                                                                                                                                                                                                                                                                                                                                                                                                                                                                                                                                                                                                                                                                                                                                                                                                                                                                                                                                                                                                                                                                                                                                                                                                                                                                                                                                                                                                                                                                                                                                                                                                                                                                                                                                                                                                                                                                                                                                                                                                                                                                                      \n",
       "0      [-0.21373462677001953, -0.035458534955978394, -0.03833786025643349, 0.0770634263753891, -0.4178551137447357, 0.2926309406757355, -0.33681386709213257, -0.002101075602695346, -0.034415800124406815, 0.3021034002304077, 0.07395234704017639, 0.024866608902812004, 0.12189548462629318, -0.10980825871229172, 0.22317662835121155, -0.16898736357688904, 0.009054562076926231, 0.08974041789770126, 0.3551177382469177, 0.26421838998794556, -0.07790243625640869, 0.2887260317802429, 0.3171968162059784, -0.16076362133026123, 0.16694606840610504, 0.4227021336555481, -0.12317144870758057, 0.48999273777008057, -0.3312009572982788, 0.3148341476917267, -0.3711167275905609, -0.2663910388946533, 0.239901602268219, -0.30449962615966797, -0.6020243167877197, 0.5305655002593994, 0.2797994017601013, 0.14769811928272247, -0.05324958637356758, -0.24205172061920166, -0.0503409244120121, -0.20193269848823547, -0.210805281996727, -0.338264137506485, 0.1678236722946167, -0.11374817043542862, 0.15347130596637726, 0.09712106734514236, 0.24762046337127686, 0.23640936613082886, -0.11051483452320099, 0.08557209372520447, 0.0738440752029419, -0.2758932113647461, -0.5867005586624146, 0.5042924284934998, -0.5946224927902222, -0.31993216276168823, -0.251731812953949, -0.2544556260108948, -0.03788177669048309, 0.20848385989665985, 0.35705411434173584, 0.39345285296440125, 0.4514945447444916, -0.12871555984020233, 0.1771462857723236, -0.02395406924188137, 0.17651286721229553, 0.3615659177303314, -0.15102443099021912, -0.16017013788223267, -0.017132382839918137, 0.5763328671455383, -0.33252331614494324, -0.29171109199523926, 0.45977509021759033, -0.3994714319705963, -0.28054389357566833, -0.3386175334453583, -0.003900847164914012, -0.2423343062400818, 0.28862079977989197, -0.6608355045318604, -0.15026795864105225, -0.3172529637813568, -0.30727189779281616, 0.32565611600875854, -0.3580857813358307, -0.2025914192199707, -0.32625946402549744, 0.18247145414352417, -0.18582242727279663, 0.17946764826774597, -0.32016828656196594, -0.09551431238651276, -0.15666238963603973, -0.2115066796541214, 0.24206605553627014, 0.046722300350666046, ...]   \n",
       "\n",
       "                                                               human  \\\n",
       "model                                                reply_embeds_d3   \n",
       "id                                                                     \n",
       "0      [1.1855779295360431, 0.14313318054529914, 0.4135325306574885]   \n",
       "\n",
       "                                                                 base  \\\n",
       "model                                                 reply_embeds_d3   \n",
       "id                                                                      \n",
       "0      [1.0844390741912224, 0.05557643643011695, 0.30836169093725413]   \n",
       "\n",
       "                                                               adapter  \n",
       "model                                                  reply_embeds_d3  \n",
       "id                                                                      \n",
       "0      [-0.2346783929588604, 0.061971301523858234, -1.180868616723378]  "
      ]
     },
     "execution_count": 79,
     "metadata": {},
     "output_type": "execute_result"
    }
   ],
   "source": [
    "predictions[(\"human\", \"reply_embeds_d3\")] = list(PCA(n_components=3).fit_transform(predictions[(\"human\", \"reply_embeds\")].tolist()))\n",
    "predictions[(\"base\", \"reply_embeds_d3\")] = list(PCA(n_components=3).fit_transform(predictions[(\"base\", \"reply_embeds\")].tolist()))\n",
    "predictions[(\"adapter\", \"reply_embeds_d3\")] = list(PCA(n_components=3).fit_transform(predictions[(\"adapter\", \"reply_embeds\")].tolist()))\n",
    "predictions.head(n=1)"
   ]
  },
  {
   "cell_type": "code",
   "execution_count": 81,
   "metadata": {},
   "outputs": [
    {
     "data": {
      "application/vnd.plotly.v1+json": {
       "config": {
        "linkText": "Export to plot.ly",
        "plotlyServerURL": "https://plot.ly",
        "showLink": false
       },
       "data": [
        {
         "marker": {
          "opacity": 0.8,
          "size": 6
         },
         "mode": "markers",
         "name": "adapter",
         "type": "scatter3d",
         "x": [
          -0.2346783929588604,
          0.8365356250409581,
          -1.0204494680702159,
          0.005228870452450423,
          -0.7359039265447785,
          -0.9488850829083827,
          0.9603853464960738,
          -1.3860591110685088,
          -0.741444365490535,
          0.3254692123442545,
          -0.5581921225654121,
          -0.4039406338818928,
          1.00256554901775,
          -1.0520548640564709,
          0.8657569228132271,
          -1.0758310348161535,
          0.023066191249241794,
          0.04180600963361225,
          -0.7102476214591181,
          0.3684165345023861,
          0.09067687081706416,
          1.6945774138330931,
          0.22280111473694247,
          -1.320878207684183,
          1.5230994753724663,
          -1.504038662848038,
          0.7287939690341828,
          -0.758633902649568,
          1.1909918334384586,
          -1.470250986511012,
          0.8009673752989468,
          1.3881622350053784,
          -1.0766430417599713,
          1.7146716031045914,
          1.062269509333425,
          1.275385928955485,
          -0.2797139006525445,
          0.01649744077081643,
          -0.15275180028341862,
          0.32082486156924506,
          -0.8855591943405352,
          0.15355201812644917,
          0.028132051765406656,
          -2.016527219943228,
          -0.618692448070888,
          0.23339760578686622,
          -0.9227315012210746,
          0.6580455390328476,
          0.6169170068275055,
          0.26372987269475634,
          0.8386348855895706,
          -1.2439858675127626,
          1.434241166995188,
          -0.21867503267187718,
          -0.23793953525275238,
          0.7284779204003738,
          -0.9920346496717389,
          -0.020893892268531937,
          -0.46277450435504613,
          0.8048143774608741,
          1.2314587661561103,
          -0.813513253346512,
          1.258364252211359,
          -0.1824299784465411,
          0.5801740898755743,
          1.719668536432428,
          1.1238766664856104,
          0.5716678445060648,
          0.3069742770102825,
          -1.1403438373793298,
          0.3202943933189053,
          -1.06882898209802,
          -1.2264357257425966,
          -1.1482120874015505,
          -0.031843358731613904,
          -0.9925063138427062,
          0.87046179371215,
          -0.16655857314109773,
          -1.6285567115876132,
          0.08238231588043711,
          0.21325763935817327,
          -1.040268153921586,
          -0.11902806501526936,
          0.30520999013534417,
          -1.024471776702341,
          -0.19648808581741595,
          -0.3440537096885076,
          -2.104549856061997,
          -1.2769267442162584,
          -1.1567764092617365,
          -0.6380657440693458,
          0.10841064674844329,
          -1.0498730227529747,
          -0.83173744513195,
          -0.6607577020003118,
          -1.3067077808560557,
          0.6532623012503497,
          -1.4925682240761269,
          -0.22117747799181542,
          -1.2161046373635684,
          -0.49477184769902605,
          1.3212046022700792,
          -0.3248958178086853,
          0.44892788968170366,
          0.6730817055579952,
          -0.6524002448412168,
          0.5704591184084573,
          -0.46496211493216655,
          -0.764874793881248,
          0.8431427354520282,
          -0.6085458238906168,
          0.12930884222318606,
          1.4747638447381013,
          0.5062038394297346,
          0.23862579748274085,
          -0.9492456610332146,
          0.2970519168907115,
          0.7416003583713666,
          0.2985993953689137,
          -1.0595364566560534,
          -0.2526144436802265,
          -0.137977208985259,
          0.4307468454463416,
          1.0582514767555913,
          0.46536492140962576,
          -0.7872580596913036,
          -1.3460500063897658,
          0.5234637716337399,
          0.0447765509187547,
          -0.43763323759007844,
          -0.5418096029127799,
          -0.37592531769216253,
          -0.5438734263947281,
          1.4462454293935678,
          -0.34007490215428865,
          0.15295233145047485,
          -0.08783147355519885,
          -0.5775842353745623,
          -2.0216600118143746,
          0.598717711950183,
          -0.6946630152697298,
          -0.24668757664041405,
          -1.0100810184598983,
          0.2159540383099853,
          0.21531607496568242,
          1.0944396946441777,
          1.3629882871130399,
          0.06254484373718847,
          -0.6893086165215836,
          0.9564061021040332,
          0.0364221329519501,
          0.2830041856292648,
          0.1610085221604765,
          -0.31128754223766497,
          -1.199157750670434,
          -1.089435188646596,
          0.29859242858969015,
          -0.39408222536787163,
          -0.44266759460226945,
          0.5755460716568862,
          -1.5475548028563273,
          0.775290166545917,
          0.11743876670366436,
          0.03875782773191948,
          0.8505150956255589,
          0.2679551537501331,
          1.0099506876538504,
          0.4952818374760283,
          -0.015269598051097366,
          1.4879210440063417,
          0.8559234272193025,
          -0.1821346418433181,
          -1.192127612269607,
          1.2399863111398093,
          -0.38213768737156995,
          1.2826619762160976,
          -0.45752851810737055,
          -0.26678669540946126,
          0.4882143233868824,
          1.9962442610928417,
          -0.15133647075838172,
          0.8364438275092441,
          0.3835775521583065,
          1.6573362236750155,
          1.4813284323231601,
          1.1884921457010853,
          1.4753330451816977,
          1.9380741902859693,
          -0.8046646191725086,
          0.8298396960539569,
          0.9122133273370818,
          -0.45753191056264436,
          0.2831893321630856,
          -0.3112706282790029,
          0.6440556883156272,
          0.21683480737961977,
          -0.8558895808632101,
          1.5515365268523031,
          -1.1610880098668839,
          0.9349625401145574,
          -1.2170297691885956,
          1.4650536521067925,
          -0.4125279665948987,
          -0.24744079904408303,
          0.9832440224184498,
          1.28949592763949,
          -0.31274726032195455,
          0.16647938334526627,
          -1.4796063998536035,
          -0.6087267398714665,
          0.3035870454663263,
          -0.9233789468843296,
          0.5832076944253684,
          -0.42069652849231043,
          0.36859027635803165,
          1.2009685553761447,
          -1.6163603124686865,
          1.187093535761782,
          1.6860083593092636,
          0.06443117060509243,
          -1.639380174620159,
          -1.215765410433,
          -0.30920251097397267,
          0.12712315271084804,
          0.8360725438647937,
          -0.42339203779396395,
          0.017803575340920155,
          -0.40911400254747066,
          -0.13000955676487197,
          -0.33679270346315426,
          -0.9069888576029623,
          0.3361959746993044,
          1.5532519988888789,
          -1.0240034686509984,
          -0.12386186043763642,
          -1.5214054562560946,
          -1.5880511549208256,
          1.2935774559105608,
          0.5101084476560823,
          0.5719043900067592,
          0.8559111108205212,
          0.20807185632680508,
          -1.1571753170979446,
          0.3177567390340756,
          -0.5298289144861102,
          -0.5157372642313602,
          -0.6450344892363793,
          1.06204004569588,
          1.3160115041021616,
          -0.15774542754147422
         ],
         "y": [
          0.061971301523858234,
          0.1673272644662213,
          0.01694674217265694,
          -0.0684010059944836,
          -0.664067946271534,
          0.20531822865911603,
          -0.49745045590221165,
          0.13010992001465588,
          -0.39200496428246834,
          0.18869168149479024,
          -0.1736890913480093,
          0.32088351001975884,
          0.5158858000893868,
          0.19171083023338178,
          0.08392854975449372,
          -0.21825698019315004,
          0.15876963047917003,
          0.4440654531866349,
          0.20913283154993997,
          0.08983422220874736,
          0.1680102820971322,
          -0.3293996302131886,
          -0.25290139681881574,
          0.20754709710848376,
          -7.795636977614637,
          -0.3270034086745242,
          0.3021559152980856,
          0.17360502905622444,
          0.40700624911382055,
          -0.016415391301099005,
          0.2957473374895728,
          0.4820053157452327,
          -0.21370687929140483,
          0.44381174688253483,
          0.37885043299086496,
          0.5438065205126714,
          -0.0007548365017957996,
          0.20839452674005157,
          0.209666989466522,
          0.34303808346272296,
          0.3358243152047473,
          -0.09230167175026721,
          0.4427927793418309,
          -0.21580378416801607,
          0.1850752507426009,
          0.012233498219631033,
          -0.2634316625259837,
          0.45378128887544433,
          -0.8333601836723035,
          -1.5401841774180856,
          0.34217555945481926,
          0.07376855661311023,
          0.49260305307393115,
          0.23093024496282297,
          0.056397689800688475,
          -0.10590641937276123,
          0.23000281430017164,
          -0.8104390366310975,
          -0.23241075820791754,
          0.11359281792425102,
          0.33211622198555996,
          0.3583980448467179,
          0.36872821484011603,
          -0.9502144620962664,
          0.3985497674122962,
          0.24797553240659456,
          0.5108744368289041,
          -0.38463613719420536,
          0.1890970789004468,
          -0.4658694964564909,
          0.15799316935026994,
          -0.4619764908508592,
          -0.11910251228412273,
          -0.05203233110629036,
          0.19024071591652375,
          0.37776921249128603,
          -1.1340807281787153,
          0.20587594513820542,
          0.20486668618937914,
          0.17016248366038247,
          0.21224285857201886,
          -0.055520349480041586,
          0.32419438757981806,
          0.11105588656630982,
          0.166948556894238,
          -0.838000323801554,
          0.3219084214431636,
          -0.05073206434779828,
          0.20815635626678453,
          0.23750694949046883,
          -0.6276545589073063,
          0.23997069091935072,
          0.0487646374039693,
          0.0813833763248314,
          0.4313712504617744,
          0.12295060481463072,
          -0.42382140006535934,
          0.14649677797959648,
          0.015617106208856112,
          -0.2747878513873611,
          0.12935520441875029,
          0.373215750557774,
          0.3436539335262759,
          -0.9921922635510331,
          0.13649940360684845,
          -0.12807733340011185,
          -0.06896333089133756,
          0.26178302348973753,
          -0.0432091253063731,
          -1.2516199644209007,
          0.13071337216405063,
          0.3117183247456709,
          0.5519633318441187,
          0.3872741681049247,
          0.11489628937404935,
          -0.13968741757851932,
          0.29552830098335486,
          0.3598614674970026,
          0.3422765910039862,
          -0.16193050136960743,
          0.1562238360340826,
          -0.049764429373892784,
          0.40780243547530215,
          0.5611072993994894,
          0.16992507679756352,
          -0.43714318103388505,
          -0.05161488947018813,
          -0.05126159977163984,
          0.22660716049538884,
          0.27846209140272116,
          -0.8433392288356256,
          0.059501429307450934,
          0.20138750801856684,
          0.2650329490019482,
          0.039590123115572494,
          -1.0405951594985343,
          0.39623685836382394,
          0.5095208044823658,
          -0.16388132893294152,
          -0.157563442625711,
          0.12007962736080162,
          0.4156262541279405,
          -0.2407939572750665,
          0.17282840094317004,
          0.49973740068431305,
          0.04101889969070473,
          0.24553648486427232,
          -1.144560365966922,
          0.003089821613697001,
          0.04130399534852416,
          0.17345816814670265,
          -0.03344729441881986,
          0.16465295325662235,
          -0.20593868996918302,
          0.10359929596751652,
          0.036282395024157955,
          0.20153469274650934,
          -0.13779716010375262,
          0.06741010287155332,
          -0.20796012545340842,
          0.05927992727980956,
          0.059859771454993105,
          0.11818999601151531,
          0.1585960103394176,
          0.5243580586809838,
          -0.10318096392698305,
          0.47693861334460463,
          -0.8484184873616448,
          0.16620639892442382,
          -0.04629563661296894,
          0.17545504148608568,
          0.5446556156825788,
          0.27029917520611546,
          0.2742044856065024,
          0.11852110452050692,
          0.33126857088056344,
          0.23716136067736837,
          0.3505203547391729,
          0.3736983858917444,
          0.2880032680352658,
          0.10007672897469268,
          0.213458825914917,
          0.3919868832464126,
          0.4171154864349902,
          0.4273702828884373,
          0.4736411481472328,
          0.2493934663343598,
          0.26631239175848914,
          0.11101680711934024,
          0.438946198186238,
          -0.0678524421802955,
          -1.2377490152146724,
          0.20858486509385504,
          0.375675205859593,
          0.1529799540433751,
          -0.8851417828633721,
          0.25175494127882736,
          0.4018907672120024,
          0.1747516783243495,
          -0.4633859652304675,
          -0.36972188624185554,
          0.3330686733951784,
          -0.33891472196641054,
          -0.022823371556694606,
          0.6254281530612887,
          -0.6855440857236791,
          -0.7965122981076184,
          0.16040964238004599,
          -0.24418287469647634,
          0.22057615643369144,
          0.09852543525639129,
          0.1884914026123588,
          0.3034782587879384,
          -0.732563537251595,
          0.2229092872058101,
          0.2616514338887744,
          0.2191609521640173,
          0.47383395599644684,
          0.44111106011964885,
          0.5046909279076643,
          -0.21073282310649868,
          -0.008651965170640562,
          0.20138163293673647,
          0.3298794244284473,
          0.16262409497498348,
          -0.4347020137560158,
          0.08485521249994499,
          -0.2272801078197191,
          0.27844028899028495,
          0.35558063258156936,
          0.23530790287556852,
          0.32915542737619063,
          -3.3063523142406597,
          0.26685451941477856,
          0.3981417027342413,
          0.03609168095434694,
          -0.43481787783775083,
          0.2891231900210274,
          -0.03610684231571782,
          -2.193419846877218,
          0.3836809826750609,
          -0.2900314525463125,
          -0.1477189503092141,
          0.2860189539189311,
          -0.15953410163172763,
          -0.5609224882244309,
          0.2366864178253837,
          0.3873404012800897,
          0.38031228379000126,
          -0.18603780881795762
         ],
         "z": [
          -1.180868616723378,
          -0.8602539450298475,
          0.041941933174913786,
          0.6710759568983872,
          -0.7287146224808148,
          -0.17573795566594774,
          -2.152094584983768,
          0.3713539719084286,
          0.26964316624176826,
          -0.4433482452396746,
          -0.3118914096045931,
          -0.06621944701732387,
          0.07969577371519052,
          0.23175212535016765,
          -1.027149600297656,
          -0.17845207855211792,
          0.9132348961455197,
          -0.432851327300164,
          0.20013591450738,
          1.1393138291002143,
          -0.5635678218925325,
          1.4409352739363495,
          -0.03978821245933497,
          0.27726033768094294,
          1.5780301834908823,
          -0.03622614050187073,
          -0.1876963702687345,
          -0.1495443543358936,
          0.6813190392611606,
          0.29980333400736997,
          -0.1399282709782544,
          -0.24095592546677577,
          0.009502448076171508,
          0.2883773619960283,
          -0.6463072344165433,
          -0.684650559393503,
          1.2881347612408862,
          -0.4303233773333773,
          -0.1731322880400635,
          -0.3349421975420238,
          -0.27262382603551666,
          -0.2624588335194648,
          0.09822692172261759,
          0.07309601126153932,
          0.13107682458812445,
          -0.5321679579419707,
          0.5978684899228316,
          -0.4746114549050511,
          0.4741974903282389,
          -0.9099104470148628,
          -0.45745543283515383,
          -0.10185957418301753,
          0.9859058246743043,
          -0.1753551005359372,
          0.09471029430497452,
          -0.39632145549098663,
          0.29796680595524505,
          -0.39682366180794604,
          0.17039576923054303,
          -0.10898052035925347,
          0.5314524560486276,
          0.15889818087945617,
          0.5648473943141655,
          -0.888897860439024,
          -0.4126861326600437,
          0.34896272894540165,
          0.48379145470053353,
          0.48049866123085955,
          -0.17595244857349512,
          -0.18876532774887822,
          0.8233768521580203,
          -0.20420949026701812,
          0.23898320793929748,
          0.31087091674801864,
          -0.10594551484645923,
          0.16289346649141467,
          -0.734839735836779,
          -0.45893445318250775,
          0.1332658828907738,
          -0.1936105198290819,
          -0.4282116837405651,
          0.02028018858622299,
          -0.32185551678560675,
          -0.5519446169248098,
          0.2329829787055679,
          -0.6728455463137873,
          0.5174903941225847,
          0.272181459477221,
          0.20058198030955382,
          0.3538084103021012,
          -0.04293009818011904,
          0.21334811903287362,
          0.2395176599962452,
          0.30746000939143137,
          0.19568638837818605,
          0.04941668891702646,
          -0.7966420932797246,
          0.20082434285759315,
          -0.7571609127164928,
          -0.34071833120233413,
          -0.32188832702431,
          0.6082759300455396,
          0.15085009014109738,
          0.2137412441259202,
          -1.0741820184454127,
          -0.15167960815094017,
          -0.503855227569781,
          -0.29062289999787727,
          0.09297628247284652,
          -0.4884673750970765,
          -0.6022149726130783,
          -0.24329775738200907,
          0.7108250759846487,
          -0.1608020326668255,
          -0.6108195183322623,
          0.09064421416401741,
          -0.1341885831003915,
          0.8806242884367763,
          -0.08188991735460353,
          0.24474036048309827,
          -0.03711333272099412,
          0.7612623031647974,
          1.0815757738505312,
          -0.3858471647280378,
          -0.36175991324360024,
          -0.3307688776007828,
          -0.05312246342701974,
          -0.9426326161912651,
          -0.7825067916371597,
          0.17542918333348392,
          -0.551010944486598,
          -0.26094843758869557,
          -0.04843172144144882,
          0.18443192830967067,
          -0.04299246564909087,
          -0.8415960597529257,
          -0.07201650536777329,
          0.11837592844197486,
          0.13429891429198948,
          -0.4846851144185254,
          -0.5397574821915504,
          -0.1821891534911097,
          -0.05699779044349435,
          -0.245767424698314,
          0.29201727190897275,
          -0.18669063759110716,
          0.5698637674448275,
          -0.44602541445931787,
          -0.1157001290617748,
          -0.37029082949554826,
          -0.561980467661952,
          0.8482590215545533,
          0.4804011714091744,
          0.3341270510233941,
          -0.053947295571520476,
          0.07136460298917745,
          -0.13311381215685678,
          -0.1286092635664249,
          -0.062073425736121804,
          -1.3515863357949234,
          0.4401077515065541,
          0.49860625778014256,
          -0.5427382568566984,
          -0.18574474202016383,
          -0.21218600794597275,
          0.4598830051572849,
          0.06913402572705407,
          2.026581146990388,
          -0.3168082207397866,
          0.5683306395057404,
          1.2630296450722305,
          0.71753720692948,
          -0.26513032999695185,
          -0.027281743560145212,
          0.791786780385665,
          0.058109084208391545,
          1.0966278904303137,
          0.05272095441504088,
          -0.3354794295503097,
          -1.2039887073987008,
          1.1551603473925465,
          0.8783203241307052,
          1.0544975735408841,
          0.23214528410356097,
          0.22290804862030822,
          0.8115123594536986,
          0.7434535691717021,
          0.59566505996812,
          0.16848098886387466,
          1.040359403829187,
          0.813199267940948,
          0.2175248644290911,
          0.8176090237142096,
          -0.04692410001251444,
          -0.17057570839080233,
          -0.5034061563436228,
          0.0379176153719181,
          -0.5099416332898565,
          0.10295948153454156,
          0.03196753483103515,
          -0.03769224742279391,
          0.24139254013034417,
          0.37504796256427697,
          0.4969383934135823,
          1.2914425207756695,
          -2.146084802312386,
          -0.4902432262836811,
          -0.8912445575162473,
          0.04143188918919965,
          -0.16488917194996908,
          -0.3321001660367093,
          0.01141749126637198,
          0.3049726872473427,
          -0.6542792408548593,
          -0.13464844296086048,
          -0.02334626223428908,
          0.26085108283759006,
          0.5945906947556443,
          -0.6560089438739213,
          0.06848548208373532,
          0.3950653874222533,
          0.41583071540629307,
          -0.21670889908729632,
          -0.13519140280522385,
          0.6251200462536818,
          -0.35221963832029524,
          0.5649376825339384,
          0.24131093874016812,
          -0.22208244740609873,
          0.22858519563447843,
          0.13883050045013787,
          0.10018984735395518,
          0.9106553726572805,
          -0.058241939041516776,
          0.20375524018828003,
          -0.08014609533494689,
          0.7661474258132662,
          0.22009335004093206,
          -1.3459308747079,
          -1.6136053656304208,
          -0.4524772695932702,
          -0.4519059505844039,
          -0.33973679108673654,
          -0.48872485742798977,
          0.0927759414657425,
          -0.4532131552686482,
          -0.0041951446841694525,
          -0.566837148805437,
          0.25458433477354625,
          -0.1256545047979972
         ]
        },
        {
         "marker": {
          "opacity": 0.8,
          "size": 6
         },
         "mode": "markers",
         "name": "base",
         "type": "scatter3d",
         "x": [
          1.0844390741912224,
          1.0224893387540275,
          1.2538884682454012,
          0.950350190893051,
          0.37050116013485984,
          -5.956215524406497,
          -5.810389565655751,
          0.8967645657064317,
          0.8235107399900762,
          -0.8077397963263089,
          1.1915458883489853,
          0.9257731357117389,
          0.2637083023732178,
          1.1879212868491609,
          -3.5681170467947774,
          0.6190811962934748,
          0.35674770069023415,
          0.7062208381016615,
          1.0622609134596805,
          0.8081517387498538,
          1.0844755428935478,
          0.5786368910636005,
          0.6827284487342545,
          0.6641781790714986,
          -3.7717635560544926,
          1.138897187629988,
          0.6423344610332722,
          0.7924692179671203,
          0.6238172009106281,
          -3.3621691532823124,
          0.8351366822868103,
          -3.6874509976285066,
          1.0205146630387527,
          0.052360746229190264,
          1.2128577834425234,
          1.3718800107347582,
          0.7225813934459003,
          1.2065715533821815,
          0.9626369132556535,
          0.2479826121746446,
          1.0229279729148388,
          1.1315631686643546,
          1.0406843099979715,
          1.00059194180845,
          0.5876960974312407,
          0.878165935598469,
          0.2951108695875349,
          1.0279018309227295,
          0.5559353252327723,
          -0.1163214426011908,
          -0.8077397963263089,
          0.7854022907003156,
          0.8728628344689482,
          0.9953161733128856,
          1.1216932529165284,
          -5.378439456017922,
          0.3507940324039445,
          1.2195246194546594,
          -3.4265202381025697,
          0.41900434198788344,
          0.4555144805437143,
          1.1583989188820183,
          0.5898525410526055,
          1.0231794520563007,
          0.9925586994613477,
          -2.987893778749467,
          0.3913697067913655,
          -2.7921410429728506,
          1.1819563332747143,
          1.266078786065131,
          -6.9064145427024535,
          1.0340087776886258,
          1.072546807084395,
          1.201991073069316,
          0.823144154413263,
          0.9556111032774404,
          0.9504042916208209,
          1.1281701471714285,
          1.0833381423670376,
          0.8336127919161214,
          0.8694076455032549,
          1.0271353202520974,
          1.0705267224518336,
          0.9551249659851977,
          1.176455033648553,
          1.1217390359506378,
          0.8123499803382128,
          1.0780152465249202,
          1.142855513786619,
          0.7504911886576924,
          1.190260293405547,
          0.6292009303010269,
          1.1118129394325529,
          1.02423842438522,
          1.1248228415239225,
          1.1004586394572216,
          0.9515364060569274,
          0.7443335726436533,
          -0.36504641371478336,
          1.0734757423931844,
          1.2474714919538237,
          -3.8951141634679383,
          0.9413744792804108,
          0.4380346800270118,
          1.166338217968283,
          0.9097184155374147,
          0.767952633553119,
          0.9530276596273562,
          0.3975850136474855,
          1.2046948939773958,
          0.8282622437642896,
          1.1329811617948955,
          -7.467230510188286,
          -5.3934910982662245,
          0.9521024271970006,
          0.9577905754912691,
          0.9853261052692474,
          0.8199519684775851,
          0.7661957674280274,
          0.11341801675099428,
          0.896323960835299,
          0.9914181211111088,
          0.410559184101662,
          1.111557293787373,
          1.1716097394831118,
          -3.888892294278174,
          1.1168147043035535,
          0.7366999616683441,
          1.0109591295834661,
          1.1931522243000034,
          0.500545955290189,
          0.788658314797807,
          1.2486370159728406,
          1.0578654913527898,
          1.0409610101374684,
          -2.7049724467838026,
          -5.3934910982662245,
          1.155622309539102,
          1.0129618173892752,
          0.6340079756539257,
          0.9051298262293505,
          1.0980106053630174,
          -1.4570307742920747,
          1.0843484685262113,
          0.8451741435464025,
          1.041828107314999,
          0.5237226030039792,
          1.228110949329845,
          1.0833139442596136,
          0.904727126785043,
          1.2023386714690922,
          0.7856116794286496,
          1.0611013522462354,
          -1.8990674728688872,
          0.7823902395104145,
          -1.7342892053744052,
          -7.356627116358634,
          1.1627221267220866,
          1.0466702376858652,
          1.030075707094806,
          1.322174262542324,
          -0.11724458969004038,
          1.1730536930043711,
          0.9651324358857885,
          -5.3934910982662245,
          -3.1249990801347245,
          0.8337193795283964,
          -4.100426036384998,
          0.9596233757547454,
          0.6061365425117181,
          -2.4481772728646405,
          -3.182428718324455,
          1.0951742973402725,
          1.0716458076304634,
          -2.391858213129506,
          -3.056895672119156,
          -2.419178833856458,
          0.9419340826852289,
          -3.523161705026997,
          -0.7319137442810879,
          -6.883402548959413,
          0.5582834960513581,
          0.6497833045846282,
          -7.1868842961539015,
          -1.5016747157021009,
          0.8193148107936087,
          -2.094512182381454,
          0.9481403520496825,
          1.0571078405629892,
          -2.7249933093065857,
          -7.284203853108552,
          -2.6278037838068666,
          0.6592705152371927,
          0.9503377351577478,
          0.6049977067311009,
          1.0066443957653248,
          0.8634133550210898,
          0.5821547537201995,
          0.9113741745475912,
          0.9138143975420598,
          1.1059719074117593,
          -0.21834116136253143,
          -2.2746216534687544,
          -0.7219439610396029,
          0.822527638318784,
          -2.7055016863473975,
          1.0438583149928813,
          1.0367166752148913,
          1.1498813844386264,
          1.145410097725852,
          1.1615960015579616,
          0.6526040864244653,
          -0.14043849516798795,
          -0.09413781603273398,
          0.4164713846652709,
          0.8936306056264597,
          1.1057892059841048,
          0.2787376462974964,
          -0.9805342935659088,
          1.15260035734817,
          1.0013847192408294,
          0.8723713785776875,
          1.041515586219315,
          1.0232557233671766,
          0.36362406371516304,
          1.0463529594829983,
          0.4701543817600815,
          -2.088510415619725,
          -1.069813757252259,
          1.2715199531802142,
          0.869379183715451,
          0.5713166454815518,
          -1.6477420886828846,
          0.8631020939235805,
          0.6012838799721705,
          1.0744238630193232,
          -0.13987783895164002,
          -4.089045280478357,
          -0.5387009955549102,
          1.0056383668215372,
          -4.213529701249236,
          1.1779454563727911,
          1.1176698902661644,
          0.7845187997421335,
          1.0904053709171908,
          1.2341761926342554,
          -1.2180663545045707,
          1.0672195482268705,
          0.725350598594368,
          0.926567586177625
         ],
         "y": [
          0.05557643643011695,
          0.6332112095782728,
          0.17122226972611101,
          -0.06892183979418488,
          0.4276112891210943,
          4.104971036225018,
          4.6716485523322895,
          0.3422926097654967,
          0.30804075858128754,
          -1.044977959353,
          0.13879639044772904,
          0.299578163916837,
          0.8661585004965192,
          -0.0020220438179656512,
          -3.0035179576906073,
          0.6584582533734147,
          0.45759777535205953,
          0.2446299298459318,
          0.28056611686032795,
          0.04947599587468756,
          0.3041127100993546,
          -0.1217431870121296,
          0.18365282381722145,
          0.5540571227106826,
          -3.42047204686181,
          0.25533093789372896,
          0.3670120339894229,
          0.4122724511900832,
          -0.10929249670779433,
          2.8788325144564513,
          0.01793037208401018,
          -3.0566727974593393,
          -0.02093521689332873,
          -0.4728874018183357,
          0.27468316975548557,
          0.09128671749129029,
          -0.27031272612417173,
          0.2825081104619979,
          0.09182643488530534,
          -0.3841170158643242,
          -0.35958651688682675,
          0.024804358453763102,
          0.24209519247043065,
          -0.19580388421708983,
          0.5203882420366641,
          0.28305967011988425,
          0.1488581578333923,
          0.4045576540440316,
          -0.25575963979679045,
          1.0251986709648344,
          -1.044977959353,
          0.0555445337819289,
          0.19412437975912492,
          -0.06647698088270929,
          0.38112100641281477,
          -3.415912405355422,
          0.5743997803763815,
          0.19810428905062566,
          -3.18711167050184,
          -0.4679857433751245,
          0.5920229793905779,
          -0.058191867702496354,
          0.08576268788635785,
          0.10192513873239063,
          0.4611640680842394,
          -2.3296607841579644,
          0.8516932045768901,
          -1.8276541742962287,
          0.05525325966884187,
          0.06832615324979503,
          4.606167062752003,
          0.12395276663286778,
          0.12462599039138461,
          0.329765704454668,
          0.028454678769226856,
          0.36317621196395045,
          0.3623918303401226,
          0.08260496343377428,
          0.2138365082897239,
          -0.41529586340597147,
          0.45192032916683966,
          -0.061317476598616805,
          -0.14181747786075727,
          0.4686812617122894,
          -0.032762908659165826,
          0.05293791521235111,
          0.011961711079637111,
          -0.18367737934967948,
          0.02220294922129338,
          0.3383023959931579,
          0.12270139650034864,
          0.12333251333918582,
          -0.025758116365780175,
          0.10935213912662041,
          -0.108076879468829,
          0.09191998437316938,
          0.033134288070401606,
          0.6229079621567617,
          0.652879097142669,
          0.021222950261708146,
          -0.06723247272971129,
          3.140874172412184,
          0.1474443398030632,
          0.15967904832655017,
          -0.01999732402181869,
          0.2357569403379253,
          0.19123547613583997,
          0.20459950131533264,
          0.3465173703875581,
          -0.05775399587576622,
          0.09682286530735547,
          0.3755590092773451,
          5.159463496281804,
          -3.602490041333836,
          0.01926189473183036,
          0.2575848901734163,
          0.4492293229288386,
          -0.12211725541237971,
          0.5282530322599337,
          0.11141434973816713,
          -0.13157389127805022,
          0.018362948909293197,
          -0.3324886521012907,
          0.10737004853218257,
          0.24593932023335027,
          -2.9162236760941305,
          0.18847133438472358,
          -0.1858542859461462,
          0.1494261425316071,
          0.020981363595910664,
          0.7890789611495298,
          0.6120584056117376,
          -0.046570239753247186,
          0.2523247115025931,
          -0.12209051889237103,
          2.3436597993663466,
          -3.602490041333836,
          0.06512106208539828,
          -0.007607529959740425,
          0.2991440500575082,
          0.29955854021759404,
          0.10010947007770926,
          1.7303686165257057,
          0.18449319247446114,
          0.39264811659457555,
          0.06597317267069304,
          -0.2545426725764577,
          0.038445773689828225,
          0.07598664165728275,
          0.07182783196980547,
          0.08880175548669372,
          -0.038158156677472514,
          0.25477577477376806,
          -1.9982178158687411,
          0.29227976474511663,
          2.2952309933455837,
          4.80736007650975,
          0.1640258455990143,
          0.009018065151002458,
          0.19593108466217976,
          0.0035511419462350593,
          -0.7172219500730234,
          0.027933946186699355,
          -0.18732720889354088,
          -3.602490041333836,
          -2.525959018531931,
          0.14053274459900902,
          -3.3494959613412907,
          0.11983550758839476,
          0.14716732188287707,
          -2.1178977955373774,
          -2.0245752293910835,
          0.32388847415574246,
          0.013031470006035571,
          -2.1955771588291246,
          -1.9738290358945858,
          -2.1877206994597063,
          0.3239746361513172,
          -3.114748706040933,
          -0.8432554560081243,
          4.816345271795821,
          -0.3265513936582138,
          -0.28707481398848017,
          5.188318152631418,
          -1.2376191967380645,
          0.32992313874778856,
          -1.8935970852255122,
          0.236168766672786,
          0.027576549376575783,
          -2.239974218549112,
          4.973226749840389,
          -2.3275710065797734,
          -0.03324602792149969,
          -0.33370923700966054,
          0.40826933123037296,
          0.13725071046499546,
          -0.09246491410093707,
          0.43946928210973035,
          0.14963203673672976,
          0.3353862978274526,
          -0.04286299735089127,
          -0.7442224084732705,
          -2.1543508519914956,
          1.1013572595273982,
          0.3930903766494145,
          -2.0148073815669894,
          0.3605273286781673,
          0.04204451814649373,
          -0.04328396667223785,
          0.12131020458046878,
          -0.08475121185727026,
          0.33697063401797706,
          -0.5480051650688282,
          -0.5586811902268198,
          0.675325294835265,
          0.3877891597181625,
          -0.14530274535442192,
          0.7243494856431183,
          -1.0569216885934685,
          0.14569028327399355,
          0.11833723323447157,
          0.3119354723037338,
          0.06507581248171992,
          -0.20632884727698372,
          1.0536013846756078,
          0.007033069670473216,
          0.40657477760751326,
          -1.9317434624189878,
          -1.0830307119761573,
          0.1473554757761481,
          0.3527230056174781,
          -0.10232587903657007,
          -1.7456430304957955,
          0.29530431942254826,
          0.12648738601586476,
          0.08052918577830988,
          0.4731283825518478,
          -3.3939046077356982,
          1.1913087203724273,
          0.14155049689858146,
          -3.532297987804517,
          0.017583526055649137,
          -0.0742749130458737,
          0.3561160388885631,
          0.02249705671924165,
          0.01984791910777304,
          1.6986069356218052,
          0.43211344073647173,
          0.0836976259339361,
          0.2697655514799336
         ],
         "z": [
          0.30836169093725413,
          0.7112439034997401,
          -0.3655295116218044,
          -0.055711983745447724,
          0.434293491425645,
          0.006114149702816231,
          -0.1165476956338393,
          -0.49427332303341304,
          0.1599472978597517,
          2.789619769218293,
          -0.2714129024093393,
          -0.19598973920529894,
          0.32818346302197143,
          -0.2579734188026981,
          -1.778960837151512,
          0.18068781178194715,
          -0.02298439315623274,
          0.2410138234959189,
          -0.31337859037295224,
          -0.05322880975278475,
          0.5193474738053305,
          -0.7913903324549668,
          -0.34957159768229434,
          -0.32490271122291614,
          1.039816036072178,
          0.21849911478863382,
          -0.08558087090782808,
          -0.02942923210282101,
          -0.30399813374779056,
          -0.0927700101440621,
          -0.3887792106463787,
          -0.9415174476100665,
          -0.03945324216307606,
          2.177799478576925,
          0.380230852928793,
          -0.06736099068104731,
          -0.7816373668044474,
          0.04305868383293106,
          -0.08605913560285708,
          1.8277299193671337,
          -0.7265031377561045,
          0.32547107856631324,
          0.12392781367080744,
          -0.7172741221813055,
          -0.3389331718713756,
          -0.15734883333517824,
          -0.33628304190395364,
          0.09390895676111079,
          -0.6417756793003011,
          0.4449126222929815,
          2.789619769218293,
          0.01039171704929274,
          0.06478118028739467,
          -0.49942092776430075,
          0.3201586879223775,
          2.1639026441858547,
          -0.35717428872267354,
          0.1198920126727958,
          0.23454354915823572,
          -1.0770913277487495,
          0.3659851577206771,
          -0.633834128534072,
          -0.47011573884227553,
          0.028464217452730225,
          0.11275273516795692,
          -2.134731454498024,
          0.39215880551753496,
          -2.15118966790305,
          0.22662969564777188,
          -0.3654166905792099,
          -0.2586778483725462,
          0.2588886659384691,
          -0.4193993454319455,
          0.3221362848502989,
          0.10213979500536798,
          -0.3640085495415496,
          0.4023838744341228,
          -0.24725485874592695,
          -0.25466455302083996,
          -0.8241059026524391,
          0.43555186605891316,
          -0.42466495741129456,
          -0.47233407594787896,
          0.10444754040753486,
          -0.36651859173853113,
          -0.5938597889399776,
          -0.26067417203253707,
          -0.4486191051556186,
          -0.5807821956619635,
          -0.3608252092647918,
          0.45705730623668245,
          0.0009939501734393759,
          -0.2965773112842177,
          -0.56292378083347,
          -0.2878641309231111,
          -0.37421890024252347,
          0.13093449549586392,
          0.09548055311776185,
          -0.31272742472373577,
          -0.35180580769450104,
          -0.3978591367109118,
          0.026408747791696413,
          -0.7086391907446536,
          -0.2433309281180587,
          0.057134178661729526,
          0.1693122736303156,
          -0.0016039399205091582,
          0.03010668337342522,
          -0.2532734540258994,
          -0.3784803063126208,
          1.7492456531355405,
          0.23376863366406214,
          -0.3507474941926137,
          1.8856929962830442,
          0.04428257583030975,
          0.40589862148490896,
          0.41580517140807255,
          -0.1754232554049879,
          0.33520578598986,
          -0.20020789729138908,
          -0.5806823364942139,
          -0.15490416358770934,
          1.811782486021959,
          -0.09781488875791162,
          0.5092734886994722,
          -1.5481374471181084,
          0.1458500547131062,
          1.2035949550856824,
          -0.2251310057100924,
          -0.2716737032918918,
          0.2867496332006779,
          -0.28608693874559593,
          -0.47244891129640826,
          0.46867820170694086,
          -0.3297350245208974,
          0.7033955867379987,
          1.8856929962830442,
          -0.41661905923678694,
          -0.42836414106698745,
          -0.3109448397194934,
          -0.03486091243703278,
          0.20784125228302563,
          0.321403483394159,
          0.15101105720237362,
          0.32022577979215106,
          0.18329598423584986,
          -0.9956937028894566,
          0.1409084399804532,
          0.16189177150594922,
          0.35396723473681435,
          0.23451818315054826,
          -0.33236378941215083,
          0.2059778634012886,
          -0.8065837785297453,
          -0.48469181286671587,
          0.5802726514008169,
          -0.23640303595334228,
          -0.3545265096327158,
          0.1302160194936353,
          1.1060082355967866,
          -0.3905254021261945,
          2.2435407955412323,
          -0.4691203406775945,
          -0.04905044953925615,
          1.8856929962830442,
          -2.3317357944713355,
          -0.014166407562336699,
          1.9796354149111886,
          0.22623194112880796,
          -0.3475317536132448,
          -2.585999562734801,
          -2.427679501118426,
          0.15199154455245695,
          -0.4105211800850854,
          -2.525614698842937,
          -2.1636975516000754,
          -2.3899730757224082,
          -0.5145131287865223,
          -0.5854237187351746,
          3.1573682653065624,
          -0.348098487754216,
          -0.9486441140906808,
          -0.6617409302551523,
          -0.21595591478150308,
          4.049943700446407,
          0.11739766198877173,
          -1.5279242364410068,
          0.23513083754062325,
          -0.22027749769606095,
          -2.2051748377729976,
          -0.26956249978643926,
          -2.5038422113691645,
          -0.38511154964909566,
          -0.46201429168460106,
          0.2953271510347472,
          0.17302287010268122,
          -0.0599960644894895,
          0.16483121892384384,
          -0.22031234219715104,
          0.3759674098990793,
          -0.4218326447295201,
          1.9562368433989032,
          0.06232210966288473,
          1.0544248841483825,
          0.1500681053600643,
          -1.9864434905399602,
          0.01998849110478705,
          0.5631234373818215,
          0.19055093188228198,
          -0.2927965276269893,
          -0.48130718555218865,
          -0.5245142865534337,
          2.274155572730388,
          2.346050606315627,
          0.39835871926764854,
          0.4143263960823434,
          -0.5340906640671284,
          -0.11649505854169455,
          3.663057973511192,
          -0.052663088441397755,
          -0.6490020624117347,
          -0.2527472276076996,
          0.2841923884187946,
          -0.4667292486013539,
          0.6617743065626293,
          0.03161606145215892,
          0.011941630494091915,
          0.8913266443635637,
          3.040567573241137,
          -0.33773235164369475,
          -0.5932283811300747,
          -0.3958656257717871,
          -1.598328613967835,
          -0.2684373292023996,
          0.1856374839018261,
          -0.3093374500895429,
          -0.24148469168610004,
          1.7336024795191687,
          0.415463186683017,
          0.37801752889038476,
          1.3232243176990095,
          0.23891238285067362,
          -0.5900365720289364,
          -0.15455722713904366,
          -0.2477586578255138,
          -0.47838612365242783,
          0.07266879964954141,
          0.48299609349572686,
          0.05133538974425366,
          0.27235310292486936
         ]
        },
        {
         "marker": {
          "opacity": 0.8,
          "size": 6
         },
         "mode": "markers",
         "name": "human",
         "type": "scatter3d",
         "x": [
          1.1855779295360431,
          0.6247533361536004,
          -1.7252794679202546,
          -0.16375628797484654,
          -0.041809151245077766,
          -1.3572815980943433,
          1.228048953096305,
          -1.7252794679202546,
          -0.4963108061859112,
          0.7318011526512717,
          1.6444786615283735,
          0.6984963125556632,
          0.39979695161329687,
          -1.2754765588499863,
          1.2684687641520056,
          1.1110237212573855,
          1.097303149190141,
          0.3063759393589234,
          -0.16739202689867388,
          0.35691769991051037,
          0.9385469622284203,
          0.8199696065143149,
          0.9518359074166739,
          -0.547110078099407,
          1.1697400950391605,
          -1.3607089111235713,
          -0.7318042057310239,
          0.41917575302880405,
          0.7868603113162095,
          -0.953451859328184,
          -0.16375628797484654,
          1.119750953574763,
          0.29582614681510117,
          0.7462186962159921,
          0.2124200600406159,
          0.8011236266366077,
          -0.6119379765120394,
          0.5719078140309772,
          0.8011236266366077,
          0.14343145087252046,
          1.1012790329997488,
          1.1551807297473393,
          -0.7318042057310239,
          0.7709632824458222,
          -0.5746624113587282,
          1.1337935854341268,
          -1.6091125241047106,
          -0.8196341689759331,
          0.20716137414754882,
          -1.617745060290556,
          0.6986239913405153,
          -1.4913356565358384,
          0.7074378291359874,
          0.41917575302880405,
          0.9287664998096171,
          0.537798727339517,
          -1.2395960803067576,
          -1.0346179254648609,
          0.5646536355190335,
          0.9518359074166739,
          1.2724378420258051,
          0.7709632824458222,
          -0.047103529314715835,
          -1.7051579774189491,
          0.12770594869197827,
          0.8625805680793941,
          0.7462186962159921,
          -0.047103529314715835,
          -0.6268915614786119,
          -1.527573695502884,
          -0.047103529314715835,
          -0.7318042057310239,
          -1.386642315156143,
          -0.571057384117412,
          -0.31128092916299716,
          -1.7252794679202546,
          0.5013253139144588,
          -0.02867577717382187,
          -2.143088066677683,
          -0.6099284800152351,
          -1.0756538668764932,
          0.016308449410652986,
          -1.671617222033444,
          0.24474402243469054,
          -2.143088066677683,
          -0.6095445594297761,
          -0.670379158505439,
          -2.5208033715332516,
          -0.547110078099407,
          -1.455427376950208,
          -0.6268915614786119,
          0.5511773101388139,
          -1.671617222033444,
          -0.547110078099407,
          1.1012790329997488,
          -1.5937920894798063,
          0.9287649940960071,
          -0.9875590719143292,
          -0.796480609447249,
          -1.671617222033444,
          -1.485640713275124,
          0.8106350003014785,
          -1.466382958423836,
          1.1220800288579673,
          -0.7362941819992839,
          1.0416561271663913,
          -0.5994724326957338,
          -1.783347341897321,
          0.1968159247762515,
          0.49550584638578943,
          1.2279916629527534,
          0.15541585436465385,
          1.2724378420258051,
          0.537798727339517,
          -0.10150572496513138,
          0.6106559440015649,
          -0.44641424025075227,
          0.30607136361651116,
          1.6401203539857996,
          -1.6091125241047106,
          -1.386642315156143,
          -1.1543796669915456,
          0.7462186962159921,
          0.5013253139144588,
          0.27802743183913387,
          1.2684687641520056,
          -1.0756538668764932,
          0.8410232527269338,
          -0.6767830049557281,
          0.23846074974753764,
          -0.02867577717382187,
          -1.7252794679202546,
          0.7709632824458222,
          -0.3275600067419357,
          -0.31128092916299716,
          0.9385469622284203,
          0.537798727339517,
          0.6098132649920411,
          -2.835997433280509,
          -0.16375628797484654,
          -0.9341271037055701,
          0.841814679266754,
          0.016308449410652986,
          -0.7318042057310239,
          0.841814679266754,
          1.3502855074987188,
          -0.7138612010664446,
          1.1551807297473393,
          0.841814679266754,
          0.5373599479085754,
          1.6444786615283735,
          1.1220800288579673,
          -1.0385526650579249,
          1.119750953574763,
          -0.6099284800152351,
          -1.783347341897321,
          0.3891320128168331,
          -0.547110078099407,
          0.9910280621515789,
          -1.105674049171114,
          -2.143088066677683,
          0.7462186962159921,
          -1.4145023803621446,
          -0.24436367139544482,
          0.537798727339517,
          1.8186194622740839,
          1.341416678633126,
          1.1697400950391605,
          0.14343145087252046,
          0.28384826308489225,
          0.5089023674345167,
          0.5089023674345167,
          -1.093527026425608,
          0.7527280419873603,
          0.5089023674345167,
          0.8625805680793941,
          0.5089023674345167,
          -0.547110078099407,
          0.9397316041147847,
          2.0295170114893795,
          -0.047103529314715835,
          -0.047103529314715835,
          -0.047103529314715835,
          -0.047103529314715835,
          0.8606740903520562,
          1.3353576495375965,
          0.8940384087011791,
          0.1617550637395105,
          0.8998189885142659,
          0.8940384087011791,
          -0.047103529314715835,
          0.8940384087011791,
          -0.047103529314715835,
          0.8998189885142659,
          0.7527280419873603,
          0.10408300644896341,
          -0.9337017806919976,
          0.5013253139144588,
          0.08108600201244083,
          0.44618271307385377,
          -1.485640713275124,
          0.7462186962159921,
          1.119750953574763,
          0.4137260170719639,
          0.6690316257400754,
          1.228048953096305,
          0.5719078140309772,
          -0.5728188342088968,
          0.36804750375015655,
          0.49550584638578943,
          0.5013253139144588,
          -2.11110406484446,
          0.7462186962159921,
          1.0853294493427421,
          0.9385469622284203,
          0.8385351313075808,
          -0.4364308582830478,
          -0.670379158505439,
          0.8410232527269338,
          0.5719078140309772,
          -0.547110078099407,
          -0.4364308582830478,
          0.3063759393589234,
          -1.4671986303987394,
          0.39979695161329687,
          -1.392852751385709,
          0.7868603113162095,
          1.119750953574763,
          -0.5994724326957338,
          -0.6573639582393389,
          -0.547110078099407,
          -1.0906369294553555,
          -0.4998097422482349,
          0.12770594869197827,
          0.3820517919679447,
          -2.0084056813487776,
          -1.6091125241047106,
          0.5646536355190335,
          -1.3988299948148457,
          1.4104286688966374,
          0.7850632579215725,
          -0.6268915614786119,
          -1.3143376852088628,
          -0.02867577717382187,
          0.01840502716750482,
          -1.7252794679202546,
          -1.0756538668764932,
          1.2776246946471617,
          1.341416678633126,
          0.10481659972943211
         ],
         "y": [
          0.14313318054529914,
          2.977264882785152,
          0.5591819890580311,
          0.9707216687889408,
          3.4610914783550966,
          2.8223328381701336,
          1.870004885961041,
          0.5591819890580311,
          1.8953484619040815,
          0.6158995546698283,
          0.18292024526263048,
          0.6144060164270738,
          -0.8612763063035421,
          -0.19119479516762372,
          0.7660705472132654,
          1.2776841202714164,
          -0.43909758618987105,
          -0.20849966216484084,
          0.34116089719674486,
          -0.8935498744984047,
          0.24644864827595178,
          -0.9982803613014276,
          -0.3561751131704071,
          -0.09948072010823576,
          -0.5116917041011987,
          -0.08918170765696078,
          0.005171411004199052,
          -0.33289426537110434,
          -0.5292015256269837,
          0.12351621828161019,
          0.9707216687889408,
          -0.0006525385631382204,
          0.1103755104150653,
          -0.7726613499044064,
          1.6443160737001103,
          0.08794311171373236,
          -1.2302070153598363,
          2.7245200851777405,
          0.08794311171373236,
          1.8720012166417854,
          -0.2043056513098777,
          0.2160575302172558,
          0.005171411004199052,
          0.22273135887412857,
          -0.5804763430364316,
          0.09428280140314318,
          0.07670674620029919,
          -0.022123283826107044,
          -0.7696549545213577,
          -0.18011242648038908,
          0.2642337983311147,
          -0.38166468611372734,
          1.9006844036909933,
          -0.33289426537110434,
          -0.014054545019841285,
          -0.19059134025230354,
          0.8542468682540402,
          0.013984520299314651,
          -0.197861281371013,
          -0.3561751131704071,
          -0.8256451800307699,
          0.22273135887412857,
          -1.4402290433065785,
          -0.324714702117451,
          -0.31991806244556986,
          -0.8693484440307662,
          -0.7726613499044064,
          -1.4402290433065785,
          -0.10845994506204859,
          0.03596327251375205,
          -1.4402290433065785,
          0.005171411004199052,
          -0.32449503223825643,
          0.8148231976350356,
          -0.009270154448230157,
          0.5591819890580311,
          0.003290520524751087,
          1.2152761817411233,
          -0.019003719828296035,
          -0.1333256912993618,
          -0.05237407564858412,
          -0.7414778999549195,
          -0.3863795521539504,
          -0.137826599929176,
          -0.019003719828296035,
          -0.04058554171300293,
          -1.2252876964480073,
          0.08606093678237024,
          -0.09948072010823576,
          -0.07517194517893956,
          -0.10845994506204859,
          -0.3333119494359108,
          -0.3863795521539504,
          -0.09948072010823576,
          -0.2043056513098777,
          0.030839306333171015,
          0.46683443897930954,
          -0.05497666975470779,
          0.1858981194869952,
          -0.3863795521539504,
          -0.4377040721197077,
          -0.5875980188705976,
          -0.5559466474577182,
          -0.5869199534097451,
          0.5477967851009736,
          0.4355691395046649,
          -0.14214715062415284,
          -0.33702184783403444,
          0.04184488792260348,
          0.2310860176290864,
          0.537592068536177,
          -0.11967259280727433,
          -0.8256451800307699,
          -0.19059134025230354,
          0.28329575012897357,
          -0.09563927357548506,
          0.18125270706233346,
          -0.8354470268461094,
          -0.11805678254592226,
          0.07670674620029919,
          -0.32449503223825643,
          -0.06471111492952633,
          -0.7726613499044064,
          0.003290520524751087,
          0.8774477888641675,
          0.7660705472132654,
          -0.05237407564858412,
          0.5734063799239961,
          1.5478404785355753,
          0.04262515602087652,
          1.2152761817411233,
          0.5591819890580311,
          0.22273135887412857,
          -0.49351048145540855,
          -0.009270154448230157,
          0.24644864827595178,
          -0.19059134025230354,
          0.10539551238273434,
          0.1253259094776628,
          0.9707216687889408,
          -0.14397928595484227,
          0.0675986697278636,
          -0.7414778999549195,
          0.005171411004199052,
          0.0675986697278636,
          0.27836370724471854,
          -0.9679153490337657,
          0.2160575302172558,
          0.0675986697278636,
          -0.3468703829783324,
          0.18292024526263048,
          -0.5869199534097451,
          0.09035528332145454,
          -0.0006525385631382204,
          -0.1333256912993618,
          -0.33702184783403444,
          -0.357036451571884,
          -0.09948072010823576,
          0.539819039388588,
          0.23427516818699906,
          -0.019003719828296035,
          -0.7726613499044064,
          -0.39087008087731995,
          0.1373531773652905,
          -0.19059134025230354,
          0.01147534733928719,
          -0.12073143013645585,
          -0.5116917041011987,
          1.8720012166417854,
          -1.326057204735977,
          -1.3467562987565171,
          -1.3467562987565171,
          0.19105553457398125,
          -0.39130539987420393,
          -1.3467562987565171,
          -0.8693484440307662,
          -1.3467562987565171,
          -0.09948072010823576,
          0.2957451233850252,
          0.7953573340072402,
          -1.4402290433065785,
          -1.4402290433065785,
          -1.4402290433065785,
          -1.4402290433065785,
          -0.4656964541192112,
          -0.8740944139771663,
          -0.9109473403158275,
          1.0935312931437715,
          -0.4098674570370422,
          -0.9109473403158275,
          -1.4402290433065785,
          -0.9109473403158275,
          -1.4402290433065785,
          -0.4098674570370422,
          -0.39130539987420393,
          0.26847675328924175,
          1.5000845420577538,
          0.003290520524751087,
          -0.167172158018101,
          -0.5347428846511703,
          -0.4377040721197077,
          -0.7726613499044064,
          -0.0006525385631382204,
          1.3215353183262522,
          -1.1077033139333048,
          1.870004885961041,
          2.7245200851777405,
          0.4472862757333144,
          1.0748070231066258,
          0.2310860176290864,
          0.003290520524751087,
          -0.42095135228254665,
          -0.7726613499044064,
          0.14708792329860249,
          0.24644864827595178,
          -0.5488415822577594,
          -0.4978625692107365,
          -1.2252876964480073,
          0.5734063799239961,
          2.7245200851777405,
          -0.09948072010823576,
          -0.4978625692107365,
          -0.20849966216484084,
          -0.050478114136273664,
          -0.8612763063035421,
          -0.01644160095020338,
          -0.5292015256269837,
          -0.0006525385631382204,
          -0.14214715062415284,
          1.6900758172191905,
          -0.09948072010823576,
          -0.36948069568396735,
          0.279440544762177,
          -0.31991806244556986,
          -0.21244082678064832,
          -0.43152413173022297,
          0.07670674620029919,
          -0.197861281371013,
          -0.02090574688149201,
          0.438816590604976,
          -0.21524077298475455,
          -0.10845994506204859,
          0.4022080800548654,
          1.2152761817411233,
          0.4141860753967656,
          0.5591819890580311,
          -0.05237407564858412,
          0.34413579572262465,
          -0.12073143013645585,
          0.12497952532122843
         ],
         "z": [
          0.4135325306574885,
          -1.6142124053666929,
          -0.6003927635721276,
          -0.36833494784476506,
          -1.51462292750517,
          -1.154884384018997,
          0.7922093135917263,
          -0.6003927635721271,
          -1.849282641743507,
          0.3884558879376183,
          0.4992063696691918,
          0.3000340514009665,
          -0.31510920860452307,
          0.40838605100555775,
          0.38859260942458745,
          1.3996962654428902,
          -0.08999203571330072,
          0.2993361649135265,
          -0.031482329512845304,
          -0.2660905504787024,
          0.5244099407777708,
          -1.5539159645538232,
          -0.12958211652943913,
          0.6088438793221274,
          -0.5595555365112731,
          0.5233006069110613,
          0.2039100096293062,
          0.22587041166124583,
          -0.19592863006093117,
          0.23297816908615196,
          -0.36833494784476506,
          0.39454568085767827,
          0.602001840574127,
          -0.10625174664401338,
          -0.9687590883430538,
          0.42919347013116804,
          -0.33765342286539624,
          -0.44180978352126465,
          0.42919347013116804,
          -0.9102418604515369,
          0.3704652508787849,
          0.2949986991630158,
          0.2039100096293062,
          0.43481080538194333,
          0.18356969447410262,
          0.4774831455278911,
          -0.5234831500597271,
          -0.818868514487755,
          -0.4969396789801365,
          0.5321032312190059,
          0.6414180701018033,
          0.32872412847369287,
          -1.0315033682794086,
          0.22587041166124583,
          0.4587163235596455,
          0.30530204179866455,
          -0.7593600481808472,
          0.4587154057769853,
          0.26901985592848654,
          -0.12958211652943913,
          -0.35615671216806244,
          0.43481080538194333,
          -1.3417126499599066,
          0.17491913650408622,
          0.31165997515674326,
          -0.7675541900117882,
          -0.10625174664401338,
          -1.3417126499599066,
          0.27666170831595377,
          0.5019173964217493,
          -1.3417126499599066,
          0.2039100096293062,
          0.33535341858828854,
          0.7701761779928038,
          0.4510725103822752,
          -0.6003927635721271,
          0.055432115800317726,
          -0.6199029974141756,
          0.061724605804423203,
          0.4386353204333621,
          -0.07534669435943395,
          0.15895517701321407,
          0.3641687405608191,
          0.4823164107704559,
          0.061724605804423203,
          0.7262460434498806,
          -0.349541064446398,
          0.5517440621734132,
          0.6088438793221274,
          0.445605600460581,
          0.27666170831595377,
          -0.07570006211934596,
          0.3641687405608191,
          0.6088438793221274,
          0.3704652508787849,
          0.324748926613475,
          0.5283231162036999,
          0.5414022103704459,
          0.6082338114283004,
          0.3641687405608191,
          0.4763318926119587,
          -0.42189036355388493,
          0.30341305856796535,
          -0.09891988979694553,
          0.2889118539508873,
          0.3696598128824809,
          0.22889060653299168,
          0.42249406149246627,
          0.5214348439411289,
          0.5307879123751258,
          0.7239324778707038,
          0.33677739266522355,
          -0.35615671216806244,
          0.30530204179866455,
          0.7148468896333647,
          0.10792570599285363,
          0.23690003140806554,
          -0.2647067477935772,
          0.25482941882134064,
          -0.5234831500597271,
          0.33535341858828854,
          0.1840574976369728,
          -0.10625174664401338,
          0.055432115800317726,
          -0.28965578689697435,
          0.38859260942458745,
          -0.07534669435943395,
          0.7035820525607864,
          -1.1777978174164783,
          0.5398933849863524,
          -0.6199029974141756,
          -0.6003927635721271,
          0.43481080538194333,
          -0.2903726786705973,
          0.4510725103822752,
          0.5244099407777708,
          0.30530204179866455,
          0.03360794360583128,
          0.12122949851797832,
          -0.36833494784476506,
          0.4174188988460879,
          0.3562417523343127,
          0.15895517701321407,
          0.2039100096293062,
          0.3562417523343127,
          0.5112432880613574,
          -0.4555448802420252,
          0.2949986991630158,
          0.3562417523343127,
          -0.08741445477096371,
          0.4992063696691918,
          -0.09891988979694553,
          0.005136899196947484,
          0.39454568085767827,
          0.4386353204333621,
          0.42249406149246627,
          -0.6124050381549717,
          0.6088438793221274,
          0.530676767837529,
          0.7927692248391756,
          0.061724605804423203,
          -0.10625174664401338,
          0.3411152080684101,
          0.28442805390478665,
          0.30530204179866455,
          -0.12408042901453825,
          0.2309759568460783,
          -0.5595555365112731,
          -0.9102418604515369,
          -0.8253029089844316,
          -0.7791282561489481,
          -0.7791282561489481,
          0.5209966454008274,
          -0.03314651412546385,
          -0.7791282561489481,
          -0.7675541900117882,
          -0.7791282561489481,
          0.6088438793221274,
          0.6194350711936928,
          0.7023373696122561,
          -1.3417126499599066,
          -1.3417126499599066,
          -1.3417126499599066,
          -1.3417126499599066,
          0.12316232694745993,
          -0.6705813476222855,
          -0.41343649353233164,
          -1.7062069303306546,
          -0.13741352914191612,
          -0.41343649353233164,
          -1.3417126499599066,
          -0.41343649353233164,
          -1.3417126499599066,
          -0.13741352914191612,
          -0.03314651412546385,
          -0.08557843998220677,
          -1.2744568967249876,
          0.055432115800317726,
          0.2335698668798763,
          -0.13916484503844892,
          0.4763318926119587,
          -0.10625174664401338,
          0.39454568085767827,
          -1.409962826177391,
          -0.5851502400434154,
          0.7922093135917263,
          -0.44180978352126465,
          0.8614525465433911,
          0.004052528836885913,
          0.5307879123751258,
          0.055432115800317726,
          0.2667239599230539,
          -0.10625174664401338,
          0.2899944193566106,
          0.5244099407777708,
          -0.07239899653305593,
          -0.16035785109440545,
          -0.349541064446398,
          0.7035820525607864,
          -0.44180978352126465,
          0.6088438793221274,
          -0.16035785109440545,
          0.2993361649135265,
          0.3984349790123405,
          -0.31510920860452307,
          0.36839451938421874,
          -0.19592863006093117,
          0.39454568085767827,
          0.22889060653299168,
          -0.5972282728118071,
          0.6088438793221274,
          0.23235774988599942,
          0.4116876382432251,
          0.31165997515674326,
          0.17582130141184074,
          0.33398789113390115,
          -0.5234831500597271,
          0.26901985592848654,
          0.6430335150213988,
          0.4693386486328788,
          0.25306426771576396,
          0.27666170831595377,
          0.05837153653878013,
          -0.6199029974141756,
          -0.145889200538316,
          -0.6003927635721271,
          -0.07534669435943395,
          -0.03379635213980294,
          0.2309759568460783,
          0.5590559603477289
         ]
        }
       ],
       "layout": {
        "height": 820,
        "margin": {
         "b": 0,
         "l": 0,
         "r": 0,
         "t": 0
        },
        "template": {
         "data": {
          "bar": [
           {
            "error_x": {
             "color": "#2a3f5f"
            },
            "error_y": {
             "color": "#2a3f5f"
            },
            "marker": {
             "line": {
              "color": "#E5ECF6",
              "width": 0.5
             },
             "pattern": {
              "fillmode": "overlay",
              "size": 10,
              "solidity": 0.2
             }
            },
            "type": "bar"
           }
          ],
          "barpolar": [
           {
            "marker": {
             "line": {
              "color": "#E5ECF6",
              "width": 0.5
             },
             "pattern": {
              "fillmode": "overlay",
              "size": 10,
              "solidity": 0.2
             }
            },
            "type": "barpolar"
           }
          ],
          "carpet": [
           {
            "aaxis": {
             "endlinecolor": "#2a3f5f",
             "gridcolor": "white",
             "linecolor": "white",
             "minorgridcolor": "white",
             "startlinecolor": "#2a3f5f"
            },
            "baxis": {
             "endlinecolor": "#2a3f5f",
             "gridcolor": "white",
             "linecolor": "white",
             "minorgridcolor": "white",
             "startlinecolor": "#2a3f5f"
            },
            "type": "carpet"
           }
          ],
          "choropleth": [
           {
            "colorbar": {
             "outlinewidth": 0,
             "ticks": ""
            },
            "type": "choropleth"
           }
          ],
          "contour": [
           {
            "colorbar": {
             "outlinewidth": 0,
             "ticks": ""
            },
            "colorscale": [
             [
              0,
              "#0d0887"
             ],
             [
              0.1111111111111111,
              "#46039f"
             ],
             [
              0.2222222222222222,
              "#7201a8"
             ],
             [
              0.3333333333333333,
              "#9c179e"
             ],
             [
              0.4444444444444444,
              "#bd3786"
             ],
             [
              0.5555555555555556,
              "#d8576b"
             ],
             [
              0.6666666666666666,
              "#ed7953"
             ],
             [
              0.7777777777777778,
              "#fb9f3a"
             ],
             [
              0.8888888888888888,
              "#fdca26"
             ],
             [
              1,
              "#f0f921"
             ]
            ],
            "type": "contour"
           }
          ],
          "contourcarpet": [
           {
            "colorbar": {
             "outlinewidth": 0,
             "ticks": ""
            },
            "type": "contourcarpet"
           }
          ],
          "heatmap": [
           {
            "colorbar": {
             "outlinewidth": 0,
             "ticks": ""
            },
            "colorscale": [
             [
              0,
              "#0d0887"
             ],
             [
              0.1111111111111111,
              "#46039f"
             ],
             [
              0.2222222222222222,
              "#7201a8"
             ],
             [
              0.3333333333333333,
              "#9c179e"
             ],
             [
              0.4444444444444444,
              "#bd3786"
             ],
             [
              0.5555555555555556,
              "#d8576b"
             ],
             [
              0.6666666666666666,
              "#ed7953"
             ],
             [
              0.7777777777777778,
              "#fb9f3a"
             ],
             [
              0.8888888888888888,
              "#fdca26"
             ],
             [
              1,
              "#f0f921"
             ]
            ],
            "type": "heatmap"
           }
          ],
          "heatmapgl": [
           {
            "colorbar": {
             "outlinewidth": 0,
             "ticks": ""
            },
            "colorscale": [
             [
              0,
              "#0d0887"
             ],
             [
              0.1111111111111111,
              "#46039f"
             ],
             [
              0.2222222222222222,
              "#7201a8"
             ],
             [
              0.3333333333333333,
              "#9c179e"
             ],
             [
              0.4444444444444444,
              "#bd3786"
             ],
             [
              0.5555555555555556,
              "#d8576b"
             ],
             [
              0.6666666666666666,
              "#ed7953"
             ],
             [
              0.7777777777777778,
              "#fb9f3a"
             ],
             [
              0.8888888888888888,
              "#fdca26"
             ],
             [
              1,
              "#f0f921"
             ]
            ],
            "type": "heatmapgl"
           }
          ],
          "histogram": [
           {
            "marker": {
             "pattern": {
              "fillmode": "overlay",
              "size": 10,
              "solidity": 0.2
             }
            },
            "type": "histogram"
           }
          ],
          "histogram2d": [
           {
            "colorbar": {
             "outlinewidth": 0,
             "ticks": ""
            },
            "colorscale": [
             [
              0,
              "#0d0887"
             ],
             [
              0.1111111111111111,
              "#46039f"
             ],
             [
              0.2222222222222222,
              "#7201a8"
             ],
             [
              0.3333333333333333,
              "#9c179e"
             ],
             [
              0.4444444444444444,
              "#bd3786"
             ],
             [
              0.5555555555555556,
              "#d8576b"
             ],
             [
              0.6666666666666666,
              "#ed7953"
             ],
             [
              0.7777777777777778,
              "#fb9f3a"
             ],
             [
              0.8888888888888888,
              "#fdca26"
             ],
             [
              1,
              "#f0f921"
             ]
            ],
            "type": "histogram2d"
           }
          ],
          "histogram2dcontour": [
           {
            "colorbar": {
             "outlinewidth": 0,
             "ticks": ""
            },
            "colorscale": [
             [
              0,
              "#0d0887"
             ],
             [
              0.1111111111111111,
              "#46039f"
             ],
             [
              0.2222222222222222,
              "#7201a8"
             ],
             [
              0.3333333333333333,
              "#9c179e"
             ],
             [
              0.4444444444444444,
              "#bd3786"
             ],
             [
              0.5555555555555556,
              "#d8576b"
             ],
             [
              0.6666666666666666,
              "#ed7953"
             ],
             [
              0.7777777777777778,
              "#fb9f3a"
             ],
             [
              0.8888888888888888,
              "#fdca26"
             ],
             [
              1,
              "#f0f921"
             ]
            ],
            "type": "histogram2dcontour"
           }
          ],
          "mesh3d": [
           {
            "colorbar": {
             "outlinewidth": 0,
             "ticks": ""
            },
            "type": "mesh3d"
           }
          ],
          "parcoords": [
           {
            "line": {
             "colorbar": {
              "outlinewidth": 0,
              "ticks": ""
             }
            },
            "type": "parcoords"
           }
          ],
          "pie": [
           {
            "automargin": true,
            "type": "pie"
           }
          ],
          "scatter": [
           {
            "fillpattern": {
             "fillmode": "overlay",
             "size": 10,
             "solidity": 0.2
            },
            "type": "scatter"
           }
          ],
          "scatter3d": [
           {
            "line": {
             "colorbar": {
              "outlinewidth": 0,
              "ticks": ""
             }
            },
            "marker": {
             "colorbar": {
              "outlinewidth": 0,
              "ticks": ""
             }
            },
            "type": "scatter3d"
           }
          ],
          "scattercarpet": [
           {
            "marker": {
             "colorbar": {
              "outlinewidth": 0,
              "ticks": ""
             }
            },
            "type": "scattercarpet"
           }
          ],
          "scattergeo": [
           {
            "marker": {
             "colorbar": {
              "outlinewidth": 0,
              "ticks": ""
             }
            },
            "type": "scattergeo"
           }
          ],
          "scattergl": [
           {
            "marker": {
             "colorbar": {
              "outlinewidth": 0,
              "ticks": ""
             }
            },
            "type": "scattergl"
           }
          ],
          "scattermapbox": [
           {
            "marker": {
             "colorbar": {
              "outlinewidth": 0,
              "ticks": ""
             }
            },
            "type": "scattermapbox"
           }
          ],
          "scatterpolar": [
           {
            "marker": {
             "colorbar": {
              "outlinewidth": 0,
              "ticks": ""
             }
            },
            "type": "scatterpolar"
           }
          ],
          "scatterpolargl": [
           {
            "marker": {
             "colorbar": {
              "outlinewidth": 0,
              "ticks": ""
             }
            },
            "type": "scatterpolargl"
           }
          ],
          "scatterternary": [
           {
            "marker": {
             "colorbar": {
              "outlinewidth": 0,
              "ticks": ""
             }
            },
            "type": "scatterternary"
           }
          ],
          "surface": [
           {
            "colorbar": {
             "outlinewidth": 0,
             "ticks": ""
            },
            "colorscale": [
             [
              0,
              "#0d0887"
             ],
             [
              0.1111111111111111,
              "#46039f"
             ],
             [
              0.2222222222222222,
              "#7201a8"
             ],
             [
              0.3333333333333333,
              "#9c179e"
             ],
             [
              0.4444444444444444,
              "#bd3786"
             ],
             [
              0.5555555555555556,
              "#d8576b"
             ],
             [
              0.6666666666666666,
              "#ed7953"
             ],
             [
              0.7777777777777778,
              "#fb9f3a"
             ],
             [
              0.8888888888888888,
              "#fdca26"
             ],
             [
              1,
              "#f0f921"
             ]
            ],
            "type": "surface"
           }
          ],
          "table": [
           {
            "cells": {
             "fill": {
              "color": "#EBF0F8"
             },
             "line": {
              "color": "white"
             }
            },
            "header": {
             "fill": {
              "color": "#C8D4E3"
             },
             "line": {
              "color": "white"
             }
            },
            "type": "table"
           }
          ]
         },
         "layout": {
          "annotationdefaults": {
           "arrowcolor": "#2a3f5f",
           "arrowhead": 0,
           "arrowwidth": 1
          },
          "autotypenumbers": "strict",
          "coloraxis": {
           "colorbar": {
            "outlinewidth": 0,
            "ticks": ""
           }
          },
          "colorscale": {
           "diverging": [
            [
             0,
             "#8e0152"
            ],
            [
             0.1,
             "#c51b7d"
            ],
            [
             0.2,
             "#de77ae"
            ],
            [
             0.3,
             "#f1b6da"
            ],
            [
             0.4,
             "#fde0ef"
            ],
            [
             0.5,
             "#f7f7f7"
            ],
            [
             0.6,
             "#e6f5d0"
            ],
            [
             0.7,
             "#b8e186"
            ],
            [
             0.8,
             "#7fbc41"
            ],
            [
             0.9,
             "#4d9221"
            ],
            [
             1,
             "#276419"
            ]
           ],
           "sequential": [
            [
             0,
             "#0d0887"
            ],
            [
             0.1111111111111111,
             "#46039f"
            ],
            [
             0.2222222222222222,
             "#7201a8"
            ],
            [
             0.3333333333333333,
             "#9c179e"
            ],
            [
             0.4444444444444444,
             "#bd3786"
            ],
            [
             0.5555555555555556,
             "#d8576b"
            ],
            [
             0.6666666666666666,
             "#ed7953"
            ],
            [
             0.7777777777777778,
             "#fb9f3a"
            ],
            [
             0.8888888888888888,
             "#fdca26"
            ],
            [
             1,
             "#f0f921"
            ]
           ],
           "sequentialminus": [
            [
             0,
             "#0d0887"
            ],
            [
             0.1111111111111111,
             "#46039f"
            ],
            [
             0.2222222222222222,
             "#7201a8"
            ],
            [
             0.3333333333333333,
             "#9c179e"
            ],
            [
             0.4444444444444444,
             "#bd3786"
            ],
            [
             0.5555555555555556,
             "#d8576b"
            ],
            [
             0.6666666666666666,
             "#ed7953"
            ],
            [
             0.7777777777777778,
             "#fb9f3a"
            ],
            [
             0.8888888888888888,
             "#fdca26"
            ],
            [
             1,
             "#f0f921"
            ]
           ]
          },
          "colorway": [
           "#636efa",
           "#EF553B",
           "#00cc96",
           "#ab63fa",
           "#FFA15A",
           "#19d3f3",
           "#FF6692",
           "#B6E880",
           "#FF97FF",
           "#FECB52"
          ],
          "font": {
           "color": "#2a3f5f"
          },
          "geo": {
           "bgcolor": "white",
           "lakecolor": "white",
           "landcolor": "#E5ECF6",
           "showlakes": true,
           "showland": true,
           "subunitcolor": "white"
          },
          "hoverlabel": {
           "align": "left"
          },
          "hovermode": "closest",
          "mapbox": {
           "style": "light"
          },
          "paper_bgcolor": "white",
          "plot_bgcolor": "#E5ECF6",
          "polar": {
           "angularaxis": {
            "gridcolor": "white",
            "linecolor": "white",
            "ticks": ""
           },
           "bgcolor": "#E5ECF6",
           "radialaxis": {
            "gridcolor": "white",
            "linecolor": "white",
            "ticks": ""
           }
          },
          "scene": {
           "xaxis": {
            "backgroundcolor": "#E5ECF6",
            "gridcolor": "white",
            "gridwidth": 2,
            "linecolor": "white",
            "showbackground": true,
            "ticks": "",
            "zerolinecolor": "white"
           },
           "yaxis": {
            "backgroundcolor": "#E5ECF6",
            "gridcolor": "white",
            "gridwidth": 2,
            "linecolor": "white",
            "showbackground": true,
            "ticks": "",
            "zerolinecolor": "white"
           },
           "zaxis": {
            "backgroundcolor": "#E5ECF6",
            "gridcolor": "white",
            "gridwidth": 2,
            "linecolor": "white",
            "showbackground": true,
            "ticks": "",
            "zerolinecolor": "white"
           }
          },
          "shapedefaults": {
           "line": {
            "color": "#2a3f5f"
           }
          },
          "ternary": {
           "aaxis": {
            "gridcolor": "white",
            "linecolor": "white",
            "ticks": ""
           },
           "baxis": {
            "gridcolor": "white",
            "linecolor": "white",
            "ticks": ""
           },
           "bgcolor": "#E5ECF6",
           "caxis": {
            "gridcolor": "white",
            "linecolor": "white",
            "ticks": ""
           }
          },
          "title": {
           "x": 0.05
          },
          "xaxis": {
           "automargin": true,
           "gridcolor": "white",
           "linecolor": "white",
           "ticks": "",
           "title": {
            "standoff": 15
           },
           "zerolinecolor": "white",
           "zerolinewidth": 2
          },
          "yaxis": {
           "automargin": true,
           "gridcolor": "white",
           "linecolor": "white",
           "ticks": "",
           "title": {
            "standoff": 15
           },
           "zerolinecolor": "white",
           "zerolinewidth": 2
          }
         }
        }
       }
      },
      "text/html": [
       "<div>                            <div id=\"dc1397f0-de24-4b6e-ba8a-abb8a4622152\" class=\"plotly-graph-div\" style=\"height:820px; width:100%;\"></div>            <script type=\"text/javascript\">                require([\"plotly\"], function(Plotly) {                    window.PLOTLYENV=window.PLOTLYENV || {};                                    if (document.getElementById(\"dc1397f0-de24-4b6e-ba8a-abb8a4622152\")) {                    Plotly.newPlot(                        \"dc1397f0-de24-4b6e-ba8a-abb8a4622152\",                        [{\"marker\":{\"opacity\":0.8,\"size\":6},\"mode\":\"markers\",\"name\":\"adapter\",\"x\":[-0.2346783929588604,0.8365356250409581,-1.0204494680702159,0.005228870452450423,-0.7359039265447785,-0.9488850829083827,0.9603853464960738,-1.3860591110685088,-0.741444365490535,0.3254692123442545,-0.5581921225654121,-0.4039406338818928,1.00256554901775,-1.0520548640564709,0.8657569228132271,-1.0758310348161535,0.023066191249241794,0.04180600963361225,-0.7102476214591181,0.3684165345023861,0.09067687081706416,1.6945774138330931,0.22280111473694247,-1.320878207684183,1.5230994753724663,-1.504038662848038,0.7287939690341828,-0.758633902649568,1.1909918334384586,-1.470250986511012,0.8009673752989468,1.3881622350053784,-1.0766430417599713,1.7146716031045914,1.062269509333425,1.275385928955485,-0.2797139006525445,0.01649744077081643,-0.15275180028341862,0.32082486156924506,-0.8855591943405352,0.15355201812644917,0.028132051765406656,-2.016527219943228,-0.618692448070888,0.23339760578686622,-0.9227315012210746,0.6580455390328476,0.6169170068275055,0.26372987269475634,0.8386348855895706,-1.2439858675127626,1.434241166995188,-0.21867503267187718,-0.23793953525275238,0.7284779204003738,-0.9920346496717389,-0.020893892268531937,-0.46277450435504613,0.8048143774608741,1.2314587661561103,-0.813513253346512,1.258364252211359,-0.1824299784465411,0.5801740898755743,1.719668536432428,1.1238766664856104,0.5716678445060648,0.3069742770102825,-1.1403438373793298,0.3202943933189053,-1.06882898209802,-1.2264357257425966,-1.1482120874015505,-0.031843358731613904,-0.9925063138427062,0.87046179371215,-0.16655857314109773,-1.6285567115876132,0.08238231588043711,0.21325763935817327,-1.040268153921586,-0.11902806501526936,0.30520999013534417,-1.024471776702341,-0.19648808581741595,-0.3440537096885076,-2.104549856061997,-1.2769267442162584,-1.1567764092617365,-0.6380657440693458,0.10841064674844329,-1.0498730227529747,-0.83173744513195,-0.6607577020003118,-1.3067077808560557,0.6532623012503497,-1.4925682240761269,-0.22117747799181542,-1.2161046373635684,-0.49477184769902605,1.3212046022700792,-0.3248958178086853,0.44892788968170366,0.6730817055579952,-0.6524002448412168,0.5704591184084573,-0.46496211493216655,-0.764874793881248,0.8431427354520282,-0.6085458238906168,0.12930884222318606,1.4747638447381013,0.5062038394297346,0.23862579748274085,-0.9492456610332146,0.2970519168907115,0.7416003583713666,0.2985993953689137,-1.0595364566560534,-0.2526144436802265,-0.137977208985259,0.4307468454463416,1.0582514767555913,0.46536492140962576,-0.7872580596913036,-1.3460500063897658,0.5234637716337399,0.0447765509187547,-0.43763323759007844,-0.5418096029127799,-0.37592531769216253,-0.5438734263947281,1.4462454293935678,-0.34007490215428865,0.15295233145047485,-0.08783147355519885,-0.5775842353745623,-2.0216600118143746,0.598717711950183,-0.6946630152697298,-0.24668757664041405,-1.0100810184598983,0.2159540383099853,0.21531607496568242,1.0944396946441777,1.3629882871130399,0.06254484373718847,-0.6893086165215836,0.9564061021040332,0.0364221329519501,0.2830041856292648,0.1610085221604765,-0.31128754223766497,-1.199157750670434,-1.089435188646596,0.29859242858969015,-0.39408222536787163,-0.44266759460226945,0.5755460716568862,-1.5475548028563273,0.775290166545917,0.11743876670366436,0.03875782773191948,0.8505150956255589,0.2679551537501331,1.0099506876538504,0.4952818374760283,-0.015269598051097366,1.4879210440063417,0.8559234272193025,-0.1821346418433181,-1.192127612269607,1.2399863111398093,-0.38213768737156995,1.2826619762160976,-0.45752851810737055,-0.26678669540946126,0.4882143233868824,1.9962442610928417,-0.15133647075838172,0.8364438275092441,0.3835775521583065,1.6573362236750155,1.4813284323231601,1.1884921457010853,1.4753330451816977,1.9380741902859693,-0.8046646191725086,0.8298396960539569,0.9122133273370818,-0.45753191056264436,0.2831893321630856,-0.3112706282790029,0.6440556883156272,0.21683480737961977,-0.8558895808632101,1.5515365268523031,-1.1610880098668839,0.9349625401145574,-1.2170297691885956,1.4650536521067925,-0.4125279665948987,-0.24744079904408303,0.9832440224184498,1.28949592763949,-0.31274726032195455,0.16647938334526627,-1.4796063998536035,-0.6087267398714665,0.3035870454663263,-0.9233789468843296,0.5832076944253684,-0.42069652849231043,0.36859027635803165,1.2009685553761447,-1.6163603124686865,1.187093535761782,1.6860083593092636,0.06443117060509243,-1.639380174620159,-1.215765410433,-0.30920251097397267,0.12712315271084804,0.8360725438647937,-0.42339203779396395,0.017803575340920155,-0.40911400254747066,-0.13000955676487197,-0.33679270346315426,-0.9069888576029623,0.3361959746993044,1.5532519988888789,-1.0240034686509984,-0.12386186043763642,-1.5214054562560946,-1.5880511549208256,1.2935774559105608,0.5101084476560823,0.5719043900067592,0.8559111108205212,0.20807185632680508,-1.1571753170979446,0.3177567390340756,-0.5298289144861102,-0.5157372642313602,-0.6450344892363793,1.06204004569588,1.3160115041021616,-0.15774542754147422],\"y\":[0.061971301523858234,0.1673272644662213,0.01694674217265694,-0.0684010059944836,-0.664067946271534,0.20531822865911603,-0.49745045590221165,0.13010992001465588,-0.39200496428246834,0.18869168149479024,-0.1736890913480093,0.32088351001975884,0.5158858000893868,0.19171083023338178,0.08392854975449372,-0.21825698019315004,0.15876963047917003,0.4440654531866349,0.20913283154993997,0.08983422220874736,0.1680102820971322,-0.3293996302131886,-0.25290139681881574,0.20754709710848376,-7.795636977614637,-0.3270034086745242,0.3021559152980856,0.17360502905622444,0.40700624911382055,-0.016415391301099005,0.2957473374895728,0.4820053157452327,-0.21370687929140483,0.44381174688253483,0.37885043299086496,0.5438065205126714,-0.0007548365017957996,0.20839452674005157,0.209666989466522,0.34303808346272296,0.3358243152047473,-0.09230167175026721,0.4427927793418309,-0.21580378416801607,0.1850752507426009,0.012233498219631033,-0.2634316625259837,0.45378128887544433,-0.8333601836723035,-1.5401841774180856,0.34217555945481926,0.07376855661311023,0.49260305307393115,0.23093024496282297,0.056397689800688475,-0.10590641937276123,0.23000281430017164,-0.8104390366310975,-0.23241075820791754,0.11359281792425102,0.33211622198555996,0.3583980448467179,0.36872821484011603,-0.9502144620962664,0.3985497674122962,0.24797553240659456,0.5108744368289041,-0.38463613719420536,0.1890970789004468,-0.4658694964564909,0.15799316935026994,-0.4619764908508592,-0.11910251228412273,-0.05203233110629036,0.19024071591652375,0.37776921249128603,-1.1340807281787153,0.20587594513820542,0.20486668618937914,0.17016248366038247,0.21224285857201886,-0.055520349480041586,0.32419438757981806,0.11105588656630982,0.166948556894238,-0.838000323801554,0.3219084214431636,-0.05073206434779828,0.20815635626678453,0.23750694949046883,-0.6276545589073063,0.23997069091935072,0.0487646374039693,0.0813833763248314,0.4313712504617744,0.12295060481463072,-0.42382140006535934,0.14649677797959648,0.015617106208856112,-0.2747878513873611,0.12935520441875029,0.373215750557774,0.3436539335262759,-0.9921922635510331,0.13649940360684845,-0.12807733340011185,-0.06896333089133756,0.26178302348973753,-0.0432091253063731,-1.2516199644209007,0.13071337216405063,0.3117183247456709,0.5519633318441187,0.3872741681049247,0.11489628937404935,-0.13968741757851932,0.29552830098335486,0.3598614674970026,0.3422765910039862,-0.16193050136960743,0.1562238360340826,-0.049764429373892784,0.40780243547530215,0.5611072993994894,0.16992507679756352,-0.43714318103388505,-0.05161488947018813,-0.05126159977163984,0.22660716049538884,0.27846209140272116,-0.8433392288356256,0.059501429307450934,0.20138750801856684,0.2650329490019482,0.039590123115572494,-1.0405951594985343,0.39623685836382394,0.5095208044823658,-0.16388132893294152,-0.157563442625711,0.12007962736080162,0.4156262541279405,-0.2407939572750665,0.17282840094317004,0.49973740068431305,0.04101889969070473,0.24553648486427232,-1.144560365966922,0.003089821613697001,0.04130399534852416,0.17345816814670265,-0.03344729441881986,0.16465295325662235,-0.20593868996918302,0.10359929596751652,0.036282395024157955,0.20153469274650934,-0.13779716010375262,0.06741010287155332,-0.20796012545340842,0.05927992727980956,0.059859771454993105,0.11818999601151531,0.1585960103394176,0.5243580586809838,-0.10318096392698305,0.47693861334460463,-0.8484184873616448,0.16620639892442382,-0.04629563661296894,0.17545504148608568,0.5446556156825788,0.27029917520611546,0.2742044856065024,0.11852110452050692,0.33126857088056344,0.23716136067736837,0.3505203547391729,0.3736983858917444,0.2880032680352658,0.10007672897469268,0.213458825914917,0.3919868832464126,0.4171154864349902,0.4273702828884373,0.4736411481472328,0.2493934663343598,0.26631239175848914,0.11101680711934024,0.438946198186238,-0.0678524421802955,-1.2377490152146724,0.20858486509385504,0.375675205859593,0.1529799540433751,-0.8851417828633721,0.25175494127882736,0.4018907672120024,0.1747516783243495,-0.4633859652304675,-0.36972188624185554,0.3330686733951784,-0.33891472196641054,-0.022823371556694606,0.6254281530612887,-0.6855440857236791,-0.7965122981076184,0.16040964238004599,-0.24418287469647634,0.22057615643369144,0.09852543525639129,0.1884914026123588,0.3034782587879384,-0.732563537251595,0.2229092872058101,0.2616514338887744,0.2191609521640173,0.47383395599644684,0.44111106011964885,0.5046909279076643,-0.21073282310649868,-0.008651965170640562,0.20138163293673647,0.3298794244284473,0.16262409497498348,-0.4347020137560158,0.08485521249994499,-0.2272801078197191,0.27844028899028495,0.35558063258156936,0.23530790287556852,0.32915542737619063,-3.3063523142406597,0.26685451941477856,0.3981417027342413,0.03609168095434694,-0.43481787783775083,0.2891231900210274,-0.03610684231571782,-2.193419846877218,0.3836809826750609,-0.2900314525463125,-0.1477189503092141,0.2860189539189311,-0.15953410163172763,-0.5609224882244309,0.2366864178253837,0.3873404012800897,0.38031228379000126,-0.18603780881795762],\"z\":[-1.180868616723378,-0.8602539450298475,0.041941933174913786,0.6710759568983872,-0.7287146224808148,-0.17573795566594774,-2.152094584983768,0.3713539719084286,0.26964316624176826,-0.4433482452396746,-0.3118914096045931,-0.06621944701732387,0.07969577371519052,0.23175212535016765,-1.027149600297656,-0.17845207855211792,0.9132348961455197,-0.432851327300164,0.20013591450738,1.1393138291002143,-0.5635678218925325,1.4409352739363495,-0.03978821245933497,0.27726033768094294,1.5780301834908823,-0.03622614050187073,-0.1876963702687345,-0.1495443543358936,0.6813190392611606,0.29980333400736997,-0.1399282709782544,-0.24095592546677577,0.009502448076171508,0.2883773619960283,-0.6463072344165433,-0.684650559393503,1.2881347612408862,-0.4303233773333773,-0.1731322880400635,-0.3349421975420238,-0.27262382603551666,-0.2624588335194648,0.09822692172261759,0.07309601126153932,0.13107682458812445,-0.5321679579419707,0.5978684899228316,-0.4746114549050511,0.4741974903282389,-0.9099104470148628,-0.45745543283515383,-0.10185957418301753,0.9859058246743043,-0.1753551005359372,0.09471029430497452,-0.39632145549098663,0.29796680595524505,-0.39682366180794604,0.17039576923054303,-0.10898052035925347,0.5314524560486276,0.15889818087945617,0.5648473943141655,-0.888897860439024,-0.4126861326600437,0.34896272894540165,0.48379145470053353,0.48049866123085955,-0.17595244857349512,-0.18876532774887822,0.8233768521580203,-0.20420949026701812,0.23898320793929748,0.31087091674801864,-0.10594551484645923,0.16289346649141467,-0.734839735836779,-0.45893445318250775,0.1332658828907738,-0.1936105198290819,-0.4282116837405651,0.02028018858622299,-0.32185551678560675,-0.5519446169248098,0.2329829787055679,-0.6728455463137873,0.5174903941225847,0.272181459477221,0.20058198030955382,0.3538084103021012,-0.04293009818011904,0.21334811903287362,0.2395176599962452,0.30746000939143137,0.19568638837818605,0.04941668891702646,-0.7966420932797246,0.20082434285759315,-0.7571609127164928,-0.34071833120233413,-0.32188832702431,0.6082759300455396,0.15085009014109738,0.2137412441259202,-1.0741820184454127,-0.15167960815094017,-0.503855227569781,-0.29062289999787727,0.09297628247284652,-0.4884673750970765,-0.6022149726130783,-0.24329775738200907,0.7108250759846487,-0.1608020326668255,-0.6108195183322623,0.09064421416401741,-0.1341885831003915,0.8806242884367763,-0.08188991735460353,0.24474036048309827,-0.03711333272099412,0.7612623031647974,1.0815757738505312,-0.3858471647280378,-0.36175991324360024,-0.3307688776007828,-0.05312246342701974,-0.9426326161912651,-0.7825067916371597,0.17542918333348392,-0.551010944486598,-0.26094843758869557,-0.04843172144144882,0.18443192830967067,-0.04299246564909087,-0.8415960597529257,-0.07201650536777329,0.11837592844197486,0.13429891429198948,-0.4846851144185254,-0.5397574821915504,-0.1821891534911097,-0.05699779044349435,-0.245767424698314,0.29201727190897275,-0.18669063759110716,0.5698637674448275,-0.44602541445931787,-0.1157001290617748,-0.37029082949554826,-0.561980467661952,0.8482590215545533,0.4804011714091744,0.3341270510233941,-0.053947295571520476,0.07136460298917745,-0.13311381215685678,-0.1286092635664249,-0.062073425736121804,-1.3515863357949234,0.4401077515065541,0.49860625778014256,-0.5427382568566984,-0.18574474202016383,-0.21218600794597275,0.4598830051572849,0.06913402572705407,2.026581146990388,-0.3168082207397866,0.5683306395057404,1.2630296450722305,0.71753720692948,-0.26513032999695185,-0.027281743560145212,0.791786780385665,0.058109084208391545,1.0966278904303137,0.05272095441504088,-0.3354794295503097,-1.2039887073987008,1.1551603473925465,0.8783203241307052,1.0544975735408841,0.23214528410356097,0.22290804862030822,0.8115123594536986,0.7434535691717021,0.59566505996812,0.16848098886387466,1.040359403829187,0.813199267940948,0.2175248644290911,0.8176090237142096,-0.04692410001251444,-0.17057570839080233,-0.5034061563436228,0.0379176153719181,-0.5099416332898565,0.10295948153454156,0.03196753483103515,-0.03769224742279391,0.24139254013034417,0.37504796256427697,0.4969383934135823,1.2914425207756695,-2.146084802312386,-0.4902432262836811,-0.8912445575162473,0.04143188918919965,-0.16488917194996908,-0.3321001660367093,0.01141749126637198,0.3049726872473427,-0.6542792408548593,-0.13464844296086048,-0.02334626223428908,0.26085108283759006,0.5945906947556443,-0.6560089438739213,0.06848548208373532,0.3950653874222533,0.41583071540629307,-0.21670889908729632,-0.13519140280522385,0.6251200462536818,-0.35221963832029524,0.5649376825339384,0.24131093874016812,-0.22208244740609873,0.22858519563447843,0.13883050045013787,0.10018984735395518,0.9106553726572805,-0.058241939041516776,0.20375524018828003,-0.08014609533494689,0.7661474258132662,0.22009335004093206,-1.3459308747079,-1.6136053656304208,-0.4524772695932702,-0.4519059505844039,-0.33973679108673654,-0.48872485742798977,0.0927759414657425,-0.4532131552686482,-0.0041951446841694525,-0.566837148805437,0.25458433477354625,-0.1256545047979972],\"type\":\"scatter3d\"},{\"marker\":{\"opacity\":0.8,\"size\":6},\"mode\":\"markers\",\"name\":\"base\",\"x\":[1.0844390741912224,1.0224893387540275,1.2538884682454012,0.950350190893051,0.37050116013485984,-5.956215524406497,-5.810389565655751,0.8967645657064317,0.8235107399900762,-0.8077397963263089,1.1915458883489853,0.9257731357117389,0.2637083023732178,1.1879212868491609,-3.5681170467947774,0.6190811962934748,0.35674770069023415,0.7062208381016615,1.0622609134596805,0.8081517387498538,1.0844755428935478,0.5786368910636005,0.6827284487342545,0.6641781790714986,-3.7717635560544926,1.138897187629988,0.6423344610332722,0.7924692179671203,0.6238172009106281,-3.3621691532823124,0.8351366822868103,-3.6874509976285066,1.0205146630387527,0.052360746229190264,1.2128577834425234,1.3718800107347582,0.7225813934459003,1.2065715533821815,0.9626369132556535,0.2479826121746446,1.0229279729148388,1.1315631686643546,1.0406843099979715,1.00059194180845,0.5876960974312407,0.878165935598469,0.2951108695875349,1.0279018309227295,0.5559353252327723,-0.1163214426011908,-0.8077397963263089,0.7854022907003156,0.8728628344689482,0.9953161733128856,1.1216932529165284,-5.378439456017922,0.3507940324039445,1.2195246194546594,-3.4265202381025697,0.41900434198788344,0.4555144805437143,1.1583989188820183,0.5898525410526055,1.0231794520563007,0.9925586994613477,-2.987893778749467,0.3913697067913655,-2.7921410429728506,1.1819563332747143,1.266078786065131,-6.9064145427024535,1.0340087776886258,1.072546807084395,1.201991073069316,0.823144154413263,0.9556111032774404,0.9504042916208209,1.1281701471714285,1.0833381423670376,0.8336127919161214,0.8694076455032549,1.0271353202520974,1.0705267224518336,0.9551249659851977,1.176455033648553,1.1217390359506378,0.8123499803382128,1.0780152465249202,1.142855513786619,0.7504911886576924,1.190260293405547,0.6292009303010269,1.1118129394325529,1.02423842438522,1.1248228415239225,1.1004586394572216,0.9515364060569274,0.7443335726436533,-0.36504641371478336,1.0734757423931844,1.2474714919538237,-3.8951141634679383,0.9413744792804108,0.4380346800270118,1.166338217968283,0.9097184155374147,0.767952633553119,0.9530276596273562,0.3975850136474855,1.2046948939773958,0.8282622437642896,1.1329811617948955,-7.467230510188286,-5.3934910982662245,0.9521024271970006,0.9577905754912691,0.9853261052692474,0.8199519684775851,0.7661957674280274,0.11341801675099428,0.896323960835299,0.9914181211111088,0.410559184101662,1.111557293787373,1.1716097394831118,-3.888892294278174,1.1168147043035535,0.7366999616683441,1.0109591295834661,1.1931522243000034,0.500545955290189,0.788658314797807,1.2486370159728406,1.0578654913527898,1.0409610101374684,-2.7049724467838026,-5.3934910982662245,1.155622309539102,1.0129618173892752,0.6340079756539257,0.9051298262293505,1.0980106053630174,-1.4570307742920747,1.0843484685262113,0.8451741435464025,1.041828107314999,0.5237226030039792,1.228110949329845,1.0833139442596136,0.904727126785043,1.2023386714690922,0.7856116794286496,1.0611013522462354,-1.8990674728688872,0.7823902395104145,-1.7342892053744052,-7.356627116358634,1.1627221267220866,1.0466702376858652,1.030075707094806,1.322174262542324,-0.11724458969004038,1.1730536930043711,0.9651324358857885,-5.3934910982662245,-3.1249990801347245,0.8337193795283964,-4.100426036384998,0.9596233757547454,0.6061365425117181,-2.4481772728646405,-3.182428718324455,1.0951742973402725,1.0716458076304634,-2.391858213129506,-3.056895672119156,-2.419178833856458,0.9419340826852289,-3.523161705026997,-0.7319137442810879,-6.883402548959413,0.5582834960513581,0.6497833045846282,-7.1868842961539015,-1.5016747157021009,0.8193148107936087,-2.094512182381454,0.9481403520496825,1.0571078405629892,-2.7249933093065857,-7.284203853108552,-2.6278037838068666,0.6592705152371927,0.9503377351577478,0.6049977067311009,1.0066443957653248,0.8634133550210898,0.5821547537201995,0.9113741745475912,0.9138143975420598,1.1059719074117593,-0.21834116136253143,-2.2746216534687544,-0.7219439610396029,0.822527638318784,-2.7055016863473975,1.0438583149928813,1.0367166752148913,1.1498813844386264,1.145410097725852,1.1615960015579616,0.6526040864244653,-0.14043849516798795,-0.09413781603273398,0.4164713846652709,0.8936306056264597,1.1057892059841048,0.2787376462974964,-0.9805342935659088,1.15260035734817,1.0013847192408294,0.8723713785776875,1.041515586219315,1.0232557233671766,0.36362406371516304,1.0463529594829983,0.4701543817600815,-2.088510415619725,-1.069813757252259,1.2715199531802142,0.869379183715451,0.5713166454815518,-1.6477420886828846,0.8631020939235805,0.6012838799721705,1.0744238630193232,-0.13987783895164002,-4.089045280478357,-0.5387009955549102,1.0056383668215372,-4.213529701249236,1.1779454563727911,1.1176698902661644,0.7845187997421335,1.0904053709171908,1.2341761926342554,-1.2180663545045707,1.0672195482268705,0.725350598594368,0.926567586177625],\"y\":[0.05557643643011695,0.6332112095782728,0.17122226972611101,-0.06892183979418488,0.4276112891210943,4.104971036225018,4.6716485523322895,0.3422926097654967,0.30804075858128754,-1.044977959353,0.13879639044772904,0.299578163916837,0.8661585004965192,-0.0020220438179656512,-3.0035179576906073,0.6584582533734147,0.45759777535205953,0.2446299298459318,0.28056611686032795,0.04947599587468756,0.3041127100993546,-0.1217431870121296,0.18365282381722145,0.5540571227106826,-3.42047204686181,0.25533093789372896,0.3670120339894229,0.4122724511900832,-0.10929249670779433,2.8788325144564513,0.01793037208401018,-3.0566727974593393,-0.02093521689332873,-0.4728874018183357,0.27468316975548557,0.09128671749129029,-0.27031272612417173,0.2825081104619979,0.09182643488530534,-0.3841170158643242,-0.35958651688682675,0.024804358453763102,0.24209519247043065,-0.19580388421708983,0.5203882420366641,0.28305967011988425,0.1488581578333923,0.4045576540440316,-0.25575963979679045,1.0251986709648344,-1.044977959353,0.0555445337819289,0.19412437975912492,-0.06647698088270929,0.38112100641281477,-3.415912405355422,0.5743997803763815,0.19810428905062566,-3.18711167050184,-0.4679857433751245,0.5920229793905779,-0.058191867702496354,0.08576268788635785,0.10192513873239063,0.4611640680842394,-2.3296607841579644,0.8516932045768901,-1.8276541742962287,0.05525325966884187,0.06832615324979503,4.606167062752003,0.12395276663286778,0.12462599039138461,0.329765704454668,0.028454678769226856,0.36317621196395045,0.3623918303401226,0.08260496343377428,0.2138365082897239,-0.41529586340597147,0.45192032916683966,-0.061317476598616805,-0.14181747786075727,0.4686812617122894,-0.032762908659165826,0.05293791521235111,0.011961711079637111,-0.18367737934967948,0.02220294922129338,0.3383023959931579,0.12270139650034864,0.12333251333918582,-0.025758116365780175,0.10935213912662041,-0.108076879468829,0.09191998437316938,0.033134288070401606,0.6229079621567617,0.652879097142669,0.021222950261708146,-0.06723247272971129,3.140874172412184,0.1474443398030632,0.15967904832655017,-0.01999732402181869,0.2357569403379253,0.19123547613583997,0.20459950131533264,0.3465173703875581,-0.05775399587576622,0.09682286530735547,0.3755590092773451,5.159463496281804,-3.602490041333836,0.01926189473183036,0.2575848901734163,0.4492293229288386,-0.12211725541237971,0.5282530322599337,0.11141434973816713,-0.13157389127805022,0.018362948909293197,-0.3324886521012907,0.10737004853218257,0.24593932023335027,-2.9162236760941305,0.18847133438472358,-0.1858542859461462,0.1494261425316071,0.020981363595910664,0.7890789611495298,0.6120584056117376,-0.046570239753247186,0.2523247115025931,-0.12209051889237103,2.3436597993663466,-3.602490041333836,0.06512106208539828,-0.007607529959740425,0.2991440500575082,0.29955854021759404,0.10010947007770926,1.7303686165257057,0.18449319247446114,0.39264811659457555,0.06597317267069304,-0.2545426725764577,0.038445773689828225,0.07598664165728275,0.07182783196980547,0.08880175548669372,-0.038158156677472514,0.25477577477376806,-1.9982178158687411,0.29227976474511663,2.2952309933455837,4.80736007650975,0.1640258455990143,0.009018065151002458,0.19593108466217976,0.0035511419462350593,-0.7172219500730234,0.027933946186699355,-0.18732720889354088,-3.602490041333836,-2.525959018531931,0.14053274459900902,-3.3494959613412907,0.11983550758839476,0.14716732188287707,-2.1178977955373774,-2.0245752293910835,0.32388847415574246,0.013031470006035571,-2.1955771588291246,-1.9738290358945858,-2.1877206994597063,0.3239746361513172,-3.114748706040933,-0.8432554560081243,4.816345271795821,-0.3265513936582138,-0.28707481398848017,5.188318152631418,-1.2376191967380645,0.32992313874778856,-1.8935970852255122,0.236168766672786,0.027576549376575783,-2.239974218549112,4.973226749840389,-2.3275710065797734,-0.03324602792149969,-0.33370923700966054,0.40826933123037296,0.13725071046499546,-0.09246491410093707,0.43946928210973035,0.14963203673672976,0.3353862978274526,-0.04286299735089127,-0.7442224084732705,-2.1543508519914956,1.1013572595273982,0.3930903766494145,-2.0148073815669894,0.3605273286781673,0.04204451814649373,-0.04328396667223785,0.12131020458046878,-0.08475121185727026,0.33697063401797706,-0.5480051650688282,-0.5586811902268198,0.675325294835265,0.3877891597181625,-0.14530274535442192,0.7243494856431183,-1.0569216885934685,0.14569028327399355,0.11833723323447157,0.3119354723037338,0.06507581248171992,-0.20632884727698372,1.0536013846756078,0.007033069670473216,0.40657477760751326,-1.9317434624189878,-1.0830307119761573,0.1473554757761481,0.3527230056174781,-0.10232587903657007,-1.7456430304957955,0.29530431942254826,0.12648738601586476,0.08052918577830988,0.4731283825518478,-3.3939046077356982,1.1913087203724273,0.14155049689858146,-3.532297987804517,0.017583526055649137,-0.0742749130458737,0.3561160388885631,0.02249705671924165,0.01984791910777304,1.6986069356218052,0.43211344073647173,0.0836976259339361,0.2697655514799336],\"z\":[0.30836169093725413,0.7112439034997401,-0.3655295116218044,-0.055711983745447724,0.434293491425645,0.006114149702816231,-0.1165476956338393,-0.49427332303341304,0.1599472978597517,2.789619769218293,-0.2714129024093393,-0.19598973920529894,0.32818346302197143,-0.2579734188026981,-1.778960837151512,0.18068781178194715,-0.02298439315623274,0.2410138234959189,-0.31337859037295224,-0.05322880975278475,0.5193474738053305,-0.7913903324549668,-0.34957159768229434,-0.32490271122291614,1.039816036072178,0.21849911478863382,-0.08558087090782808,-0.02942923210282101,-0.30399813374779056,-0.0927700101440621,-0.3887792106463787,-0.9415174476100665,-0.03945324216307606,2.177799478576925,0.380230852928793,-0.06736099068104731,-0.7816373668044474,0.04305868383293106,-0.08605913560285708,1.8277299193671337,-0.7265031377561045,0.32547107856631324,0.12392781367080744,-0.7172741221813055,-0.3389331718713756,-0.15734883333517824,-0.33628304190395364,0.09390895676111079,-0.6417756793003011,0.4449126222929815,2.789619769218293,0.01039171704929274,0.06478118028739467,-0.49942092776430075,0.3201586879223775,2.1639026441858547,-0.35717428872267354,0.1198920126727958,0.23454354915823572,-1.0770913277487495,0.3659851577206771,-0.633834128534072,-0.47011573884227553,0.028464217452730225,0.11275273516795692,-2.134731454498024,0.39215880551753496,-2.15118966790305,0.22662969564777188,-0.3654166905792099,-0.2586778483725462,0.2588886659384691,-0.4193993454319455,0.3221362848502989,0.10213979500536798,-0.3640085495415496,0.4023838744341228,-0.24725485874592695,-0.25466455302083996,-0.8241059026524391,0.43555186605891316,-0.42466495741129456,-0.47233407594787896,0.10444754040753486,-0.36651859173853113,-0.5938597889399776,-0.26067417203253707,-0.4486191051556186,-0.5807821956619635,-0.3608252092647918,0.45705730623668245,0.0009939501734393759,-0.2965773112842177,-0.56292378083347,-0.2878641309231111,-0.37421890024252347,0.13093449549586392,0.09548055311776185,-0.31272742472373577,-0.35180580769450104,-0.3978591367109118,0.026408747791696413,-0.7086391907446536,-0.2433309281180587,0.057134178661729526,0.1693122736303156,-0.0016039399205091582,0.03010668337342522,-0.2532734540258994,-0.3784803063126208,1.7492456531355405,0.23376863366406214,-0.3507474941926137,1.8856929962830442,0.04428257583030975,0.40589862148490896,0.41580517140807255,-0.1754232554049879,0.33520578598986,-0.20020789729138908,-0.5806823364942139,-0.15490416358770934,1.811782486021959,-0.09781488875791162,0.5092734886994722,-1.5481374471181084,0.1458500547131062,1.2035949550856824,-0.2251310057100924,-0.2716737032918918,0.2867496332006779,-0.28608693874559593,-0.47244891129640826,0.46867820170694086,-0.3297350245208974,0.7033955867379987,1.8856929962830442,-0.41661905923678694,-0.42836414106698745,-0.3109448397194934,-0.03486091243703278,0.20784125228302563,0.321403483394159,0.15101105720237362,0.32022577979215106,0.18329598423584986,-0.9956937028894566,0.1409084399804532,0.16189177150594922,0.35396723473681435,0.23451818315054826,-0.33236378941215083,0.2059778634012886,-0.8065837785297453,-0.48469181286671587,0.5802726514008169,-0.23640303595334228,-0.3545265096327158,0.1302160194936353,1.1060082355967866,-0.3905254021261945,2.2435407955412323,-0.4691203406775945,-0.04905044953925615,1.8856929962830442,-2.3317357944713355,-0.014166407562336699,1.9796354149111886,0.22623194112880796,-0.3475317536132448,-2.585999562734801,-2.427679501118426,0.15199154455245695,-0.4105211800850854,-2.525614698842937,-2.1636975516000754,-2.3899730757224082,-0.5145131287865223,-0.5854237187351746,3.1573682653065624,-0.348098487754216,-0.9486441140906808,-0.6617409302551523,-0.21595591478150308,4.049943700446407,0.11739766198877173,-1.5279242364410068,0.23513083754062325,-0.22027749769606095,-2.2051748377729976,-0.26956249978643926,-2.5038422113691645,-0.38511154964909566,-0.46201429168460106,0.2953271510347472,0.17302287010268122,-0.0599960644894895,0.16483121892384384,-0.22031234219715104,0.3759674098990793,-0.4218326447295201,1.9562368433989032,0.06232210966288473,1.0544248841483825,0.1500681053600643,-1.9864434905399602,0.01998849110478705,0.5631234373818215,0.19055093188228198,-0.2927965276269893,-0.48130718555218865,-0.5245142865534337,2.274155572730388,2.346050606315627,0.39835871926764854,0.4143263960823434,-0.5340906640671284,-0.11649505854169455,3.663057973511192,-0.052663088441397755,-0.6490020624117347,-0.2527472276076996,0.2841923884187946,-0.4667292486013539,0.6617743065626293,0.03161606145215892,0.011941630494091915,0.8913266443635637,3.040567573241137,-0.33773235164369475,-0.5932283811300747,-0.3958656257717871,-1.598328613967835,-0.2684373292023996,0.1856374839018261,-0.3093374500895429,-0.24148469168610004,1.7336024795191687,0.415463186683017,0.37801752889038476,1.3232243176990095,0.23891238285067362,-0.5900365720289364,-0.15455722713904366,-0.2477586578255138,-0.47838612365242783,0.07266879964954141,0.48299609349572686,0.05133538974425366,0.27235310292486936],\"type\":\"scatter3d\"},{\"marker\":{\"opacity\":0.8,\"size\":6},\"mode\":\"markers\",\"name\":\"human\",\"x\":[1.1855779295360431,0.6247533361536004,-1.7252794679202546,-0.16375628797484654,-0.041809151245077766,-1.3572815980943433,1.228048953096305,-1.7252794679202546,-0.4963108061859112,0.7318011526512717,1.6444786615283735,0.6984963125556632,0.39979695161329687,-1.2754765588499863,1.2684687641520056,1.1110237212573855,1.097303149190141,0.3063759393589234,-0.16739202689867388,0.35691769991051037,0.9385469622284203,0.8199696065143149,0.9518359074166739,-0.547110078099407,1.1697400950391605,-1.3607089111235713,-0.7318042057310239,0.41917575302880405,0.7868603113162095,-0.953451859328184,-0.16375628797484654,1.119750953574763,0.29582614681510117,0.7462186962159921,0.2124200600406159,0.8011236266366077,-0.6119379765120394,0.5719078140309772,0.8011236266366077,0.14343145087252046,1.1012790329997488,1.1551807297473393,-0.7318042057310239,0.7709632824458222,-0.5746624113587282,1.1337935854341268,-1.6091125241047106,-0.8196341689759331,0.20716137414754882,-1.617745060290556,0.6986239913405153,-1.4913356565358384,0.7074378291359874,0.41917575302880405,0.9287664998096171,0.537798727339517,-1.2395960803067576,-1.0346179254648609,0.5646536355190335,0.9518359074166739,1.2724378420258051,0.7709632824458222,-0.047103529314715835,-1.7051579774189491,0.12770594869197827,0.8625805680793941,0.7462186962159921,-0.047103529314715835,-0.6268915614786119,-1.527573695502884,-0.047103529314715835,-0.7318042057310239,-1.386642315156143,-0.571057384117412,-0.31128092916299716,-1.7252794679202546,0.5013253139144588,-0.02867577717382187,-2.143088066677683,-0.6099284800152351,-1.0756538668764932,0.016308449410652986,-1.671617222033444,0.24474402243469054,-2.143088066677683,-0.6095445594297761,-0.670379158505439,-2.5208033715332516,-0.547110078099407,-1.455427376950208,-0.6268915614786119,0.5511773101388139,-1.671617222033444,-0.547110078099407,1.1012790329997488,-1.5937920894798063,0.9287649940960071,-0.9875590719143292,-0.796480609447249,-1.671617222033444,-1.485640713275124,0.8106350003014785,-1.466382958423836,1.1220800288579673,-0.7362941819992839,1.0416561271663913,-0.5994724326957338,-1.783347341897321,0.1968159247762515,0.49550584638578943,1.2279916629527534,0.15541585436465385,1.2724378420258051,0.537798727339517,-0.10150572496513138,0.6106559440015649,-0.44641424025075227,0.30607136361651116,1.6401203539857996,-1.6091125241047106,-1.386642315156143,-1.1543796669915456,0.7462186962159921,0.5013253139144588,0.27802743183913387,1.2684687641520056,-1.0756538668764932,0.8410232527269338,-0.6767830049557281,0.23846074974753764,-0.02867577717382187,-1.7252794679202546,0.7709632824458222,-0.3275600067419357,-0.31128092916299716,0.9385469622284203,0.537798727339517,0.6098132649920411,-2.835997433280509,-0.16375628797484654,-0.9341271037055701,0.841814679266754,0.016308449410652986,-0.7318042057310239,0.841814679266754,1.3502855074987188,-0.7138612010664446,1.1551807297473393,0.841814679266754,0.5373599479085754,1.6444786615283735,1.1220800288579673,-1.0385526650579249,1.119750953574763,-0.6099284800152351,-1.783347341897321,0.3891320128168331,-0.547110078099407,0.9910280621515789,-1.105674049171114,-2.143088066677683,0.7462186962159921,-1.4145023803621446,-0.24436367139544482,0.537798727339517,1.8186194622740839,1.341416678633126,1.1697400950391605,0.14343145087252046,0.28384826308489225,0.5089023674345167,0.5089023674345167,-1.093527026425608,0.7527280419873603,0.5089023674345167,0.8625805680793941,0.5089023674345167,-0.547110078099407,0.9397316041147847,2.0295170114893795,-0.047103529314715835,-0.047103529314715835,-0.047103529314715835,-0.047103529314715835,0.8606740903520562,1.3353576495375965,0.8940384087011791,0.1617550637395105,0.8998189885142659,0.8940384087011791,-0.047103529314715835,0.8940384087011791,-0.047103529314715835,0.8998189885142659,0.7527280419873603,0.10408300644896341,-0.9337017806919976,0.5013253139144588,0.08108600201244083,0.44618271307385377,-1.485640713275124,0.7462186962159921,1.119750953574763,0.4137260170719639,0.6690316257400754,1.228048953096305,0.5719078140309772,-0.5728188342088968,0.36804750375015655,0.49550584638578943,0.5013253139144588,-2.11110406484446,0.7462186962159921,1.0853294493427421,0.9385469622284203,0.8385351313075808,-0.4364308582830478,-0.670379158505439,0.8410232527269338,0.5719078140309772,-0.547110078099407,-0.4364308582830478,0.3063759393589234,-1.4671986303987394,0.39979695161329687,-1.392852751385709,0.7868603113162095,1.119750953574763,-0.5994724326957338,-0.6573639582393389,-0.547110078099407,-1.0906369294553555,-0.4998097422482349,0.12770594869197827,0.3820517919679447,-2.0084056813487776,-1.6091125241047106,0.5646536355190335,-1.3988299948148457,1.4104286688966374,0.7850632579215725,-0.6268915614786119,-1.3143376852088628,-0.02867577717382187,0.01840502716750482,-1.7252794679202546,-1.0756538668764932,1.2776246946471617,1.341416678633126,0.10481659972943211],\"y\":[0.14313318054529914,2.977264882785152,0.5591819890580311,0.9707216687889408,3.4610914783550966,2.8223328381701336,1.870004885961041,0.5591819890580311,1.8953484619040815,0.6158995546698283,0.18292024526263048,0.6144060164270738,-0.8612763063035421,-0.19119479516762372,0.7660705472132654,1.2776841202714164,-0.43909758618987105,-0.20849966216484084,0.34116089719674486,-0.8935498744984047,0.24644864827595178,-0.9982803613014276,-0.3561751131704071,-0.09948072010823576,-0.5116917041011987,-0.08918170765696078,0.005171411004199052,-0.33289426537110434,-0.5292015256269837,0.12351621828161019,0.9707216687889408,-0.0006525385631382204,0.1103755104150653,-0.7726613499044064,1.6443160737001103,0.08794311171373236,-1.2302070153598363,2.7245200851777405,0.08794311171373236,1.8720012166417854,-0.2043056513098777,0.2160575302172558,0.005171411004199052,0.22273135887412857,-0.5804763430364316,0.09428280140314318,0.07670674620029919,-0.022123283826107044,-0.7696549545213577,-0.18011242648038908,0.2642337983311147,-0.38166468611372734,1.9006844036909933,-0.33289426537110434,-0.014054545019841285,-0.19059134025230354,0.8542468682540402,0.013984520299314651,-0.197861281371013,-0.3561751131704071,-0.8256451800307699,0.22273135887412857,-1.4402290433065785,-0.324714702117451,-0.31991806244556986,-0.8693484440307662,-0.7726613499044064,-1.4402290433065785,-0.10845994506204859,0.03596327251375205,-1.4402290433065785,0.005171411004199052,-0.32449503223825643,0.8148231976350356,-0.009270154448230157,0.5591819890580311,0.003290520524751087,1.2152761817411233,-0.019003719828296035,-0.1333256912993618,-0.05237407564858412,-0.7414778999549195,-0.3863795521539504,-0.137826599929176,-0.019003719828296035,-0.04058554171300293,-1.2252876964480073,0.08606093678237024,-0.09948072010823576,-0.07517194517893956,-0.10845994506204859,-0.3333119494359108,-0.3863795521539504,-0.09948072010823576,-0.2043056513098777,0.030839306333171015,0.46683443897930954,-0.05497666975470779,0.1858981194869952,-0.3863795521539504,-0.4377040721197077,-0.5875980188705976,-0.5559466474577182,-0.5869199534097451,0.5477967851009736,0.4355691395046649,-0.14214715062415284,-0.33702184783403444,0.04184488792260348,0.2310860176290864,0.537592068536177,-0.11967259280727433,-0.8256451800307699,-0.19059134025230354,0.28329575012897357,-0.09563927357548506,0.18125270706233346,-0.8354470268461094,-0.11805678254592226,0.07670674620029919,-0.32449503223825643,-0.06471111492952633,-0.7726613499044064,0.003290520524751087,0.8774477888641675,0.7660705472132654,-0.05237407564858412,0.5734063799239961,1.5478404785355753,0.04262515602087652,1.2152761817411233,0.5591819890580311,0.22273135887412857,-0.49351048145540855,-0.009270154448230157,0.24644864827595178,-0.19059134025230354,0.10539551238273434,0.1253259094776628,0.9707216687889408,-0.14397928595484227,0.0675986697278636,-0.7414778999549195,0.005171411004199052,0.0675986697278636,0.27836370724471854,-0.9679153490337657,0.2160575302172558,0.0675986697278636,-0.3468703829783324,0.18292024526263048,-0.5869199534097451,0.09035528332145454,-0.0006525385631382204,-0.1333256912993618,-0.33702184783403444,-0.357036451571884,-0.09948072010823576,0.539819039388588,0.23427516818699906,-0.019003719828296035,-0.7726613499044064,-0.39087008087731995,0.1373531773652905,-0.19059134025230354,0.01147534733928719,-0.12073143013645585,-0.5116917041011987,1.8720012166417854,-1.326057204735977,-1.3467562987565171,-1.3467562987565171,0.19105553457398125,-0.39130539987420393,-1.3467562987565171,-0.8693484440307662,-1.3467562987565171,-0.09948072010823576,0.2957451233850252,0.7953573340072402,-1.4402290433065785,-1.4402290433065785,-1.4402290433065785,-1.4402290433065785,-0.4656964541192112,-0.8740944139771663,-0.9109473403158275,1.0935312931437715,-0.4098674570370422,-0.9109473403158275,-1.4402290433065785,-0.9109473403158275,-1.4402290433065785,-0.4098674570370422,-0.39130539987420393,0.26847675328924175,1.5000845420577538,0.003290520524751087,-0.167172158018101,-0.5347428846511703,-0.4377040721197077,-0.7726613499044064,-0.0006525385631382204,1.3215353183262522,-1.1077033139333048,1.870004885961041,2.7245200851777405,0.4472862757333144,1.0748070231066258,0.2310860176290864,0.003290520524751087,-0.42095135228254665,-0.7726613499044064,0.14708792329860249,0.24644864827595178,-0.5488415822577594,-0.4978625692107365,-1.2252876964480073,0.5734063799239961,2.7245200851777405,-0.09948072010823576,-0.4978625692107365,-0.20849966216484084,-0.050478114136273664,-0.8612763063035421,-0.01644160095020338,-0.5292015256269837,-0.0006525385631382204,-0.14214715062415284,1.6900758172191905,-0.09948072010823576,-0.36948069568396735,0.279440544762177,-0.31991806244556986,-0.21244082678064832,-0.43152413173022297,0.07670674620029919,-0.197861281371013,-0.02090574688149201,0.438816590604976,-0.21524077298475455,-0.10845994506204859,0.4022080800548654,1.2152761817411233,0.4141860753967656,0.5591819890580311,-0.05237407564858412,0.34413579572262465,-0.12073143013645585,0.12497952532122843],\"z\":[0.4135325306574885,-1.6142124053666929,-0.6003927635721276,-0.36833494784476506,-1.51462292750517,-1.154884384018997,0.7922093135917263,-0.6003927635721271,-1.849282641743507,0.3884558879376183,0.4992063696691918,0.3000340514009665,-0.31510920860452307,0.40838605100555775,0.38859260942458745,1.3996962654428902,-0.08999203571330072,0.2993361649135265,-0.031482329512845304,-0.2660905504787024,0.5244099407777708,-1.5539159645538232,-0.12958211652943913,0.6088438793221274,-0.5595555365112731,0.5233006069110613,0.2039100096293062,0.22587041166124583,-0.19592863006093117,0.23297816908615196,-0.36833494784476506,0.39454568085767827,0.602001840574127,-0.10625174664401338,-0.9687590883430538,0.42919347013116804,-0.33765342286539624,-0.44180978352126465,0.42919347013116804,-0.9102418604515369,0.3704652508787849,0.2949986991630158,0.2039100096293062,0.43481080538194333,0.18356969447410262,0.4774831455278911,-0.5234831500597271,-0.818868514487755,-0.4969396789801365,0.5321032312190059,0.6414180701018033,0.32872412847369287,-1.0315033682794086,0.22587041166124583,0.4587163235596455,0.30530204179866455,-0.7593600481808472,0.4587154057769853,0.26901985592848654,-0.12958211652943913,-0.35615671216806244,0.43481080538194333,-1.3417126499599066,0.17491913650408622,0.31165997515674326,-0.7675541900117882,-0.10625174664401338,-1.3417126499599066,0.27666170831595377,0.5019173964217493,-1.3417126499599066,0.2039100096293062,0.33535341858828854,0.7701761779928038,0.4510725103822752,-0.6003927635721271,0.055432115800317726,-0.6199029974141756,0.061724605804423203,0.4386353204333621,-0.07534669435943395,0.15895517701321407,0.3641687405608191,0.4823164107704559,0.061724605804423203,0.7262460434498806,-0.349541064446398,0.5517440621734132,0.6088438793221274,0.445605600460581,0.27666170831595377,-0.07570006211934596,0.3641687405608191,0.6088438793221274,0.3704652508787849,0.324748926613475,0.5283231162036999,0.5414022103704459,0.6082338114283004,0.3641687405608191,0.4763318926119587,-0.42189036355388493,0.30341305856796535,-0.09891988979694553,0.2889118539508873,0.3696598128824809,0.22889060653299168,0.42249406149246627,0.5214348439411289,0.5307879123751258,0.7239324778707038,0.33677739266522355,-0.35615671216806244,0.30530204179866455,0.7148468896333647,0.10792570599285363,0.23690003140806554,-0.2647067477935772,0.25482941882134064,-0.5234831500597271,0.33535341858828854,0.1840574976369728,-0.10625174664401338,0.055432115800317726,-0.28965578689697435,0.38859260942458745,-0.07534669435943395,0.7035820525607864,-1.1777978174164783,0.5398933849863524,-0.6199029974141756,-0.6003927635721271,0.43481080538194333,-0.2903726786705973,0.4510725103822752,0.5244099407777708,0.30530204179866455,0.03360794360583128,0.12122949851797832,-0.36833494784476506,0.4174188988460879,0.3562417523343127,0.15895517701321407,0.2039100096293062,0.3562417523343127,0.5112432880613574,-0.4555448802420252,0.2949986991630158,0.3562417523343127,-0.08741445477096371,0.4992063696691918,-0.09891988979694553,0.005136899196947484,0.39454568085767827,0.4386353204333621,0.42249406149246627,-0.6124050381549717,0.6088438793221274,0.530676767837529,0.7927692248391756,0.061724605804423203,-0.10625174664401338,0.3411152080684101,0.28442805390478665,0.30530204179866455,-0.12408042901453825,0.2309759568460783,-0.5595555365112731,-0.9102418604515369,-0.8253029089844316,-0.7791282561489481,-0.7791282561489481,0.5209966454008274,-0.03314651412546385,-0.7791282561489481,-0.7675541900117882,-0.7791282561489481,0.6088438793221274,0.6194350711936928,0.7023373696122561,-1.3417126499599066,-1.3417126499599066,-1.3417126499599066,-1.3417126499599066,0.12316232694745993,-0.6705813476222855,-0.41343649353233164,-1.7062069303306546,-0.13741352914191612,-0.41343649353233164,-1.3417126499599066,-0.41343649353233164,-1.3417126499599066,-0.13741352914191612,-0.03314651412546385,-0.08557843998220677,-1.2744568967249876,0.055432115800317726,0.2335698668798763,-0.13916484503844892,0.4763318926119587,-0.10625174664401338,0.39454568085767827,-1.409962826177391,-0.5851502400434154,0.7922093135917263,-0.44180978352126465,0.8614525465433911,0.004052528836885913,0.5307879123751258,0.055432115800317726,0.2667239599230539,-0.10625174664401338,0.2899944193566106,0.5244099407777708,-0.07239899653305593,-0.16035785109440545,-0.349541064446398,0.7035820525607864,-0.44180978352126465,0.6088438793221274,-0.16035785109440545,0.2993361649135265,0.3984349790123405,-0.31510920860452307,0.36839451938421874,-0.19592863006093117,0.39454568085767827,0.22889060653299168,-0.5972282728118071,0.6088438793221274,0.23235774988599942,0.4116876382432251,0.31165997515674326,0.17582130141184074,0.33398789113390115,-0.5234831500597271,0.26901985592848654,0.6430335150213988,0.4693386486328788,0.25306426771576396,0.27666170831595377,0.05837153653878013,-0.6199029974141756,-0.145889200538316,-0.6003927635721271,-0.07534669435943395,-0.03379635213980294,0.2309759568460783,0.5590559603477289],\"type\":\"scatter3d\"}],                        {\"height\":820,\"margin\":{\"b\":0,\"l\":0,\"r\":0,\"t\":0},\"template\":{\"data\":{\"barpolar\":[{\"marker\":{\"line\":{\"color\":\"#E5ECF6\",\"width\":0.5},\"pattern\":{\"fillmode\":\"overlay\",\"size\":10,\"solidity\":0.2}},\"type\":\"barpolar\"}],\"bar\":[{\"error_x\":{\"color\":\"#2a3f5f\"},\"error_y\":{\"color\":\"#2a3f5f\"},\"marker\":{\"line\":{\"color\":\"#E5ECF6\",\"width\":0.5},\"pattern\":{\"fillmode\":\"overlay\",\"size\":10,\"solidity\":0.2}},\"type\":\"bar\"}],\"carpet\":[{\"aaxis\":{\"endlinecolor\":\"#2a3f5f\",\"gridcolor\":\"white\",\"linecolor\":\"white\",\"minorgridcolor\":\"white\",\"startlinecolor\":\"#2a3f5f\"},\"baxis\":{\"endlinecolor\":\"#2a3f5f\",\"gridcolor\":\"white\",\"linecolor\":\"white\",\"minorgridcolor\":\"white\",\"startlinecolor\":\"#2a3f5f\"},\"type\":\"carpet\"}],\"choropleth\":[{\"colorbar\":{\"outlinewidth\":0,\"ticks\":\"\"},\"type\":\"choropleth\"}],\"contourcarpet\":[{\"colorbar\":{\"outlinewidth\":0,\"ticks\":\"\"},\"type\":\"contourcarpet\"}],\"contour\":[{\"colorbar\":{\"outlinewidth\":0,\"ticks\":\"\"},\"colorscale\":[[0.0,\"#0d0887\"],[0.1111111111111111,\"#46039f\"],[0.2222222222222222,\"#7201a8\"],[0.3333333333333333,\"#9c179e\"],[0.4444444444444444,\"#bd3786\"],[0.5555555555555556,\"#d8576b\"],[0.6666666666666666,\"#ed7953\"],[0.7777777777777778,\"#fb9f3a\"],[0.8888888888888888,\"#fdca26\"],[1.0,\"#f0f921\"]],\"type\":\"contour\"}],\"heatmapgl\":[{\"colorbar\":{\"outlinewidth\":0,\"ticks\":\"\"},\"colorscale\":[[0.0,\"#0d0887\"],[0.1111111111111111,\"#46039f\"],[0.2222222222222222,\"#7201a8\"],[0.3333333333333333,\"#9c179e\"],[0.4444444444444444,\"#bd3786\"],[0.5555555555555556,\"#d8576b\"],[0.6666666666666666,\"#ed7953\"],[0.7777777777777778,\"#fb9f3a\"],[0.8888888888888888,\"#fdca26\"],[1.0,\"#f0f921\"]],\"type\":\"heatmapgl\"}],\"heatmap\":[{\"colorbar\":{\"outlinewidth\":0,\"ticks\":\"\"},\"colorscale\":[[0.0,\"#0d0887\"],[0.1111111111111111,\"#46039f\"],[0.2222222222222222,\"#7201a8\"],[0.3333333333333333,\"#9c179e\"],[0.4444444444444444,\"#bd3786\"],[0.5555555555555556,\"#d8576b\"],[0.6666666666666666,\"#ed7953\"],[0.7777777777777778,\"#fb9f3a\"],[0.8888888888888888,\"#fdca26\"],[1.0,\"#f0f921\"]],\"type\":\"heatmap\"}],\"histogram2dcontour\":[{\"colorbar\":{\"outlinewidth\":0,\"ticks\":\"\"},\"colorscale\":[[0.0,\"#0d0887\"],[0.1111111111111111,\"#46039f\"],[0.2222222222222222,\"#7201a8\"],[0.3333333333333333,\"#9c179e\"],[0.4444444444444444,\"#bd3786\"],[0.5555555555555556,\"#d8576b\"],[0.6666666666666666,\"#ed7953\"],[0.7777777777777778,\"#fb9f3a\"],[0.8888888888888888,\"#fdca26\"],[1.0,\"#f0f921\"]],\"type\":\"histogram2dcontour\"}],\"histogram2d\":[{\"colorbar\":{\"outlinewidth\":0,\"ticks\":\"\"},\"colorscale\":[[0.0,\"#0d0887\"],[0.1111111111111111,\"#46039f\"],[0.2222222222222222,\"#7201a8\"],[0.3333333333333333,\"#9c179e\"],[0.4444444444444444,\"#bd3786\"],[0.5555555555555556,\"#d8576b\"],[0.6666666666666666,\"#ed7953\"],[0.7777777777777778,\"#fb9f3a\"],[0.8888888888888888,\"#fdca26\"],[1.0,\"#f0f921\"]],\"type\":\"histogram2d\"}],\"histogram\":[{\"marker\":{\"pattern\":{\"fillmode\":\"overlay\",\"size\":10,\"solidity\":0.2}},\"type\":\"histogram\"}],\"mesh3d\":[{\"colorbar\":{\"outlinewidth\":0,\"ticks\":\"\"},\"type\":\"mesh3d\"}],\"parcoords\":[{\"line\":{\"colorbar\":{\"outlinewidth\":0,\"ticks\":\"\"}},\"type\":\"parcoords\"}],\"pie\":[{\"automargin\":true,\"type\":\"pie\"}],\"scatter3d\":[{\"line\":{\"colorbar\":{\"outlinewidth\":0,\"ticks\":\"\"}},\"marker\":{\"colorbar\":{\"outlinewidth\":0,\"ticks\":\"\"}},\"type\":\"scatter3d\"}],\"scattercarpet\":[{\"marker\":{\"colorbar\":{\"outlinewidth\":0,\"ticks\":\"\"}},\"type\":\"scattercarpet\"}],\"scattergeo\":[{\"marker\":{\"colorbar\":{\"outlinewidth\":0,\"ticks\":\"\"}},\"type\":\"scattergeo\"}],\"scattergl\":[{\"marker\":{\"colorbar\":{\"outlinewidth\":0,\"ticks\":\"\"}},\"type\":\"scattergl\"}],\"scattermapbox\":[{\"marker\":{\"colorbar\":{\"outlinewidth\":0,\"ticks\":\"\"}},\"type\":\"scattermapbox\"}],\"scatterpolargl\":[{\"marker\":{\"colorbar\":{\"outlinewidth\":0,\"ticks\":\"\"}},\"type\":\"scatterpolargl\"}],\"scatterpolar\":[{\"marker\":{\"colorbar\":{\"outlinewidth\":0,\"ticks\":\"\"}},\"type\":\"scatterpolar\"}],\"scatter\":[{\"fillpattern\":{\"fillmode\":\"overlay\",\"size\":10,\"solidity\":0.2},\"type\":\"scatter\"}],\"scatterternary\":[{\"marker\":{\"colorbar\":{\"outlinewidth\":0,\"ticks\":\"\"}},\"type\":\"scatterternary\"}],\"surface\":[{\"colorbar\":{\"outlinewidth\":0,\"ticks\":\"\"},\"colorscale\":[[0.0,\"#0d0887\"],[0.1111111111111111,\"#46039f\"],[0.2222222222222222,\"#7201a8\"],[0.3333333333333333,\"#9c179e\"],[0.4444444444444444,\"#bd3786\"],[0.5555555555555556,\"#d8576b\"],[0.6666666666666666,\"#ed7953\"],[0.7777777777777778,\"#fb9f3a\"],[0.8888888888888888,\"#fdca26\"],[1.0,\"#f0f921\"]],\"type\":\"surface\"}],\"table\":[{\"cells\":{\"fill\":{\"color\":\"#EBF0F8\"},\"line\":{\"color\":\"white\"}},\"header\":{\"fill\":{\"color\":\"#C8D4E3\"},\"line\":{\"color\":\"white\"}},\"type\":\"table\"}]},\"layout\":{\"annotationdefaults\":{\"arrowcolor\":\"#2a3f5f\",\"arrowhead\":0,\"arrowwidth\":1},\"autotypenumbers\":\"strict\",\"coloraxis\":{\"colorbar\":{\"outlinewidth\":0,\"ticks\":\"\"}},\"colorscale\":{\"diverging\":[[0,\"#8e0152\"],[0.1,\"#c51b7d\"],[0.2,\"#de77ae\"],[0.3,\"#f1b6da\"],[0.4,\"#fde0ef\"],[0.5,\"#f7f7f7\"],[0.6,\"#e6f5d0\"],[0.7,\"#b8e186\"],[0.8,\"#7fbc41\"],[0.9,\"#4d9221\"],[1,\"#276419\"]],\"sequential\":[[0.0,\"#0d0887\"],[0.1111111111111111,\"#46039f\"],[0.2222222222222222,\"#7201a8\"],[0.3333333333333333,\"#9c179e\"],[0.4444444444444444,\"#bd3786\"],[0.5555555555555556,\"#d8576b\"],[0.6666666666666666,\"#ed7953\"],[0.7777777777777778,\"#fb9f3a\"],[0.8888888888888888,\"#fdca26\"],[1.0,\"#f0f921\"]],\"sequentialminus\":[[0.0,\"#0d0887\"],[0.1111111111111111,\"#46039f\"],[0.2222222222222222,\"#7201a8\"],[0.3333333333333333,\"#9c179e\"],[0.4444444444444444,\"#bd3786\"],[0.5555555555555556,\"#d8576b\"],[0.6666666666666666,\"#ed7953\"],[0.7777777777777778,\"#fb9f3a\"],[0.8888888888888888,\"#fdca26\"],[1.0,\"#f0f921\"]]},\"colorway\":[\"#636efa\",\"#EF553B\",\"#00cc96\",\"#ab63fa\",\"#FFA15A\",\"#19d3f3\",\"#FF6692\",\"#B6E880\",\"#FF97FF\",\"#FECB52\"],\"font\":{\"color\":\"#2a3f5f\"},\"geo\":{\"bgcolor\":\"white\",\"lakecolor\":\"white\",\"landcolor\":\"#E5ECF6\",\"showlakes\":true,\"showland\":true,\"subunitcolor\":\"white\"},\"hoverlabel\":{\"align\":\"left\"},\"hovermode\":\"closest\",\"mapbox\":{\"style\":\"light\"},\"paper_bgcolor\":\"white\",\"plot_bgcolor\":\"#E5ECF6\",\"polar\":{\"angularaxis\":{\"gridcolor\":\"white\",\"linecolor\":\"white\",\"ticks\":\"\"},\"bgcolor\":\"#E5ECF6\",\"radialaxis\":{\"gridcolor\":\"white\",\"linecolor\":\"white\",\"ticks\":\"\"}},\"scene\":{\"xaxis\":{\"backgroundcolor\":\"#E5ECF6\",\"gridcolor\":\"white\",\"gridwidth\":2,\"linecolor\":\"white\",\"showbackground\":true,\"ticks\":\"\",\"zerolinecolor\":\"white\"},\"yaxis\":{\"backgroundcolor\":\"#E5ECF6\",\"gridcolor\":\"white\",\"gridwidth\":2,\"linecolor\":\"white\",\"showbackground\":true,\"ticks\":\"\",\"zerolinecolor\":\"white\"},\"zaxis\":{\"backgroundcolor\":\"#E5ECF6\",\"gridcolor\":\"white\",\"gridwidth\":2,\"linecolor\":\"white\",\"showbackground\":true,\"ticks\":\"\",\"zerolinecolor\":\"white\"}},\"shapedefaults\":{\"line\":{\"color\":\"#2a3f5f\"}},\"ternary\":{\"aaxis\":{\"gridcolor\":\"white\",\"linecolor\":\"white\",\"ticks\":\"\"},\"baxis\":{\"gridcolor\":\"white\",\"linecolor\":\"white\",\"ticks\":\"\"},\"bgcolor\":\"#E5ECF6\",\"caxis\":{\"gridcolor\":\"white\",\"linecolor\":\"white\",\"ticks\":\"\"}},\"title\":{\"x\":0.05},\"xaxis\":{\"automargin\":true,\"gridcolor\":\"white\",\"linecolor\":\"white\",\"ticks\":\"\",\"title\":{\"standoff\":15},\"zerolinecolor\":\"white\",\"zerolinewidth\":2},\"yaxis\":{\"automargin\":true,\"gridcolor\":\"white\",\"linecolor\":\"white\",\"ticks\":\"\",\"title\":{\"standoff\":15},\"zerolinecolor\":\"white\",\"zerolinewidth\":2}}}},                        {\"responsive\": true}                    ).then(function(){\n",
       "                            \n",
       "var gd = document.getElementById('dc1397f0-de24-4b6e-ba8a-abb8a4622152');\n",
       "var x = new MutationObserver(function (mutations, observer) {{\n",
       "        var display = window.getComputedStyle(gd).display;\n",
       "        if (!display || display === 'none') {{\n",
       "            console.log([gd, 'removed!']);\n",
       "            Plotly.purge(gd);\n",
       "            observer.disconnect();\n",
       "        }}\n",
       "}});\n",
       "\n",
       "// Listen for the removal of the full notebook cells\n",
       "var notebookContainer = gd.closest('#notebook-container');\n",
       "if (notebookContainer) {{\n",
       "    x.observe(notebookContainer, {childList: true});\n",
       "}}\n",
       "\n",
       "// Listen for the clearing of the current output cell\n",
       "var outputEl = gd.closest('.output');\n",
       "if (outputEl) {{\n",
       "    x.observe(outputEl, {childList: true});\n",
       "}}\n",
       "\n",
       "                        })                };                });            </script>        </div>"
      ]
     },
     "metadata": {},
     "output_type": "display_data"
    }
   ],
   "source": [
    "plotly.offline.iplot(\n",
    "    go.Figure(\n",
    "        data=[\n",
    "                go.Scatter3d(\n",
    "                **{\n",
    "                    dim: group[\"value\"].str[idx].tolist() \n",
    "                    for idx, dim in enumerate([\"x\", \"y\", \"z\"])\n",
    "                },\n",
    "                name=label,\n",
    "                mode='markers',\n",
    "                marker={\n",
    "                    'size': 6,\n",
    "                    'opacity': 0.8,\n",
    "                }\n",
    "            )\n",
    "            for label, group in (\n",
    "                predictions\n",
    "                .melt()\n",
    "                .rename(columns={None: \"population\"})\n",
    "                .pipe(lambda _df: _df[_df[\"model\"] == \"reply_embeds_d3\"])\n",
    "                .groupby(\"population\")\n",
    "            )\n",
    "        ], \n",
    "        layout=go.Layout(\n",
    "            margin={'l': 0, 'r': 0, 'b': 0, 't': 0},\n",
    "            height=820\n",
    "        )\n",
    "    )\n",
    ")"
   ]
  },
  {
   "cell_type": "code",
   "execution_count": null,
   "metadata": {},
   "outputs": [],
   "source": []
  }
 ],
 "metadata": {
  "kernelspec": {
   "display_name": ".venv",
   "language": "python",
   "name": "python3"
  },
  "language_info": {
   "codemirror_mode": {
    "name": "ipython",
    "version": 3
   },
   "file_extension": ".py",
   "mimetype": "text/x-python",
   "name": "python",
   "nbconvert_exporter": "python",
   "pygments_lexer": "ipython3",
   "version": "3.10.12"
  }
 },
 "nbformat": 4,
 "nbformat_minor": 2
}
