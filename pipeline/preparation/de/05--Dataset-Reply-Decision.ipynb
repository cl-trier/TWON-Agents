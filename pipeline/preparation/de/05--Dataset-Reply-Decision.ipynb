{
 "cells": [
  {
   "cell_type": "code",
   "execution_count": 18,
   "metadata": {},
   "outputs": [],
   "source": [
    "import random\n",
    "import itertools\n",
    "\n",
    "import pandas"
   ]
  },
  {
   "cell_type": "code",
   "execution_count": 19,
   "metadata": {},
   "outputs": [],
   "source": [
    "DATA_PATH: str = \"../../../data\"\n",
    "DATASET_PATH: str = f\"{DATA_PATH}/processed/twitter.german.dataset.enriched.csv\""
   ]
  },
  {
   "cell_type": "code",
   "execution_count": 20,
   "metadata": {},
   "outputs": [
    {
     "data": {
      "text/html": [
       "<div>\n",
       "<style scoped>\n",
       "    .dataframe tbody tr th:only-of-type {\n",
       "        vertical-align: middle;\n",
       "    }\n",
       "\n",
       "    .dataframe tbody tr th {\n",
       "        vertical-align: top;\n",
       "    }\n",
       "\n",
       "    .dataframe thead th {\n",
       "        text-align: right;\n",
       "    }\n",
       "</style>\n",
       "<table border=\"1\" class=\"dataframe\">\n",
       "  <thead>\n",
       "    <tr style=\"text-align: right;\">\n",
       "      <th></th>\n",
       "      <th>id_post</th>\n",
       "      <th>id_reply</th>\n",
       "      <th>author_id_post</th>\n",
       "      <th>author_id_reply</th>\n",
       "      <th>author_first_name_post</th>\n",
       "      <th>author_last_name_post</th>\n",
       "      <th>author_party_post</th>\n",
       "      <th>text_post</th>\n",
       "      <th>text_reply</th>\n",
       "      <th>topics_post</th>\n",
       "      <th>topics_reply</th>\n",
       "    </tr>\n",
       "  </thead>\n",
       "  <tbody>\n",
       "    <tr>\n",
       "      <th>0</th>\n",
       "      <td>1616701560431542272</td>\n",
       "      <td>1617114281132314624</td>\n",
       "      <td>42698498</td>\n",
       "      <td>15891726</td>\n",
       "      <td>Roderich</td>\n",
       "      <td>Kiesewetter</td>\n",
       "      <td>CDU/CSU</td>\n",
       "      <td>Aus meinem Wahlkreis heute eine Bürgerfrage: \"...</td>\n",
       "      <td>Wussten das die CDU Verteidigungsminister, die...</td>\n",
       "      <td>Wahlkreis,Bürgerfrage,Gewehre</td>\n",
       "      <td>Wehretat, CDU, Verteidigungsminister</td>\n",
       "    </tr>\n",
       "    <tr>\n",
       "      <th>1</th>\n",
       "      <td>1620171503957581825</td>\n",
       "      <td>1620308520087199744</td>\n",
       "      <td>713361366858481664</td>\n",
       "      <td>15891726</td>\n",
       "      <td>Stefan</td>\n",
       "      <td>Brandner</td>\n",
       "      <td>AfD</td>\n",
       "      <td>Zeigt der #staatsfunk etwa gerade einen #coron...</td>\n",
       "      <td>Da es keinen Staatsfunk gibt: Nein.</td>\n",
       "      <td>Film, Corona, Staatsfernsehen</td>\n",
       "      <td>Deutsche Staatsbürgerschaft, öffentliche Rundf...</td>\n",
       "    </tr>\n",
       "    <tr>\n",
       "      <th>2</th>\n",
       "      <td>1649820541207863300</td>\n",
       "      <td>1649890068067151878</td>\n",
       "      <td>18189342</td>\n",
       "      <td>15891726</td>\n",
       "      <td>Frank</td>\n",
       "      <td>Schäffler</td>\n",
       "      <td>FDP</td>\n",
       "      <td>FDP will den Weiterbetrieb der Kernenergie in ...</td>\n",
       "      <td>Steht da auch drinne, dass die Dinger ohne Sub...</td>\n",
       "      <td>Kernenergie, FDP-Politik, AKW-Rückbau</td>\n",
       "      <td>Bildung, Politik, Finanzen</td>\n",
       "    </tr>\n",
       "    <tr>\n",
       "      <th>3</th>\n",
       "      <td>1610260317262471171</td>\n",
       "      <td>1610903010426908673</td>\n",
       "      <td>712941191</td>\n",
       "      <td>15891726</td>\n",
       "      <td>Katja</td>\n",
       "      <td>Adler</td>\n",
       "      <td>FDP</td>\n",
       "      <td>Wir müssen eine Debatte zur Migrationspolitik ...</td>\n",
       "      <td>Leute die Begriffe wie „kulturelle Überfremdun...</td>\n",
       "      <td>Migrationspolitik, politische Sprache, öffentl...</td>\n",
       "      <td>Kulturelle Überfremdung, politische Sprache, D...</td>\n",
       "    </tr>\n",
       "    <tr>\n",
       "      <th>4</th>\n",
       "      <td>1657692554706534401</td>\n",
       "      <td>1657718828485206016</td>\n",
       "      <td>713361366858481664</td>\n",
       "      <td>15891726</td>\n",
       "      <td>Stefan</td>\n",
       "      <td>Brandner</td>\n",
       "      <td>AfD</td>\n",
       "      <td>Jedenfalls haben \"Lord of the Lost\"🤪 (der Name...</td>\n",
       "      <td>Oh doch. Zum Beispiel könnte eine AfD Band Nam...</td>\n",
       "      <td>Esc, Musik, Lord of the Lost</td>\n",
       "      <td>Politik, Musik, Satire</td>\n",
       "    </tr>\n",
       "  </tbody>\n",
       "</table>\n",
       "</div>"
      ],
      "text/plain": [
       "               id_post             id_reply      author_id_post  \\\n",
       "0  1616701560431542272  1617114281132314624            42698498   \n",
       "1  1620171503957581825  1620308520087199744  713361366858481664   \n",
       "2  1649820541207863300  1649890068067151878            18189342   \n",
       "3  1610260317262471171  1610903010426908673           712941191   \n",
       "4  1657692554706534401  1657718828485206016  713361366858481664   \n",
       "\n",
       "   author_id_reply author_first_name_post author_last_name_post  \\\n",
       "0         15891726               Roderich           Kiesewetter   \n",
       "1         15891726                 Stefan              Brandner   \n",
       "2         15891726                  Frank             Schäffler   \n",
       "3         15891726                  Katja                 Adler   \n",
       "4         15891726                 Stefan              Brandner   \n",
       "\n",
       "  author_party_post                                          text_post  \\\n",
       "0           CDU/CSU  Aus meinem Wahlkreis heute eine Bürgerfrage: \"...   \n",
       "1               AfD  Zeigt der #staatsfunk etwa gerade einen #coron...   \n",
       "2               FDP  FDP will den Weiterbetrieb der Kernenergie in ...   \n",
       "3               FDP  Wir müssen eine Debatte zur Migrationspolitik ...   \n",
       "4               AfD  Jedenfalls haben \"Lord of the Lost\"🤪 (der Name...   \n",
       "\n",
       "                                          text_reply  \\\n",
       "0  Wussten das die CDU Verteidigungsminister, die...   \n",
       "1                Da es keinen Staatsfunk gibt: Nein.   \n",
       "2  Steht da auch drinne, dass die Dinger ohne Sub...   \n",
       "3  Leute die Begriffe wie „kulturelle Überfremdun...   \n",
       "4  Oh doch. Zum Beispiel könnte eine AfD Band Nam...   \n",
       "\n",
       "                                         topics_post  \\\n",
       "0                      Wahlkreis,Bürgerfrage,Gewehre   \n",
       "1                      Film, Corona, Staatsfernsehen   \n",
       "2              Kernenergie, FDP-Politik, AKW-Rückbau   \n",
       "3  Migrationspolitik, politische Sprache, öffentl...   \n",
       "4                       Esc, Musik, Lord of the Lost   \n",
       "\n",
       "                                        topics_reply  \n",
       "0               Wehretat, CDU, Verteidigungsminister  \n",
       "1  Deutsche Staatsbürgerschaft, öffentliche Rundf...  \n",
       "2                         Bildung, Politik, Finanzen  \n",
       "3  Kulturelle Überfremdung, politische Sprache, D...  \n",
       "4                             Politik, Musik, Satire  "
      ]
     },
     "execution_count": 20,
     "metadata": {},
     "output_type": "execute_result"
    }
   ],
   "source": [
    "data = pandas.read_csv(DATASET_PATH, index_col=[0])\n",
    "data.head()"
   ]
  },
  {
   "cell_type": "code",
   "execution_count": 21,
   "metadata": {},
   "outputs": [
    {
     "data": {
      "text/plain": [
       "348"
      ]
     },
     "execution_count": 21,
     "metadata": {},
     "output_type": "execute_result"
    }
   ],
   "source": [
    "positive_samples = {\n",
    "    author: [\n",
    "        sample for sample in itertools.combinations(group[\"text_post\"].tolist(), 3)\n",
    "    ]\n",
    "    for author, group in data.groupby(\"author_id_reply\")\n",
    "}\n",
    "len(positive_samples)"
   ]
  },
  {
   "cell_type": "code",
   "execution_count": 22,
   "metadata": {},
   "outputs": [
    {
     "data": {
      "text/plain": [
       "348"
      ]
     },
     "execution_count": 22,
     "metadata": {},
     "output_type": "execute_result"
    }
   ],
   "source": [
    "negative_samples = {\n",
    "    author: [\n",
    "        (\n",
    "            *random.choice(positive_samples[author])[:2],\n",
    "            random.choice(\n",
    "                positive_samples[\n",
    "                    random.choice(list(set(positive_samples.keys() - set([author]))))\n",
    "                ]\n",
    "            )[2],\n",
    "        )\n",
    "        for _ in range(450)\n",
    "    ]\n",
    "    for author in set(positive_samples.keys())\n",
    "}\n",
    "len(negative_samples)"
   ]
  },
  {
   "cell_type": "code",
   "execution_count": 29,
   "metadata": {},
   "outputs": [],
   "source": [
    "dataset = pandas.concat(\n",
    "    [\n",
    "        pandas.DataFrame(\n",
    "            [\n",
    "                dict(\n",
    "                    history_1=sample[0],\n",
    "                    history_2=sample[1],\n",
    "                    stimulus=sample[2],\n",
    "                    action=label,\n",
    "                )\n",
    "                for group in sets\n",
    "                for sample in group\n",
    "            ]\n",
    "        ).sample(10_000)\n",
    "        for label, sets in [\n",
    "            (True, positive_samples.values()),\n",
    "            (False, negative_samples.values()),\n",
    "        ]\n",
    "    ]\n",
    ")\n",
    "\n",
    "dataset.to_csv(DATASET_PATH.replace(\"enriched\", \"decision\"))"
   ]
  }
 ],
 "metadata": {
  "kernelspec": {
   "display_name": ".venv",
   "language": "python",
   "name": "python3"
  },
  "language_info": {
   "codemirror_mode": {
    "name": "ipython",
    "version": 3
   },
   "file_extension": ".py",
   "mimetype": "text/x-python",
   "name": "python",
   "nbconvert_exporter": "python",
   "pygments_lexer": "ipython3",
   "version": "3.10.12"
  }
 },
 "nbformat": 4,
 "nbformat_minor": 2
}
