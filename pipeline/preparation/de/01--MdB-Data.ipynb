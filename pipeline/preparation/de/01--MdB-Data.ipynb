{
 "cells": [
  {
   "cell_type": "code",
   "execution_count": 1,
   "metadata": {},
   "outputs": [],
   "source": [
    "import requests\n",
    "import pandas"
   ]
  },
  {
   "cell_type": "code",
   "execution_count": 2,
   "metadata": {},
   "outputs": [],
   "source": [
    "ENDPOINT: str = \"https://search.dip.bundestag.de/api/v1/person?format=json&apikey=I9FKdCn.hbfefNWCY336dL6x62vfwNKpoN2RZ1gp21\""
   ]
  },
  {
   "cell_type": "code",
   "execution_count": 3,
   "metadata": {},
   "outputs": [],
   "source": [
    "def get_data(cursor: str | None = None):\n",
    "    if cursor:\n",
    "        return requests.get(f\"{ENDPOINT}&cursor={cursor}\").json()\n",
    "    \n",
    "    return requests.get(ENDPOINT).json()"
   ]
  },
  {
   "cell_type": "code",
   "execution_count": null,
   "metadata": {},
   "outputs": [],
   "source": [
    "data = []\n",
    "\n",
    "response = get_data()\n",
    "cursor = response[\"cursor\"]\n",
    "\n",
    "for person in response[\"documents\"]:\n",
    "    data.append(person)\n",
    "\n",
    "\n",
    "while cursor:\n",
    "    response = get_data(cursor)\n",
    "\n",
    "    if response[\"cursor\"] != cursor:\n",
    "        cursor = response[\"cursor\"]\n",
    "    \n",
    "    else:\n",
    "        cursor = None\n",
    "\n",
    "    for person in response[\"documents\"]:\n",
    "        data.append(person)\n",
    "\n",
    "\n",
    "data"
   ]
  },
  {
   "cell_type": "code",
   "execution_count": null,
   "metadata": {},
   "outputs": [],
   "source": [
    "pandas.DataFrame(data)"
   ]
  },
  {
   "cell_type": "code",
   "execution_count": null,
   "metadata": {},
   "outputs": [],
   "source": [
    "(\n",
    "    pandas.DataFrame(data)\n",
    "    [[\"nachname\", \"vorname\", \"titel\", \"wahlperiode\"]]\n",
    "    .pipe(lambda _df: _df[_df[\"wahlperiode\"] == 20])\n",
    "    .pipe(lambda _df: _df[_df[\"titel\"].str.contains(\"MdB,\")])\n",
    "    .pipe(lambda _df: _df.assign(fraktion=_df[\"titel\"].str.split().str[-1]))\n",
    "    .drop(columns=[\"titel\", \"wahlperiode\"])\n",
    ")"
   ]
  }
 ],
 "metadata": {
  "kernelspec": {
   "display_name": ".venv",
   "language": "python",
   "name": "python3"
  },
  "language_info": {
   "codemirror_mode": {
    "name": "ipython",
    "version": 3
   },
   "file_extension": ".py",
   "mimetype": "text/x-python",
   "name": "python",
   "nbconvert_exporter": "python",
   "pygments_lexer": "ipython3",
   "version": "3.10.12"
  }
 },
 "nbformat": 4,
 "nbformat_minor": 2
}
