{
 "cells": [
  {
   "cell_type": "code",
   "execution_count": 2,
   "metadata": {},
   "outputs": [],
   "source": [
    "import random\n",
    "import itertools\n",
    "\n",
    "import pandas"
   ]
  },
  {
   "cell_type": "code",
   "execution_count": 3,
   "metadata": {},
   "outputs": [],
   "source": [
    "DATA_PATH: str = \"../../../data\"\n",
    "DATASET_PATH: str = f\"{DATA_PATH}/processed/twitter.english.dataset.enriched.csv\""
   ]
  },
  {
   "cell_type": "code",
   "execution_count": 5,
   "metadata": {},
   "outputs": [
    {
     "data": {
      "text/plain": [
       "5468"
      ]
     },
     "metadata": {},
     "output_type": "display_data"
    },
    {
     "data": {
      "text/html": [
       "<div>\n",
       "<style scoped>\n",
       "    .dataframe tbody tr th:only-of-type {\n",
       "        vertical-align: middle;\n",
       "    }\n",
       "\n",
       "    .dataframe tbody tr th {\n",
       "        vertical-align: top;\n",
       "    }\n",
       "\n",
       "    .dataframe thead th {\n",
       "        text-align: right;\n",
       "    }\n",
       "</style>\n",
       "<table border=\"1\" class=\"dataframe\">\n",
       "  <thead>\n",
       "    <tr style=\"text-align: right;\">\n",
       "      <th></th>\n",
       "      <th>id_post</th>\n",
       "      <th>id_reply</th>\n",
       "      <th>author_id_post</th>\n",
       "      <th>author_id_reply</th>\n",
       "      <th>author_first_name_post</th>\n",
       "      <th>author_last_name_post</th>\n",
       "      <th>author_party_post</th>\n",
       "      <th>text_post</th>\n",
       "      <th>text_reply</th>\n",
       "      <th>topics_post</th>\n",
       "      <th>topics_reply</th>\n",
       "    </tr>\n",
       "  </thead>\n",
       "  <tbody>\n",
       "    <tr>\n",
       "      <th>0</th>\n",
       "      <td>1684217285567807488</td>\n",
       "      <td>1684217285567807488</td>\n",
       "      <td>131546062</td>\n",
       "      <td>1088163738950295552</td>\n",
       "      <td>Rick</td>\n",
       "      <td>Scott</td>\n",
       "      <td>Republican Party</td>\n",
       "      <td>Democrats scream every day about limiting Amer...</td>\n",
       "      <td>Funny that Hunter is being held to account yet...</td>\n",
       "      <td>Tax evasion, Gun rights, Hypocrisy</td>\n",
       "      <td>Hunter Biden, Trump family, Accountability</td>\n",
       "    </tr>\n",
       "    <tr>\n",
       "      <th>1</th>\n",
       "      <td>1682471504880050176</td>\n",
       "      <td>1682471504880050176</td>\n",
       "      <td>131546062</td>\n",
       "      <td>1088163738950295552</td>\n",
       "      <td>Rick</td>\n",
       "      <td>Scott</td>\n",
       "      <td>Republican Party</td>\n",
       "      <td>If our economy is doing as well as @JoeBiden s...</td>\n",
       "      <td>You’re lying</td>\n",
       "      <td>Economic performance, Inflation, Biden's policies</td>\n",
       "      <td>Deception,Lying,Accusation</td>\n",
       "    </tr>\n",
       "    <tr>\n",
       "      <th>2</th>\n",
       "      <td>1682337371126112512</td>\n",
       "      <td>1682337371126112512</td>\n",
       "      <td>131546062</td>\n",
       "      <td>1088163738950295552</td>\n",
       "      <td>Rick</td>\n",
       "      <td>Scott</td>\n",
       "      <td>Republican Party</td>\n",
       "      <td>Bottom line: our military should be focused on...</td>\n",
       "      <td>Why don’t you call Senator Tubberville and tel...</td>\n",
       "      <td>National Security, Military Preparedness, Supp...</td>\n",
       "      <td>Military, Promotions, Enemies</td>\n",
       "    </tr>\n",
       "    <tr>\n",
       "      <th>3</th>\n",
       "      <td>1681994109094080512</td>\n",
       "      <td>1681994109094080512</td>\n",
       "      <td>131546062</td>\n",
       "      <td>1088163738950295552</td>\n",
       "      <td>Rick</td>\n",
       "      <td>Scott</td>\n",
       "      <td>Republican Party</td>\n",
       "      <td>I'm fighting for amendments in the FY 24 NDAA ...</td>\n",
       "      <td>OK folks let’s get your shot glasses out and w...</td>\n",
       "      <td>Communist China threat, US military reform, Na...</td>\n",
       "      <td>Rick Scott, Desperation, Woke Culture</td>\n",
       "    </tr>\n",
       "    <tr>\n",
       "      <th>4</th>\n",
       "      <td>1681424977076322304</td>\n",
       "      <td>1681424977076322304</td>\n",
       "      <td>131546062</td>\n",
       "      <td>1088163738950295552</td>\n",
       "      <td>Rick</td>\n",
       "      <td>Scott</td>\n",
       "      <td>Republican Party</td>\n",
       "      <td>Why is the White House acting like America's i...</td>\n",
       "      <td>Blah blah blah</td>\n",
       "      <td>Inflation, Joe Biden, Taxation</td>\n",
       "      <td>There is no tweet provided. Please provide a t...</td>\n",
       "    </tr>\n",
       "  </tbody>\n",
       "</table>\n",
       "</div>"
      ],
      "text/plain": [
       "               id_post             id_reply  author_id_post  \\\n",
       "0  1684217285567807488  1684217285567807488       131546062   \n",
       "1  1682471504880050176  1682471504880050176       131546062   \n",
       "2  1682337371126112512  1682337371126112512       131546062   \n",
       "3  1681994109094080512  1681994109094080512       131546062   \n",
       "4  1681424977076322304  1681424977076322304       131546062   \n",
       "\n",
       "       author_id_reply author_first_name_post author_last_name_post  \\\n",
       "0  1088163738950295552                   Rick                 Scott   \n",
       "1  1088163738950295552                   Rick                 Scott   \n",
       "2  1088163738950295552                   Rick                 Scott   \n",
       "3  1088163738950295552                   Rick                 Scott   \n",
       "4  1088163738950295552                   Rick                 Scott   \n",
       "\n",
       "  author_party_post                                          text_post  \\\n",
       "0  Republican Party  Democrats scream every day about limiting Amer...   \n",
       "1  Republican Party  If our economy is doing as well as @JoeBiden s...   \n",
       "2  Republican Party  Bottom line: our military should be focused on...   \n",
       "3  Republican Party  I'm fighting for amendments in the FY 24 NDAA ...   \n",
       "4  Republican Party  Why is the White House acting like America's i...   \n",
       "\n",
       "                                          text_reply  \\\n",
       "0  Funny that Hunter is being held to account yet...   \n",
       "1                                       You’re lying   \n",
       "2  Why don’t you call Senator Tubberville and tel...   \n",
       "3  OK folks let’s get your shot glasses out and w...   \n",
       "4                                     Blah blah blah   \n",
       "\n",
       "                                         topics_post  \\\n",
       "0                 Tax evasion, Gun rights, Hypocrisy   \n",
       "1  Economic performance, Inflation, Biden's policies   \n",
       "2  National Security, Military Preparedness, Supp...   \n",
       "3  Communist China threat, US military reform, Na...   \n",
       "4                     Inflation, Joe Biden, Taxation   \n",
       "\n",
       "                                        topics_reply  \n",
       "0         Hunter Biden, Trump family, Accountability  \n",
       "1                         Deception,Lying,Accusation  \n",
       "2                      Military, Promotions, Enemies  \n",
       "3              Rick Scott, Desperation, Woke Culture  \n",
       "4  There is no tweet provided. Please provide a t...  "
      ]
     },
     "execution_count": 5,
     "metadata": {},
     "output_type": "execute_result"
    }
   ],
   "source": [
    "data = (\n",
    "    pandas.read_csv(DATASET_PATH, index_col=[0])\n",
    "    .pipe(\n",
    "        lambda _df: _df[_df[\"author_id_reply\"].isin(\n",
    "            (\n",
    "                (_df.groupby(\"author_id_reply\").size() > 3)\n",
    "                .pipe(lambda _srs: _srs[_srs])\n",
    "            ).index\n",
    "        )]\n",
    "        )\n",
    ")\n",
    "display(len(data))\n",
    "data.head()"
   ]
  },
  {
   "cell_type": "code",
   "execution_count": 6,
   "metadata": {},
   "outputs": [
    {
     "data": {
      "text/plain": [
       "3489767"
      ]
     },
     "execution_count": 6,
     "metadata": {},
     "output_type": "execute_result"
    }
   ],
   "source": [
    "positive_samples = {\n",
    "    author: [\n",
    "        sample for sample in itertools.combinations(group[\"text_post\"].tolist(), 3)\n",
    "    ]\n",
    "    for author, group in data.groupby(\"author_id_reply\")\n",
    "}\n",
    "sum(len(group) for group in positive_samples.values())"
   ]
  },
  {
   "cell_type": "code",
   "execution_count": 7,
   "metadata": {},
   "outputs": [
    {
     "data": {
      "text/plain": [
       "140850"
      ]
     },
     "execution_count": 7,
     "metadata": {},
     "output_type": "execute_result"
    }
   ],
   "source": [
    "negative_samples = {\n",
    "    author: [\n",
    "        (\n",
    "            *random.choice(positive_samples[author])[:2],\n",
    "            random.choice(\n",
    "                positive_samples[\n",
    "                    random.choice(list(set(positive_samples.keys() - set([author]))))\n",
    "                ]\n",
    "            )[2],\n",
    "        )\n",
    "        for _ in range(450)\n",
    "    ]\n",
    "    for author in set(positive_samples.keys())\n",
    "}\n",
    "sum(len(group) for group in negative_samples.values())"
   ]
  },
  {
   "cell_type": "code",
   "execution_count": 8,
   "metadata": {},
   "outputs": [
    {
     "data": {
      "text/plain": [
       "200000"
      ]
     },
     "execution_count": 8,
     "metadata": {},
     "output_type": "execute_result"
    }
   ],
   "source": [
    "dataset = pandas.concat(\n",
    "    [\n",
    "        pandas.DataFrame(\n",
    "            [\n",
    "                dict(\n",
    "                    history_1=sample[0],\n",
    "                    history_2=sample[1],\n",
    "                    stimulus=sample[2],\n",
    "                    action=label,\n",
    "                )\n",
    "                for group in sets\n",
    "                for sample in group\n",
    "            ]\n",
    "        ).sample(100_000)\n",
    "        for label, sets in [\n",
    "            (True, positive_samples.values()),\n",
    "            (False, negative_samples.values()),\n",
    "        ]\n",
    "    ]\n",
    ")\n",
    "\n",
    "dataset.to_csv(DATASET_PATH.replace(\"enriched\", \"decision\"))\n",
    "len(dataset)"
   ]
  }
 ],
 "metadata": {
  "kernelspec": {
   "display_name": ".venv",
   "language": "python",
   "name": "python3"
  },
  "language_info": {
   "codemirror_mode": {
    "name": "ipython",
    "version": 3
   },
   "file_extension": ".py",
   "mimetype": "text/x-python",
   "name": "python",
   "nbconvert_exporter": "python",
   "pygments_lexer": "ipython3",
   "version": "3.10.12"
  }
 },
 "nbformat": 4,
 "nbformat_minor": 2
}
