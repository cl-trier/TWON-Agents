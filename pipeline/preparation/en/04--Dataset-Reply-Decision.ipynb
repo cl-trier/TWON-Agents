{
 "cells": [
  {
   "cell_type": "code",
   "execution_count": 1,
   "metadata": {},
   "outputs": [],
   "source": [
    "import random\n",
    "import itertools\n",
    "\n",
    "import pandas"
   ]
  },
  {
   "cell_type": "code",
   "execution_count": null,
   "metadata": {},
   "outputs": [],
   "source": [
    "DATA_PATH: str = \"../../../data\"\n",
    "DATASET_PATH: str = f\"{DATA_PATH}/processed/twitter.english.dataset.enriched.csv\""
   ]
  },
  {
   "cell_type": "code",
   "execution_count": null,
   "metadata": {},
   "outputs": [],
   "source": [
    "data = (\n",
    "    pandas.read_csv(DATASET_PATH, index_col=[0])\n",
    "    .pipe(\n",
    "        lambda _df: _df[_df[\"author_id_reply\"].isin(\n",
    "            (\n",
    "                (data.groupby(\"author_id_reply\").size() > 3)\n",
    "                .pipe(lambda _srs: _srs[_srs])\n",
    "            ).index\n",
    "        )]\n",
    "        )\n",
    ")\n",
    "display(len(data))\n",
    "data.head()"
   ]
  },
  {
   "cell_type": "code",
   "execution_count": null,
   "metadata": {},
   "outputs": [],
   "source": [
    "positive_samples = {\n",
    "    author: [\n",
    "        sample for sample in itertools.combinations(group[\"text_post\"].tolist(), 3)\n",
    "    ]\n",
    "    for author, group in data.groupby(\"author_id_reply\")\n",
    "}\n",
    "sum(len(group) for group in positive_samples.values())"
   ]
  },
  {
   "cell_type": "code",
   "execution_count": null,
   "metadata": {},
   "outputs": [],
   "source": [
    "negative_samples = {\n",
    "    author: [\n",
    "        (\n",
    "            *random.choice(positive_samples[author])[:2],\n",
    "            random.choice(\n",
    "                positive_samples[\n",
    "                    random.choice(list(set(positive_samples.keys() - set([author]))))\n",
    "                ]\n",
    "            )[2],\n",
    "        )\n",
    "        for _ in range(450)\n",
    "    ]\n",
    "    for author in set(positive_samples.keys())\n",
    "}\n",
    "sum(len(group) for group in negative_samples.values())"
   ]
  },
  {
   "cell_type": "code",
   "execution_count": null,
   "metadata": {},
   "outputs": [],
   "source": [
    "dataset = pandas.concat(\n",
    "    [\n",
    "        pandas.DataFrame(\n",
    "            [\n",
    "                dict(\n",
    "                    history_1=sample[0],\n",
    "                    history_2=sample[1],\n",
    "                    stimulus=sample[2],\n",
    "                    action=label,\n",
    "                )\n",
    "                for group in sets\n",
    "                for sample in group\n",
    "            ]\n",
    "        ).sample(150_000)\n",
    "        for label, sets in [\n",
    "            (True, positive_samples.values()),\n",
    "            (False, negative_samples.values()),\n",
    "        ]\n",
    "    ]\n",
    ")\n",
    "\n",
    "dataset.to_csv(DATASET_PATH.replace(\"enriched\", \"decision\"))\n",
    "len(dataset)"
   ]
  }
 ],
 "metadata": {
  "kernelspec": {
   "display_name": ".venv",
   "language": "python",
   "name": "python3"
  },
  "language_info": {
   "codemirror_mode": {
    "name": "ipython",
    "version": 3
   },
   "file_extension": ".py",
   "mimetype": "text/x-python",
   "name": "python",
   "nbconvert_exporter": "python",
   "pygments_lexer": "ipython3",
   "version": "3.10.12"
  }
 },
 "nbformat": 4,
 "nbformat_minor": 2
}
