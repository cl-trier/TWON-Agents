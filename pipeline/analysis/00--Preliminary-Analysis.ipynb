{
 "cells": [
  {
   "cell_type": "code",
   "execution_count": 41,
   "metadata": {},
   "outputs": [],
   "source": [
    "import rich\n",
    "\n",
    "import pandas\n",
    "import seaborn\n",
    "\n",
    "from matplotlib import pyplot"
   ]
  },
  {
   "cell_type": "code",
   "execution_count": 42,
   "metadata": {},
   "outputs": [],
   "source": [
    "DATA_PATH: str = \"../../data/raw/twitter\"\n",
    "REPORT_PATH: str = \"../../reports/preliminary\""
   ]
  },
  {
   "cell_type": "code",
   "execution_count": null,
   "metadata": {},
   "outputs": [
    {
     "name": "stderr",
     "output_type": "stream",
     "text": [
      "/tmp/ipykernel_3539795/645406185.py:7: DtypeWarning: Columns (2,3,6,9) have mixed types. Specify dtype option on import or set low_memory=False.\n",
      "  pandas.read_csv(f\"{DATA_PATH}/raw/twitter.english/{split}.csv\")\n"
     ]
    }
   ],
   "source": [
    "datasets = {\n",
    "    (\"German\", \"Posts\"): pandas.read_csv(f\"{DATA_PATH}.german/GermanyMdBTweets_2023.csv\", index_col=[0]),\n",
    "    (\"German\", \"Replies\"): pandas.read_csv(f\"{DATA_PATH}.german/GermanyReplies2023.csv\", index_col=[0]),\n",
    "    (\"English\", \"Posts\"): pandas.read_csv(f\"{DATA_PATH}.english/USCongressTweets_2023.csv\"),\n",
    "    (\"English\", \"Replies\"): pandas.concat(\n",
    "        [\n",
    "            pandas.read_csv(f\"{DATA_PATH}.english/{split}.csv\")\n",
    "            for split in [\n",
    "                \"USReplies_2023_1\", \"USReplies_2023_2\", \"USReplies_2023_July\",\n",
    "                \"USReplies_2023_August_I\", \"USReplies_2023_August_II\"\n",
    "            ]\n",
    "        ]\n",
    ")\n",
    "}"
   ]
  },
  {
   "cell_type": "code",
   "execution_count": 15,
   "metadata": {},
   "outputs": [
    {
     "data": {
      "text/html": [
       "<pre style=\"white-space:pre;overflow-x:auto;line-height:normal;font-family:Menlo,'DejaVu Sans Mono',consolas,'Courier New',monospace\"><span style=\"font-weight: bold\">{</span>\n",
       "    <span style=\"font-weight: bold\">(</span><span style=\"color: #008000; text-decoration-color: #008000\">'German'</span>, <span style=\"color: #008000; text-decoration-color: #008000\">'Posts'</span><span style=\"font-weight: bold\">)</span>: <span style=\"color: #008080; text-decoration-color: #008080; font-weight: bold\">154834</span>,\n",
       "    <span style=\"font-weight: bold\">(</span><span style=\"color: #008000; text-decoration-color: #008000\">'German'</span>, <span style=\"color: #008000; text-decoration-color: #008000\">'Replies'</span><span style=\"font-weight: bold\">)</span>: <span style=\"color: #008080; text-decoration-color: #008080; font-weight: bold\">3226277</span>,\n",
       "    <span style=\"font-weight: bold\">(</span><span style=\"color: #008000; text-decoration-color: #008000\">'English'</span>, <span style=\"color: #008000; text-decoration-color: #008000\">'Posts'</span><span style=\"font-weight: bold\">)</span>: <span style=\"color: #008080; text-decoration-color: #008080; font-weight: bold\">932755</span>,\n",
       "    <span style=\"font-weight: bold\">(</span><span style=\"color: #008000; text-decoration-color: #008000\">'English'</span>, <span style=\"color: #008000; text-decoration-color: #008000\">'Replies'</span><span style=\"font-weight: bold\">)</span>: <span style=\"color: #008080; text-decoration-color: #008080; font-weight: bold\">17803216</span>\n",
       "<span style=\"font-weight: bold\">}</span>\n",
       "</pre>\n"
      ],
      "text/plain": [
       "\u001b[1m{\u001b[0m\n",
       "    \u001b[1m(\u001b[0m\u001b[32m'German'\u001b[0m, \u001b[32m'Posts'\u001b[0m\u001b[1m)\u001b[0m: \u001b[1;36m154834\u001b[0m,\n",
       "    \u001b[1m(\u001b[0m\u001b[32m'German'\u001b[0m, \u001b[32m'Replies'\u001b[0m\u001b[1m)\u001b[0m: \u001b[1;36m3226277\u001b[0m,\n",
       "    \u001b[1m(\u001b[0m\u001b[32m'English'\u001b[0m, \u001b[32m'Posts'\u001b[0m\u001b[1m)\u001b[0m: \u001b[1;36m932755\u001b[0m,\n",
       "    \u001b[1m(\u001b[0m\u001b[32m'English'\u001b[0m, \u001b[32m'Replies'\u001b[0m\u001b[1m)\u001b[0m: \u001b[1;36m17803216\u001b[0m\n",
       "\u001b[1m}\u001b[0m\n"
      ]
     },
     "metadata": {},
     "output_type": "display_data"
    }
   ],
   "source": [
    "rich.print({\n",
    "    label: len(df)\n",
    "    for label, df in datasets.items()\n",
    "})"
   ]
  },
  {
   "cell_type": "code",
   "execution_count": 18,
   "metadata": {},
   "outputs": [
    {
     "data": {
      "text/html": [
       "<pre style=\"white-space:pre;overflow-x:auto;line-height:normal;font-family:Menlo,'DejaVu Sans Mono',consolas,'Courier New',monospace\"><span style=\"color: #800080; text-decoration-color: #800080; font-weight: bold\">Index</span><span style=\"font-weight: bold\">([</span><span style=\"color: #008000; text-decoration-color: #008000\">'Unnamed: 0'</span>, <span style=\"color: #008000; text-decoration-color: #008000\">'id'</span>, <span style=\"color: #008000; text-decoration-color: #008000\">'author_id'</span>, <span style=\"color: #008000; text-decoration-color: #008000\">'conversation_id'</span>, <span style=\"color: #008000; text-decoration-color: #008000\">'text'</span>,\n",
       "       <span style=\"color: #008000; text-decoration-color: #008000\">'public_metrics.retweet_count'</span>, <span style=\"color: #008000; text-decoration-color: #008000\">'public_metrics.reply_count'</span>,\n",
       "       <span style=\"color: #008000; text-decoration-color: #008000\">'public_metrics.like_count'</span>, <span style=\"color: #008000; text-decoration-color: #008000\">'public_metrics.quote_count'</span>,\n",
       "       <span style=\"color: #008000; text-decoration-color: #008000\">'public_metrics.impression_count'</span>, <span style=\"color: #008000; text-decoration-color: #008000\">'public_metrics.bookmark_count'</span>,\n",
       "       <span style=\"color: #008000; text-decoration-color: #008000\">'created_at'</span>, <span style=\"color: #008000; text-decoration-color: #008000\">'username'</span><span style=\"font-weight: bold\">]</span>,\n",
       "      <span style=\"color: #808000; text-decoration-color: #808000\">dtype</span>=<span style=\"color: #008000; text-decoration-color: #008000\">'object'</span><span style=\"font-weight: bold\">)</span>\n",
       "</pre>\n"
      ],
      "text/plain": [
       "\u001b[1;35mIndex\u001b[0m\u001b[1m(\u001b[0m\u001b[1m[\u001b[0m\u001b[32m'Unnamed: 0'\u001b[0m, \u001b[32m'id'\u001b[0m, \u001b[32m'author_id'\u001b[0m, \u001b[32m'conversation_id'\u001b[0m, \u001b[32m'text'\u001b[0m,\n",
       "       \u001b[32m'public_metrics.retweet_count'\u001b[0m, \u001b[32m'public_metrics.reply_count'\u001b[0m,\n",
       "       \u001b[32m'public_metrics.like_count'\u001b[0m, \u001b[32m'public_metrics.quote_count'\u001b[0m,\n",
       "       \u001b[32m'public_metrics.impression_count'\u001b[0m, \u001b[32m'public_metrics.bookmark_count'\u001b[0m,\n",
       "       \u001b[32m'created_at'\u001b[0m, \u001b[32m'username'\u001b[0m\u001b[1m]\u001b[0m,\n",
       "      \u001b[33mdtype\u001b[0m=\u001b[32m'object'\u001b[0m\u001b[1m)\u001b[0m\n"
      ]
     },
     "metadata": {},
     "output_type": "display_data"
    },
    {
     "data": {
      "text/html": [
       "<pre style=\"white-space:pre;overflow-x:auto;line-height:normal;font-family:Menlo,'DejaVu Sans Mono',consolas,'Courier New',monospace\"><span style=\"color: #800080; text-decoration-color: #800080; font-weight: bold\">Index</span><span style=\"font-weight: bold\">([</span><span style=\"color: #008000; text-decoration-color: #008000\">'Unnamed: 0'</span>, <span style=\"color: #008000; text-decoration-color: #008000\">'id'</span>, <span style=\"color: #008000; text-decoration-color: #008000\">'author_id'</span>, <span style=\"color: #008000; text-decoration-color: #008000\">'conversation_id'</span>, <span style=\"color: #008000; text-decoration-color: #008000\">'text'</span>,\n",
       "       <span style=\"color: #008000; text-decoration-color: #008000\">'public_metrics.retweet_count'</span>, <span style=\"color: #008000; text-decoration-color: #008000\">'public_metrics.reply_count'</span>,\n",
       "       <span style=\"color: #008000; text-decoration-color: #008000\">'public_metrics.like_count'</span>, <span style=\"color: #008000; text-decoration-color: #008000\">'public_metrics.quote_count'</span>,\n",
       "       <span style=\"color: #008000; text-decoration-color: #008000\">'public_metrics.bookmark_count'</span>, <span style=\"color: #008000; text-decoration-color: #008000\">'public_metrics.impression_count'</span>,\n",
       "       <span style=\"color: #008000; text-decoration-color: #008000\">'created_at'</span>, <span style=\"color: #008000; text-decoration-color: #008000\">'username'</span>, <span style=\"color: #008000; text-decoration-color: #008000\">'in_reply_to_user_id'</span><span style=\"font-weight: bold\">]</span>,\n",
       "      <span style=\"color: #808000; text-decoration-color: #808000\">dtype</span>=<span style=\"color: #008000; text-decoration-color: #008000\">'object'</span><span style=\"font-weight: bold\">)</span>\n",
       "</pre>\n"
      ],
      "text/plain": [
       "\u001b[1;35mIndex\u001b[0m\u001b[1m(\u001b[0m\u001b[1m[\u001b[0m\u001b[32m'Unnamed: 0'\u001b[0m, \u001b[32m'id'\u001b[0m, \u001b[32m'author_id'\u001b[0m, \u001b[32m'conversation_id'\u001b[0m, \u001b[32m'text'\u001b[0m,\n",
       "       \u001b[32m'public_metrics.retweet_count'\u001b[0m, \u001b[32m'public_metrics.reply_count'\u001b[0m,\n",
       "       \u001b[32m'public_metrics.like_count'\u001b[0m, \u001b[32m'public_metrics.quote_count'\u001b[0m,\n",
       "       \u001b[32m'public_metrics.bookmark_count'\u001b[0m, \u001b[32m'public_metrics.impression_count'\u001b[0m,\n",
       "       \u001b[32m'created_at'\u001b[0m, \u001b[32m'username'\u001b[0m, \u001b[32m'in_reply_to_user_id'\u001b[0m\u001b[1m]\u001b[0m,\n",
       "      \u001b[33mdtype\u001b[0m=\u001b[32m'object'\u001b[0m\u001b[1m)\u001b[0m\n"
      ]
     },
     "metadata": {},
     "output_type": "display_data"
    },
    {
     "data": {
      "text/html": [
       "<pre style=\"white-space:pre;overflow-x:auto;line-height:normal;font-family:Menlo,'DejaVu Sans Mono',consolas,'Courier New',monospace\"><span style=\"color: #800080; text-decoration-color: #800080; font-weight: bold\">Index</span><span style=\"font-weight: bold\">([</span><span style=\"color: #008000; text-decoration-color: #008000\">'text'</span>, <span style=\"color: #008000; text-decoration-color: #008000\">'id'</span>, <span style=\"color: #008000; text-decoration-color: #008000\">'created_at'</span>, <span style=\"color: #008000; text-decoration-color: #008000\">'screen_name'</span>, <span style=\"color: #008000; text-decoration-color: #008000\">'author_id'</span>,\n",
       "       <span style=\"color: #008000; text-decoration-color: #008000\">'retweeted_user_ID'</span>, <span style=\"color: #008000; text-decoration-color: #008000\">'collected_at'</span>, <span style=\"color: #008000; text-decoration-color: #008000\">'reply_to_id'</span>, <span style=\"color: #008000; text-decoration-color: #008000\">'reply_to_user'</span>,\n",
       "       <span style=\"color: #008000; text-decoration-color: #008000\">'expandedURL'</span><span style=\"font-weight: bold\">]</span>,\n",
       "      <span style=\"color: #808000; text-decoration-color: #808000\">dtype</span>=<span style=\"color: #008000; text-decoration-color: #008000\">'object'</span><span style=\"font-weight: bold\">)</span>\n",
       "</pre>\n"
      ],
      "text/plain": [
       "\u001b[1;35mIndex\u001b[0m\u001b[1m(\u001b[0m\u001b[1m[\u001b[0m\u001b[32m'text'\u001b[0m, \u001b[32m'id'\u001b[0m, \u001b[32m'created_at'\u001b[0m, \u001b[32m'screen_name'\u001b[0m, \u001b[32m'author_id'\u001b[0m,\n",
       "       \u001b[32m'retweeted_user_ID'\u001b[0m, \u001b[32m'collected_at'\u001b[0m, \u001b[32m'reply_to_id'\u001b[0m, \u001b[32m'reply_to_user'\u001b[0m,\n",
       "       \u001b[32m'expandedURL'\u001b[0m\u001b[1m]\u001b[0m,\n",
       "      \u001b[33mdtype\u001b[0m=\u001b[32m'object'\u001b[0m\u001b[1m)\u001b[0m\n"
      ]
     },
     "metadata": {},
     "output_type": "display_data"
    },
    {
     "data": {
      "text/html": [
       "<pre style=\"white-space:pre;overflow-x:auto;line-height:normal;font-family:Menlo,'DejaVu Sans Mono',consolas,'Courier New',monospace\"><span style=\"color: #800080; text-decoration-color: #800080; font-weight: bold\">Index</span><span style=\"font-weight: bold\">([</span><span style=\"color: #008000; text-decoration-color: #008000\">'text'</span>, <span style=\"color: #008000; text-decoration-color: #008000\">'id'</span>, <span style=\"color: #008000; text-decoration-color: #008000\">'created_at'</span>, <span style=\"color: #008000; text-decoration-color: #008000\">'screen_name'</span>, <span style=\"color: #008000; text-decoration-color: #008000\">'author_id'</span>,\n",
       "       <span style=\"color: #008000; text-decoration-color: #008000\">'retweeted_user_ID'</span>, <span style=\"color: #008000; text-decoration-color: #008000\">'collected_at'</span>, <span style=\"color: #008000; text-decoration-color: #008000\">'reply_to_id'</span>, <span style=\"color: #008000; text-decoration-color: #008000\">'reply_to_user'</span>,\n",
       "       <span style=\"color: #008000; text-decoration-color: #008000\">'expandedURL'</span><span style=\"font-weight: bold\">]</span>,\n",
       "      <span style=\"color: #808000; text-decoration-color: #808000\">dtype</span>=<span style=\"color: #008000; text-decoration-color: #008000\">'object'</span><span style=\"font-weight: bold\">)</span>\n",
       "</pre>\n"
      ],
      "text/plain": [
       "\u001b[1;35mIndex\u001b[0m\u001b[1m(\u001b[0m\u001b[1m[\u001b[0m\u001b[32m'text'\u001b[0m, \u001b[32m'id'\u001b[0m, \u001b[32m'created_at'\u001b[0m, \u001b[32m'screen_name'\u001b[0m, \u001b[32m'author_id'\u001b[0m,\n",
       "       \u001b[32m'retweeted_user_ID'\u001b[0m, \u001b[32m'collected_at'\u001b[0m, \u001b[32m'reply_to_id'\u001b[0m, \u001b[32m'reply_to_user'\u001b[0m,\n",
       "       \u001b[32m'expandedURL'\u001b[0m\u001b[1m]\u001b[0m,\n",
       "      \u001b[33mdtype\u001b[0m=\u001b[32m'object'\u001b[0m\u001b[1m)\u001b[0m\n"
      ]
     },
     "metadata": {},
     "output_type": "display_data"
    }
   ],
   "source": [
    "for df in datasets.values():\n",
    "    rich.print(df.columns)"
   ]
  },
  {
   "cell_type": "code",
   "execution_count": 17,
   "metadata": {},
   "outputs": [],
   "source": [
    "for label in [\n",
    "    (\"English\", \"Posts\"),\n",
    "    (\"English\", \"Replies\")\n",
    "]:\n",
    "    datasets[label] = datasets[label].rename(columns={\"full_text\": \"text\", \"tweet_id\": \"id\", \"original_user_id\": \"author_id\"})"
   ]
  },
  {
   "cell_type": "code",
   "execution_count": 45,
   "metadata": {},
   "outputs": [
    {
     "data": {
      "text/html": [
       "<div>\n",
       "<style scoped>\n",
       "    .dataframe tbody tr th:only-of-type {\n",
       "        vertical-align: middle;\n",
       "    }\n",
       "\n",
       "    .dataframe tbody tr th {\n",
       "        vertical-align: top;\n",
       "    }\n",
       "\n",
       "    .dataframe thead th {\n",
       "        text-align: right;\n",
       "    }\n",
       "</style>\n",
       "<table border=\"1\" class=\"dataframe\">\n",
       "  <thead>\n",
       "    <tr style=\"text-align: right;\">\n",
       "      <th></th>\n",
       "      <th>lang</th>\n",
       "      <th>subset</th>\n",
       "      <th>idx</th>\n",
       "      <th>author_id</th>\n",
       "      <th>text</th>\n",
       "    </tr>\n",
       "  </thead>\n",
       "  <tbody>\n",
       "    <tr>\n",
       "      <th>0</th>\n",
       "      <td>German</td>\n",
       "      <td>Posts</td>\n",
       "      <td>37493</td>\n",
       "      <td>1.524342e+18</td>\n",
       "      <td>Moin, guter Tag einen Baum zu pflanzen. Mammut...</td>\n",
       "    </tr>\n",
       "    <tr>\n",
       "      <th>1</th>\n",
       "      <td>German</td>\n",
       "      <td>Posts</td>\n",
       "      <td>41726</td>\n",
       "      <td>1.633766e+07</td>\n",
       "      <td>@JuergenZimmerer kaufe ein R und will lösen.</td>\n",
       "    </tr>\n",
       "    <tr>\n",
       "      <th>2</th>\n",
       "      <td>German</td>\n",
       "      <td>Posts</td>\n",
       "      <td>27384</td>\n",
       "      <td>1.425265e+09</td>\n",
       "      <td>@dgem_ev @DDG_Tweets @BMG_Bund @dgimev @dgho_e...</td>\n",
       "    </tr>\n",
       "    <tr>\n",
       "      <th>3</th>\n",
       "      <td>German</td>\n",
       "      <td>Posts</td>\n",
       "      <td>50245</td>\n",
       "      <td>1.775277e+07</td>\n",
       "      <td>Genau dieses jahrzehntelange negative Framing ...</td>\n",
       "    </tr>\n",
       "    <tr>\n",
       "      <th>4</th>\n",
       "      <td>German</td>\n",
       "      <td>Posts</td>\n",
       "      <td>150076</td>\n",
       "      <td>9.614650e+07</td>\n",
       "      <td>RT @AhmadMansour__: Beim Jewrovision 2023 heut...</td>\n",
       "    </tr>\n",
       "    <tr>\n",
       "      <th>...</th>\n",
       "      <td>...</td>\n",
       "      <td>...</td>\n",
       "      <td>...</td>\n",
       "      <td>...</td>\n",
       "      <td>...</td>\n",
       "    </tr>\n",
       "    <tr>\n",
       "      <th>399995</th>\n",
       "      <td>English</td>\n",
       "      <td>Replies</td>\n",
       "      <td>235631</td>\n",
       "      <td>7.974016e+17</td>\n",
       "      <td>Sure, the fake news media PR machine would pre...</td>\n",
       "    </tr>\n",
       "    <tr>\n",
       "      <th>399996</th>\n",
       "      <td>English</td>\n",
       "      <td>Replies</td>\n",
       "      <td>1488815</td>\n",
       "      <td>1.177786e+18</td>\n",
       "      <td>@jsrafuse_art @HannahThibedeau 🤣🤣🤣</td>\n",
       "    </tr>\n",
       "    <tr>\n",
       "      <th>399997</th>\n",
       "      <td>English</td>\n",
       "      <td>Replies</td>\n",
       "      <td>579977</td>\n",
       "      <td>2.749127e+08</td>\n",
       "      <td>We think the @forduk E-Transit is the best new...</td>\n",
       "    </tr>\n",
       "    <tr>\n",
       "      <th>399998</th>\n",
       "      <td>English</td>\n",
       "      <td>Replies</td>\n",
       "      <td>88102</td>\n",
       "      <td>9.365495e+07</td>\n",
       "      <td>@JamesGunn @MarvelStudios @Guardians YES</td>\n",
       "    </tr>\n",
       "    <tr>\n",
       "      <th>399999</th>\n",
       "      <td>English</td>\n",
       "      <td>Replies</td>\n",
       "      <td>4926923</td>\n",
       "      <td>2.652042e+07</td>\n",
       "      <td>**Wage growth is significantly above inflation...</td>\n",
       "    </tr>\n",
       "  </tbody>\n",
       "</table>\n",
       "<p>400000 rows × 5 columns</p>\n",
       "</div>"
      ],
      "text/plain": [
       "           lang   subset      idx     author_id  \\\n",
       "0        German    Posts    37493  1.524342e+18   \n",
       "1        German    Posts    41726  1.633766e+07   \n",
       "2        German    Posts    27384  1.425265e+09   \n",
       "3        German    Posts    50245  1.775277e+07   \n",
       "4        German    Posts   150076  9.614650e+07   \n",
       "...         ...      ...      ...           ...   \n",
       "399995  English  Replies   235631  7.974016e+17   \n",
       "399996  English  Replies  1488815  1.177786e+18   \n",
       "399997  English  Replies   579977  2.749127e+08   \n",
       "399998  English  Replies    88102  9.365495e+07   \n",
       "399999  English  Replies  4926923  2.652042e+07   \n",
       "\n",
       "                                                     text  \n",
       "0       Moin, guter Tag einen Baum zu pflanzen. Mammut...  \n",
       "1            @JuergenZimmerer kaufe ein R und will lösen.  \n",
       "2       @dgem_ev @DDG_Tweets @BMG_Bund @dgimev @dgho_e...  \n",
       "3       Genau dieses jahrzehntelange negative Framing ...  \n",
       "4       RT @AhmadMansour__: Beim Jewrovision 2023 heut...  \n",
       "...                                                   ...  \n",
       "399995  Sure, the fake news media PR machine would pre...  \n",
       "399996                 @jsrafuse_art @HannahThibedeau 🤣🤣🤣  \n",
       "399997  We think the @forduk E-Transit is the best new...  \n",
       "399998           @JamesGunn @MarvelStudios @Guardians YES  \n",
       "399999  **Wage growth is significantly above inflation...  \n",
       "\n",
       "[400000 rows x 5 columns]"
      ]
     },
     "execution_count": 45,
     "metadata": {},
     "output_type": "execute_result"
    }
   ],
   "source": [
    "sampled_concated_dataset = (\n",
    "    pandas.concat(\n",
    "        [\n",
    "            df[[\"author_id\", \"text\"]].sample(100_000)\n",
    "            for df in datasets.values()\n",
    "        ],\n",
    "        keys=datasets.keys()\n",
    "    )\n",
    "    .reset_index()\n",
    "    .rename(columns={\"level_0\": \"lang\", \"level_1\": \"subset\", \"level_2\": \"idx\"})\n",
    ")\n",
    "sampled_concated_dataset"
   ]
  },
  {
   "cell_type": "code",
   "execution_count": 68,
   "metadata": {},
   "outputs": [
    {
     "data": {
      "text/html": [
       "<div>\n",
       "<style scoped>\n",
       "    .dataframe tbody tr th:only-of-type {\n",
       "        vertical-align: middle;\n",
       "    }\n",
       "\n",
       "    .dataframe tbody tr th {\n",
       "        vertical-align: top;\n",
       "    }\n",
       "\n",
       "    .dataframe thead th {\n",
       "        text-align: right;\n",
       "    }\n",
       "</style>\n",
       "<table border=\"1\" class=\"dataframe\">\n",
       "  <thead>\n",
       "    <tr style=\"text-align: right;\">\n",
       "      <th></th>\n",
       "      <th></th>\n",
       "      <th>mean</th>\n",
       "      <th>std</th>\n",
       "      <th>min</th>\n",
       "      <th>25%</th>\n",
       "      <th>50%</th>\n",
       "      <th>75%</th>\n",
       "      <th>max</th>\n",
       "    </tr>\n",
       "    <tr>\n",
       "      <th>lang</th>\n",
       "      <th>subset</th>\n",
       "      <th></th>\n",
       "      <th></th>\n",
       "      <th></th>\n",
       "      <th></th>\n",
       "      <th></th>\n",
       "      <th></th>\n",
       "      <th></th>\n",
       "    </tr>\n",
       "  </thead>\n",
       "  <tbody>\n",
       "    <tr>\n",
       "      <th rowspan=\"2\" valign=\"top\">English</th>\n",
       "      <th>Posts</th>\n",
       "      <td>97.983437</td>\n",
       "      <td>23.904727</td>\n",
       "      <td>3.0</td>\n",
       "      <td>94.0</td>\n",
       "      <td>104.0</td>\n",
       "      <td>112.0</td>\n",
       "      <td>138.0</td>\n",
       "    </tr>\n",
       "    <tr>\n",
       "      <th>Replies</th>\n",
       "      <td>2.703588</td>\n",
       "      <td>2.612793</td>\n",
       "      <td>1.0</td>\n",
       "      <td>1.0</td>\n",
       "      <td>2.0</td>\n",
       "      <td>3.0</td>\n",
       "      <td>31.0</td>\n",
       "    </tr>\n",
       "    <tr>\n",
       "      <th rowspan=\"2\" valign=\"top\">German</th>\n",
       "      <th>Posts</th>\n",
       "      <td>145.560408</td>\n",
       "      <td>236.569584</td>\n",
       "      <td>1.0</td>\n",
       "      <td>18.5</td>\n",
       "      <td>72.0</td>\n",
       "      <td>163.0</td>\n",
       "      <td>2111.0</td>\n",
       "    </tr>\n",
       "    <tr>\n",
       "      <th>Replies</th>\n",
       "      <td>2.245980</td>\n",
       "      <td>3.180204</td>\n",
       "      <td>1.0</td>\n",
       "      <td>1.0</td>\n",
       "      <td>1.0</td>\n",
       "      <td>2.0</td>\n",
       "      <td>147.0</td>\n",
       "    </tr>\n",
       "  </tbody>\n",
       "</table>\n",
       "</div>"
      ],
      "text/plain": [
       "                       mean         std  min   25%    50%    75%     max\n",
       "lang    subset                                                          \n",
       "English Posts     97.983437   23.904727  3.0  94.0  104.0  112.0   138.0\n",
       "        Replies    2.703588    2.612793  1.0   1.0    2.0    3.0    31.0\n",
       "German  Posts    145.560408  236.569584  1.0  18.5   72.0  163.0  2111.0\n",
       "        Replies    2.245980    3.180204  1.0   1.0    1.0    2.0   147.0"
      ]
     },
     "execution_count": 68,
     "metadata": {},
     "output_type": "execute_result"
    }
   ],
   "source": [
    "(\n",
    "    sampled_concated_dataset\n",
    "    .groupby([\"lang\", \"subset\"])\n",
    "    [\"author_id\"]\n",
    "    .value_counts()\n",
    "    .reset_index()\n",
    "    .groupby([\"lang\", \"subset\"])\n",
    "    [\"count\"]\n",
    "    .describe()\n",
    "    .drop(columns=[\"count\"])\n",
    "    #.to_latex(float_format=\"%.2f\")\n",
    ")"
   ]
  },
  {
   "cell_type": "code",
   "execution_count": null,
   "metadata": {},
   "outputs": [
    {
     "data": {
      "text/html": [
       "<div>\n",
       "<style scoped>\n",
       "    .dataframe tbody tr th:only-of-type {\n",
       "        vertical-align: middle;\n",
       "    }\n",
       "\n",
       "    .dataframe tbody tr th {\n",
       "        vertical-align: top;\n",
       "    }\n",
       "\n",
       "    .dataframe thead th {\n",
       "        text-align: right;\n",
       "    }\n",
       "</style>\n",
       "<table border=\"1\" class=\"dataframe\">\n",
       "  <thead>\n",
       "    <tr style=\"text-align: right;\">\n",
       "      <th></th>\n",
       "      <th></th>\n",
       "      <th>mean</th>\n",
       "      <th>std</th>\n",
       "      <th>min</th>\n",
       "      <th>25%</th>\n",
       "      <th>50%</th>\n",
       "      <th>75%</th>\n",
       "      <th>max</th>\n",
       "    </tr>\n",
       "    <tr>\n",
       "      <th>lang</th>\n",
       "      <th>subset</th>\n",
       "      <th></th>\n",
       "      <th></th>\n",
       "      <th></th>\n",
       "      <th></th>\n",
       "      <th></th>\n",
       "      <th></th>\n",
       "      <th></th>\n",
       "    </tr>\n",
       "  </thead>\n",
       "  <tbody>\n",
       "    <tr>\n",
       "      <th rowspan=\"2\" valign=\"top\">English</th>\n",
       "      <th>Posts</th>\n",
       "      <td>193.42648</td>\n",
       "      <td>84.130477</td>\n",
       "      <td>1.0</td>\n",
       "      <td>127.0</td>\n",
       "      <td>208.0</td>\n",
       "      <td>271.0</td>\n",
       "      <td>684.0</td>\n",
       "    </tr>\n",
       "    <tr>\n",
       "      <th>Replies</th>\n",
       "      <td>140.24802</td>\n",
       "      <td>95.999434</td>\n",
       "      <td>1.0</td>\n",
       "      <td>59.0</td>\n",
       "      <td>116.0</td>\n",
       "      <td>221.0</td>\n",
       "      <td>982.0</td>\n",
       "    </tr>\n",
       "    <tr>\n",
       "      <th rowspan=\"2\" valign=\"top\">German</th>\n",
       "      <th>Posts</th>\n",
       "      <td>164.37194</td>\n",
       "      <td>78.835715</td>\n",
       "      <td>1.0</td>\n",
       "      <td>125.0</td>\n",
       "      <td>140.0</td>\n",
       "      <td>235.0</td>\n",
       "      <td>885.0</td>\n",
       "    </tr>\n",
       "    <tr>\n",
       "      <th>Replies</th>\n",
       "      <td>135.27058</td>\n",
       "      <td>86.775753</td>\n",
       "      <td>4.0</td>\n",
       "      <td>62.0</td>\n",
       "      <td>112.0</td>\n",
       "      <td>199.0</td>\n",
       "      <td>616.0</td>\n",
       "    </tr>\n",
       "  </tbody>\n",
       "</table>\n",
       "</div>"
      ],
      "text/plain": [
       "                      mean        std  min    25%    50%    75%    max\n",
       "lang    subset                                                        \n",
       "English Posts    193.42648  84.130477  1.0  127.0  208.0  271.0  684.0\n",
       "        Replies  140.24802  95.999434  1.0   59.0  116.0  221.0  982.0\n",
       "German  Posts    164.37194  78.835715  1.0  125.0  140.0  235.0  885.0\n",
       "        Replies  135.27058  86.775753  4.0   62.0  112.0  199.0  616.0"
      ]
     },
     "execution_count": 82,
     "metadata": {},
     "output_type": "execute_result"
    }
   ],
   "source": [
    "(\n",
    "    sampled_concated_dataset\n",
    "    .pipe(lambda _df: (\n",
    "        _df\n",
    "        .assign(text=_df[\"text\"].str.replace('http\\S+|www.\\S+', '', case=False))\n",
    "        .assign(text=_df[\"text\"].str.replace('@\\S+', '', case=False))\n",
    "        .assign(text=_df[\"text\"].str.replace('^RT', '', case=True))\n",
    "        .assign(text_length=_df[\"text\"].str.len())\n",
    "    ))\n",
    "    .groupby([\"lang\", \"subset\"])\n",
    "    [\"text_length\"]\n",
    "    .describe()\n",
    "    .drop(columns=[\"count\"])\n",
    "    #.to_latex(float_format=\"%.2f\")\n",
    ")"
   ]
  },
  {
   "cell_type": "code",
   "execution_count": 43,
   "metadata": {},
   "outputs": [
    {
     "data": {
      "image/png": "[encoded data removed]",
      "text/plain": [
       "<Figure size 1705.62x500 with 2 Axes>"
      ]
     },
     "metadata": {},
     "output_type": "display_data"
    }
   ],
   "source": [
    "(\n",
    "    seaborn.displot(\n",
    "        data=(\n",
    "            sampled_concated_dataset\n",
    "            .pipe(lambda _df: (\n",
    "                _df\n",
    "                .assign(text=_df[\"text\"].str.replace('http\\S+|www.\\S+', '', case=False))\n",
    "                .assign(text=_df[\"text\"].str.replace('@\\S+', '', case=False))\n",
    "                .assign(text_length=_df[\"text\"].str.len())\n",
    "            ))\n",
    "        ),\n",
    "        x=\"text_length\",\n",
    "        col=\"subset\",\n",
    "        hue=\"lang\",\n",
    "        aspect=1.6\n",
    "    )\n",
    "    .set(\n",
    "        xlim=(0, 340), \n",
    "        ylim=(0, 8_000)\n",
    "    )\n",
    "    .savefig(f\"{REPORT_PATH}/dist.len_text.pdf\")\n",
    ")\n"
   ]
  },
  {
   "cell_type": "code",
   "execution_count": 105,
   "metadata": {},
   "outputs": [
    {
     "data": {
      "text/html": [
       "<div>\n",
       "<style scoped>\n",
       "    .dataframe tbody tr th:only-of-type {\n",
       "        vertical-align: middle;\n",
       "    }\n",
       "\n",
       "    .dataframe tbody tr th {\n",
       "        vertical-align: top;\n",
       "    }\n",
       "\n",
       "    .dataframe thead tr th {\n",
       "        text-align: left;\n",
       "    }\n",
       "</style>\n",
       "<table border=\"1\" class=\"dataframe\">\n",
       "  <thead>\n",
       "    <tr>\n",
       "      <th>lang</th>\n",
       "      <th colspan=\"2\" halign=\"left\">English</th>\n",
       "      <th colspan=\"2\" halign=\"left\">German</th>\n",
       "    </tr>\n",
       "    <tr>\n",
       "      <th>subset</th>\n",
       "      <th>Posts</th>\n",
       "      <th>Replies</th>\n",
       "      <th>Posts</th>\n",
       "      <th>Replies</th>\n",
       "    </tr>\n",
       "  </thead>\n",
       "  <tbody>\n",
       "    <tr>\n",
       "      <th>proportion</th>\n",
       "      <td>0.69522</td>\n",
       "      <td>0.5634</td>\n",
       "      <td>0.34346</td>\n",
       "      <td>0.1827</td>\n",
       "    </tr>\n",
       "  </tbody>\n",
       "</table>\n",
       "</div>"
      ],
      "text/plain": [
       "lang        English           German        \n",
       "subset        Posts Replies    Posts Replies\n",
       "proportion  0.69522  0.5634  0.34346  0.1827"
      ]
     },
     "execution_count": 105,
     "metadata": {},
     "output_type": "execute_result"
    }
   ],
   "source": [
    "(\n",
    "    sampled_concated_dataset\n",
    "    .pipe(lambda _df: _df.assign(has_url=_df[\"text\"].str.contains(\"https://\")))\n",
    "    .groupby([\"lang\", \"subset\"])\n",
    "    [\"has_url\"]\n",
    "    .value_counts(normalize=True)\n",
    "    .reset_index(level=2)\n",
    "    .pipe(lambda _df: _df[_df[\"has_url\"]])\n",
    "    [\"proportion\"]\n",
    "    .to_frame()\n",
    "    .T\n",
    ")"
   ]
  }
 ],
 "metadata": {
  "kernelspec": {
   "display_name": ".venv",
   "language": "python",
   "name": "python3"
  },
  "language_info": {
   "codemirror_mode": {
    "name": "ipython",
    "version": 3
   },
   "file_extension": ".py",
   "mimetype": "text/x-python",
   "name": "python",
   "nbconvert_exporter": "python",
   "pygments_lexer": "ipython3",
   "version": "3.10.12"
  }
 },
 "nbformat": 4,
 "nbformat_minor": 2
}
