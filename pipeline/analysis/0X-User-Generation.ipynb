{
 "cells": [
  {
   "cell_type": "code",
   "execution_count": null,
   "metadata": {},
   "outputs": [],
   "source": [
    "import re \n",
    "import pandas"
   ]
  },
  {
   "cell_type": "code",
   "execution_count": 3,
   "metadata": {},
   "outputs": [],
   "source": [
    "DATA_PATH: str = \"../../data/processed\""
   ]
  },
  {
   "cell_type": "code",
   "execution_count": 65,
   "metadata": {},
   "outputs": [],
   "source": [
    "(\n",
    "    pandas.read_csv(f\"{DATA_PATH}/twitter.german.dataset.enriched.csv\")\n",
    "    [[\"author_id_post\", \"author_first_name_post\", \"author_last_name_post\", \"author_party_post\"]]\n",
    "    .drop_duplicates()\n",
    "    .set_index(\"author_id_post\")\n",
    "    .join(\n",
    "        (\n",
    "            pandas.read_csv(f\"{DATA_PATH}/twitter.german.dataset.enriched.csv\")\n",
    "            .groupby(\"author_id_post\")\n",
    "            [\"topics_post\"]\n",
    "            .aggregate(lambda x: [topic.strip() for topic in set(','.join(x).split(\",\"))])\n",
    "        )\n",
    "    )\n",
    "    .join(\n",
    "        (\n",
    "            pandas.read_csv(f\"{DATA_PATH}/twitter.german.dataset.enriched.csv\")\n",
    "            [\"author_id_post\"]\n",
    "            .value_counts(normalize=True)\n",
    "            .rename(\"content_proportion\")\n",
    "        )\n",
    "    )\n",
    "    .rename(columns=lambda x: re.sub('_post|author_','',x))\n",
    "    .reset_index(drop=True)\n",
    "    .to_json(\"agents.post.json\", orient=\"records\", indent=4, force_ascii=False)\n",
    ")"
   ]
  },
  {
   "cell_type": "code",
   "execution_count": 60,
   "metadata": {},
   "outputs": [],
   "source": [
    "(\n",
    "    pandas.read_csv(f\"{DATA_PATH}/twitter.german.dataset.enriched.csv\")\n",
    "    .pipe(lambda df: df.assign(history_item=df[\"text_post\"].str.cat(df[\"text_reply\"], sep=\"|\").str.split(\"|\")))\n",
    "    .groupby(\"author_id_reply\")\n",
    "    [\"history_item\"]\n",
    "    .aggregate(lambda x: x)\n",
    "    .to_frame()\n",
    "    .join(\n",
    "        (\n",
    "            pandas.read_csv(f\"{DATA_PATH}/twitter.german.dataset.enriched.csv\")\n",
    "            [\"author_id_reply\"]\n",
    "            .value_counts(normalize=True)\n",
    "            .rename(\"content_proportion\")\n",
    "        )\n",
    "    )\n",
    "    .reset_index(drop=True)\n",
    "    .to_json(\"agents.reply.json\", orient=\"records\", indent=4, force_ascii=False)\n",
    ")"
   ]
  }
 ],
 "metadata": {
  "kernelspec": {
   "display_name": ".venv",
   "language": "python",
   "name": "python3"
  },
  "language_info": {
   "codemirror_mode": {
    "name": "ipython",
    "version": 3
   },
   "file_extension": ".py",
   "mimetype": "text/x-python",
   "name": "python",
   "nbconvert_exporter": "python",
   "pygments_lexer": "ipython3",
   "version": "3.10.12"
  }
 },
 "nbformat": 4,
 "nbformat_minor": 2
}
