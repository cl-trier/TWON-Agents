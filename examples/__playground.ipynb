{
 "cells": [
  {
   "cell_type": "code",
   "execution_count": 9,
   "outputs": [],
   "source": [
    "import random\n",
    "from typing import Literal\n",
    "\n",
    "import gnews\n",
    "import newspaper\n",
    "import requests\n",
    "from pydantic import BaseModel\n",
    "\n",
    "\n",
    "class Article(BaseModel):\n",
    "    topic: str\n",
    "\n",
    "    n: int = 10\n",
    "    language: Literal['en', 'de', 'nl', 'sr', 'it'] = 'en'\n",
    "    country: Literal['US', 'DE', 'NL', 'RS', 'IT'] = 'US'\n",
    "\n",
    "    url: str = None\n",
    "    title: str = None\n",
    "    summary: str = None\n",
    "\n",
    "    def __init__(self, **data):\n",
    "        super().__init__(**data)\n",
    "\n",
    "        news_page = self.retrieve_news_page()\n",
    "        news = random.choice(news_page)\n",
    "\n",
    "        self.url = requests.get(news['url']).url\n",
    "\n",
    "        article = self.retrieve_article()\n",
    "\n",
    "        self.title = article.title\n",
    "        self.summary = article.summary.replace('\\n', ' ')\n",
    "\n",
    "    def __call__(self) -> dict:\n",
    "        return {\n",
    "            'url': article.url,\n",
    "            'title': article.title,\n",
    "            'summary': article.summary.replace('\\n', ' ')\n",
    "        }\n",
    "\n",
    "    def retrieve_news_page(self):\n",
    "        return gnews.GNews(\n",
    "            max_results=self.n,\n",
    "            language=self.language,\n",
    "            country=self.country\n",
    "        ).get_news(self.topic)\n",
    "\n",
    "    def retrieve_article(self):\n",
    "        article = newspaper.Article(self.url)\n",
    "        article.download()\n",
    "        article.parse()\n",
    "        article.nlp()\n",
    "\n",
    "        return article"
   ],
   "metadata": {
    "collapsed": false,
    "ExecuteTime": {
     "end_time": "2024-02-15T15:43:01.899707Z",
     "start_time": "2024-02-15T15:43:01.879272Z"
    }
   },
   "id": "88bd40b804ee5484"
  },
  {
   "cell_type": "code",
   "outputs": [
    {
     "data": {
      "text/plain": "{'url': 'https://www.dw.com/en/germany-rethinks-bundeswehr-and-deterrence/a-68248353',\n 'title': 'Germany hopes to boost military and deterrence – DW – 02',\n 'summary': 'Nevertheless, in 2014, NATO defense ministers agreed to commit a minimum of 2% of their country\\'s gross domestic product (GDP) to defense. There are a huge range of views on nuclear weapons among the 27 EU member states. Historically, Germany\\'s self-imposed prohibition on nuclear weapons is tied up with the post-World-War-II order and West Germany\\'s role in NATO defense strategy. In order to limit proliferation, the US government granted West Germany security guarantees and some role in providing the planes for delivering of nuclear weapons. \"In the current context, I see no reason why Germany should acquire nuclear weapons itself, and there are good reasons not to,\" said ECFR analyst Loss.'}"
     },
     "execution_count": 11,
     "metadata": {},
     "output_type": "execute_result"
    }
   ],
   "source": [
    "article = Article(topic='Germany')\n",
    "article()"
   ],
   "metadata": {
    "collapsed": false,
    "ExecuteTime": {
     "end_time": "2024-02-15T15:43:13.304239Z",
     "start_time": "2024-02-15T15:43:11.202905Z"
    }
   },
   "id": "3939569b68601833",
   "execution_count": 11
  },
  {
   "cell_type": "code",
   "outputs": [],
   "source": [],
   "metadata": {
    "collapsed": false
   },
   "id": "5bcefbdfe4452a1e"
  }
 ],
 "metadata": {
  "kernelspec": {
   "display_name": "Python 3",
   "language": "python",
   "name": "python3"
  },
  "language_info": {
   "codemirror_mode": {
    "name": "ipython",
    "version": 2
   },
   "file_extension": ".py",
   "mimetype": "text/x-python",
   "name": "python",
   "nbconvert_exporter": "python",
   "pygments_lexer": "ipython2",
   "version": "2.7.6"
  }
 },
 "nbformat": 4,
 "nbformat_minor": 5
}
