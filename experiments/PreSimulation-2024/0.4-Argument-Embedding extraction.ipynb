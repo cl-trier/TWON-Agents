{
 "cells": [
  {
   "cell_type": "code",
   "execution_count": 1,
   "metadata": {},
   "outputs": [],
   "source": [
    "import torch\n",
    "import pandas as pd\n",
    "from transformers import AutoTokenizer, AutoModel\n"
   ]
  },
  {
   "cell_type": "code",
   "execution_count": 2,
   "metadata": {},
   "outputs": [
    {
     "name": "stderr",
     "output_type": "stream",
     "text": [
      "Some weights of BertModel were not initialized from the model checkpoint at Twitter/twhin-bert-base and are newly initialized: ['bert.pooler.dense.bias', 'bert.pooler.dense.weight']\n",
      "You should probably TRAIN this model on a down-stream task to be able to use it for predictions and inference.\n"
     ]
    }
   ],
   "source": [
    "model_name = \"Twitter/twhin-bert-base\"\n",
    "tokenizer = AutoTokenizer.from_pretrained(model_name)\n",
    "model = AutoModel.from_pretrained(model_name)"
   ]
  },
  {
   "cell_type": "code",
   "execution_count": 9,
   "metadata": {},
   "outputs": [],
   "source": [
    "LANGUAGE: str = 'English'\n",
    "GROUPER: str = 'retrieved_source'"
   ]
  },
  {
   "cell_type": "code",
   "execution_count": 4,
   "metadata": {},
   "outputs": [],
   "source": [
    "# Function to encode a single sentence and return its embeddings\n",
    "def encode_argument(sentence):\n",
    "    input_ids = tokenizer.encode(sentence, add_special_tokens=True, truncation=True, max_length=512, padding='max_length')\n",
    "    input_ids_tensor = torch.tensor(input_ids).unsqueeze(0)  # Add batch dimension\n",
    "    attention_mask = torch.ones_like(input_ids_tensor)  # Creating attention mask\n",
    "    with torch.no_grad():\n",
    "        outputs = model(input_ids_tensor, attention_mask=attention_mask)\n",
    "        argument_embedding = outputs.last_hidden_state.mean(dim=1).squeeze(0)  # Mean pooling of token embeddings\n",
    "    return argument_embedding.tolist()"
   ]
  },
  {
   "cell_type": "code",
   "execution_count": 36,
   "metadata": {},
   "outputs": [],
   "source": [
    "# Load the arguments from the .parquet file\n",
    "arguments_df = pd.read_parquet(f\"arguments.by.{GROUPER}.{LANGUAGE}.parquet\")\n",
    "\n"
   ]
  },
  {
   "cell_type": "code",
   "execution_count": 37,
   "metadata": {},
   "outputs": [
    {
     "data": {
      "text/html": [
       "<div>\n",
       "<style scoped>\n",
       "    .dataframe tbody tr th:only-of-type {\n",
       "        vertical-align: middle;\n",
       "    }\n",
       "\n",
       "    .dataframe tbody tr th {\n",
       "        vertical-align: top;\n",
       "    }\n",
       "\n",
       "    .dataframe thead th {\n",
       "        text-align: right;\n",
       "    }\n",
       "</style>\n",
       "<table border=\"1\" class=\"dataframe\">\n",
       "  <thead>\n",
       "    <tr style=\"text-align: right;\">\n",
       "      <th></th>\n",
       "      <th>arguments</th>\n",
       "      <th>label</th>\n",
       "    </tr>\n",
       "  </thead>\n",
       "  <tbody>\n",
       "    <tr>\n",
       "      <th>0</th>\n",
       "      <td>\"The US should provide Ukraine with military aid</td>\n",
       "      <td>https://cepa.org/article/europe-slumbers-at-uk...</td>\n",
       "    </tr>\n",
       "    <tr>\n",
       "      <th>1</th>\n",
       "      <td>\"Continued Russian aggression towards Ukraine ...</td>\n",
       "      <td>https://cepa.org/article/europe-slumbers-at-uk...</td>\n",
       "    </tr>\n",
       "    <tr>\n",
       "      <th>2</th>\n",
       "      <td>\"The international community must take action ...</td>\n",
       "      <td>https://cepa.org/article/europe-slumbers-at-uk...</td>\n",
       "    </tr>\n",
       "    <tr>\n",
       "      <th>3</th>\n",
       "      <td>\"The US has an important role in supporting Uk...</td>\n",
       "      <td>https://cepa.org/article/europe-slumbers-at-uk...</td>\n",
       "    </tr>\n",
       "    <tr>\n",
       "      <th>4</th>\n",
       "      <td>\"There is no substitute for Congressional acti...</td>\n",
       "      <td>https://cepa.org/article/europe-slumbers-at-uk...</td>\n",
       "    </tr>\n",
       "    <tr>\n",
       "      <th>...</th>\n",
       "      <td>...</td>\n",
       "      <td>...</td>\n",
       "    </tr>\n",
       "    <tr>\n",
       "      <th>991</th>\n",
       "      <td>\"Economic sanctions imposed on Russia have no...</td>\n",
       "      <td>https://www.wilsoncenter.org/blog-post/state-u...</td>\n",
       "    </tr>\n",
       "    <tr>\n",
       "      <th>992</th>\n",
       "      <td>\"The conflict in Ukraine is a complex issue w...</td>\n",
       "      <td>https://www.wilsoncenter.org/blog-post/state-u...</td>\n",
       "    </tr>\n",
       "    <tr>\n",
       "      <th>993</th>\n",
       "      <td>\"The international community must take action...</td>\n",
       "      <td>https://www.wilsoncenter.org/blog-post/state-u...</td>\n",
       "    </tr>\n",
       "    <tr>\n",
       "      <th>994</th>\n",
       "      <td>\"Diplomatic efforts are necessary to find a p...</td>\n",
       "      <td>https://www.wilsoncenter.org/blog-post/state-u...</td>\n",
       "    </tr>\n",
       "    <tr>\n",
       "      <th>995</th>\n",
       "      <td>\"The safety and security of civilians in Ukra...</td>\n",
       "      <td>https://www.wilsoncenter.org/blog-post/state-u...</td>\n",
       "    </tr>\n",
       "  </tbody>\n",
       "</table>\n",
       "<p>996 rows × 2 columns</p>\n",
       "</div>"
      ],
      "text/plain": [
       "                                             arguments  \\\n",
       "0     \"The US should provide Ukraine with military aid   \n",
       "1    \"Continued Russian aggression towards Ukraine ...   \n",
       "2    \"The international community must take action ...   \n",
       "3    \"The US has an important role in supporting Uk...   \n",
       "4    \"There is no substitute for Congressional acti...   \n",
       "..                                                 ...   \n",
       "991   \"Economic sanctions imposed on Russia have no...   \n",
       "992   \"The conflict in Ukraine is a complex issue w...   \n",
       "993   \"The international community must take action...   \n",
       "994   \"Diplomatic efforts are necessary to find a p...   \n",
       "995   \"The safety and security of civilians in Ukra...   \n",
       "\n",
       "                                                 label  \n",
       "0    https://cepa.org/article/europe-slumbers-at-uk...  \n",
       "1    https://cepa.org/article/europe-slumbers-at-uk...  \n",
       "2    https://cepa.org/article/europe-slumbers-at-uk...  \n",
       "3    https://cepa.org/article/europe-slumbers-at-uk...  \n",
       "4    https://cepa.org/article/europe-slumbers-at-uk...  \n",
       "..                                                 ...  \n",
       "991  https://www.wilsoncenter.org/blog-post/state-u...  \n",
       "992  https://www.wilsoncenter.org/blog-post/state-u...  \n",
       "993  https://www.wilsoncenter.org/blog-post/state-u...  \n",
       "994  https://www.wilsoncenter.org/blog-post/state-u...  \n",
       "995  https://www.wilsoncenter.org/blog-post/state-u...  \n",
       "\n",
       "[996 rows x 2 columns]"
      ]
     },
     "execution_count": 37,
     "metadata": {},
     "output_type": "execute_result"
    }
   ],
   "source": [
    "arguments_df"
   ]
  },
  {
   "cell_type": "code",
   "execution_count": 38,
   "metadata": {},
   "outputs": [],
   "source": [
    "####run this block only for GROUPER=retrieved_source to condense article link id's and focus on articles with most arguments:\n",
    "arguments_df['label_nr'] = pd.factorize(arguments_df['label'])[0] + 1\n",
    "# Count the occurrences of each value in the column\n",
    "counts = arguments_df['label_nr'].value_counts()\n",
    "threshold = 17\n",
    "selected_values = counts[counts > threshold].index\n",
    "arguments_df = arguments_df[arguments_df['label_nr'].isin(selected_values)]\n",
    "####"
   ]
  },
  {
   "cell_type": "code",
   "execution_count": 44,
   "metadata": {},
   "outputs": [
    {
     "data": {
      "text/plain": [
       "58     [0.056044090539216995, -0.13699206709861755, -...\n",
       "59     [0.07642713189125061, -0.1521081030368805, -0....\n",
       "60     [0.03913707286119461, -0.130110502243042, -0.3...\n",
       "61     [0.04545748978853226, -0.1358380764722824, -0....\n",
       "62     [0.06929218769073486, -0.15236812829971313, -0...\n",
       "                             ...                        \n",
       "965    [0.05197259783744812, -0.14843794703483582, -0...\n",
       "966    [0.06756751239299774, -0.16555306315422058, -0...\n",
       "967    [0.059354379773139954, -0.14634248614311218, -...\n",
       "968    [0.0737944096326828, -0.1366034597158432, -0.3...\n",
       "969    [0.026186656206846237, -0.11421550810337067, -...\n",
       "Name: embedding, Length: 96, dtype: object"
      ]
     },
     "execution_count": 44,
     "metadata": {},
     "output_type": "execute_result"
    }
   ],
   "source": [
    "arguments_df.loc[:, 'embedding']\n"
   ]
  },
  {
   "cell_type": "code",
   "execution_count": 39,
   "metadata": {},
   "outputs": [
    {
     "name": "stderr",
     "output_type": "stream",
     "text": [
      "/var/folders/sn/9jbtqthn2j75rm9fpwwfrpbc0000gq/T/ipykernel_30843/44401996.py:2: SettingWithCopyWarning: \n",
      "A value is trying to be set on a copy of a slice from a DataFrame.\n",
      "Try using .loc[row_indexer,col_indexer] = value instead\n",
      "\n",
      "See the caveats in the documentation: https://pandas.pydata.org/pandas-docs/stable/user_guide/indexing.html#returning-a-view-versus-a-copy\n",
      "  arguments_df[\"embedding\"] = arguments_df[\"arguments\"].apply(encode_argument)\n"
     ]
    }
   ],
   "source": [
    "# Create embeddings for each argument and store them in a new column\n",
    "arguments_df.loc[:, 'embedding'] = arguments_df[\"arguments\"].apply(encode_argument)\n",
    "\n"
   ]
  },
  {
   "cell_type": "code",
   "execution_count": 41,
   "metadata": {},
   "outputs": [],
   "source": [
    "# Save the DataFrame with embeddings to a new .parquet file\n",
    "arguments_df.to_parquet(f'argument_embeddings.by.{GROUPER}.{LANGUAGE}.parquet')\n",
    "arguments_df.to_csv(f'argument_embeddings.by.{GROUPER}.{LANGUAGE}.csv')\n"
   ]
  }
 ],
 "metadata": {
  "kernelspec": {
   "display_name": "DefiningDebateQuality",
   "language": "python",
   "name": "python3"
  },
  "language_info": {
   "codemirror_mode": {
    "name": "ipython",
    "version": 3
   },
   "file_extension": ".py",
   "mimetype": "text/x-python",
   "name": "python",
   "nbconvert_exporter": "python",
   "pygments_lexer": "ipython3",
   "version": "3.10.11"
  }
 },
 "nbformat": 4,
 "nbformat_minor": 2
}
