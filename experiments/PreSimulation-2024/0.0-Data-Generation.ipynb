{
 "cells": [
  {
   "cell_type": "code",
   "id": "initial_id",
   "metadata": {
    "collapsed": true,
    "ExecuteTime": {
     "end_time": "2024-04-16T16:12:47.452078Z",
     "start_time": "2024-04-16T16:12:47.337451Z"
    }
   },
   "source": [
    "import hashlib\n",
    "import itertools\n",
    "import json\n",
    "import random\n",
    "from time import sleep\n",
    "from typing import List, Dict, Tuple\n",
    "\n",
    "import requests\n",
    "from tqdm import tqdm"
   ],
   "outputs": [],
   "execution_count": 2
  },
  {
   "cell_type": "code",
   "source": [
    "RAW_DATA_DIR: str = './raw'"
   ],
   "metadata": {
    "collapsed": false,
    "ExecuteTime": {
     "end_time": "2024-04-16T16:12:47.459312Z",
     "start_time": "2024-04-16T16:12:47.455006Z"
    }
   },
   "id": "a844482b65e81e98",
   "outputs": [],
   "execution_count": 3
  },
  {
   "cell_type": "code",
   "source": [
    "# experiment setup\n",
    "\n",
    "integrations: List[dict] = [\n",
    "    {\n",
    "        \"provider\": \"local\",\n",
    "        \"model\": \"mixtral:8x7b-instruct-v0.1-q6_K\",\n",
    "    },\n",
    "    {\n",
    "        \"provider\": \"local\",\n",
    "        \"model\": \"llama2:70b-chat-q6_K\",\n",
    "    },\n",
    "]\n",
    "\n",
    "personas: List[List[str]] = [\n",
    "    [\"alt_right\"],\n",
    "    [\"conservative\"],\n",
    "    [\"neutral\"],\n",
    "    [\"liberal\"]\n",
    "]\n",
    "languages: List[str] = [\"Dutch\", \"English\", \"German\"]\n",
    "\n",
    "# topics with subtopics\n",
    "topics: List[Dict[str, str | List[str]]] = [\n",
    "    {\n",
    "        \"theme\": \"ukraine\",\n",
    "        \"aspect\": [\"military conflict\", \"international stability\", \"energy prices\"]\n",
    "    },\n",
    "    {\n",
    "        \"theme\": \"healthcare\",\n",
    "        \"aspect\": [\"affordability\", \"privatization\", \"prevention\", \"research\"]\n",
    "    },\n",
    "]\n",
    "\n",
    "# number of iterations\n",
    "x: int = 150\n",
    "\n",
    "# hidden parameters (randomly chosen)\n",
    "length: List[str] = ['few-word', 'single-sentence', 'short']"
   ],
   "metadata": {
    "collapsed": false,
    "ExecuteTime": {
     "end_time": "2024-04-16T16:12:47.469148Z",
     "start_time": "2024-04-16T16:12:47.462204Z"
    }
   },
   "id": "7f1d095b5b7856c0",
   "outputs": [],
   "execution_count": 4
  },
  {
   "cell_type": "code",
   "source": [
    "configurations: List[Tuple] = list(\n",
    "    itertools.product(*[personas, languages, topics, range(x)])\n",
    ")\n",
    "random.shuffle(configurations)\n",
    "configurations[0], len(configurations)"
   ],
   "metadata": {
    "collapsed": false,
    "ExecuteTime": {
     "end_time": "2024-04-16T16:12:47.484179Z",
     "start_time": "2024-04-16T16:12:47.472420Z"
    }
   },
   "id": "4d847b5ec3640c6b",
   "outputs": [
    {
     "data": {
      "text/plain": [
       "((['neutral'],\n",
       "  'German',\n",
       "  {'theme': 'ukraine',\n",
       "   'aspect': ['military conflict',\n",
       "    'international stability',\n",
       "    'energy prices']},\n",
       "  23),\n",
       " 3600)"
      ]
     },
     "execution_count": 5,
     "metadata": {},
     "output_type": "execute_result"
    }
   ],
   "execution_count": 5
  },
  {
   "cell_type": "code",
   "source": [
    "for integration in integrations:\n",
    "    for persona, language, topic, _ in tqdm(configurations, desc=integration['model']):\n",
    "\n",
    "        payload: dict = {\n",
    "            \"persona\": persona,\n",
    "            \"integration\": integration,\n",
    "            \"language\": language,\n",
    "            \"topic\": f'{topic[\"theme\"]}, {random.choice(topic[\"aspect\"])}',\n",
    "            \"length\": random.choice(length)\n",
    "        }\n",
    "\n",
    "        response = requests.post('https://agents.twon.uni-trier.de/generate/', json=payload)\n",
    "\n",
    "        if response.status_code == 500 or response.status_code == 502:\n",
    "            print(\"500/502: Connection Error, too many request, try again later.\")\n",
    "            sleep(10)\n",
    "            continue\n",
    "\n",
    "        try:\n",
    "            data: dict = response.json()\n",
    "\n",
    "        except Exception as e:\n",
    "            print(e, ':', response)\n",
    "            continue\n",
    "\n",
    "        sample: dict = {\n",
    "            \"persona\": persona[0],\n",
    "            \"model\": integration[\"model\"],\n",
    "            \"topic\": topic[\"theme\"],\n",
    "            \"language\": language,\n",
    "            \"text\": data[\"response\"],\n",
    "            \"retrieved_source\": data[\"meta\"][\"retrieved_source\"],\n",
    "            \"annotation\": {\n",
    "                \"topic\": None,\n",
    "                \"persona\": None,\n",
    "                \"authenticity\": None\n",
    "            }\n",
    "        }\n",
    "\n",
    "        sample['id'] = hashlib.shake_256(str.encode(json.dumps(sample))).hexdigest(24)\n",
    "        open(f'{RAW_DATA_DIR}/{sample[\"id\"]}.json', 'w').write(json.dumps(sample, indent=4, ensure_ascii=False))\n",
    "        sleep(1)"
   ],
   "metadata": {
    "collapsed": false,
    "ExecuteTime": {
     "end_time": "2024-04-17T18:23:53.658695Z",
     "start_time": "2024-04-16T16:12:47.486503Z"
    }
   },
   "id": "ccbd80ccd3116f94",
   "outputs": [
    {
     "name": "stderr",
     "output_type": "stream",
     "text": [
      "mixtral:8x7b-instruct-v0.1-q6_K:  44%|████▎     | 1567/3600 [3:14:11<12:45:58, 22.61s/it]"
     ]
    },
    {
     "name": "stdout",
     "output_type": "stream",
     "text": [
      "Expecting value: line 1 column 1 (char 0) : <Response [504]>\n"
     ]
    },
    {
     "name": "stderr",
     "output_type": "stream",
     "text": [
      "mixtral:8x7b-instruct-v0.1-q6_K:  54%|█████▎    | 1933/3600 [4:01:56<10:33:37, 22.81s/it]"
     ]
    },
    {
     "name": "stdout",
     "output_type": "stream",
     "text": [
      "Expecting value: line 1 column 1 (char 0) : <Response [504]>\n"
     ]
    },
    {
     "name": "stderr",
     "output_type": "stream",
     "text": [
      "mixtral:8x7b-instruct-v0.1-q6_K:  54%|█████▎    | 1934/3600 [4:02:56<15:43:42, 33.99s/it]"
     ]
    },
    {
     "name": "stdout",
     "output_type": "stream",
     "text": [
      "Expecting value: line 1 column 1 (char 0) : <Response [504]>\n"
     ]
    },
    {
     "name": "stderr",
     "output_type": "stream",
     "text": [
      "mixtral:8x7b-instruct-v0.1-q6_K:  54%|█████▍    | 1943/3600 [4:05:42<11:32:38, 25.08s/it]"
     ]
    },
    {
     "name": "stdout",
     "output_type": "stream",
     "text": [
      "Expecting value: line 1 column 1 (char 0) : <Response [504]>\n"
     ]
    },
    {
     "name": "stderr",
     "output_type": "stream",
     "text": [
      "mixtral:8x7b-instruct-v0.1-q6_K:  54%|█████▍    | 1944/3600 [4:06:42<16:21:52, 35.58s/it]"
     ]
    },
    {
     "name": "stdout",
     "output_type": "stream",
     "text": [
      "Expecting value: line 1 column 1 (char 0) : <Response [504]>\n"
     ]
    },
    {
     "name": "stderr",
     "output_type": "stream",
     "text": [
      "mixtral:8x7b-instruct-v0.1-q6_K:  57%|█████▋    | 2058/3600 [4:22:07<11:25:59, 26.69s/it]"
     ]
    },
    {
     "name": "stdout",
     "output_type": "stream",
     "text": [
      "Expecting value: line 1 column 1 (char 0) : <Response [504]>\n"
     ]
    },
    {
     "name": "stderr",
     "output_type": "stream",
     "text": [
      "mixtral:8x7b-instruct-v0.1-q6_K:  57%|█████▋    | 2059/3600 [4:23:07<15:43:07, 36.72s/it]"
     ]
    },
    {
     "name": "stdout",
     "output_type": "stream",
     "text": [
      "Expecting value: line 1 column 1 (char 0) : <Response [504]>\n"
     ]
    },
    {
     "name": "stderr",
     "output_type": "stream",
     "text": [
      "mixtral:8x7b-instruct-v0.1-q6_K: 100%|██████████| 3600/3600 [7:31:03<00:00,  7.52s/it]   \n",
      "llama2:70b-chat-q6_K:   0%|          | 7/3600 [02:42<28:55:22, 28.98s/it]"
     ]
    },
    {
     "name": "stdout",
     "output_type": "stream",
     "text": [
      "Expecting value: line 1 column 1 (char 0) : <Response [504]>\n"
     ]
    },
    {
     "name": "stderr",
     "output_type": "stream",
     "text": [
      "llama2:70b-chat-q6_K:   6%|▌         | 219/3600 [1:12:47<28:11:41, 30.02s/it]"
     ]
    },
    {
     "name": "stdout",
     "output_type": "stream",
     "text": [
      "Expecting value: line 1 column 1 (char 0) : <Response [504]>\n"
     ]
    },
    {
     "name": "stderr",
     "output_type": "stream",
     "text": [
      "llama2:70b-chat-q6_K:  21%|██        | 751/3600 [3:58:58<23:09:43, 29.27s/it]"
     ]
    },
    {
     "name": "stdout",
     "output_type": "stream",
     "text": [
      "Expecting value: line 1 column 1 (char 0) : <Response [504]>\n"
     ]
    },
    {
     "name": "stderr",
     "output_type": "stream",
     "text": [
      "llama2:70b-chat-q6_K:  21%|██        | 752/3600 [3:59:58<30:27:58, 38.51s/it]"
     ]
    },
    {
     "name": "stdout",
     "output_type": "stream",
     "text": [
      "Expecting value: line 1 column 1 (char 0) : <Response [504]>\n"
     ]
    },
    {
     "name": "stderr",
     "output_type": "stream",
     "text": [
      "llama2:70b-chat-q6_K:  21%|██        | 753/3600 [4:00:58<35:34:58, 44.99s/it]"
     ]
    },
    {
     "name": "stdout",
     "output_type": "stream",
     "text": [
      "Expecting value: line 1 column 1 (char 0) : <Response [504]>\n"
     ]
    },
    {
     "name": "stderr",
     "output_type": "stream",
     "text": [
      "llama2:70b-chat-q6_K:  21%|██        | 754/3600 [4:01:58<39:08:55, 49.52s/it]"
     ]
    },
    {
     "name": "stdout",
     "output_type": "stream",
     "text": [
      "Expecting value: line 1 column 1 (char 0) : <Response [504]>\n"
     ]
    },
    {
     "name": "stderr",
     "output_type": "stream",
     "text": [
      "llama2:70b-chat-q6_K:  22%|██▏       | 797/3600 [4:17:06<24:32:10, 31.51s/it]"
     ]
    },
    {
     "name": "stdout",
     "output_type": "stream",
     "text": [
      "Expecting value: line 1 column 1 (char 0) : <Response [504]>\n"
     ]
    },
    {
     "name": "stderr",
     "output_type": "stream",
     "text": [
      "llama2:70b-chat-q6_K:  22%|██▏       | 798/3600 [4:18:06<31:11:45, 40.08s/it]"
     ]
    },
    {
     "name": "stdout",
     "output_type": "stream",
     "text": [
      "Expecting value: line 1 column 1 (char 0) : <Response [504]>\n"
     ]
    },
    {
     "name": "stderr",
     "output_type": "stream",
     "text": [
      "llama2:70b-chat-q6_K:  22%|██▏       | 799/3600 [4:19:06<35:51:17, 46.08s/it]"
     ]
    },
    {
     "name": "stdout",
     "output_type": "stream",
     "text": [
      "Expecting value: line 1 column 1 (char 0) : <Response [504]>\n"
     ]
    },
    {
     "name": "stderr",
     "output_type": "stream",
     "text": [
      "llama2:70b-chat-q6_K:  28%|██▊       | 992/3600 [5:19:29<20:09:42, 27.83s/it]"
     ]
    },
    {
     "name": "stdout",
     "output_type": "stream",
     "text": [
      "Expecting value: line 1 column 1 (char 0) : <Response [504]>\n"
     ]
    },
    {
     "name": "stderr",
     "output_type": "stream",
     "text": [
      "llama2:70b-chat-q6_K:  28%|██▊       | 993/3600 [5:20:29<27:09:39, 37.51s/it]"
     ]
    },
    {
     "name": "stdout",
     "output_type": "stream",
     "text": [
      "Expecting value: line 1 column 1 (char 0) : <Response [504]>\n"
     ]
    },
    {
     "name": "stderr",
     "output_type": "stream",
     "text": [
      "llama2:70b-chat-q6_K:  28%|██▊       | 994/3600 [5:21:29<32:03:35, 44.29s/it]"
     ]
    },
    {
     "name": "stdout",
     "output_type": "stream",
     "text": [
      "Expecting value: line 1 column 1 (char 0) : <Response [504]>\n"
     ]
    },
    {
     "name": "stderr",
     "output_type": "stream",
     "text": [
      "llama2:70b-chat-q6_K:  28%|██▊       | 1025/3600 [5:31:48<13:19:41, 18.63s/it]"
     ]
    },
    {
     "name": "stdout",
     "output_type": "stream",
     "text": [
      "500/502: Connection Error, too many request, try again later.\n"
     ]
    },
    {
     "name": "stderr",
     "output_type": "stream",
     "text": [
      "llama2:70b-chat-q6_K:  30%|██▉       | 1078/3600 [5:48:21<23:59:16, 34.24s/it]"
     ]
    },
    {
     "name": "stdout",
     "output_type": "stream",
     "text": [
      "Expecting value: line 1 column 1 (char 0) : <Response [504]>\n"
     ]
    },
    {
     "name": "stderr",
     "output_type": "stream",
     "text": [
      "llama2:70b-chat-q6_K:  41%|████      | 1477/3600 [7:53:40<16:36:53, 28.17s/it]"
     ]
    },
    {
     "name": "stdout",
     "output_type": "stream",
     "text": [
      "Expecting value: line 1 column 1 (char 0) : <Response [504]>\n"
     ]
    },
    {
     "name": "stderr",
     "output_type": "stream",
     "text": [
      "llama2:70b-chat-q6_K:  46%|████▌     | 1639/3600 [8:42:01<19:02:27, 34.96s/it]"
     ]
    },
    {
     "name": "stdout",
     "output_type": "stream",
     "text": [
      "Expecting value: line 1 column 1 (char 0) : <Response [504]>\n"
     ]
    },
    {
     "name": "stderr",
     "output_type": "stream",
     "text": [
      "llama2:70b-chat-q6_K:  47%|████▋     | 1707/3600 [9:02:38<15:19:41, 29.15s/it]"
     ]
    },
    {
     "name": "stdout",
     "output_type": "stream",
     "text": [
      "Expecting value: line 1 column 1 (char 0) : <Response [504]>\n"
     ]
    },
    {
     "name": "stderr",
     "output_type": "stream",
     "text": [
      "llama2:70b-chat-q6_K:  48%|████▊     | 1715/3600 [9:05:42<17:53:33, 34.17s/it]"
     ]
    },
    {
     "name": "stdout",
     "output_type": "stream",
     "text": [
      "Expecting value: line 1 column 1 (char 0) : <Response [504]>\n",
      "500/502: Connection Error, too many request, try again later.\n"
     ]
    },
    {
     "name": "stderr",
     "output_type": "stream",
     "text": [
      "llama2:70b-chat-q6_K:  48%|████▊     | 1726/3600 [9:09:01<15:35:41, 29.96s/it]"
     ]
    },
    {
     "name": "stdout",
     "output_type": "stream",
     "text": [
      "Expecting value: line 1 column 1 (char 0) : <Response [504]>\n"
     ]
    },
    {
     "name": "stderr",
     "output_type": "stream",
     "text": [
      "llama2:70b-chat-q6_K:  52%|█████▏    | 1867/3600 [9:51:01<10:19:15, 21.44s/it]"
     ]
    },
    {
     "name": "stdout",
     "output_type": "stream",
     "text": [
      "500/502: Connection Error, too many request, try again later.\n"
     ]
    },
    {
     "name": "stderr",
     "output_type": "stream",
     "text": [
      "llama2:70b-chat-q6_K:  54%|█████▎    | 1932/3600 [10:14:13<16:15:57, 35.11s/it]"
     ]
    },
    {
     "name": "stdout",
     "output_type": "stream",
     "text": [
      "Expecting value: line 1 column 1 (char 0) : <Response [504]>\n"
     ]
    },
    {
     "name": "stderr",
     "output_type": "stream",
     "text": [
      "llama2:70b-chat-q6_K:  56%|█████▋    | 2030/3600 [10:51:52<20:03:57, 46.01s/it]"
     ]
    },
    {
     "name": "stdout",
     "output_type": "stream",
     "text": [
      "Expecting value: line 1 column 1 (char 0) : <Response [504]>\n"
     ]
    },
    {
     "name": "stderr",
     "output_type": "stream",
     "text": [
      "llama2:70b-chat-q6_K:  58%|█████▊    | 2106/3600 [11:13:39<12:11:41, 29.39s/it]"
     ]
    },
    {
     "name": "stdout",
     "output_type": "stream",
     "text": [
      "Expecting value: line 1 column 1 (char 0) : <Response [504]>\n"
     ]
    },
    {
     "name": "stderr",
     "output_type": "stream",
     "text": [
      "llama2:70b-chat-q6_K:  66%|██████▌   | 2361/3600 [12:28:48<9:53:29, 28.74s/it] "
     ]
    },
    {
     "name": "stdout",
     "output_type": "stream",
     "text": [
      "Expecting value: line 1 column 1 (char 0) : <Response [504]>\n"
     ]
    },
    {
     "name": "stderr",
     "output_type": "stream",
     "text": [
      "llama2:70b-chat-q6_K:  76%|███████▌  | 2736/3600 [14:27:03<7:46:12, 32.38s/it] "
     ]
    },
    {
     "name": "stdout",
     "output_type": "stream",
     "text": [
      "Expecting value: line 1 column 1 (char 0) : <Response [504]>\n"
     ]
    },
    {
     "name": "stderr",
     "output_type": "stream",
     "text": [
      "llama2:70b-chat-q6_K:  78%|███████▊  | 2798/3600 [14:47:06<6:07:37, 27.50s/it]"
     ]
    },
    {
     "name": "stdout",
     "output_type": "stream",
     "text": [
      "Expecting value: line 1 column 1 (char 0) : <Response [504]>\n"
     ]
    },
    {
     "name": "stderr",
     "output_type": "stream",
     "text": [
      "llama2:70b-chat-q6_K:  79%|███████▉  | 2849/3600 [15:03:11<6:42:19, 32.14s/it]"
     ]
    },
    {
     "name": "stdout",
     "output_type": "stream",
     "text": [
      "Expecting value: line 1 column 1 (char 0) : <Response [504]>\n"
     ]
    },
    {
     "name": "stderr",
     "output_type": "stream",
     "text": [
      "llama2:70b-chat-q6_K:  84%|████████▍ | 3028/3600 [16:04:03<4:40:34, 29.43s/it]"
     ]
    },
    {
     "name": "stdout",
     "output_type": "stream",
     "text": [
      "Expecting value: line 1 column 1 (char 0) : <Response [504]>\n"
     ]
    },
    {
     "name": "stderr",
     "output_type": "stream",
     "text": [
      "llama2:70b-chat-q6_K:  99%|█████████▊| 3554/3600 [18:26:33<20:55, 27.28s/it]  "
     ]
    },
    {
     "name": "stdout",
     "output_type": "stream",
     "text": [
      "Expecting value: line 1 column 1 (char 0) : <Response [504]>\n"
     ]
    },
    {
     "name": "stderr",
     "output_type": "stream",
     "text": [
      "llama2:70b-chat-q6_K:  99%|█████████▉| 3572/3600 [18:32:34<13:58, 29.95s/it]"
     ]
    },
    {
     "name": "stdout",
     "output_type": "stream",
     "text": [
      "Expecting value: line 1 column 1 (char 0) : <Response [504]>\n"
     ]
    },
    {
     "name": "stderr",
     "output_type": "stream",
     "text": [
      "llama2:70b-chat-q6_K: 100%|██████████| 3600/3600 [18:40:02<00:00, 18.67s/it]\n"
     ]
    }
   ],
   "execution_count": 6
  },
  {
   "cell_type": "code",
   "source": [],
   "metadata": {
    "collapsed": false,
    "ExecuteTime": {
     "end_time": "2024-04-17T18:23:53.668017Z",
     "start_time": "2024-04-17T18:23:53.663064Z"
    }
   },
   "id": "a8aa81e492be1879",
   "outputs": [],
   "execution_count": 6
  }
 ],
 "metadata": {
  "kernelspec": {
   "display_name": "Python 3",
   "language": "python",
   "name": "python3"
  },
  "language_info": {
   "codemirror_mode": {
    "name": "ipython",
    "version": 2
   },
   "file_extension": ".py",
   "mimetype": "text/x-python",
   "name": "python",
   "nbconvert_exporter": "python",
   "pygments_lexer": "ipython2",
   "version": "2.7.6"
  }
 },
 "nbformat": 4,
 "nbformat_minor": 5
}
