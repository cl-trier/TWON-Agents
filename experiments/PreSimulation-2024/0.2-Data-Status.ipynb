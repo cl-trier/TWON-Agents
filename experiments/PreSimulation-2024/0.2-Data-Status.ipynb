{
 "cells": [
  {
   "cell_type": "code",
   "id": "initial_id",
   "metadata": {
    "collapsed": true,
    "ExecuteTime": {
     "end_time": "2024-04-23T12:00:58.332994Z",
     "start_time": "2024-04-23T12:00:58.328139Z"
    }
   },
   "source": [
    "import pandas as pd"
   ],
   "outputs": [],
   "execution_count": 7
  },
  {
   "cell_type": "code",
   "source": [
    "DATA_PATH: str = './dataset'\n",
    "DATA_SUBSET: str = 'full'"
   ],
   "metadata": {
    "collapsed": false,
    "ExecuteTime": {
     "end_time": "2024-04-23T12:01:00.797236Z",
     "start_time": "2024-04-23T12:01:00.792164Z"
    }
   },
   "id": "a1df2333b7f1c1fa",
   "outputs": [],
   "execution_count": 8
  },
  {
   "cell_type": "code",
   "source": [
    "data: pd.DataFrame = pd.read_parquet(f'{DATA_PATH}.{DATA_SUBSET}.parquet')\n",
    "data"
   ],
   "metadata": {
    "collapsed": false,
    "ExecuteTime": {
     "end_time": "2024-04-23T12:01:02.766168Z",
     "start_time": "2024-04-23T12:01:02.704235Z"
    }
   },
   "id": "2c0cae75f40dd734",
   "outputs": [
    {
     "data": {
      "text/plain": [
       "                                                       persona  \\\n",
       "id                                                               \n",
       "c0e20a320406ea9273e4b8a5f9d5d6a93e21e110c8bf77ae     alt_right   \n",
       "5aa4732ee0ce55f18cb9fb9bd797270b190ae8e812766f04       neutral   \n",
       "15e4f5934fdc3d86a05390cb02aacc323da88572c277cc62       neutral   \n",
       "efccfb1e1b2bb061de63278ee579798cf9d7bc6e23b04b8e       neutral   \n",
       "3afe91fe64f1f8ac12f7ded8c704186e6759cba9ea9e005d     alt_right   \n",
       "...                                                        ...   \n",
       "44f506523ed36bfb80e8f20912058dc79855267447f13ada       liberal   \n",
       "8e59e6f4b65cf2f7d7f2ac483aa4bf899b8faf445ee739e4  conservative   \n",
       "84120de626ec5988b7e3879930af0e97f542a5f55b916546       liberal   \n",
       "783a1f7c846a91b54a2e14f9d2bd714c731dbdb20dd9c7b7       liberal   \n",
       "c1402b5d74a8de5ac43f614a8fc9b7d8ab3d2d9b953e89a8     alt_right   \n",
       "\n",
       "                                                                            model  \\\n",
       "id                                                                                  \n",
       "c0e20a320406ea9273e4b8a5f9d5d6a93e21e110c8bf77ae  mixtral:8x7b-instruct-v0.1-q6_K   \n",
       "5aa4732ee0ce55f18cb9fb9bd797270b190ae8e812766f04             llama2:70b-chat-q6_K   \n",
       "15e4f5934fdc3d86a05390cb02aacc323da88572c277cc62  mixtral:8x7b-instruct-v0.1-q6_K   \n",
       "efccfb1e1b2bb061de63278ee579798cf9d7bc6e23b04b8e             llama2:70b-chat-q6_K   \n",
       "3afe91fe64f1f8ac12f7ded8c704186e6759cba9ea9e005d             llama2:70b-chat-q6_K   \n",
       "...                                                                           ...   \n",
       "44f506523ed36bfb80e8f20912058dc79855267447f13ada             llama2:70b-chat-q6_K   \n",
       "8e59e6f4b65cf2f7d7f2ac483aa4bf899b8faf445ee739e4             llama2:70b-chat-q6_K   \n",
       "84120de626ec5988b7e3879930af0e97f542a5f55b916546             llama2:70b-chat-q6_K   \n",
       "783a1f7c846a91b54a2e14f9d2bd714c731dbdb20dd9c7b7             llama2:70b-chat-q6_K   \n",
       "c1402b5d74a8de5ac43f614a8fc9b7d8ab3d2d9b953e89a8  mixtral:8x7b-instruct-v0.1-q6_K   \n",
       "\n",
       "                                                       topic language  \\\n",
       "id                                                                      \n",
       "c0e20a320406ea9273e4b8a5f9d5d6a93e21e110c8bf77ae     ukraine  English   \n",
       "5aa4732ee0ce55f18cb9fb9bd797270b190ae8e812766f04     ukraine    Dutch   \n",
       "15e4f5934fdc3d86a05390cb02aacc323da88572c277cc62  healthcare    Dutch   \n",
       "efccfb1e1b2bb061de63278ee579798cf9d7bc6e23b04b8e  healthcare    Dutch   \n",
       "3afe91fe64f1f8ac12f7ded8c704186e6759cba9ea9e005d  healthcare  English   \n",
       "...                                                      ...      ...   \n",
       "44f506523ed36bfb80e8f20912058dc79855267447f13ada     ukraine   German   \n",
       "8e59e6f4b65cf2f7d7f2ac483aa4bf899b8faf445ee739e4  healthcare  English   \n",
       "84120de626ec5988b7e3879930af0e97f542a5f55b916546     ukraine    Dutch   \n",
       "783a1f7c846a91b54a2e14f9d2bd714c731dbdb20dd9c7b7  healthcare    Dutch   \n",
       "c1402b5d74a8de5ac43f614a8fc9b7d8ab3d2d9b953e89a8     ukraine   German   \n",
       "\n",
       "                                                                                               text  \\\n",
       "id                                                                                                    \n",
       "c0e20a320406ea9273e4b8a5f9d5d6a93e21e110c8bf77ae  Sad to see Ukraine's energy infrastructure und...   \n",
       "5aa4732ee0ce55f18cb9fb9bd797270b190ae8e812766f04  International stability is crucial for global ...   \n",
       "15e4f5934fdc3d86a05390cb02aacc323da88572c277cc62  Beware van privatisering in de gezondheidszorg...   \n",
       "efccfb1e1b2bb061de63278ee579798cf9d7bc6e23b04b8e  Halting the rise of antibiotic resistance woul...   \n",
       "3afe91fe64f1f8ac12f7ded8c704186e6759cba9ea9e005d  I'm not able to provide a response that promot...   \n",
       "...                                                                                             ...   \n",
       "44f506523ed36bfb80e8f20912058dc79855267447f13ada  @Liberal_Voice: Day 783 of the Russia-Ukraine ...   \n",
       "8e59e6f4b65cf2f7d7f2ac483aa4bf899b8faf445ee739e4  Antibiotic resistance is a ticking time bomb t...   \n",
       "84120de626ec5988b7e3879930af0e97f542a5f55b916546  Solidarity knows no borders! The international...   \n",
       "783a1f7c846a91b54a2e14f9d2bd714c731dbdb20dd9c7b7  Privatisering van ziekenhuizen leidt naar slec...   \n",
       "c1402b5d74a8de5ac43f614a8fc9b7d8ab3d2d9b953e89a8  Die Weltordnung, die nach dem Zweiten Weltkrie...   \n",
       "\n",
       "                                                                                   retrieved_source  \\\n",
       "id                                                                                                    \n",
       "c0e20a320406ea9273e4b8a5f9d5d6a93e21e110c8bf77ae  https://oilprice.com/Energy/Energy-General/Rus...   \n",
       "5aa4732ee0ce55f18cb9fb9bd797270b190ae8e812766f04                                               None   \n",
       "15e4f5934fdc3d86a05390cb02aacc323da88572c277cc62  https://prospect.org/health/2024-04-11-privati...   \n",
       "efccfb1e1b2bb061de63278ee579798cf9d7bc6e23b04b8e  https://www.gavi.org/vaccineswork/why-stemming...   \n",
       "3afe91fe64f1f8ac12f7ded8c704186e6759cba9ea9e005d  https://www.knoe.com/2024/04/16/several-uams-p...   \n",
       "...                                                                                             ...   \n",
       "44f506523ed36bfb80e8f20912058dc79855267447f13ada  https://www.aljazeera.com/news/2024/4/17/russi...   \n",
       "8e59e6f4b65cf2f7d7f2ac483aa4bf899b8faf445ee739e4  https://www.gavi.org/vaccineswork/why-stemming...   \n",
       "84120de626ec5988b7e3879930af0e97f542a5f55b916546  https://www.theguardian.com/global/2024/apr/16...   \n",
       "783a1f7c846a91b54a2e14f9d2bd714c731dbdb20dd9c7b7  https://theconversation.com/hospital-privatisa...   \n",
       "c1402b5d74a8de5ac43f614a8fc9b7d8ab3d2d9b953e89a8  https://globalnews.ca/news/10057964/melanie-jo...   \n",
       "\n",
       "                                                 annotation.topic  \\\n",
       "id                                                                  \n",
       "c0e20a320406ea9273e4b8a5f9d5d6a93e21e110c8bf77ae             None   \n",
       "5aa4732ee0ce55f18cb9fb9bd797270b190ae8e812766f04             None   \n",
       "15e4f5934fdc3d86a05390cb02aacc323da88572c277cc62             None   \n",
       "efccfb1e1b2bb061de63278ee579798cf9d7bc6e23b04b8e             None   \n",
       "3afe91fe64f1f8ac12f7ded8c704186e6759cba9ea9e005d             None   \n",
       "...                                                           ...   \n",
       "44f506523ed36bfb80e8f20912058dc79855267447f13ada             None   \n",
       "8e59e6f4b65cf2f7d7f2ac483aa4bf899b8faf445ee739e4             None   \n",
       "84120de626ec5988b7e3879930af0e97f542a5f55b916546             None   \n",
       "783a1f7c846a91b54a2e14f9d2bd714c731dbdb20dd9c7b7             None   \n",
       "c1402b5d74a8de5ac43f614a8fc9b7d8ab3d2d9b953e89a8             None   \n",
       "\n",
       "                                                 annotation.persona  \\\n",
       "id                                                                    \n",
       "c0e20a320406ea9273e4b8a5f9d5d6a93e21e110c8bf77ae               None   \n",
       "5aa4732ee0ce55f18cb9fb9bd797270b190ae8e812766f04               None   \n",
       "15e4f5934fdc3d86a05390cb02aacc323da88572c277cc62               None   \n",
       "efccfb1e1b2bb061de63278ee579798cf9d7bc6e23b04b8e               None   \n",
       "3afe91fe64f1f8ac12f7ded8c704186e6759cba9ea9e005d               None   \n",
       "...                                                             ...   \n",
       "44f506523ed36bfb80e8f20912058dc79855267447f13ada               None   \n",
       "8e59e6f4b65cf2f7d7f2ac483aa4bf899b8faf445ee739e4               None   \n",
       "84120de626ec5988b7e3879930af0e97f542a5f55b916546               None   \n",
       "783a1f7c846a91b54a2e14f9d2bd714c731dbdb20dd9c7b7               None   \n",
       "c1402b5d74a8de5ac43f614a8fc9b7d8ab3d2d9b953e89a8               None   \n",
       "\n",
       "                                                 annotation.authenticity  \n",
       "id                                                                        \n",
       "c0e20a320406ea9273e4b8a5f9d5d6a93e21e110c8bf77ae                    None  \n",
       "5aa4732ee0ce55f18cb9fb9bd797270b190ae8e812766f04                    None  \n",
       "15e4f5934fdc3d86a05390cb02aacc323da88572c277cc62                    None  \n",
       "efccfb1e1b2bb061de63278ee579798cf9d7bc6e23b04b8e                    None  \n",
       "3afe91fe64f1f8ac12f7ded8c704186e6759cba9ea9e005d                    None  \n",
       "...                                                                  ...  \n",
       "44f506523ed36bfb80e8f20912058dc79855267447f13ada                    None  \n",
       "8e59e6f4b65cf2f7d7f2ac483aa4bf899b8faf445ee739e4                    None  \n",
       "84120de626ec5988b7e3879930af0e97f542a5f55b916546                    None  \n",
       "783a1f7c846a91b54a2e14f9d2bd714c731dbdb20dd9c7b7                    None  \n",
       "c1402b5d74a8de5ac43f614a8fc9b7d8ab3d2d9b953e89a8                    None  \n",
       "\n",
       "[7647 rows x 9 columns]"
      ],
      "text/html": [
       "<div>\n",
       "<style scoped>\n",
       "    .dataframe tbody tr th:only-of-type {\n",
       "        vertical-align: middle;\n",
       "    }\n",
       "\n",
       "    .dataframe tbody tr th {\n",
       "        vertical-align: top;\n",
       "    }\n",
       "\n",
       "    .dataframe thead th {\n",
       "        text-align: right;\n",
       "    }\n",
       "</style>\n",
       "<table border=\"1\" class=\"dataframe\">\n",
       "  <thead>\n",
       "    <tr style=\"text-align: right;\">\n",
       "      <th></th>\n",
       "      <th>persona</th>\n",
       "      <th>model</th>\n",
       "      <th>topic</th>\n",
       "      <th>language</th>\n",
       "      <th>text</th>\n",
       "      <th>retrieved_source</th>\n",
       "      <th>annotation.topic</th>\n",
       "      <th>annotation.persona</th>\n",
       "      <th>annotation.authenticity</th>\n",
       "    </tr>\n",
       "    <tr>\n",
       "      <th>id</th>\n",
       "      <th></th>\n",
       "      <th></th>\n",
       "      <th></th>\n",
       "      <th></th>\n",
       "      <th></th>\n",
       "      <th></th>\n",
       "      <th></th>\n",
       "      <th></th>\n",
       "      <th></th>\n",
       "    </tr>\n",
       "  </thead>\n",
       "  <tbody>\n",
       "    <tr>\n",
       "      <th>c0e20a320406ea9273e4b8a5f9d5d6a93e21e110c8bf77ae</th>\n",
       "      <td>alt_right</td>\n",
       "      <td>mixtral:8x7b-instruct-v0.1-q6_K</td>\n",
       "      <td>ukraine</td>\n",
       "      <td>English</td>\n",
       "      <td>Sad to see Ukraine's energy infrastructure und...</td>\n",
       "      <td>https://oilprice.com/Energy/Energy-General/Rus...</td>\n",
       "      <td>None</td>\n",
       "      <td>None</td>\n",
       "      <td>None</td>\n",
       "    </tr>\n",
       "    <tr>\n",
       "      <th>5aa4732ee0ce55f18cb9fb9bd797270b190ae8e812766f04</th>\n",
       "      <td>neutral</td>\n",
       "      <td>llama2:70b-chat-q6_K</td>\n",
       "      <td>ukraine</td>\n",
       "      <td>Dutch</td>\n",
       "      <td>International stability is crucial for global ...</td>\n",
       "      <td>None</td>\n",
       "      <td>None</td>\n",
       "      <td>None</td>\n",
       "      <td>None</td>\n",
       "    </tr>\n",
       "    <tr>\n",
       "      <th>15e4f5934fdc3d86a05390cb02aacc323da88572c277cc62</th>\n",
       "      <td>neutral</td>\n",
       "      <td>mixtral:8x7b-instruct-v0.1-q6_K</td>\n",
       "      <td>healthcare</td>\n",
       "      <td>Dutch</td>\n",
       "      <td>Beware van privatisering in de gezondheidszorg...</td>\n",
       "      <td>https://prospect.org/health/2024-04-11-privati...</td>\n",
       "      <td>None</td>\n",
       "      <td>None</td>\n",
       "      <td>None</td>\n",
       "    </tr>\n",
       "    <tr>\n",
       "      <th>efccfb1e1b2bb061de63278ee579798cf9d7bc6e23b04b8e</th>\n",
       "      <td>neutral</td>\n",
       "      <td>llama2:70b-chat-q6_K</td>\n",
       "      <td>healthcare</td>\n",
       "      <td>Dutch</td>\n",
       "      <td>Halting the rise of antibiotic resistance woul...</td>\n",
       "      <td>https://www.gavi.org/vaccineswork/why-stemming...</td>\n",
       "      <td>None</td>\n",
       "      <td>None</td>\n",
       "      <td>None</td>\n",
       "    </tr>\n",
       "    <tr>\n",
       "      <th>3afe91fe64f1f8ac12f7ded8c704186e6759cba9ea9e005d</th>\n",
       "      <td>alt_right</td>\n",
       "      <td>llama2:70b-chat-q6_K</td>\n",
       "      <td>healthcare</td>\n",
       "      <td>English</td>\n",
       "      <td>I'm not able to provide a response that promot...</td>\n",
       "      <td>https://www.knoe.com/2024/04/16/several-uams-p...</td>\n",
       "      <td>None</td>\n",
       "      <td>None</td>\n",
       "      <td>None</td>\n",
       "    </tr>\n",
       "    <tr>\n",
       "      <th>...</th>\n",
       "      <td>...</td>\n",
       "      <td>...</td>\n",
       "      <td>...</td>\n",
       "      <td>...</td>\n",
       "      <td>...</td>\n",
       "      <td>...</td>\n",
       "      <td>...</td>\n",
       "      <td>...</td>\n",
       "      <td>...</td>\n",
       "    </tr>\n",
       "    <tr>\n",
       "      <th>44f506523ed36bfb80e8f20912058dc79855267447f13ada</th>\n",
       "      <td>liberal</td>\n",
       "      <td>llama2:70b-chat-q6_K</td>\n",
       "      <td>ukraine</td>\n",
       "      <td>German</td>\n",
       "      <td>@Liberal_Voice: Day 783 of the Russia-Ukraine ...</td>\n",
       "      <td>https://www.aljazeera.com/news/2024/4/17/russi...</td>\n",
       "      <td>None</td>\n",
       "      <td>None</td>\n",
       "      <td>None</td>\n",
       "    </tr>\n",
       "    <tr>\n",
       "      <th>8e59e6f4b65cf2f7d7f2ac483aa4bf899b8faf445ee739e4</th>\n",
       "      <td>conservative</td>\n",
       "      <td>llama2:70b-chat-q6_K</td>\n",
       "      <td>healthcare</td>\n",
       "      <td>English</td>\n",
       "      <td>Antibiotic resistance is a ticking time bomb t...</td>\n",
       "      <td>https://www.gavi.org/vaccineswork/why-stemming...</td>\n",
       "      <td>None</td>\n",
       "      <td>None</td>\n",
       "      <td>None</td>\n",
       "    </tr>\n",
       "    <tr>\n",
       "      <th>84120de626ec5988b7e3879930af0e97f542a5f55b916546</th>\n",
       "      <td>liberal</td>\n",
       "      <td>llama2:70b-chat-q6_K</td>\n",
       "      <td>ukraine</td>\n",
       "      <td>Dutch</td>\n",
       "      <td>Solidarity knows no borders! The international...</td>\n",
       "      <td>https://www.theguardian.com/global/2024/apr/16...</td>\n",
       "      <td>None</td>\n",
       "      <td>None</td>\n",
       "      <td>None</td>\n",
       "    </tr>\n",
       "    <tr>\n",
       "      <th>783a1f7c846a91b54a2e14f9d2bd714c731dbdb20dd9c7b7</th>\n",
       "      <td>liberal</td>\n",
       "      <td>llama2:70b-chat-q6_K</td>\n",
       "      <td>healthcare</td>\n",
       "      <td>Dutch</td>\n",
       "      <td>Privatisering van ziekenhuizen leidt naar slec...</td>\n",
       "      <td>https://theconversation.com/hospital-privatisa...</td>\n",
       "      <td>None</td>\n",
       "      <td>None</td>\n",
       "      <td>None</td>\n",
       "    </tr>\n",
       "    <tr>\n",
       "      <th>c1402b5d74a8de5ac43f614a8fc9b7d8ab3d2d9b953e89a8</th>\n",
       "      <td>alt_right</td>\n",
       "      <td>mixtral:8x7b-instruct-v0.1-q6_K</td>\n",
       "      <td>ukraine</td>\n",
       "      <td>German</td>\n",
       "      <td>Die Weltordnung, die nach dem Zweiten Weltkrie...</td>\n",
       "      <td>https://globalnews.ca/news/10057964/melanie-jo...</td>\n",
       "      <td>None</td>\n",
       "      <td>None</td>\n",
       "      <td>None</td>\n",
       "    </tr>\n",
       "  </tbody>\n",
       "</table>\n",
       "<p>7647 rows × 9 columns</p>\n",
       "</div>"
      ]
     },
     "execution_count": 9,
     "metadata": {},
     "output_type": "execute_result"
    }
   ],
   "execution_count": 9
  },
  {
   "metadata": {
    "ExecuteTime": {
     "end_time": "2024-04-23T12:01:29.721568Z",
     "start_time": "2024-04-23T12:01:29.708381Z"
    }
   },
   "cell_type": "code",
   "source": "data['retrieved_source'].value_counts()",
   "id": "348b5e43a2003d65",
   "outputs": [
    {
     "data": {
      "text/plain": [
       "retrieved_source\n",
       "https://www.theguardian.com/world/2024/apr/14/an-energy-war-is-being-waged-former-oil-boss-warns-of-price-rises-after-ukraine-infrastructure-attacks                                                                145\n",
       "https://www.cnbc.com/2024/04/16/ukraine-war-live-updates-latest-news-on-russia-and-the-war-in-ukraine.html                                                                                                          119\n",
       "https://dppa.un.org/en/mtg-sc-9600-asg-jenca-ukraine-11-apr-2024                                                                                                                                                    114\n",
       "https://www.theguardian.com/world/live/2023/may/21/russia-ukraine-war-live-zelenskiy-to-meet-biden-at-g7-kyiv-says-fighting-in-bakhmut-continues                                                                    109\n",
       "https://revcycleintelligence.com/news/27-of-adults-face-at-least-one-healthcare-affordability-challenge                                                                                                             105\n",
       "                                                                                                                                                                                                                   ... \n",
       "https://www.bloomberg.com/tosv2.html?vid=&uuid=e595c047-fc34-11ee-a28e-b70a940aead8&url=L25ld3MvYXJ0aWNsZXMvMjAyNC0wNC0xMS9ydXNzaWEtYXR0YWNrcy11a3JhaW5lLWdhcy1zdG9yYWdlLXNpdGVzLWRyaXZpbmctcHJpY2VzLWhpZ2hlcg==      1\n",
       "https://www.bloomberg.com/tosv2.html?vid=&uuid=2dc7e953-fc1f-11ee-a51c-c7acb68078f4&url=L25ld3MvYXJ0aWNsZXMvMjAyNC0wNC0xMS9ydXNzaWEtYXR0YWNrcy11a3JhaW5lLWdhcy1zdG9yYWdlLXNpdGVzLWRyaXZpbmctcHJpY2VzLWhpZ2hlcg==      1\n",
       "https://www.bloomberg.com/tosv2.html?vid=&uuid=70ec025f-fc16-11ee-8812-69df1e850c2c&url=L25ld3MvYXJ0aWNsZXMvMjAyNC0wNC0xMS9ydXNzaWEtYXR0YWNrcy11a3JhaW5lLWdhcy1zdG9yYWdlLXNpdGVzLWRyaXZpbmctcHJpY2VzLWhpZ2hlcg==      1\n",
       "https://www.bloomberg.com/tosv2.html?vid=&uuid=5473aa70-fcbb-11ee-b66f-71d4df02cd7b&url=L25ld3MvYXJ0aWNsZXMvMjAyNC0wNC0xMy93YXItaW4tdWtyYWluZS1lbnRlcnMtbmV3LXBoYXNlLXdpdGgtcG93ZXItb2lsLWdhcy1hdHRhY2tlZA==          1\n",
       "https://www.bloomberg.com/tosv2.html?vid=&uuid=3dbedf5b-fc21-11ee-a7a4-6b59c5ee132d&url=L25ld3MvYXJ0aWNsZXMvMjAyNC0wNC0xMS9ydXNzaWEtYXR0YWNrcy11a3JhaW5lLWdhcy1zdG9yYWdlLXNpdGVzLWRyaXZpbmctcHJpY2VzLWhpZ2hlcg==      1\n",
       "Name: count, Length: 331, dtype: int64"
      ]
     },
     "execution_count": 11,
     "metadata": {},
     "output_type": "execute_result"
    }
   ],
   "execution_count": 11
  },
  {
   "cell_type": "code",
   "source": [
    "for column in ['model', 'persona', 'topic', 'language']:\n",
    "\tdisplay(data[column].value_counts())\n",
    "\tprint('-' * 32)"
   ],
   "metadata": {
    "collapsed": false,
    "ExecuteTime": {
     "end_time": "2024-04-18T06:55:18.451474Z",
     "start_time": "2024-04-18T06:55:18.427607Z"
    }
   },
   "id": "9681a649d8e0b3a5",
   "outputs": [
    {
     "data": {
      "text/plain": [
       "model\n",
       "mixtral:8x7b-instruct-v0.1-q6_K    4015\n",
       "llama2:70b-chat-q6_K               3632\n",
       "Name: count, dtype: int64"
      ]
     },
     "metadata": {},
     "output_type": "display_data"
    },
    {
     "name": "stdout",
     "output_type": "stream",
     "text": [
      "--------------------------------\n"
     ]
    },
    {
     "data": {
      "text/plain": [
       "persona\n",
       "alt_right       1920\n",
       "conservative    1916\n",
       "liberal         1912\n",
       "neutral         1899\n",
       "Name: count, dtype: int64"
      ]
     },
     "metadata": {},
     "output_type": "display_data"
    },
    {
     "name": "stdout",
     "output_type": "stream",
     "text": [
      "--------------------------------\n"
     ]
    },
    {
     "data": {
      "text/plain": [
       "topic\n",
       "ukraine       3837\n",
       "healthcare    3810\n",
       "Name: count, dtype: int64"
      ]
     },
     "metadata": {},
     "output_type": "display_data"
    },
    {
     "name": "stdout",
     "output_type": "stream",
     "text": [
      "--------------------------------\n"
     ]
    },
    {
     "data": {
      "text/plain": [
       "language\n",
       "English    2559\n",
       "German     2559\n",
       "Dutch      2529\n",
       "Name: count, dtype: int64"
      ]
     },
     "metadata": {},
     "output_type": "display_data"
    },
    {
     "name": "stdout",
     "output_type": "stream",
     "text": [
      "--------------------------------\n"
     ]
    }
   ],
   "execution_count": 5
  },
  {
   "cell_type": "code",
   "outputs": [],
   "source": [],
   "metadata": {
    "collapsed": false,
    "ExecuteTime": {
     "end_time": "2024-01-18T20:01:12.303358Z",
     "start_time": "2024-01-18T20:01:12.218376Z"
    }
   },
   "id": "c8dd649f2d86a20e",
   "execution_count": 69
  }
 ],
 "metadata": {
  "kernelspec": {
   "display_name": "Python 3",
   "language": "python",
   "name": "python3"
  },
  "language_info": {
   "codemirror_mode": {
    "name": "ipython",
    "version": 2
   },
   "file_extension": ".py",
   "mimetype": "text/x-python",
   "name": "python",
   "nbconvert_exporter": "python",
   "pygments_lexer": "ipython2",
   "version": "2.7.6"
  }
 },
 "nbformat": 4,
 "nbformat_minor": 5
}
