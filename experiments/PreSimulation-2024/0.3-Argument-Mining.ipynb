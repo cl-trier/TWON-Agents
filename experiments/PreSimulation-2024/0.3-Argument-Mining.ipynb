{
 "cells": [
  {
   "cell_type": "code",
   "id": "initial_id",
   "metadata": {
    "collapsed": true
   },
   "source": [
    "import typing\n",
    "\n",
    "import numpy as np\n",
    "import pandas as pd\n",
    "import requests"
   ],
   "outputs": [],
   "execution_count": null
  },
  {
   "cell_type": "code",
   "source": [
    "DATA_PATH: str = './dataset'\n",
    "DATA_SUBSET: str = 'full'\n",
    "\n",
    "LANGUAGE: str = 'German'\n",
    "TOPIC: str = 'ukraine'\n",
    "SAMPLE_SIZE: int = 250\n",
    "\n",
    "MODEL: str = 'llama3:70b-instruct-q6_K' # 'llama3:70b-instruct-q6_K', 'mixtral:8x7b-instruct-v0.1-q6_K'"
   ],
   "metadata": {
    "collapsed": false
   },
   "id": "a1df2333b7f1c1fa",
   "outputs": [],
   "execution_count": null
  },
  {
   "metadata": {},
   "cell_type": "code",
   "source": [
    "SYSTEM: str = \\\n",
    "    \"\"\"\n",
    "\tRetrieve arguments from the following list of social media contents and list them in your response. Adhere to the structure of the examples below.\n",
    "\t\n",
    "\tPosts:\n",
    "\t[\n",
    "        \"Sad to see Ukraine's energy infrastructure under attack while the West twiddles its thumbs on providing critical military aid - time to put America first and focus on our own national security!\", \n",
    "        \"It's unconscionable that the US House of Representatives is dragging their feet on passing a Ukraine aid bill. The Kremlin's aggression towards Ukraine must be met with a united front from the international community, and the US has a crucial role to play in supporting Ukraine's efforts to defend its sovereignty. Janet Yellen is right - there's no substitute for Congressional action on this matter. The G7 must act together to ensure that aid reaches Ukraine and that Putin's regime is held accountable for its actions.\", \n",
    "        \"📢 US Treasury Sec Yellen urges Congress to pass Ukraine aid bill, stating there's 'no substitute' for our support in this critical time. Let's stand together with Ukraine, managing risks as a united G7 to uphold human rights, peace, and democracy worldwide! 🌍🇺🇦\", \"Standing with Ukraine 🇺🇦, we must urgently pass the aid bill. The time for debate is over; it's time for action. Our unity & support are crucial for justice and peace. #StandWithUkraine 🌍💪\"\n",
    "\t]\n",
    "\t\n",
    "\tArguments:\n",
    "\t[\n",
    "        \"Ukraine's energy infrastructure is under attack\", \n",
    "        \"The West, particularly the US, should provide critical military aid to Ukraine\", \n",
    "        \"The US should prioritize its national security and take action in supporting Ukraine\", \n",
    "        \"The US House of Representatives is delaying the passage of a Ukraine aid bill\", \n",
    "        \"The Kremlin's aggression towards Ukraine must be met with a united front from the international community\", \n",
    "        \"The US has a crucial role to play in supporting Ukraine's efforts to defend its sovereignty\", \n",
    "        \"There is no substitute for Congressional action on this matter\", \n",
    "        \"US Treasury Secretary Janet Yellen urges Congress to pass the Ukraine aid bill\", \n",
    "        \"The G7 must act together to ensure that aid reaches Ukraine and that Putin's regime is held accountable for its actions\", \n",
    "        \"It's time for the US to stand together with Ukraine, managing risks as a united G7 to uphold human rights, peace, and democracy worldwide\", \n",
    "        \"The aid bill must be passed urgently\", \"The time for debate is over; it's time for action\", \n",
    "        \"Unity and support from the US and the international community are crucial for justice and peace in Ukraine\"\n",
    "\t]\n",
    "\t\"\"\""
   ],
   "id": "5e7703631304d3c3",
   "outputs": [],
   "execution_count": null
  },
  {
   "cell_type": "code",
   "source": [
    "data: pd.DataFrame = (\n",
    "    pd.read_parquet(f'{DATA_PATH}.{DATA_SUBSET}.parquet')\n",
    "    .pipe(lambda _df: _df[_df['language'] == LANGUAGE])\n",
    "    .pipe(lambda _df: _df[_df['topic'] == TOPIC])\n",
    ")\n",
    "data"
   ],
   "metadata": {
    "collapsed": false
   },
   "id": "2c0cae75f40dd734",
   "outputs": [],
   "execution_count": null
  },
  {
   "cell_type": "code",
   "source": [
    "data_chunks: typing.List[pd.DataFrame] = np.array_split(data, len(data) / SAMPLE_SIZE)\n",
    "len(data_chunks)"
   ],
   "metadata": {
    "collapsed": false
   },
   "id": "9681a649d8e0b3a5",
   "outputs": [],
   "execution_count": null
  },
  {
   "cell_type": "code",
   "source": [
    "for idx, chunk in enumerate(data_chunks):\n",
    "    print(\n",
    "        requests.post(\n",
    "            'https://inf.cl.uni-trier.de/',\n",
    "            json={\n",
    "                'model': MODEL,\n",
    "                'system': SYSTEM,\n",
    "                'prompt': f'Posts:\\n{chunk[\"text\"].tolist()}\\n\\nArguments:\\n'\n",
    "            }\n",
    "        ).json()['response']\n",
    "    )\n",
    "    break\n"
   ],
   "metadata": {
    "collapsed": false
   },
   "id": "c8dd649f2d86a20e",
   "outputs": [],
   "execution_count": null
  },
  {
   "metadata": {},
   "cell_type": "code",
   "source": "",
   "id": "4525cf035e62e8aa",
   "outputs": [],
   "execution_count": null
  }
 ],
 "metadata": {
  "kernelspec": {
   "display_name": "Python 3",
   "language": "python",
   "name": "python3"
  },
  "language_info": {
   "codemirror_mode": {
    "name": "ipython",
    "version": 2
   },
   "file_extension": ".py",
   "mimetype": "text/x-python",
   "name": "python",
   "nbconvert_exporter": "python",
   "pygments_lexer": "ipython2",
   "version": "2.7.6"
  }
 },
 "nbformat": 4,
 "nbformat_minor": 5
}
